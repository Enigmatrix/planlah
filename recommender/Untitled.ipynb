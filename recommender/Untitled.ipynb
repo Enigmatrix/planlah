{
 "cells": [
  {
   "cell_type": "code",
   "execution_count": 6,
   "id": "2a01fdde-9518-4ef2-b68c-e13a92c940b5",
   "metadata": {
    "pycharm": {
     "name": "#%%\n"
    }
   },
   "outputs": [],
   "source": [
    "import numpy as np\n",
    "import pandas as pd"
   ]
  },
  {
   "cell_type": "code",
   "execution_count": 7,
   "id": "55979803-4bf0-402f-93fb-cf905cfcfaa6",
   "metadata": {
    "pycharm": {
     "name": "#%%\n"
    }
   },
   "outputs": [],
   "source": [
    "import os"
   ]
  },
  {
   "cell_type": "code",
   "execution_count": 8,
   "id": "c0291264-b5f7-4abf-8e69-e80bb66cdea3",
   "metadata": {
    "pycharm": {
     "name": "#%%\n"
    }
   },
   "outputs": [
    {
     "name": "stderr",
     "output_type": "stream",
     "text": [
      "C:\\Users\\Jotham\\AppData\\Roaming\\Python\\Python39\\site-packages\\IPython\\core\\interactiveshell.py:3441: DtypeWarning: Columns (0,5,6,9,10,11) have mixed types.Specify dtype option on import or set low_memory=False.\n",
      "  exec(code_obj, self.user_global_ns, self.user_ns)\n"
     ]
    }
   ],
   "source": [
    "df = pd.read_csv('data/raw/london-poi.csv')"
   ]
  },
  {
   "cell_type": "code",
   "execution_count": 10,
   "id": "2c603862-0945-4dc7-aa18-5450b7f3117d",
   "metadata": {
    "pycharm": {
     "name": "#%%\n"
    }
   },
   "outputs": [
    {
     "name": "stdout",
     "output_type": "stream",
     "text": [
      "address\n",
      "category\n",
      "id\n",
      "lat\n",
      "lng\n",
      "location\n",
      "name\n",
      "originalId\n",
      "polarity\n",
      "subCategory\n",
      "details\n",
      "reviews\n"
     ]
    }
   ],
   "source": [
    "for col in df.columns:\n",
    "    print(col)"
   ]
  },
  {
   "cell_type": "code",
   "execution_count": 9,
   "id": "2185fe1c-4c33-4331-b12b-87731b5408b6",
   "metadata": {
    "pycharm": {
     "name": "#%%\n"
    }
   },
   "outputs": [
    {
     "name": "stdout",
     "output_type": "stream",
     "text": [
      "0. row=address                                         35 Walton Street\n",
      "category                                                     poi\n",
      "id                                                         35306\n",
      "lat                                                     51.49529\n",
      "lng                                                    -0.166223\n",
      "location                                                  London\n",
      "name                                              The Enterprise\n",
      "originalId                              4ac518bef964a52005a320e3\n",
      "polarity                                                       0\n",
      "subCategory                                                  Pub\n",
      "details        http://tour-pedia.org/api/getPlaceDetails?id=3...\n",
      "reviews        http://tour-pedia.org/api/getReviewsByPlaceId?...\n",
      "Name: 0, dtype: object\n",
      "1. row=address                                         Threadneedle St.\n",
      "category                                                     poi\n",
      "id                                                         35537\n",
      "lat                                               51.51419285111\n",
      "lng                                           -0.087280701822925\n",
      "location                                                  London\n",
      "name                                      Bank of England Museum\n",
      "originalId                              4ac518cdf964a520e7a520e3\n",
      "polarity                                                       0\n",
      "subCategory                                               Museum\n",
      "details        http://tour-pedia.org/api/getPlaceDetails?id=3...\n",
      "reviews        http://tour-pedia.org/api/getReviewsByPlaceId?...\n",
      "Name: 1, dtype: object\n",
      "2. row=address                                         Westminster Pier\n",
      "category                                                     poi\n",
      "id                                                         35549\n",
      "lat                                              51.501498292211\n",
      "lng                                            -0.12311703428864\n",
      "location                                                  London\n",
      "name                                                City Cruises\n",
      "originalId                              4ac518cef964a52006a620e3\n",
      "polarity                                                       0\n",
      "subCategory                                        Boat or Ferry\n",
      "details        http://tour-pedia.org/api/getPlaceDetails?id=3...\n",
      "reviews        http://tour-pedia.org/api/getReviewsByPlaceId?...\n",
      "Name: 2, dtype: object\n",
      "3. row=address                                             Rutland Road\n",
      "category                                                     poi\n",
      "id                                                         35551\n",
      "lat                                                    51.541335\n",
      "lng                                                     0.043324\n",
      "location                                                  London\n",
      "name                                                 Plashet Zoo\n",
      "originalId                              4ac518cef964a5200aa620e3\n",
      "polarity                                                       0\n",
      "subCategory                                  Monument / Landmark\n",
      "details        http://tour-pedia.org/api/getPlaceDetails?id=3...\n",
      "reviews        http://tour-pedia.org/api/getReviewsByPlaceId?...\n",
      "Name: 3, dtype: object\n",
      "4. row=address                                                1 Lime St\n",
      "category                                                     poi\n",
      "id                                                         35554\n",
      "lat                                              51.512995876303\n",
      "lng                                           -0.082429647445679\n",
      "location                                                  London\n",
      "name                                           Lloyd's of London\n",
      "originalId                              4ac518cef964a5200da620e3\n",
      "polarity                                                       0\n",
      "subCategory                                             Building\n",
      "details        http://tour-pedia.org/api/getPlaceDetails?id=3...\n",
      "reviews        http://tour-pedia.org/api/getReviewsByPlaceId?...\n",
      "Name: 4, dtype: object\n",
      "5. row=address                                         Trafalgar Square\n",
      "category                                                     poi\n",
      "id                                                         35556\n",
      "lat                                              51.506769192297\n",
      "lng                                            -0.12868970632553\n",
      "location                                                  London\n",
      "name                                              Admiralty Arch\n",
      "originalId                              4ac518cef964a52012a620e3\n",
      "polarity                                                       0\n",
      "subCategory                                  Monument / Landmark\n",
      "details        http://tour-pedia.org/api/getPlaceDetails?id=3...\n",
      "reviews        http://tour-pedia.org/api/getReviewsByPlaceId?...\n",
      "Name: 5, dtype: object\n",
      "6. row=address                                              45 Maple St\n",
      "category                                                     poi\n",
      "id                                                         35561\n",
      "lat                                                    51.521485\n",
      "lng                                                    -0.138858\n",
      "location                                                  London\n",
      "name                                                    BT Tower\n",
      "originalId                              4ac518cef964a52018a620e3\n",
      "polarity                                                       0\n",
      "subCategory                                  Monument / Landmark\n",
      "details        http://tour-pedia.org/api/getPlaceDetails?id=3...\n",
      "reviews        http://tour-pedia.org/api/getReviewsByPlaceId?...\n",
      "Name: 6, dtype: object\n",
      "7. row=address                                            3 Limeharbour\n",
      "category                                                     poi\n",
      "id                                                         35568\n",
      "lat                                              51.498057084074\n",
      "lng                                           -0.015578269958496\n",
      "location                                                  London\n",
      "name                             London Docklands Visitor Centre\n",
      "originalId                              4ac518cef964a52020a620e3\n",
      "polarity                                                       0\n",
      "subCategory                                  Monument / Landmark\n",
      "details        http://tour-pedia.org/api/getPlaceDetails?id=3...\n",
      "reviews        http://tour-pedia.org/api/getReviewsByPlaceId?...\n",
      "Name: 7, dtype: object\n",
      "8. row=address                                          3 Minster Court\n",
      "category                                                     poi\n",
      "id                                                         35571\n",
      "lat                                                    51.563979\n",
      "lng                                                     0.234814\n",
      "location                                                  London\n",
      "name                                  London Underwriting Centre\n",
      "originalId                              4ac518cef964a52024a620e3\n",
      "polarity                                                       0\n",
      "subCategory                                  Monument / Landmark\n",
      "details        http://tour-pedia.org/api/getPlaceDetails?id=3...\n",
      "reviews        http://tour-pedia.org/api/getReviewsByPlaceId?...\n",
      "Name: 8, dtype: object\n",
      "9. row=address                                           107 Power Road\n",
      "category                                                     poi\n",
      "id                                                         35593\n",
      "lat                                              51.493881215531\n",
      "lng                                            -0.27959075464122\n",
      "location                                                  London\n",
      "name                                              Topdeck Travel\n",
      "originalId                              4ac518cef964a5203fa620e3\n",
      "polarity                                                       0\n",
      "subCategory                                       General Travel\n",
      "details        http://tour-pedia.org/api/getPlaceDetails?id=3...\n",
      "reviews        http://tour-pedia.org/api/getReviewsByPlaceId?...\n",
      "Name: 9, dtype: object\n",
      "10. row=address                                              Morgan's Ln\n",
      "category                                                     poi\n",
      "id                                                         35600\n",
      "lat                                              51.506163898949\n",
      "lng                                           -0.081319400302771\n",
      "location                                                  London\n",
      "name                                                 HMS Belfast\n",
      "originalId                              4ac518cef964a520faa520e3\n",
      "polarity                                                       0\n",
      "subCategory                                        Boat or Ferry\n",
      "details        http://tour-pedia.org/api/getPlaceDetails?id=3...\n",
      "reviews        http://tour-pedia.org/api/getReviewsByPlaceId?...\n",
      "Name: 10, dtype: object\n"
     ]
    }
   ],
   "source": [
    "for index, row in df.iterrows():\n",
    "    print(f\"{index}. {row=}\")\n",
    "    if index == 10:\n",
    "        break"
   ]
  }
 ],
 "metadata": {
  "kernelspec": {
   "display_name": "Python 3 (ipykernel)",
   "language": "python",
   "name": "python3"
  },
  "language_info": {
   "codemirror_mode": {
    "name": "ipython",
    "version": 3
   },
   "file_extension": ".py",
   "mimetype": "text/x-python",
   "name": "python",
   "nbconvert_exporter": "python",
   "pygments_lexer": "ipython3",
   "version": "3.9.7"
  }
 },
 "nbformat": 4,
 "nbformat_minor": 5
}