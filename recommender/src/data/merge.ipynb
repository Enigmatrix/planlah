{
 "cells": [
  {
   "cell_type": "markdown",
   "metadata": {
    "pycharm": {
     "name": "#%% md\n"
    }
   },
   "source": [
    "# Attraction Merge"
   ]
  },
  {
   "cell_type": "code",
   "execution_count": 38,
   "metadata": {
    "collapsed": true,
    "jupyter": {
     "outputs_hidden": true
    },
    "pycharm": {
     "name": "#%%\n"
    }
   },
   "outputs": [],
   "source": [
    "attraction_merge = {\n",
    "    \"Airport\": {\n",
    "        \"old_values\": (\n",
    "            \"Airport Lounges\",\n",
    "            \"Airport Shops\"\n",
    "        ),\n",
    "        \"new_value\": \"Airport\"\n",
    "    },\n",
    "    \"Sports & Exercise\": {\n",
    "        \"old_values\": (\n",
    "            \"Jogging Paths and Tracks\",\n",
    "            \"Biking Trails\",\n",
    "            \"Dance Clubs and Discos\",\n",
    "            \"Yoga and Pilates\",\n",
    "            \"Sports Complexes\",\n",
    "            \"Sporting Events\",\n",
    "            \"Sports Camps and Clinics\",\n",
    "            \"Arenas and Stadiums\",\n",
    "            \"Health Clubs\",\n",
    "            \"Hiking Trails\",\n",
    "            \"Auto Racing Tracks\"),\n",
    "        \"new_value\": \"Sports & Exercise\"\n",
    "    },\n",
    "    \"Art & History\": {\n",
    "        \"old_values\": (\n",
    "            \"Military Bases and Facilities\",\n",
    "            \"Children's Museums\",\n",
    "            \"Antique Shops\",\n",
    "            \"Art Galleries\",\n",
    "            \"Art Museums\",\n",
    "            \"Architectural Buildings\",\n",
    "            \"Historic Sites\",\n",
    "            \"Historic Walking Areas\",\n",
    "            \"History Museums\",\n",
    "            \"Monuments and Statues\",\n",
    "            \"Military Museums\",\n",
    "            \"Battlefields\",\n",
    "            \"Mysterious Sites\",\n",
    "            \"National Parks\",\n",
    "            \"Natural History Museums\",\n",
    "            \"Bridges\",\n",
    "            \"Cemeteries\",\n",
    "            \"Theatre and Performances\",\n",
    "            \"Government Buildings\",\n",
    "            \"Visitor Centers\",\n",
    "            \"Educational sites\",\n",
    "            \"Lighthouses\",\n",
    "            \"Operas\",\n",
    "            \"Paint and Pottery Studios\",\n",
    "            \"Speciality Museums\",\n",
    "            \"Symphonies\"\n",
    "        ),\n",
    "        \"new_value\": \"Art & History\"\n",
    "    },\n",
    "    \"Movies\": {\n",
    "        \"old_values\": (\n",
    "            \"Movie Theaters\",\n",
    "            \"Theaters\"\n",
    "        ),\n",
    "        \"new_value\": \"Movies\"\n",
    "    },\n",
    "    \"Nature & Wildlife\": {\n",
    "        \"old_values\": (\n",
    "            \"Zoos\",\n",
    "            \"Nature and Wildlife Areas\",\n",
    "            \"Gardens\",\n",
    "            \"Forests\",\n",
    "            \"Fountains\",\n",
    "            \"Parks\",\n",
    "            \"Scenic Drives\",\n",
    "        ),\n",
    "        \"new_value\": \"Nature & Wildlife\"\n",
    "    },\n",
    "    \"Water Activities\": {\n",
    "        \"old_values\": (\n",
    "            \"Other Outdoor Activities\",\n",
    "            \"Water Parks\",\n",
    "            \"Waterfalls\",\n",
    "            \"Ferries\",\n",
    "            \"Bodies of Water\",\n",
    "            \"Beaches\",\n",
    "            \"Dams\",\n",
    "            \"Piers and Boardwalks\"\n",
    "        ),\n",
    "        \"new_value\": \"Water Activities\"\n",
    "    },\n",
    "    \"Alcohol & Night life\": {\n",
    "        \"old_values\": (\n",
    "            \"Bars and Clubs\",\n",
    "            \"Breweries\",\n",
    "            \"Distilleries\",\n",
    "            \"Wine Bars\",\n",
    "            \"Wineries and Vineyards\",\n",
    "            \"Cigar Bars\",\n",
    "            \"Gay Bars\",\n",
    "            \"Jazz Bars\",\n",
    "            \"Karaoke Bars\"\n",
    "        ),\n",
    "        \"new_value\": \"Alcohol & Night life\"\n",
    "    },\n",
    "    \"Spas\": {\n",
    "        \"old_values\": (\n",
    "            \"Hot Springs and Geysers\",\n",
    "            \"Onsen Resorts\",\n",
    "            \"Spas\",\n",
    "            \"Thermal Spas\"\n",
    "        ),\n",
    "        \"new_value\": \"Spas\"\n",
    "    },\n",
    "    \"Religion\": {\n",
    "        \"old_values\": (\n",
    "            \"Churches and Cathedrals\",\n",
    "            \"Missions\",\n",
    "            \"Religious Sites\"\n",
    "        ),\n",
    "        \"new_value\": \"Religion\"\n",
    "    },\n",
    "    \"Food\": {\n",
    "        \"old_values\": (\n",
    "            \"Flea and Street Markets\",\n",
    "            \"Food and Drink Festivals\",\n",
    "            \"Cooking Classes\",\n",
    "            \"Farmers Markets\",\n",
    "            \"Farms\"\n",
    "        ),\n",
    "        \"new_value\": \"Food\"\n",
    "    },\n",
    "    \"Shopping\": {\n",
    "        \"old_values\": (\n",
    "            \"Marinas\",\n",
    "            \"Department Stores\",\n",
    "            \"Factory Outlets\",\n",
    "            \"Speciality and Gift Shops\",\n",
    "            \"Shopping Malls\",\n",
    "            \"Ski and Snowboard Areas\"\n",
    "        ),\n",
    "        \"new_value\": \"Shopping\"\n",
    "    },\n",
    "    \"Education\": {\n",
    "        \"old_values\": (\n",
    "            \"Universities and Schools\",\n",
    "            \"Lessons and Workshops\",\n",
    "            \"Libraries\",\n",
    "            \"Science Museums\"\n",
    "        ),\n",
    "        \"new_value\": \"Education\"\n",
    "    },\n",
    "    \"Transport\": {\n",
    "        \"old_values\": (\n",
    "            \"Gear Rentals\",\n",
    "            \"Taxis and Shuttles\",\n",
    "            \"Trams\"\n",
    "        ),\n",
    "        \"new_value\": \"Transport\"\n",
    "    },\n",
    "    \"Fun & Games\": {\n",
    "        \"old_values\": (\n",
    "            \"Escape Games\",\n",
    "            \"Game and Entertainment Centers\",\n",
    "            \"Bowling Alleys\",\n",
    "            \"Casinos\",\n",
    "            \"Comedy Clubs\",\n",
    "            \"Golf Courses\",\n",
    "            \"Miniature Golf\",\n",
    "            \"Amusement and Theme Parks\",\n",
    "            \"Aquariums\",\n",
    "            \"Other Fun and Games\",\n",
    "            \"Playgrounds\",\n",
    "            \"Shooting Ranges\"\n",
    "        ),\n",
    "        \"new_value\": \"Fun & Games\"\n",
    "    },\n",
    "    \"Tourism\": {\n",
    "        \"old_values\": (\n",
    "            \"Civic Centres\",\n",
    "            \"Bus Services\",\n",
    "            \"Convention Centers\",\n",
    "            \"Cultural Events\",\n",
    "            \"Points of Interest and Landmarks\",\n",
    "            \"Lookouts\",\n",
    "            \"Islands\",\n",
    "            \"Neighborhoods\",\n",
    "            \"Observation Decks and Towers\",\n",
    "            \"Observatories and Planetariums\",\n",
    "            \"Public Transportation Systems\",\n",
    "            \"Scenic Walking Areas\",\n",
    "            \"Seasonal Fireworks\"\n",
    "        ),\n",
    "        \"new_value\": \"Tourism\"\n",
    "    }\n",
    "}"
   ]
  },
  {
   "cell_type": "code",
   "execution_count": 31,
   "metadata": {
    "collapsed": false,
    "jupyter": {
     "outputs_hidden": false
    },
    "pycharm": {
     "name": "#%%\n"
    }
   },
   "outputs": [
    {
     "name": "stdout",
     "output_type": "stream",
     "text": [
      "115\n",
      "15\n"
     ]
    }
   ],
   "source": [
    "# Quick verification\n",
    "num_old_keys = 0\n",
    "num_new_keys = 0\n",
    "for k in attraction_merge.keys():\n",
    "    dic = attraction_merge[k]\n",
    "    num_old_keys += len(dic[\"old_values\"])\n",
    "    num_new_keys += 1\n",
    "print(num_old_keys)\n",
    "print(num_new_keys)"
   ]
  },
  {
   "cell_type": "code",
   "execution_count": 2,
   "metadata": {
    "collapsed": false,
    "jupyter": {
     "outputs_hidden": false
    },
    "pycharm": {
     "name": "#%%\n"
    }
   },
   "outputs": [],
   "source": [
    "import pandas as pd"
   ]
  },
  {
   "cell_type": "code",
   "execution_count": 32,
   "metadata": {
    "collapsed": false,
    "jupyter": {
     "outputs_hidden": false
    },
    "pycharm": {
     "name": "#%%\n"
    }
   },
   "outputs": [],
   "source": [
    "attraction_data = pd.read_csv(\"AttractionProcessedData.csv\")"
   ]
  },
  {
   "cell_type": "code",
   "execution_count": 33,
   "metadata": {
    "collapsed": false,
    "jupyter": {
     "outputs_hidden": false
    },
    "pycharm": {
     "name": "#%%\n"
    }
   },
   "outputs": [],
   "source": [
    "attraction_tags = []\n",
    "with open(\"attraction_tags.txt\", \"r\") as f:\n",
    "    for line in f.readlines():\n",
    "        line = line.strip()\n",
    "        attraction_tags.append(line)"
   ]
  },
  {
   "cell_type": "code",
   "execution_count": 36,
   "metadata": {
    "collapsed": false,
    "jupyter": {
     "outputs_hidden": false
    },
    "pycharm": {
     "name": "#%%\n"
    }
   },
   "outputs": [],
   "source": [
    "new_tags = []\n",
    "current_attraction_tags = []\n",
    "for k in attraction_merge.keys():\n",
    "    dic = attraction_merge[k]\n",
    "    for o_k in dic[\"old_values\"]:\n",
    "        current_attraction_tags.append(o_k)\n",
    "    new_tags.append(dic[\"new_value\"])"
   ]
  },
  {
   "cell_type": "code",
   "execution_count": 37,
   "metadata": {
    "collapsed": false,
    "jupyter": {
     "outputs_hidden": false
    },
    "pycharm": {
     "name": "#%%\n"
    }
   },
   "outputs": [
    {
     "data": {
      "text/plain": [
       "['Volcanos']"
      ]
     },
     "execution_count": 37,
     "metadata": {},
     "output_type": "execute_result"
    }
   ],
   "source": [
    "list(set(attraction_tags) - set(current_attraction_tags))"
   ]
  },
  {
   "cell_type": "code",
   "execution_count": 39,
   "metadata": {
    "collapsed": false,
    "jupyter": {
     "outputs_hidden": false
    },
    "pycharm": {
     "name": "#%%\n"
    }
   },
   "outputs": [],
   "source": [
    "def new_row(row):\n",
    "    res = {\n",
    "        \"name\": row[\"name\"],\n",
    "        \"location\": row[\"location\"],\n",
    "        \"lat\": row[\"lat\"],\n",
    "        \"lon\": row[\"lon\"],\n",
    "        \"formatted_address\": row[\"formatted_address\"],\n",
    "        \"about\": row[\"about\"],\n",
    "        \"overallRating\": row[\"overallRating\"],\n",
    "        \"overallRatingCnt\": row[\"overallRatingCnt\"],\n",
    "    }\n",
    "    tags = {}\n",
    "    for new_tag in new_tags:\n",
    "        has = False\n",
    "        for old_tag in attraction_merge[new_tag][\"old_values\"]:\n",
    "            if row[old_tag] != 0:\n",
    "                has = True\n",
    "                break\n",
    "        tags[new_tag] = 1 if has else 0\n",
    "    res.update(tags)\n",
    "    return res"
   ]
  },
  {
   "cell_type": "code",
   "execution_count": 40,
   "metadata": {
    "collapsed": false,
    "jupyter": {
     "outputs_hidden": false
    },
    "pycharm": {
     "name": "#%%\n"
    }
   },
   "outputs": [],
   "source": [
    "new_data = []\n",
    "for idx, row in attraction_data.iterrows():\n",
    "    new_data.append(new_row(row))"
   ]
  },
  {
   "cell_type": "code",
   "execution_count": 41,
   "metadata": {
    "collapsed": false,
    "jupyter": {
     "outputs_hidden": false
    },
    "pycharm": {
     "name": "#%%\n"
    }
   },
   "outputs": [],
   "source": [
    "pd.DataFrame(new_data).to_csv(\"AttractionsData.csv\")"
   ]
  },
  {
   "cell_type": "markdown",
   "metadata": {
    "pycharm": {
     "name": "#%% md\n"
    }
   },
   "source": [
    "# Restaurant Merge"
   ]
  },
  {
   "cell_type": "code",
   "execution_count": 3,
   "metadata": {
    "collapsed": false,
    "jupyter": {
     "outputs_hidden": false
    },
    "pycharm": {
     "name": "#%%\n"
    }
   },
   "outputs": [],
   "source": [
    "food_merge = {\n",
    "    \"American\": (\n",
    "        \"American\",\n",
    "        \"Cajun &amp; Creole\",\n",
    "        \"Canadian\",\n",
    "        \"Central American\",\n",
    "        \"Cuban\",\n",
    "        \"South American\",\n",
    "        \"Southwestern\",\n",
    "        \"Brazilian\",\n",
    "        \"Hawaiian\"\n",
    "    ),\n",
    "    \"Chinese\": (\n",
    "        \"Asian\",\n",
    "        \"Beijing cuisine\",\n",
    "        \"Cantonese\",\n",
    "        \"Central Asian\",\n",
    "        \"Chinese\",\n",
    "        \"Fujian\",\n",
    "        \"Hong Kong\",\n",
    "        \"Hunan\",\n",
    "        \"Imperial Chinese\",\n",
    "        \"Nepalese\",\n",
    "        \"NorthEastern Chinese\",\n",
    "        \"NorthWestern Chinese\",\n",
    "        \"Shanghai\",\n",
    "        \"Szechuan\",\n",
    "        \"Taiwanese\",\n",
    "        \"Xinjiang\",\n",
    "        \"Yunnan\"\n",
    "    ),\n",
    "    \"European\": (\n",
    "        \"Austrian\",\n",
    "        \"Basque\",\n",
    "        \"Belgian\",\n",
    "        \"British\",\n",
    "        \"Caucasian\",\n",
    "        \"Central European\",\n",
    "        \"Danish\",\n",
    "        \"Dutch\",\n",
    "        \"Eastern European\",\n",
    "        \"Irish\",\n",
    "        \"European\",\n",
    "        \"German\",\n",
    "        \"Portuguese\",\n",
    "        \"Greek\",\n",
    "        \"Scandinavian\",\n",
    "        \"Spanish\",\n",
    "        \"Australian\",\n",
    "        \"Argentinian\",\n",
    "        \"Armenian\",\n",
    "        \"Ukrainian\",\n",
    "        \"Russian\",\n",
    "        \"Norwegian\",\n",
    "        \"Swiss\",\n",
    "        \"Scottish\",\n",
    "        \"Peruvian\",\n",
    "        \"Swedish\",\n",
    "        \"Turkish\",\n",
    "        \"Mongolian\"\n",
    "    ),\n",
    "    \"Pubs\": (\n",
    "        \"Bar\",\n",
    "        \"Brew Pub\",\n",
    "        \"Gastropub\",\n",
    "        \"Pub\",\n",
    "        \"Wine Bar\",\n",
    "        \"Dining Bars\",\n",
    "        \"Beer restaurants\"\n",
    "    ),\n",
    "    \"Italian\": (\n",
    "        \"Central-Italian\",\n",
    "        \"Italian\",\n",
    "        \"Northern-Italian\",\n",
    "        \"Southern-Italian\",\n",
    "        \"Tuscan\"\n",
    "    ),\n",
    "    \"Diner\": (\n",
    "        \"Deli\",\n",
    "        \"Diner\"\n",
    "    ),\n",
    "    \"Healthy\": (\n",
    "        \"Fruit parlours\",\n",
    "        \"Gluten Free Options\",\n",
    "        \"Healthy\",\n",
    "        \"Medicinal foods\",\n",
    "        \"Vegan Options\",\n",
    "        \"Vegetarian Friendly\"\n",
    "    ),\n",
    "    \"Japanese\": (\n",
    "        \"Hokkaido cuisine\",\n",
    "        \"Japanese\",\n",
    "        \"Japanese Fusion\",\n",
    "        \"Japanese sweets parlour\",\n",
    "        \"Kaiseki\",\n",
    "        \"Kappo\"\n",
    "    ),\n",
    "    \"Malaysian\": (\n",
    "        \"Malaysian\",\n",
    "        \"Nonya/Malaysian\"\n",
    "    ),\n",
    "    \"Middle Eastern\": (\n",
    "        \"Moroccan\",\n",
    "        \"Pakistani\",\n",
    "        \"Middle Eastern\",\n",
    "        \"Persian\",\n",
    "        \"Mediterranean\"\n",
    "    ),\n",
    "    \"Vietnamese\": (\n",
    "        \"Vietnamese\"\n",
    "    ),\n",
    "    \"Barbecue\": (\n",
    "        \"Barbecue\",\n",
    "        \"Grill\",\n",
    "        \"Steakhouse\"\n",
    "    ),\n",
    "    \"French\": (\n",
    "        \"French\"\n",
    "    ),\n",
    "    \"Indian\": (\n",
    "        \"Indian\"\n",
    "    ),\n",
    "    \"Indonesian\": (\n",
    "        \"Indonesian\"\n",
    "    ),\n",
    "    \"Korean\": (\n",
    "        \"Korean\"\n",
    "    ),\n",
    "    \"Lebanese\": (\n",
    "        \"Lebanese\"\n",
    "    ),\n",
    "    \"Philippine\": (\n",
    "        \"Philippine\"\n",
    "    ),\n",
    "    \"Singaporean\": (\n",
    "        \"Singaporean\"\n",
    "    ),\n",
    "    \"Sri Lankan\": (\n",
    "        \"Sri Lankan\"\n",
    "    ),\n",
    "    \"Thai\": (\n",
    "        \"Thai\"\n",
    "    ),\n",
    "    \"Bakeries\": (\n",
    "        \"Bakeries\"\n",
    "    ),\n",
    "    \"Cafe\": (\n",
    "        \"Cafe\"\n",
    "    ),\n",
    "    \"Contemporary\": (\n",
    "        \"Contemporary\"\n",
    "    ),\n",
    "    \"Dessert\": (\n",
    "        \"Dessert\"\n",
    "    ),\n",
    "    \"Fast food\": (\n",
    "        \"Fast food\"\n",
    "    ),\n",
    "    \"Fusion\": (\n",
    "        \"Fusion\"\n",
    "    ),\n",
    "    \"Halal\": (\n",
    "        \"Halal\"\n",
    "    ),\n",
    "    \"Kosher\": (\n",
    "        \"Kosher\"\n",
    "    ),\n",
    "    \"Pizza\": (\n",
    "        \"Pizza\"\n",
    "    ),\n",
    "    \"Quick Bites\": (\n",
    "        \"Quick Bites\"\n",
    "    ),\n",
    "    \"Seafood\": (\n",
    "        \"Seafood\"\n",
    "    ),\n",
    "    \"Soups\": (\n",
    "        \"Soups\"\n",
    "    ),\n",
    "    \"Street Food\": (\n",
    "        \"Street Food\"\n",
    "    ),\n",
    "    \"Sushi\": (\n",
    "        \"Sushi\"\n",
    "    )\n",
    "}"
   ]
  },
  {
   "cell_type": "code",
   "execution_count": 4,
   "metadata": {
    "collapsed": false,
    "jupyter": {
     "outputs_hidden": false
    },
    "pycharm": {
     "name": "#%%\n"
    }
   },
   "outputs": [
    {
     "name": "stdout",
     "output_type": "stream",
     "text": [
      "35\n"
     ]
    }
   ],
   "source": [
    "print(len(food_merge.keys()))"
   ]
  },
  {
   "cell_type": "code",
   "execution_count": 5,
   "metadata": {
    "collapsed": false,
    "jupyter": {
     "outputs_hidden": false
    },
    "pycharm": {
     "name": "#%%\n"
    }
   },
   "outputs": [],
   "source": [
    "to_delete = [\n",
    "    \"Indigenous\",\n",
    "    \"International\",\n",
    "    \"Latin\",\n",
    "    \"New Zealand\",\n",
    "    \"Israeli\",\n",
    "    \"Afghan\",\n",
    "    \"African\",\n",
    "    \"Arabic\",\n",
    "    \"Burmese\",\n",
    "    \"Speciality Food Market\",\n",
    "    \"Egyptian\"\n",
    "]"
   ]
  },
  {
   "cell_type": "code",
   "execution_count": 6,
   "metadata": {
    "collapsed": false,
    "jupyter": {
     "outputs_hidden": false
    },
    "pycharm": {
     "name": "#%%\n"
    }
   },
   "outputs": [],
   "source": [
    "food_data = pd.read_csv(\"RestaurantProcessedData.csv\")"
   ]
  },
  {
   "cell_type": "code",
   "execution_count": 7,
   "metadata": {
    "collapsed": false,
    "jupyter": {
     "outputs_hidden": false
    },
    "pycharm": {
     "name": "#%%\n"
    }
   },
   "outputs": [
    {
     "data": {
      "text/plain": "   Unnamed: 0                         name  \\\n0           0              BAM! Restaurant   \n1           1          Entre-Nous creperie   \n2           2                The Courtyard   \n3           3                Portman's Bar   \n4           4    Grand Shanghai Restaurant   \n5           5              Bar-Roque Grill   \n6           6                        HENRI   \n7           7                   Rosso Vino   \n8           8                The Mind Cafe   \n9           9  Paulaner Bräuhaus Singapore   \n\n                                            location  \\\n0  38 Tras Street #38-40, Singapore 078977 Singapore   \n1  27 Seah Street # 01-01, Singapore 188383 Singa...   \n2  1 Fullerton Square Fullerton Hotel The Fullert...   \n3  6 Raffles Boulevard Marina Square Level 4 At P...   \n4  390 Havelock Road King's Centre, Singapore 169...   \n5  165 Tanjong Pagar Road #01-00 Amara Singapore,...   \n6        48 Pekin Street, Singapore 048778 Singapore   \n7  15 Merbau Road Next Robertson Quay Hotel, Sing...   \n8     60A Prinsep Street, Singapore 188664 Singapore   \n9  9 Raffles Boulevard Millenia Walk #01-01 Mille...   \n\n                                       working_hours price_range  \\\n0  Tue12:00 PM - 2:00 PM6:00 PM - 10:30 PM,Wed12:...         NaN   \n1  Sun11:00 AM - 4:30 PM,Tue12:00 PM - 2:30 PM6:0...         NaN   \n2  Sun10:30 AM - 6:00 PM,Mon10:30 AM - 6:00 PM,Tu...         NaN   \n3  Sun10:30 AM - 12:00 AM,Mon10:30 AM - 12:00 AM,...         NaN   \n4  Sun11:00 AM - 2:30 PM6:00 PM - 10:00 PM,Tue11:...         NaN   \n5  Sun11:00 AM - 3:00 PM5:30 PM - 9:00 PM,Mon12:0...         nil   \n6  Sun08:00 AM - 5:00 PM,Mon08:00 AM - 10:00 PM,T...         NaN   \n7  Sun11:30 AM - 12:00 AM,Mon3:00 PM - 12:00 AM,T...         NaN   \n8  Sun11:00 AM - 02:00 AM,Mon11:00 AM - 02:00 AM,...         NaN   \n9  Sun11:00 AM - 12:00 AM,Mon11:00 AM - 12:00 AM,...         NaN   \n\n                                     tags foodRating serviceRating  \\\n0          Spanish,Fusion,Japanese Fusion         45            45   \n1                 French,European,Healthy         50            50   \n2           Japanese,Indian,International         40            45   \n3                  Bar,Cafe,International         45            45   \n4                  Chinese,Asian,Shanghai         40            40   \n5                   French,Steakhouse,Bar         45            45   \n6                         French,European        nil           nil   \n7                  Italian,Pizza,Wine Bar         45            45   \n8  Cafe,Vegetarian Friendly,Vegan Options         35            40   \n9                     German,Brew Pub,Bar         40            40   \n\n  valueRating atmosphereRating overallRating overallRatingCnt  \n0          40               45           4.5              226  \n1          45               40           5.0            1,555  \n2          40               45           4.5            1,450  \n3          45              nil           5.0              270  \n4          35               40           5.0              641  \n5          45               45           4.5              733  \n6         nil              nil           4.5                4  \n7          40               45           4.5            1,946  \n8          40              nil           5.0              409  \n9          35               40           4.5            1,027  ",
      "text/html": "<div>\n<style scoped>\n    .dataframe tbody tr th:only-of-type {\n        vertical-align: middle;\n    }\n\n    .dataframe tbody tr th {\n        vertical-align: top;\n    }\n\n    .dataframe thead th {\n        text-align: right;\n    }\n</style>\n<table border=\"1\" class=\"dataframe\">\n  <thead>\n    <tr style=\"text-align: right;\">\n      <th></th>\n      <th>Unnamed: 0</th>\n      <th>name</th>\n      <th>location</th>\n      <th>working_hours</th>\n      <th>price_range</th>\n      <th>tags</th>\n      <th>foodRating</th>\n      <th>serviceRating</th>\n      <th>valueRating</th>\n      <th>atmosphereRating</th>\n      <th>overallRating</th>\n      <th>overallRatingCnt</th>\n    </tr>\n  </thead>\n  <tbody>\n    <tr>\n      <th>0</th>\n      <td>0</td>\n      <td>BAM! Restaurant</td>\n      <td>38 Tras Street #38-40, Singapore 078977 Singapore</td>\n      <td>Tue12:00 PM - 2:00 PM6:00 PM - 10:30 PM,Wed12:...</td>\n      <td>NaN</td>\n      <td>Spanish,Fusion,Japanese Fusion</td>\n      <td>45</td>\n      <td>45</td>\n      <td>40</td>\n      <td>45</td>\n      <td>4.5</td>\n      <td>226</td>\n    </tr>\n    <tr>\n      <th>1</th>\n      <td>1</td>\n      <td>Entre-Nous creperie</td>\n      <td>27 Seah Street # 01-01, Singapore 188383 Singa...</td>\n      <td>Sun11:00 AM - 4:30 PM,Tue12:00 PM - 2:30 PM6:0...</td>\n      <td>NaN</td>\n      <td>French,European,Healthy</td>\n      <td>50</td>\n      <td>50</td>\n      <td>45</td>\n      <td>40</td>\n      <td>5.0</td>\n      <td>1,555</td>\n    </tr>\n    <tr>\n      <th>2</th>\n      <td>2</td>\n      <td>The Courtyard</td>\n      <td>1 Fullerton Square Fullerton Hotel The Fullert...</td>\n      <td>Sun10:30 AM - 6:00 PM,Mon10:30 AM - 6:00 PM,Tu...</td>\n      <td>NaN</td>\n      <td>Japanese,Indian,International</td>\n      <td>40</td>\n      <td>45</td>\n      <td>40</td>\n      <td>45</td>\n      <td>4.5</td>\n      <td>1,450</td>\n    </tr>\n    <tr>\n      <th>3</th>\n      <td>3</td>\n      <td>Portman's Bar</td>\n      <td>6 Raffles Boulevard Marina Square Level 4 At P...</td>\n      <td>Sun10:30 AM - 12:00 AM,Mon10:30 AM - 12:00 AM,...</td>\n      <td>NaN</td>\n      <td>Bar,Cafe,International</td>\n      <td>45</td>\n      <td>45</td>\n      <td>45</td>\n      <td>nil</td>\n      <td>5.0</td>\n      <td>270</td>\n    </tr>\n    <tr>\n      <th>4</th>\n      <td>4</td>\n      <td>Grand Shanghai Restaurant</td>\n      <td>390 Havelock Road King's Centre, Singapore 169...</td>\n      <td>Sun11:00 AM - 2:30 PM6:00 PM - 10:00 PM,Tue11:...</td>\n      <td>NaN</td>\n      <td>Chinese,Asian,Shanghai</td>\n      <td>40</td>\n      <td>40</td>\n      <td>35</td>\n      <td>40</td>\n      <td>5.0</td>\n      <td>641</td>\n    </tr>\n    <tr>\n      <th>5</th>\n      <td>5</td>\n      <td>Bar-Roque Grill</td>\n      <td>165 Tanjong Pagar Road #01-00 Amara Singapore,...</td>\n      <td>Sun11:00 AM - 3:00 PM5:30 PM - 9:00 PM,Mon12:0...</td>\n      <td>nil</td>\n      <td>French,Steakhouse,Bar</td>\n      <td>45</td>\n      <td>45</td>\n      <td>45</td>\n      <td>45</td>\n      <td>4.5</td>\n      <td>733</td>\n    </tr>\n    <tr>\n      <th>6</th>\n      <td>6</td>\n      <td>HENRI</td>\n      <td>48 Pekin Street, Singapore 048778 Singapore</td>\n      <td>Sun08:00 AM - 5:00 PM,Mon08:00 AM - 10:00 PM,T...</td>\n      <td>NaN</td>\n      <td>French,European</td>\n      <td>nil</td>\n      <td>nil</td>\n      <td>nil</td>\n      <td>nil</td>\n      <td>4.5</td>\n      <td>4</td>\n    </tr>\n    <tr>\n      <th>7</th>\n      <td>7</td>\n      <td>Rosso Vino</td>\n      <td>15 Merbau Road Next Robertson Quay Hotel, Sing...</td>\n      <td>Sun11:30 AM - 12:00 AM,Mon3:00 PM - 12:00 AM,T...</td>\n      <td>NaN</td>\n      <td>Italian,Pizza,Wine Bar</td>\n      <td>45</td>\n      <td>45</td>\n      <td>40</td>\n      <td>45</td>\n      <td>4.5</td>\n      <td>1,946</td>\n    </tr>\n    <tr>\n      <th>8</th>\n      <td>8</td>\n      <td>The Mind Cafe</td>\n      <td>60A Prinsep Street, Singapore 188664 Singapore</td>\n      <td>Sun11:00 AM - 02:00 AM,Mon11:00 AM - 02:00 AM,...</td>\n      <td>NaN</td>\n      <td>Cafe,Vegetarian Friendly,Vegan Options</td>\n      <td>35</td>\n      <td>40</td>\n      <td>40</td>\n      <td>nil</td>\n      <td>5.0</td>\n      <td>409</td>\n    </tr>\n    <tr>\n      <th>9</th>\n      <td>9</td>\n      <td>Paulaner Bräuhaus Singapore</td>\n      <td>9 Raffles Boulevard Millenia Walk #01-01 Mille...</td>\n      <td>Sun11:00 AM - 12:00 AM,Mon11:00 AM - 12:00 AM,...</td>\n      <td>NaN</td>\n      <td>German,Brew Pub,Bar</td>\n      <td>40</td>\n      <td>40</td>\n      <td>35</td>\n      <td>40</td>\n      <td>4.5</td>\n      <td>1,027</td>\n    </tr>\n  </tbody>\n</table>\n</div>"
     },
     "execution_count": 7,
     "metadata": {},
     "output_type": "execute_result"
    }
   ],
   "source": [
    "food_data.head(10)"
   ]
  },
  {
   "cell_type": "code",
   "execution_count": 27,
   "metadata": {
    "collapsed": false,
    "jupyter": {
     "outputs_hidden": false
    },
    "pycharm": {
     "name": "#%%\n"
    }
   },
   "outputs": [],
   "source": [
    "# For lat, lng and formatted address\n",
    "import config\n",
    "import requests\n",
    "import googlemaps\n",
    "import yaml\n",
    "\n",
    "client = googlemaps.Client(key=config.API_KEY)\n",
    "\n",
    "GOOGLE_MAPS_API_URL = 'https://maps.googleapi.com/maps/api/geocode/json'"
   ]
  },
  {
   "cell_type": "code",
   "execution_count": 39,
   "metadata": {
    "collapsed": false,
    "jupyter": {
     "outputs_hidden": false
    },
    "pycharm": {
     "name": "#%%\n"
    }
   },
   "outputs": [],
   "source": [
    "def food_row(row):\n",
    "\n",
    "    params = {\n",
    "        'address': row[\"location\"],\n",
    "        'sensor': 'false',\n",
    "        \"region\": 'singapore',\n",
    "        'key': config.API_KEY\n",
    "    }\n",
    "\n",
    "    res = client.find_place(\n",
    "        row[\"name\"] + \", \" + row[\"location\"],\n",
    "        \"textquery\"\n",
    "    )\n",
    "\n",
    "    if res[\"status\"] == \"OK\":\n",
    "        res = client.place(\n",
    "            res[\"candidates\"][0][\"place_id\"],\n",
    "            fields = [\n",
    "                \"formatted_address\",\n",
    "                \"geometry/location/lat\",\n",
    "                \"geometry/location/lng\",\n",
    "                \"icon\",\n",
    "                \"place_id\",\n",
    "                \"opening_hours\",\n",
    "                \"price_level\",\n",
    "            ]\n",
    "        )\n",
    "        formatted_address = res[\"result\"][\"formatted_address\"]\n",
    "        lat = res[\"result\"][\"geometry\"][\"location\"][\"lat\"]\n",
    "        lon = res[\"result\"][\"geometry\"][\"location\"][\"lng\"]\n",
    "        icon = res[\"result\"][\"icon\"]\n",
    "        place_id = res[\"result\"][\"place_id\"]\n",
    "        if \"price_level\" in res[\"result\"].keys():\n",
    "            price_level = res[\"result\"][\"price_level\"]\n",
    "        else:\n",
    "            price_level = \"nil\"\n",
    "    else:\n",
    "        formatted_address = \"nil\"\n",
    "        lat = \"nil\"\n",
    "        lon = \"nil\"\n",
    "        icon = \"nil\"\n",
    "        place_id = \"nil\"\n",
    "        price_level = \"nil\"\n",
    "\n",
    "    # try:\n",
    "    #     req = requests.get(GOOGLE_MAPS_API_URL, params=params)\n",
    "    #     res = req.json()\n",
    "    #     if len(res[\"results\"]) > 0:\n",
    "    #         lat = res['results'][0]['geometry']['location']['lat']\n",
    "    #         lon = res['results'][0]['geometry']['location']['lng']\n",
    "    #         formatted_address = res['results'][0]['formatted_address']\n",
    "    #     else:\n",
    "    #         lat = \"nil\"\n",
    "    #         lon = \"nil\"\n",
    "    #         formatted_address = \"nil\"\n",
    "    # except Exception:\n",
    "    #     lat = \"nil\"\n",
    "    #     lon = \"nil\"\n",
    "    #     formatted_address = \"nil\"\n",
    "\n",
    "    result = {\n",
    "        \"name\": row[\"name\"],\n",
    "        \"location\": row[\"location\"],\n",
    "        \"formatted_address\": formatted_address,\n",
    "        \"icon\": icon,\n",
    "        \"place_id\": place_id,\n",
    "        \"price_level\": price_level,\n",
    "        \"lat\": lat,\n",
    "        \"lon\": lon,\n",
    "        \"working_hours\": row[\"working_hours\"],\n",
    "        \"price_range\": row[\"price_range\"],\n",
    "        \"foodRating\": row[\"foodRating\"],\n",
    "        \"serviceRating\": row[\"serviceRating\"],\n",
    "        \"valueRating\": row[\"valueRating\"],\n",
    "        \"atmosphereRating\": row[\"atmosphereRating\"],\n",
    "        \"overallRating\": row[\"overallRating\"],\n",
    "        \"overallRatingCnt\": row[\"overallRatingCnt\"],\n",
    "    }\n",
    "\n",
    "    tags = {}\n",
    "\n",
    "    if type(row[\"tags\"]) == str:\n",
    "        for new_tag in food_merge.keys():\n",
    "            has = False\n",
    "            for old_tag in row[\"tags\"].split(\",\"):\n",
    "                if old_tag in food_merge[new_tag]:\n",
    "                    has = True\n",
    "            tags[new_tag] = 1 if has else 0\n",
    "        result[\"has\"] = True\n",
    "    else:\n",
    "        for new_tag in food_merge.keys():\n",
    "            tags[new_tag] = 0\n",
    "        result[\"has\"] = False\n",
    "\n",
    "    result.update(tags)\n",
    "    return result"
   ]
  },
  {
   "cell_type": "code",
   "execution_count": 40,
   "metadata": {
    "collapsed": false,
    "jupyter": {
     "outputs_hidden": false
    },
    "pycharm": {
     "name": "#%%\n"
    }
   },
   "outputs": [],
   "source": [
    "data = []\n",
    "\n",
    "for idx, row in food_data.iterrows():\n",
    "    data.append(food_row(row))"
   ]
  },
  {
   "cell_type": "code",
   "execution_count": 41,
   "metadata": {
    "collapsed": false,
    "jupyter": {
     "outputs_hidden": false
    },
    "pycharm": {
     "name": "#%%\n"
    }
   },
   "outputs": [],
   "source": [
    "df = pd.DataFrame(data)"
   ]
  },
  {
   "cell_type": "code",
   "execution_count": 42,
   "metadata": {
    "collapsed": false,
    "jupyter": {
     "outputs_hidden": false
    },
    "pycharm": {
     "name": "#%%\n"
    }
   },
   "outputs": [
    {
     "data": {
      "text/plain": "13778"
     },
     "execution_count": 42,
     "metadata": {},
     "output_type": "execute_result"
    }
   ],
   "source": [
    "len(df)"
   ]
  },
  {
   "cell_type": "code",
   "execution_count": 43,
   "metadata": {
    "collapsed": false,
    "jupyter": {
     "outputs_hidden": false
    },
    "pycharm": {
     "name": "#%%\n"
    }
   },
   "outputs": [
    {
     "data": {
      "text/plain": "                                           name  \\\n0                               BAM! Restaurant   \n1                           Entre-Nous creperie   \n2                                 The Courtyard   \n3                                 Portman's Bar   \n4                     Grand Shanghai Restaurant   \n5                               Bar-Roque Grill   \n6                                         HENRI   \n7                                    Rosso Vino   \n8                                 The Mind Cafe   \n9                   Paulaner Bräuhaus Singapore   \n10                Waterfall Ristorante Italiano   \n11                                         Jade   \n12                          L'eclair Patisserie   \n13    Josephine - French Cuisine &amp; Wine Bar   \n14                               Positano Risto   \n15                       NOX - Dine In The Dark   \n16                          Hua Ting Restaurant   \n17                                   Whitegrass   \n18           Chef's Table by Chef Stephan Zoisl   \n19                  Fat Belly Social Steakhouse   \n20                                       Colony   \n21                     Merci Marcel Club Street   \n22                            Shivam Restaurant   \n23                                 Origin Grill   \n24                             The Rose Veranda   \n25                              Summer Pavilion   \n26                                   Dolce Vita   \n27                                  Song Garden   \n28                                Cherry Garden   \n29                      Beast &amp; Butterflies   \n30                                       Rakuya   \n31                                      Oscar's   \n32          Fu Lin Men Chinese Restaurant (SRC)   \n33  Lobby Lounge at Conrad Centennial Singapore   \n34                                    Fat Belly   \n35                  Fu Lin Men Cantonese Dining   \n36                          Katachi Style Sushi   \n37             Ginett Restaurant &amp; Wine Bar   \n38                                    Melt Café   \n39                                   Akira Back   \n40                         Cut by Wolfgang Puck   \n41                           Fu Lin Men (NSRCC)   \n42                                MTR Singapore   \n43                         Merci Marcel Orchard   \n44                                   Madame Fan   \n45                           Publico Ristorante   \n46                                   Bar Square   \n47                                   25 Degrees   \n48                              Meta Restaurant   \n49           Spago Dining Room by Wolfgang Puck   \n\n                                             location  \\\n0   38 Tras Street #38-40, Singapore 078977 Singapore   \n1   27 Seah Street # 01-01, Singapore 188383 Singa...   \n2   1 Fullerton Square Fullerton Hotel The Fullert...   \n3   6 Raffles Boulevard Marina Square Level 4 At P...   \n4   390 Havelock Road King's Centre, Singapore 169...   \n5   165 Tanjong Pagar Road #01-00 Amara Singapore,...   \n6         48 Pekin Street, Singapore 048778 Singapore   \n7   15 Merbau Road Next Robertson Quay Hotel, Sing...   \n8      60A Prinsep Street, Singapore 188664 Singapore   \n9   9 Raffles Boulevard Millenia Walk #01-01 Mille...   \n10  22 Orange Grove Road Shangri-La Hotel Garden W...   \n11  1 Fullerton Square Fullerton Hotel The Fullert...   \n12  78 Airport Boulevard 01-235 Jewel Changi Airpo...   \n13         97 Amoy Street, Singapore 069917 Singapore   \n14     66 Bussorah Street, Singapore 199479 Singapore   \n15         83 Club Street, Singapore 199546 Singapore   \n16  442 Orchard Road Orchard Hotel Singapore Level...   \n17  30 Victoria Street #01-26 Chijmes, Singapore 1...   \n18         61 Tras Street, Singapore 079000 Singapore   \n19  10 Jalan Serene #01-04 Serene Centre, Singapor...   \n20  7 Raffles Avenue Ritz Carlton Millenia Singapo...   \n21          9 Club Street, Singapore 069404 Singapore   \n22      87 Syed Alwi Road, Singapore 207666 Singapore   \n23  22 Orange Grove Road Shangri-La Hotel Tower Wi...   \n24  22 Orange Grove Road, Shangri-La Hotel Tower W...   \n25  7 Raffles Avenue Ritz Carlton Millenia Singapo...   \n26  5 Raffles Avenue, Marina Square, Singapore 039...   \n27  122 Middle Road Mercure Singapore Bugis Level ...   \n28  5 Raffles Avenue, Marina Square, Singapore 039...   \n29      90 Robertson Quay, Singapore 238259 Singapore   \n30     89 East Coast Road, Singapore 428790 Singapore   \n31  2 Temasek Boulevard Conrad Centennial, Lobby L...   \n32  B Connaught Drive, S179682 Level 2, Singapore ...   \n33  2 Temasek Boulevard Conrad Centennial Singapor...   \n34  10 Jalan Serene Serene Centre Serence Centre #...   \n35  21 Amber Road Chinese Swimming Club, Singapore...   \n36  15 Stamford Road The Capitol Kempinski Hotel S...   \n37  200 Middle Road Hotel G Singapore, Singapore 1...   \n38  5 Raffles Avenue, Marina Square, Singapore 039...   \n39  30 Beach Road, Access via Nicoll Highway JW Ma...   \n40  2 Bayfront Avenue Marina Bay Sands The Shoppes...   \n41  10 Changi Coast Walk Level 1 National Service ...   \n42  438 Serangoon Road Opposite Sri Srinivasa Peru...   \n43  390 Orchard Road Palais Renaissance 01-03 to 0...   \n44  32 Beach Road The South Beach Level 2, The NCO...   \n45  1 Nanson Road Intercontinental Singapore Rober...   \n46  5 Fraser Street Andaz Singapore, Singapore 189...   \n47  200 Middle Road Hotel G Singapore Ground Floor...   \n48      1 Keong Saik Road, Singapore 089109 Singapore   \n49  10 Bay Front Avenue Marina Bay Resort, Sands S...   \n\n                                    formatted_address  \\\n0                        38 Tras St, Singapore 078977   \n1                27 Seah St, #01-01, Singapore 188383   \n2                1 Fullerton Square, Singapore 049178   \n3   6 Raffles Boulevard Level 4, PARKROYAL COLLECT...   \n4   390 Havelock Rd, Level 1 King's Centre, Singap...   \n5           165 Tg Pagar Rd, #01-00, Singapore 088539   \n6               48 Pekin St, #01-01, Singapore 048778   \n7                      15 Merbau Rd, Singapore 239032   \n8                    60A Prinsep St, Singapore 188664   \n9   9 Raffles Boulevard, #01-01, Millenia Walk, Si...   \n10  22 Orange Grove Rd, Level One, Garden Wing, Si...   \n11               1 Fullerton Square, Singapore 049178   \n12    78 Airport Boulevard 01, #235, Singapore 819666   \n13                       97 Amoy St, Singapore 069917   \n14                   66 Bussorah St, Singapore 199479   \n15                       83 Club St, Singapore 069451   \n16  Orchard Hotel Singapore, Level 2, 442 Orchard ...   \n17  30 Victoria St, #01-26/27 CHIJMES, Singapore 1...   \n18                       61 Tras St, Singapore 079000   \n19  10 Jalan Serene, #01-04 Serene Centre, Singapo...   \n20        Marina Bay 7, Raffles Ave, Singapore 039799   \n21                      7-9 Club St, Singapore 069403   \n22                  87 Syed Alwi Rd, Singapore 207666   \n23  Lobby Level, Tower Wing, 22 Orange Grove Rd, S...   \n24               22 Orange Grove Rd, Singapore 258350   \n25                    7 Raffles Ave, Singapore 039799   \n26                    5 Raffles Ave, Singapore 039797   \n27  122 Middle Rd, Level 2 Mercure Singapore Bugis...   \n28                    5 Raffles Ave, Singapore 039797   \n29       90 Robertson Quay, Level 1, Singapore 238259   \n30                    89 E Coast Rd, Singapore 428790   \n31                   2 Temasek Blvd, Singapore 038982   \n32  Level 2, B, Connaught Dr, Singapore Recreation...   \n33                   2 Temasek Blvd, Singapore 038982   \n34  10 Jalan Serene, #01-04 Serene Centre, Singapo...   \n35  21 Amber Rd, Level 3 Chinese Swimming Club, Si...   \n36  150 Orchard Rd, #01-49 Orchard Plaza, Singapor...   \n37                    200 Middle Rd, Singapore 188980   \n38                    5 Raffles Ave, Singapore 039797   \n39         30 Beach Road, Level B1M, Singapore 189763   \n40          2 Bayfront Ave, B1 - 71, Singapore 018972   \n41  10 Changi Coast Walk, Level 1 National Service...   \n42                 440 Serangoon Rd, Singapore 218134   \n43  390 Orchard Road, 01-03 Palais Renaissance, Si...   \n44        32 Beach Rd, The NCO Club, Singapore 189764   \n45                      1 Nanson Rd, Singapore 238909   \n46                      5 Fraser St, Singapore 189352   \n47           200 Middle Rd, Hotel G, Singapore 188980   \n48                 1 Keong Saik Rd., Singapore 089109   \n49  10 Bayfront Avenue L57, Sands SkyPark, Hotel, ...   \n\n                                                 icon  \\\n0   https://maps.gstatic.com/mapfiles/place_api/ic...   \n1   https://maps.gstatic.com/mapfiles/place_api/ic...   \n2   https://maps.gstatic.com/mapfiles/place_api/ic...   \n3   https://maps.gstatic.com/mapfiles/place_api/ic...   \n4   https://maps.gstatic.com/mapfiles/place_api/ic...   \n5   https://maps.gstatic.com/mapfiles/place_api/ic...   \n6   https://maps.gstatic.com/mapfiles/place_api/ic...   \n7   https://maps.gstatic.com/mapfiles/place_api/ic...   \n8   https://maps.gstatic.com/mapfiles/place_api/ic...   \n9   https://maps.gstatic.com/mapfiles/place_api/ic...   \n10  https://maps.gstatic.com/mapfiles/place_api/ic...   \n11  https://maps.gstatic.com/mapfiles/place_api/ic...   \n12  https://maps.gstatic.com/mapfiles/place_api/ic...   \n13  https://maps.gstatic.com/mapfiles/place_api/ic...   \n14  https://maps.gstatic.com/mapfiles/place_api/ic...   \n15  https://maps.gstatic.com/mapfiles/place_api/ic...   \n16  https://maps.gstatic.com/mapfiles/place_api/ic...   \n17  https://maps.gstatic.com/mapfiles/place_api/ic...   \n18  https://maps.gstatic.com/mapfiles/place_api/ic...   \n19  https://maps.gstatic.com/mapfiles/place_api/ic...   \n20  https://maps.gstatic.com/mapfiles/place_api/ic...   \n21  https://maps.gstatic.com/mapfiles/place_api/ic...   \n22  https://maps.gstatic.com/mapfiles/place_api/ic...   \n23  https://maps.gstatic.com/mapfiles/place_api/ic...   \n24  https://maps.gstatic.com/mapfiles/place_api/ic...   \n25  https://maps.gstatic.com/mapfiles/place_api/ic...   \n26  https://maps.gstatic.com/mapfiles/place_api/ic...   \n27  https://maps.gstatic.com/mapfiles/place_api/ic...   \n28  https://maps.gstatic.com/mapfiles/place_api/ic...   \n29  https://maps.gstatic.com/mapfiles/place_api/ic...   \n30  https://maps.gstatic.com/mapfiles/place_api/ic...   \n31  https://maps.gstatic.com/mapfiles/place_api/ic...   \n32  https://maps.gstatic.com/mapfiles/place_api/ic...   \n33  https://maps.gstatic.com/mapfiles/place_api/ic...   \n34  https://maps.gstatic.com/mapfiles/place_api/ic...   \n35  https://maps.gstatic.com/mapfiles/place_api/ic...   \n36  https://maps.gstatic.com/mapfiles/place_api/ic...   \n37  https://maps.gstatic.com/mapfiles/place_api/ic...   \n38  https://maps.gstatic.com/mapfiles/place_api/ic...   \n39  https://maps.gstatic.com/mapfiles/place_api/ic...   \n40  https://maps.gstatic.com/mapfiles/place_api/ic...   \n41  https://maps.gstatic.com/mapfiles/place_api/ic...   \n42  https://maps.gstatic.com/mapfiles/place_api/ic...   \n43  https://maps.gstatic.com/mapfiles/place_api/ic...   \n44  https://maps.gstatic.com/mapfiles/place_api/ic...   \n45  https://maps.gstatic.com/mapfiles/place_api/ic...   \n46  https://maps.gstatic.com/mapfiles/place_api/ic...   \n47  https://maps.gstatic.com/mapfiles/place_api/ic...   \n48  https://maps.gstatic.com/mapfiles/place_api/ic...   \n49  https://maps.gstatic.com/mapfiles/place_api/ic...   \n\n                       place_id price_level       lat         lon  \\\n0   ChIJSSOENm0Z2jERBKC5c68MTWk         nil  1.278406  103.844292   \n1   ChIJZcsqCqUZ2jERjzIk4OO0wWI           2  1.296228  103.854597   \n2   ChIJbxecDwkZ2jERUf121CWlCNQ         nil  1.286344  103.853081   \n3   ChIJt7a1YKgZ2jER64EV7GfGtmY         nil  1.291433  103.857679   \n4   ChIJF9leE50Z2jER4uEdueSxtsM           3  1.289609  103.835891   \n5   ChIJKZoOX2sZ2jERhJqFXCG1oAw           3  1.275521  103.843604   \n6   ChIJr5kAGm0Z2jERTGZ7zgo1KDs         nil  1.283123  103.848824   \n7   ChIJ9ffW4J0Z2jER6WDXWw1aM38           2   1.29109   103.84194   \n8   ChIJ5x94l7wZ2jERxAkDWrexRDk           2   1.29972  103.849795   \n9   ChIJCUEDxqgZ2jERLoWQ7ycLoQ8           2  1.293077  103.858287   \n10  ChIJEU6YevQZ2jER4gbYl-0KQss           3   1.31178  103.826165   \n11  ChIJbxecDwkZ2jER0yu4AVyCuK0         nil  1.286448  103.853237   \n12  ChIJi4FZgx492jERofzb26AVA3U         nil  1.360391  103.989642   \n13  ChIJCUwhhHIZ2jERXb0jHir4N6Y         nil  1.281353  103.847259   \n14  ChIJKeStBbEZ2jERHH8jl7CCHjs           2  1.301066  103.859863   \n15  ChIJ8aeYp7EZ2jER1_QRLriAt_E           3  1.281828  103.845837   \n16  ChIJxVQqvIwZ2jER4WhnK5h7S0g         nil  1.307314   103.82891   \n17  ChIJkZFsaaQZ2jERNwIpeScG3vM         nil  1.295557  103.851949   \n18  ChIJ63aALm0Z2jERphNXNlGRGRk           4  1.277826  103.844444   \n19  ChIJYWYikAYa2jER6ugFpTiBKWA         nil  1.322539  103.813641   \n20  ChIJOek7q6kZ2jERX8_FX0BTcq4           4  1.290969  103.860121   \n21  ChIJoQvLtqkZ2jERKOVZn48aivQ           2  1.282643  103.847148   \n22  ChIJPfjbc7cZ2jER0DKTgILx6wc           2  1.309274  103.855807   \n23  ChIJs26DmU492jERqUtnkbcZCn0         nil  1.311275  103.826517   \n24  ChIJU1wHcvQZ2jERfioEYbHr9tI         nil  1.311131  103.826544   \n25  ChIJhyAGsKkZ2jERMy2EGAnyv4k           4  1.290601  103.860303   \n26  ChIJga9oQqgZ2jERl7a7lid-Sic         nil  1.290691  103.858311   \n27  ChIJ1fPtGLsZ2jERR3xFklcSFZo         nil  1.299505  103.853235   \n28  ChIJ8wanXKgZ2jERg2Arsgtf_W8           3  1.290691  103.858311   \n29  ChIJhSuAtp0Z2jERRY1btLdoTjY           2  1.290291  103.836866   \n30  ChIJPXtljHIY2jERgNQ6bVcXRO0         nil  1.305547  103.904034   \n31  ChIJ_Zat1qgZ2jERbyeeG2c6SLs           3  1.293347  103.858475   \n32  ChIJm0ulHbEZ2jERaNCMryFrS0k         nil   1.29207  103.853765   \n33  ChIJAerAzagZ2jER4rj-LQwB3vw         nil  1.293507  103.858799   \n34  ChIJYWYikAYa2jER6ugFpTiBKWA         nil  1.322539  103.813641   \n35  ChIJccMpsG8Y2jERDrHgEq3LsR8           2  1.300009  103.900627   \n36  ChIJ4-3cN98Z2jERxoxkt_0xrwI         nil  1.300939  103.841071   \n37  ChIJo8sHeLsZ2jER1W6pSc4QhF8           2  1.300848  103.851367   \n38  ChIJg1yrXKgZ2jERbtsHxqxZ2NU         nil  1.290736  103.858309   \n39  ChIJgblG8aUZ2jERmfcAyI29IEc           2  1.294462  103.855912   \n40  ChIJnWdQKQQZ2jERxH3g-HsHchE           4  1.285284   103.85957   \n41  ChIJ7e7PY_0j2jERTI4n-bRv4O0         nil  1.318575  103.973973   \n42  ChIJRR8bWM8Z2jER8ml0qU8UFeE         nil  1.313017  103.856523   \n43  ChIJuTpnZVQZ2jEReDI4VP2u_w0         nil  1.306578  103.829612   \n44  ChIJP8or5qUZ2jERZ3_i5oUkfb0         nil  1.294157  103.855118   \n45  ChIJlc7j350Z2jEReV1IVnbJCxc           2  1.289817  103.838565   \n46  ChIJT3NEg-YZ2jERw0YGsLwpfgI         nil  1.299211  103.857725   \n47  ChIJo8sHeLsZ2jERKlcjoHg3VnY           2  1.300737  103.851613   \n48  ChIJ6WJrhG0Z2jERFtVbDrD08jM         nil  1.279072  103.841431   \n49  ChIJ8dGY8gYZ2jERVd0Lk3OwpIs           4  1.283203  103.860505   \n\n                                        working_hours price_range  ...  \\\n0   Tue12:00 PM - 2:00 PM6:00 PM - 10:30 PM,Wed12:...         NaN  ...   \n1   Sun11:00 AM - 4:30 PM,Tue12:00 PM - 2:30 PM6:0...         NaN  ...   \n2   Sun10:30 AM - 6:00 PM,Mon10:30 AM - 6:00 PM,Tu...         NaN  ...   \n3   Sun10:30 AM - 12:00 AM,Mon10:30 AM - 12:00 AM,...         NaN  ...   \n4   Sun11:00 AM - 2:30 PM6:00 PM - 10:00 PM,Tue11:...         NaN  ...   \n5   Sun11:00 AM - 3:00 PM5:30 PM - 9:00 PM,Mon12:0...         nil  ...   \n6   Sun08:00 AM - 5:00 PM,Mon08:00 AM - 10:00 PM,T...         NaN  ...   \n7   Sun11:30 AM - 12:00 AM,Mon3:00 PM - 12:00 AM,T...         NaN  ...   \n8   Sun11:00 AM - 02:00 AM,Mon11:00 AM - 02:00 AM,...         NaN  ...   \n9   Sun11:00 AM - 12:00 AM,Mon11:00 AM - 12:00 AM,...         NaN  ...   \n10  Sun12:00 PM - 2:30 PM6:00 PM - 10:00 PM,Mon12:...         NaN  ...   \n11  Sun11:30 AM - 1:00 PM1:30 PM - 3:00 PM6:30 PM ...         nil  ...   \n12  Sun09:00 AM - 11:00 PM,Mon09:00 AM - 11:00 PM,...         NaN  ...   \n13  Mon11:45 AM - 2:00 PM6:00 PM - 10:30 PM,Tue11:...         nil  ...   \n14  Sun11:30 AM - 9:30 PM,Mon11:30 AM - 9:30 PM,Tu...         nil  ...   \n15  Sun6:00 PM - 12:00 AM,Tue6:00 PM - 12:00 AM,We...         NaN  ...   \n16  Sun11:00 AM - 2:30 PM6:00 PM - 10:00 PM,Mon11:...         nil  ...   \n17  Tue12:00 PM - 2:30 PM6:00 PM - 10:30 PM,Wed12:...         nil  ...   \n18  Tue6:00 PM - 12:00 AM,Wed6:00 PM - 12:00 AM,Th...         NaN  ...   \n19  Mon11:30 AM - 3:30 PM5:30 PM - 10:30 PM,Tue11:...         NaN  ...   \n20  Sun12:00 PM - 3:30 PM6:30 PM - 10:30 PM,Mon12:...         nil  ...   \n21  Sun08:00 AM - 11:00 PM,Mon08:00 AM - 12:00 AM,...         nil  ...   \n22  Sun11:30 AM - 11:30 PM,Mon11:30 AM - 11:30 PM,...         NaN  ...   \n23  Sun12:00 PM - 2:30 PM6:00 PM - 10:00 PM,Tue12:...         nil  ...   \n24  Sun1:00 PM - 5:00 PM,Mon1:00 PM - 5:00 PM,Tue1...         NaN  ...   \n25  Sun11:30 AM - 2:30 PM6:30 PM - 10:30 PM,Mon11:...         nil  ...   \n26  Sun12:00 PM - 2:30 PM6:30 PM - 10:30 PM,Thu12:...         nil  ...   \n27  Sun10:00 AM - 10:00 PM,Mon11:30 AM - 10:00 PM,...         nil  ...   \n28  Sun11:00 AM - 3:30 PM6:30 PM - 10:00 PM,Wed12:...         NaN  ...   \n29  Sun06:30 AM - 11:00 PM,Mon06:30 AM - 11:00 PM,...         NaN  ...   \n30  Sun12:00 PM - 3:00 PM6:00 PM - 9:30 PM,Tue12:0...         NaN  ...   \n31  Sun07:00 AM - 10:30 PM,Mon07:00 AM - 10:30 PM,...         nil  ...   \n32  Sun11:30 AM - 3:00 PM5:30 PM - 10:00 PM,Mon11:...         NaN  ...   \n33  Sun11:00 AM - 10:30 PM,Mon08:00 AM - 10:30 PM,...         NaN  ...   \n34  Sun6:00 PM - 10:00 PM,Mon6:00 PM - 10:00 PM,Tu...         NaN  ...   \n35  Sun10:30 AM - 3:00 PM5:30 PM - 10:00 PM,Mon11:...         nil  ...   \n36  Sun12:00 PM - 2:30 PM6:00 PM - 10:00 PM,Mon12:...         NaN  ...   \n37  Sun11:30 AM - 10:30 PM,Mon11:30 AM - 10:30 PM,...         nil  ...   \n38  Sun07:30 AM - 10:30 AM12:00 PM - 2:30 PM6:30 P...         nil  ...   \n39  Sun12:00 PM - 2:30 PM6:00 PM - 10:00 PM,Mon12:...         NaN  ...   \n40  Sun5:00 PM - 10:00 PM,Mon5:00 PM - 10:00 PM,Tu...         nil  ...   \n41  Sun10:00 AM - 3:00 PM5:30 PM - 10:30 PM,Mon11:...         NaN  ...   \n42  Sun08:30 AM - 3:30 PM5:30 PM - 10:00 PM,Tue08:...         NaN  ...   \n43  Sun08:30 AM - 11:00 PM,Mon08:00 AM - 12:00 AM,...         nil  ...   \n44  Sun11:00 AM - 3:30 PM6:00 PM - 10:00 PM,Mon12:...         nil  ...   \n45  Sun08:30 AM - 10:30 PM,Mon12:00 PM - 11:00 PM,...         NaN  ...   \n46  Sun12:00 PM - 10:30 PM,Mon12:00 PM - 10:30 PM,...         NaN  ...   \n47  Sun08:30 AM - 10:30 PM,Mon08:30 AM - 10:30 PM,...         NaN  ...   \n48  Mon6:00 PM - 11:00 PM,Tue6:00 PM - 11:00 PM,We...         nil  ...   \n49  Sun12:00 PM - 2:30 PM6:00 PM - 11:00 PM,Mon12:...         nil  ...   \n\n   Fast food Fusion Halal Kosher Pizza Quick Bites  Seafood  Soups  \\\n0          0      1     0      0     0           0        0      0   \n1          0      0     0      0     0           0        0      0   \n2          0      0     0      0     0           0        0      0   \n3          0      0     0      0     0           0        0      0   \n4          0      0     0      0     0           0        0      0   \n5          0      0     0      0     0           0        0      0   \n6          0      0     0      0     0           0        0      0   \n7          0      0     0      0     1           0        0      0   \n8          0      0     0      0     0           0        0      0   \n9          0      0     0      0     0           0        0      0   \n10         0      0     0      0     0           0        0      0   \n11         0      0     0      0     0           0        0      0   \n12         0      0     0      0     0           0        0      0   \n13         0      0     0      0     0           0        0      0   \n14         0      0     0      0     1           0        0      0   \n15         0      1     0      0     0           0        0      0   \n16         0      0     0      0     0           0        0      0   \n17         0      1     0      0     0           0        0      0   \n18         0      0     0      0     0           0        0      0   \n19         0      0     0      0     0           0        0      0   \n20         0      0     0      0     0           0        0      0   \n21         0      0     0      0     0           0        0      0   \n22         0      0     0      0     0           0        0      0   \n23         0      1     0      0     0           0        0      0   \n24         0      0     0      0     0           0        0      0   \n25         0      0     0      0     0           0        0      0   \n26         0      0     0      0     0           0        0      0   \n27         0      0     0      0     0           0        0      0   \n28         0      0     0      0     0           0        0      0   \n29         0      1     0      0     0           0        0      0   \n30         0      0     0      0     0           0        0      0   \n31         0      0     0      0     0           0        0      0   \n32         0      0     0      0     0           0        0      0   \n33         0      0     0      0     0           0        0      0   \n34         0      0     0      0     0           0        0      0   \n35         0      0     0      0     0           0        0      0   \n36         0      0     0      0     0           0        1      0   \n37         0      0     0      0     0           0        0      0   \n38         0      0     0      0     0           0        0      0   \n39         0      0     0      0     0           0        0      0   \n40         0      0     0      0     0           0        0      0   \n41         0      0     0      0     0           0        1      0   \n42         0      0     0      0     0           0        0      0   \n43         0      0     0      0     0           0        0      0   \n44         0      0     0      0     0           0        0      0   \n45         0      0     0      0     1           0        0      0   \n46         0      0     0      0     0           1        0      0   \n47         0      0     0      0     0           0        0      0   \n48         0      1     0      0     0           0        0      0   \n49         0      0     0      0     0           0        0      0   \n\n    Street Food  Sushi  \n0             0      0  \n1             0      0  \n2             0      0  \n3             0      0  \n4             0      0  \n5             0      0  \n6             0      0  \n7             0      0  \n8             0      0  \n9             0      0  \n10            0      0  \n11            0      0  \n12            0      0  \n13            0      0  \n14            0      0  \n15            0      0  \n16            0      0  \n17            0      0  \n18            0      0  \n19            0      0  \n20            0      0  \n21            0      0  \n22            0      0  \n23            0      0  \n24            0      0  \n25            0      0  \n26            0      0  \n27            0      0  \n28            0      0  \n29            0      0  \n30            0      1  \n31            0      0  \n32            0      0  \n33            0      0  \n34            0      0  \n35            0      0  \n36            0      1  \n37            0      0  \n38            0      0  \n39            0      0  \n40            0      0  \n41            0      0  \n42            0      0  \n43            0      0  \n44            0      0  \n45            0      0  \n46            0      0  \n47            0      0  \n48            0      0  \n49            0      0  \n\n[50 rows x 52 columns]",
      "text/html": "<div>\n<style scoped>\n    .dataframe tbody tr th:only-of-type {\n        vertical-align: middle;\n    }\n\n    .dataframe tbody tr th {\n        vertical-align: top;\n    }\n\n    .dataframe thead th {\n        text-align: right;\n    }\n</style>\n<table border=\"1\" class=\"dataframe\">\n  <thead>\n    <tr style=\"text-align: right;\">\n      <th></th>\n      <th>name</th>\n      <th>location</th>\n      <th>formatted_address</th>\n      <th>icon</th>\n      <th>place_id</th>\n      <th>price_level</th>\n      <th>lat</th>\n      <th>lon</th>\n      <th>working_hours</th>\n      <th>price_range</th>\n      <th>...</th>\n      <th>Fast food</th>\n      <th>Fusion</th>\n      <th>Halal</th>\n      <th>Kosher</th>\n      <th>Pizza</th>\n      <th>Quick Bites</th>\n      <th>Seafood</th>\n      <th>Soups</th>\n      <th>Street Food</th>\n      <th>Sushi</th>\n    </tr>\n  </thead>\n  <tbody>\n    <tr>\n      <th>0</th>\n      <td>BAM! Restaurant</td>\n      <td>38 Tras Street #38-40, Singapore 078977 Singapore</td>\n      <td>38 Tras St, Singapore 078977</td>\n      <td>https://maps.gstatic.com/mapfiles/place_api/ic...</td>\n      <td>ChIJSSOENm0Z2jERBKC5c68MTWk</td>\n      <td>nil</td>\n      <td>1.278406</td>\n      <td>103.844292</td>\n      <td>Tue12:00 PM - 2:00 PM6:00 PM - 10:30 PM,Wed12:...</td>\n      <td>NaN</td>\n      <td>...</td>\n      <td>0</td>\n      <td>1</td>\n      <td>0</td>\n      <td>0</td>\n      <td>0</td>\n      <td>0</td>\n      <td>0</td>\n      <td>0</td>\n      <td>0</td>\n      <td>0</td>\n    </tr>\n    <tr>\n      <th>1</th>\n      <td>Entre-Nous creperie</td>\n      <td>27 Seah Street # 01-01, Singapore 188383 Singa...</td>\n      <td>27 Seah St, #01-01, Singapore 188383</td>\n      <td>https://maps.gstatic.com/mapfiles/place_api/ic...</td>\n      <td>ChIJZcsqCqUZ2jERjzIk4OO0wWI</td>\n      <td>2</td>\n      <td>1.296228</td>\n      <td>103.854597</td>\n      <td>Sun11:00 AM - 4:30 PM,Tue12:00 PM - 2:30 PM6:0...</td>\n      <td>NaN</td>\n      <td>...</td>\n      <td>0</td>\n      <td>0</td>\n      <td>0</td>\n      <td>0</td>\n      <td>0</td>\n      <td>0</td>\n      <td>0</td>\n      <td>0</td>\n      <td>0</td>\n      <td>0</td>\n    </tr>\n    <tr>\n      <th>2</th>\n      <td>The Courtyard</td>\n      <td>1 Fullerton Square Fullerton Hotel The Fullert...</td>\n      <td>1 Fullerton Square, Singapore 049178</td>\n      <td>https://maps.gstatic.com/mapfiles/place_api/ic...</td>\n      <td>ChIJbxecDwkZ2jERUf121CWlCNQ</td>\n      <td>nil</td>\n      <td>1.286344</td>\n      <td>103.853081</td>\n      <td>Sun10:30 AM - 6:00 PM,Mon10:30 AM - 6:00 PM,Tu...</td>\n      <td>NaN</td>\n      <td>...</td>\n      <td>0</td>\n      <td>0</td>\n      <td>0</td>\n      <td>0</td>\n      <td>0</td>\n      <td>0</td>\n      <td>0</td>\n      <td>0</td>\n      <td>0</td>\n      <td>0</td>\n    </tr>\n    <tr>\n      <th>3</th>\n      <td>Portman's Bar</td>\n      <td>6 Raffles Boulevard Marina Square Level 4 At P...</td>\n      <td>6 Raffles Boulevard Level 4, PARKROYAL COLLECT...</td>\n      <td>https://maps.gstatic.com/mapfiles/place_api/ic...</td>\n      <td>ChIJt7a1YKgZ2jER64EV7GfGtmY</td>\n      <td>nil</td>\n      <td>1.291433</td>\n      <td>103.857679</td>\n      <td>Sun10:30 AM - 12:00 AM,Mon10:30 AM - 12:00 AM,...</td>\n      <td>NaN</td>\n      <td>...</td>\n      <td>0</td>\n      <td>0</td>\n      <td>0</td>\n      <td>0</td>\n      <td>0</td>\n      <td>0</td>\n      <td>0</td>\n      <td>0</td>\n      <td>0</td>\n      <td>0</td>\n    </tr>\n    <tr>\n      <th>4</th>\n      <td>Grand Shanghai Restaurant</td>\n      <td>390 Havelock Road King's Centre, Singapore 169...</td>\n      <td>390 Havelock Rd, Level 1 King's Centre, Singap...</td>\n      <td>https://maps.gstatic.com/mapfiles/place_api/ic...</td>\n      <td>ChIJF9leE50Z2jER4uEdueSxtsM</td>\n      <td>3</td>\n      <td>1.289609</td>\n      <td>103.835891</td>\n      <td>Sun11:00 AM - 2:30 PM6:00 PM - 10:00 PM,Tue11:...</td>\n      <td>NaN</td>\n      <td>...</td>\n      <td>0</td>\n      <td>0</td>\n      <td>0</td>\n      <td>0</td>\n      <td>0</td>\n      <td>0</td>\n      <td>0</td>\n      <td>0</td>\n      <td>0</td>\n      <td>0</td>\n    </tr>\n    <tr>\n      <th>5</th>\n      <td>Bar-Roque Grill</td>\n      <td>165 Tanjong Pagar Road #01-00 Amara Singapore,...</td>\n      <td>165 Tg Pagar Rd, #01-00, Singapore 088539</td>\n      <td>https://maps.gstatic.com/mapfiles/place_api/ic...</td>\n      <td>ChIJKZoOX2sZ2jERhJqFXCG1oAw</td>\n      <td>3</td>\n      <td>1.275521</td>\n      <td>103.843604</td>\n      <td>Sun11:00 AM - 3:00 PM5:30 PM - 9:00 PM,Mon12:0...</td>\n      <td>nil</td>\n      <td>...</td>\n      <td>0</td>\n      <td>0</td>\n      <td>0</td>\n      <td>0</td>\n      <td>0</td>\n      <td>0</td>\n      <td>0</td>\n      <td>0</td>\n      <td>0</td>\n      <td>0</td>\n    </tr>\n    <tr>\n      <th>6</th>\n      <td>HENRI</td>\n      <td>48 Pekin Street, Singapore 048778 Singapore</td>\n      <td>48 Pekin St, #01-01, Singapore 048778</td>\n      <td>https://maps.gstatic.com/mapfiles/place_api/ic...</td>\n      <td>ChIJr5kAGm0Z2jERTGZ7zgo1KDs</td>\n      <td>nil</td>\n      <td>1.283123</td>\n      <td>103.848824</td>\n      <td>Sun08:00 AM - 5:00 PM,Mon08:00 AM - 10:00 PM,T...</td>\n      <td>NaN</td>\n      <td>...</td>\n      <td>0</td>\n      <td>0</td>\n      <td>0</td>\n      <td>0</td>\n      <td>0</td>\n      <td>0</td>\n      <td>0</td>\n      <td>0</td>\n      <td>0</td>\n      <td>0</td>\n    </tr>\n    <tr>\n      <th>7</th>\n      <td>Rosso Vino</td>\n      <td>15 Merbau Road Next Robertson Quay Hotel, Sing...</td>\n      <td>15 Merbau Rd, Singapore 239032</td>\n      <td>https://maps.gstatic.com/mapfiles/place_api/ic...</td>\n      <td>ChIJ9ffW4J0Z2jER6WDXWw1aM38</td>\n      <td>2</td>\n      <td>1.29109</td>\n      <td>103.84194</td>\n      <td>Sun11:30 AM - 12:00 AM,Mon3:00 PM - 12:00 AM,T...</td>\n      <td>NaN</td>\n      <td>...</td>\n      <td>0</td>\n      <td>0</td>\n      <td>0</td>\n      <td>0</td>\n      <td>1</td>\n      <td>0</td>\n      <td>0</td>\n      <td>0</td>\n      <td>0</td>\n      <td>0</td>\n    </tr>\n    <tr>\n      <th>8</th>\n      <td>The Mind Cafe</td>\n      <td>60A Prinsep Street, Singapore 188664 Singapore</td>\n      <td>60A Prinsep St, Singapore 188664</td>\n      <td>https://maps.gstatic.com/mapfiles/place_api/ic...</td>\n      <td>ChIJ5x94l7wZ2jERxAkDWrexRDk</td>\n      <td>2</td>\n      <td>1.29972</td>\n      <td>103.849795</td>\n      <td>Sun11:00 AM - 02:00 AM,Mon11:00 AM - 02:00 AM,...</td>\n      <td>NaN</td>\n      <td>...</td>\n      <td>0</td>\n      <td>0</td>\n      <td>0</td>\n      <td>0</td>\n      <td>0</td>\n      <td>0</td>\n      <td>0</td>\n      <td>0</td>\n      <td>0</td>\n      <td>0</td>\n    </tr>\n    <tr>\n      <th>9</th>\n      <td>Paulaner Bräuhaus Singapore</td>\n      <td>9 Raffles Boulevard Millenia Walk #01-01 Mille...</td>\n      <td>9 Raffles Boulevard, #01-01, Millenia Walk, Si...</td>\n      <td>https://maps.gstatic.com/mapfiles/place_api/ic...</td>\n      <td>ChIJCUEDxqgZ2jERLoWQ7ycLoQ8</td>\n      <td>2</td>\n      <td>1.293077</td>\n      <td>103.858287</td>\n      <td>Sun11:00 AM - 12:00 AM,Mon11:00 AM - 12:00 AM,...</td>\n      <td>NaN</td>\n      <td>...</td>\n      <td>0</td>\n      <td>0</td>\n      <td>0</td>\n      <td>0</td>\n      <td>0</td>\n      <td>0</td>\n      <td>0</td>\n      <td>0</td>\n      <td>0</td>\n      <td>0</td>\n    </tr>\n    <tr>\n      <th>10</th>\n      <td>Waterfall Ristorante Italiano</td>\n      <td>22 Orange Grove Road Shangri-La Hotel Garden W...</td>\n      <td>22 Orange Grove Rd, Level One, Garden Wing, Si...</td>\n      <td>https://maps.gstatic.com/mapfiles/place_api/ic...</td>\n      <td>ChIJEU6YevQZ2jER4gbYl-0KQss</td>\n      <td>3</td>\n      <td>1.31178</td>\n      <td>103.826165</td>\n      <td>Sun12:00 PM - 2:30 PM6:00 PM - 10:00 PM,Mon12:...</td>\n      <td>NaN</td>\n      <td>...</td>\n      <td>0</td>\n      <td>0</td>\n      <td>0</td>\n      <td>0</td>\n      <td>0</td>\n      <td>0</td>\n      <td>0</td>\n      <td>0</td>\n      <td>0</td>\n      <td>0</td>\n    </tr>\n    <tr>\n      <th>11</th>\n      <td>Jade</td>\n      <td>1 Fullerton Square Fullerton Hotel The Fullert...</td>\n      <td>1 Fullerton Square, Singapore 049178</td>\n      <td>https://maps.gstatic.com/mapfiles/place_api/ic...</td>\n      <td>ChIJbxecDwkZ2jER0yu4AVyCuK0</td>\n      <td>nil</td>\n      <td>1.286448</td>\n      <td>103.853237</td>\n      <td>Sun11:30 AM - 1:00 PM1:30 PM - 3:00 PM6:30 PM ...</td>\n      <td>nil</td>\n      <td>...</td>\n      <td>0</td>\n      <td>0</td>\n      <td>0</td>\n      <td>0</td>\n      <td>0</td>\n      <td>0</td>\n      <td>0</td>\n      <td>0</td>\n      <td>0</td>\n      <td>0</td>\n    </tr>\n    <tr>\n      <th>12</th>\n      <td>L'eclair Patisserie</td>\n      <td>78 Airport Boulevard 01-235 Jewel Changi Airpo...</td>\n      <td>78 Airport Boulevard 01, #235, Singapore 819666</td>\n      <td>https://maps.gstatic.com/mapfiles/place_api/ic...</td>\n      <td>ChIJi4FZgx492jERofzb26AVA3U</td>\n      <td>nil</td>\n      <td>1.360391</td>\n      <td>103.989642</td>\n      <td>Sun09:00 AM - 11:00 PM,Mon09:00 AM - 11:00 PM,...</td>\n      <td>NaN</td>\n      <td>...</td>\n      <td>0</td>\n      <td>0</td>\n      <td>0</td>\n      <td>0</td>\n      <td>0</td>\n      <td>0</td>\n      <td>0</td>\n      <td>0</td>\n      <td>0</td>\n      <td>0</td>\n    </tr>\n    <tr>\n      <th>13</th>\n      <td>Josephine - French Cuisine &amp;amp; Wine Bar</td>\n      <td>97 Amoy Street, Singapore 069917 Singapore</td>\n      <td>97 Amoy St, Singapore 069917</td>\n      <td>https://maps.gstatic.com/mapfiles/place_api/ic...</td>\n      <td>ChIJCUwhhHIZ2jERXb0jHir4N6Y</td>\n      <td>nil</td>\n      <td>1.281353</td>\n      <td>103.847259</td>\n      <td>Mon11:45 AM - 2:00 PM6:00 PM - 10:30 PM,Tue11:...</td>\n      <td>nil</td>\n      <td>...</td>\n      <td>0</td>\n      <td>0</td>\n      <td>0</td>\n      <td>0</td>\n      <td>0</td>\n      <td>0</td>\n      <td>0</td>\n      <td>0</td>\n      <td>0</td>\n      <td>0</td>\n    </tr>\n    <tr>\n      <th>14</th>\n      <td>Positano Risto</td>\n      <td>66 Bussorah Street, Singapore 199479 Singapore</td>\n      <td>66 Bussorah St, Singapore 199479</td>\n      <td>https://maps.gstatic.com/mapfiles/place_api/ic...</td>\n      <td>ChIJKeStBbEZ2jERHH8jl7CCHjs</td>\n      <td>2</td>\n      <td>1.301066</td>\n      <td>103.859863</td>\n      <td>Sun11:30 AM - 9:30 PM,Mon11:30 AM - 9:30 PM,Tu...</td>\n      <td>nil</td>\n      <td>...</td>\n      <td>0</td>\n      <td>0</td>\n      <td>0</td>\n      <td>0</td>\n      <td>1</td>\n      <td>0</td>\n      <td>0</td>\n      <td>0</td>\n      <td>0</td>\n      <td>0</td>\n    </tr>\n    <tr>\n      <th>15</th>\n      <td>NOX - Dine In The Dark</td>\n      <td>83 Club Street, Singapore 199546 Singapore</td>\n      <td>83 Club St, Singapore 069451</td>\n      <td>https://maps.gstatic.com/mapfiles/place_api/ic...</td>\n      <td>ChIJ8aeYp7EZ2jER1_QRLriAt_E</td>\n      <td>3</td>\n      <td>1.281828</td>\n      <td>103.845837</td>\n      <td>Sun6:00 PM - 12:00 AM,Tue6:00 PM - 12:00 AM,We...</td>\n      <td>NaN</td>\n      <td>...</td>\n      <td>0</td>\n      <td>1</td>\n      <td>0</td>\n      <td>0</td>\n      <td>0</td>\n      <td>0</td>\n      <td>0</td>\n      <td>0</td>\n      <td>0</td>\n      <td>0</td>\n    </tr>\n    <tr>\n      <th>16</th>\n      <td>Hua Ting Restaurant</td>\n      <td>442 Orchard Road Orchard Hotel Singapore Level...</td>\n      <td>Orchard Hotel Singapore, Level 2, 442 Orchard ...</td>\n      <td>https://maps.gstatic.com/mapfiles/place_api/ic...</td>\n      <td>ChIJxVQqvIwZ2jER4WhnK5h7S0g</td>\n      <td>nil</td>\n      <td>1.307314</td>\n      <td>103.82891</td>\n      <td>Sun11:00 AM - 2:30 PM6:00 PM - 10:00 PM,Mon11:...</td>\n      <td>nil</td>\n      <td>...</td>\n      <td>0</td>\n      <td>0</td>\n      <td>0</td>\n      <td>0</td>\n      <td>0</td>\n      <td>0</td>\n      <td>0</td>\n      <td>0</td>\n      <td>0</td>\n      <td>0</td>\n    </tr>\n    <tr>\n      <th>17</th>\n      <td>Whitegrass</td>\n      <td>30 Victoria Street #01-26 Chijmes, Singapore 1...</td>\n      <td>30 Victoria St, #01-26/27 CHIJMES, Singapore 1...</td>\n      <td>https://maps.gstatic.com/mapfiles/place_api/ic...</td>\n      <td>ChIJkZFsaaQZ2jERNwIpeScG3vM</td>\n      <td>nil</td>\n      <td>1.295557</td>\n      <td>103.851949</td>\n      <td>Tue12:00 PM - 2:30 PM6:00 PM - 10:30 PM,Wed12:...</td>\n      <td>nil</td>\n      <td>...</td>\n      <td>0</td>\n      <td>1</td>\n      <td>0</td>\n      <td>0</td>\n      <td>0</td>\n      <td>0</td>\n      <td>0</td>\n      <td>0</td>\n      <td>0</td>\n      <td>0</td>\n    </tr>\n    <tr>\n      <th>18</th>\n      <td>Chef's Table by Chef Stephan Zoisl</td>\n      <td>61 Tras Street, Singapore 079000 Singapore</td>\n      <td>61 Tras St, Singapore 079000</td>\n      <td>https://maps.gstatic.com/mapfiles/place_api/ic...</td>\n      <td>ChIJ63aALm0Z2jERphNXNlGRGRk</td>\n      <td>4</td>\n      <td>1.277826</td>\n      <td>103.844444</td>\n      <td>Tue6:00 PM - 12:00 AM,Wed6:00 PM - 12:00 AM,Th...</td>\n      <td>NaN</td>\n      <td>...</td>\n      <td>0</td>\n      <td>0</td>\n      <td>0</td>\n      <td>0</td>\n      <td>0</td>\n      <td>0</td>\n      <td>0</td>\n      <td>0</td>\n      <td>0</td>\n      <td>0</td>\n    </tr>\n    <tr>\n      <th>19</th>\n      <td>Fat Belly Social Steakhouse</td>\n      <td>10 Jalan Serene #01-04 Serene Centre, Singapor...</td>\n      <td>10 Jalan Serene, #01-04 Serene Centre, Singapo...</td>\n      <td>https://maps.gstatic.com/mapfiles/place_api/ic...</td>\n      <td>ChIJYWYikAYa2jER6ugFpTiBKWA</td>\n      <td>nil</td>\n      <td>1.322539</td>\n      <td>103.813641</td>\n      <td>Mon11:30 AM - 3:30 PM5:30 PM - 10:30 PM,Tue11:...</td>\n      <td>NaN</td>\n      <td>...</td>\n      <td>0</td>\n      <td>0</td>\n      <td>0</td>\n      <td>0</td>\n      <td>0</td>\n      <td>0</td>\n      <td>0</td>\n      <td>0</td>\n      <td>0</td>\n      <td>0</td>\n    </tr>\n    <tr>\n      <th>20</th>\n      <td>Colony</td>\n      <td>7 Raffles Avenue Ritz Carlton Millenia Singapo...</td>\n      <td>Marina Bay 7, Raffles Ave, Singapore 039799</td>\n      <td>https://maps.gstatic.com/mapfiles/place_api/ic...</td>\n      <td>ChIJOek7q6kZ2jERX8_FX0BTcq4</td>\n      <td>4</td>\n      <td>1.290969</td>\n      <td>103.860121</td>\n      <td>Sun12:00 PM - 3:30 PM6:30 PM - 10:30 PM,Mon12:...</td>\n      <td>nil</td>\n      <td>...</td>\n      <td>0</td>\n      <td>0</td>\n      <td>0</td>\n      <td>0</td>\n      <td>0</td>\n      <td>0</td>\n      <td>0</td>\n      <td>0</td>\n      <td>0</td>\n      <td>0</td>\n    </tr>\n    <tr>\n      <th>21</th>\n      <td>Merci Marcel Club Street</td>\n      <td>9 Club Street, Singapore 069404 Singapore</td>\n      <td>7-9 Club St, Singapore 069403</td>\n      <td>https://maps.gstatic.com/mapfiles/place_api/ic...</td>\n      <td>ChIJoQvLtqkZ2jERKOVZn48aivQ</td>\n      <td>2</td>\n      <td>1.282643</td>\n      <td>103.847148</td>\n      <td>Sun08:00 AM - 11:00 PM,Mon08:00 AM - 12:00 AM,...</td>\n      <td>nil</td>\n      <td>...</td>\n      <td>0</td>\n      <td>0</td>\n      <td>0</td>\n      <td>0</td>\n      <td>0</td>\n      <td>0</td>\n      <td>0</td>\n      <td>0</td>\n      <td>0</td>\n      <td>0</td>\n    </tr>\n    <tr>\n      <th>22</th>\n      <td>Shivam Restaurant</td>\n      <td>87 Syed Alwi Road, Singapore 207666 Singapore</td>\n      <td>87 Syed Alwi Rd, Singapore 207666</td>\n      <td>https://maps.gstatic.com/mapfiles/place_api/ic...</td>\n      <td>ChIJPfjbc7cZ2jER0DKTgILx6wc</td>\n      <td>2</td>\n      <td>1.309274</td>\n      <td>103.855807</td>\n      <td>Sun11:30 AM - 11:30 PM,Mon11:30 AM - 11:30 PM,...</td>\n      <td>NaN</td>\n      <td>...</td>\n      <td>0</td>\n      <td>0</td>\n      <td>0</td>\n      <td>0</td>\n      <td>0</td>\n      <td>0</td>\n      <td>0</td>\n      <td>0</td>\n      <td>0</td>\n      <td>0</td>\n    </tr>\n    <tr>\n      <th>23</th>\n      <td>Origin Grill</td>\n      <td>22 Orange Grove Road Shangri-La Hotel Tower Wi...</td>\n      <td>Lobby Level, Tower Wing, 22 Orange Grove Rd, S...</td>\n      <td>https://maps.gstatic.com/mapfiles/place_api/ic...</td>\n      <td>ChIJs26DmU492jERqUtnkbcZCn0</td>\n      <td>nil</td>\n      <td>1.311275</td>\n      <td>103.826517</td>\n      <td>Sun12:00 PM - 2:30 PM6:00 PM - 10:00 PM,Tue12:...</td>\n      <td>nil</td>\n      <td>...</td>\n      <td>0</td>\n      <td>1</td>\n      <td>0</td>\n      <td>0</td>\n      <td>0</td>\n      <td>0</td>\n      <td>0</td>\n      <td>0</td>\n      <td>0</td>\n      <td>0</td>\n    </tr>\n    <tr>\n      <th>24</th>\n      <td>The Rose Veranda</td>\n      <td>22 Orange Grove Road, Shangri-La Hotel Tower W...</td>\n      <td>22 Orange Grove Rd, Singapore 258350</td>\n      <td>https://maps.gstatic.com/mapfiles/place_api/ic...</td>\n      <td>ChIJU1wHcvQZ2jERfioEYbHr9tI</td>\n      <td>nil</td>\n      <td>1.311131</td>\n      <td>103.826544</td>\n      <td>Sun1:00 PM - 5:00 PM,Mon1:00 PM - 5:00 PM,Tue1...</td>\n      <td>NaN</td>\n      <td>...</td>\n      <td>0</td>\n      <td>0</td>\n      <td>0</td>\n      <td>0</td>\n      <td>0</td>\n      <td>0</td>\n      <td>0</td>\n      <td>0</td>\n      <td>0</td>\n      <td>0</td>\n    </tr>\n    <tr>\n      <th>25</th>\n      <td>Summer Pavilion</td>\n      <td>7 Raffles Avenue Ritz Carlton Millenia Singapo...</td>\n      <td>7 Raffles Ave, Singapore 039799</td>\n      <td>https://maps.gstatic.com/mapfiles/place_api/ic...</td>\n      <td>ChIJhyAGsKkZ2jERMy2EGAnyv4k</td>\n      <td>4</td>\n      <td>1.290601</td>\n      <td>103.860303</td>\n      <td>Sun11:30 AM - 2:30 PM6:30 PM - 10:30 PM,Mon11:...</td>\n      <td>nil</td>\n      <td>...</td>\n      <td>0</td>\n      <td>0</td>\n      <td>0</td>\n      <td>0</td>\n      <td>0</td>\n      <td>0</td>\n      <td>0</td>\n      <td>0</td>\n      <td>0</td>\n      <td>0</td>\n    </tr>\n    <tr>\n      <th>26</th>\n      <td>Dolce Vita</td>\n      <td>5 Raffles Avenue, Marina Square, Singapore 039...</td>\n      <td>5 Raffles Ave, Singapore 039797</td>\n      <td>https://maps.gstatic.com/mapfiles/place_api/ic...</td>\n      <td>ChIJga9oQqgZ2jERl7a7lid-Sic</td>\n      <td>nil</td>\n      <td>1.290691</td>\n      <td>103.858311</td>\n      <td>Sun12:00 PM - 2:30 PM6:30 PM - 10:30 PM,Thu12:...</td>\n      <td>nil</td>\n      <td>...</td>\n      <td>0</td>\n      <td>0</td>\n      <td>0</td>\n      <td>0</td>\n      <td>0</td>\n      <td>0</td>\n      <td>0</td>\n      <td>0</td>\n      <td>0</td>\n      <td>0</td>\n    </tr>\n    <tr>\n      <th>27</th>\n      <td>Song Garden</td>\n      <td>122 Middle Road Mercure Singapore Bugis Level ...</td>\n      <td>122 Middle Rd, Level 2 Mercure Singapore Bugis...</td>\n      <td>https://maps.gstatic.com/mapfiles/place_api/ic...</td>\n      <td>ChIJ1fPtGLsZ2jERR3xFklcSFZo</td>\n      <td>nil</td>\n      <td>1.299505</td>\n      <td>103.853235</td>\n      <td>Sun10:00 AM - 10:00 PM,Mon11:30 AM - 10:00 PM,...</td>\n      <td>nil</td>\n      <td>...</td>\n      <td>0</td>\n      <td>0</td>\n      <td>0</td>\n      <td>0</td>\n      <td>0</td>\n      <td>0</td>\n      <td>0</td>\n      <td>0</td>\n      <td>0</td>\n      <td>0</td>\n    </tr>\n    <tr>\n      <th>28</th>\n      <td>Cherry Garden</td>\n      <td>5 Raffles Avenue, Marina Square, Singapore 039...</td>\n      <td>5 Raffles Ave, Singapore 039797</td>\n      <td>https://maps.gstatic.com/mapfiles/place_api/ic...</td>\n      <td>ChIJ8wanXKgZ2jERg2Arsgtf_W8</td>\n      <td>3</td>\n      <td>1.290691</td>\n      <td>103.858311</td>\n      <td>Sun11:00 AM - 3:30 PM6:30 PM - 10:00 PM,Wed12:...</td>\n      <td>NaN</td>\n      <td>...</td>\n      <td>0</td>\n      <td>0</td>\n      <td>0</td>\n      <td>0</td>\n      <td>0</td>\n      <td>0</td>\n      <td>0</td>\n      <td>0</td>\n      <td>0</td>\n      <td>0</td>\n    </tr>\n    <tr>\n      <th>29</th>\n      <td>Beast &amp;amp; Butterflies</td>\n      <td>90 Robertson Quay, Singapore 238259 Singapore</td>\n      <td>90 Robertson Quay, Level 1, Singapore 238259</td>\n      <td>https://maps.gstatic.com/mapfiles/place_api/ic...</td>\n      <td>ChIJhSuAtp0Z2jERRY1btLdoTjY</td>\n      <td>2</td>\n      <td>1.290291</td>\n      <td>103.836866</td>\n      <td>Sun06:30 AM - 11:00 PM,Mon06:30 AM - 11:00 PM,...</td>\n      <td>NaN</td>\n      <td>...</td>\n      <td>0</td>\n      <td>1</td>\n      <td>0</td>\n      <td>0</td>\n      <td>0</td>\n      <td>0</td>\n      <td>0</td>\n      <td>0</td>\n      <td>0</td>\n      <td>0</td>\n    </tr>\n    <tr>\n      <th>30</th>\n      <td>Rakuya</td>\n      <td>89 East Coast Road, Singapore 428790 Singapore</td>\n      <td>89 E Coast Rd, Singapore 428790</td>\n      <td>https://maps.gstatic.com/mapfiles/place_api/ic...</td>\n      <td>ChIJPXtljHIY2jERgNQ6bVcXRO0</td>\n      <td>nil</td>\n      <td>1.305547</td>\n      <td>103.904034</td>\n      <td>Sun12:00 PM - 3:00 PM6:00 PM - 9:30 PM,Tue12:0...</td>\n      <td>NaN</td>\n      <td>...</td>\n      <td>0</td>\n      <td>0</td>\n      <td>0</td>\n      <td>0</td>\n      <td>0</td>\n      <td>0</td>\n      <td>0</td>\n      <td>0</td>\n      <td>0</td>\n      <td>1</td>\n    </tr>\n    <tr>\n      <th>31</th>\n      <td>Oscar's</td>\n      <td>2 Temasek Boulevard Conrad Centennial, Lobby L...</td>\n      <td>2 Temasek Blvd, Singapore 038982</td>\n      <td>https://maps.gstatic.com/mapfiles/place_api/ic...</td>\n      <td>ChIJ_Zat1qgZ2jERbyeeG2c6SLs</td>\n      <td>3</td>\n      <td>1.293347</td>\n      <td>103.858475</td>\n      <td>Sun07:00 AM - 10:30 PM,Mon07:00 AM - 10:30 PM,...</td>\n      <td>nil</td>\n      <td>...</td>\n      <td>0</td>\n      <td>0</td>\n      <td>0</td>\n      <td>0</td>\n      <td>0</td>\n      <td>0</td>\n      <td>0</td>\n      <td>0</td>\n      <td>0</td>\n      <td>0</td>\n    </tr>\n    <tr>\n      <th>32</th>\n      <td>Fu Lin Men Chinese Restaurant (SRC)</td>\n      <td>B Connaught Drive, S179682 Level 2, Singapore ...</td>\n      <td>Level 2, B, Connaught Dr, Singapore Recreation...</td>\n      <td>https://maps.gstatic.com/mapfiles/place_api/ic...</td>\n      <td>ChIJm0ulHbEZ2jERaNCMryFrS0k</td>\n      <td>nil</td>\n      <td>1.29207</td>\n      <td>103.853765</td>\n      <td>Sun11:30 AM - 3:00 PM5:30 PM - 10:00 PM,Mon11:...</td>\n      <td>NaN</td>\n      <td>...</td>\n      <td>0</td>\n      <td>0</td>\n      <td>0</td>\n      <td>0</td>\n      <td>0</td>\n      <td>0</td>\n      <td>0</td>\n      <td>0</td>\n      <td>0</td>\n      <td>0</td>\n    </tr>\n    <tr>\n      <th>33</th>\n      <td>Lobby Lounge at Conrad Centennial Singapore</td>\n      <td>2 Temasek Boulevard Conrad Centennial Singapor...</td>\n      <td>2 Temasek Blvd, Singapore 038982</td>\n      <td>https://maps.gstatic.com/mapfiles/place_api/ic...</td>\n      <td>ChIJAerAzagZ2jER4rj-LQwB3vw</td>\n      <td>nil</td>\n      <td>1.293507</td>\n      <td>103.858799</td>\n      <td>Sun11:00 AM - 10:30 PM,Mon08:00 AM - 10:30 PM,...</td>\n      <td>NaN</td>\n      <td>...</td>\n      <td>0</td>\n      <td>0</td>\n      <td>0</td>\n      <td>0</td>\n      <td>0</td>\n      <td>0</td>\n      <td>0</td>\n      <td>0</td>\n      <td>0</td>\n      <td>0</td>\n    </tr>\n    <tr>\n      <th>34</th>\n      <td>Fat Belly</td>\n      <td>10 Jalan Serene Serene Centre Serence Centre #...</td>\n      <td>10 Jalan Serene, #01-04 Serene Centre, Singapo...</td>\n      <td>https://maps.gstatic.com/mapfiles/place_api/ic...</td>\n      <td>ChIJYWYikAYa2jER6ugFpTiBKWA</td>\n      <td>nil</td>\n      <td>1.322539</td>\n      <td>103.813641</td>\n      <td>Sun6:00 PM - 10:00 PM,Mon6:00 PM - 10:00 PM,Tu...</td>\n      <td>NaN</td>\n      <td>...</td>\n      <td>0</td>\n      <td>0</td>\n      <td>0</td>\n      <td>0</td>\n      <td>0</td>\n      <td>0</td>\n      <td>0</td>\n      <td>0</td>\n      <td>0</td>\n      <td>0</td>\n    </tr>\n    <tr>\n      <th>35</th>\n      <td>Fu Lin Men Cantonese Dining</td>\n      <td>21 Amber Road Chinese Swimming Club, Singapore...</td>\n      <td>21 Amber Rd, Level 3 Chinese Swimming Club, Si...</td>\n      <td>https://maps.gstatic.com/mapfiles/place_api/ic...</td>\n      <td>ChIJccMpsG8Y2jERDrHgEq3LsR8</td>\n      <td>2</td>\n      <td>1.300009</td>\n      <td>103.900627</td>\n      <td>Sun10:30 AM - 3:00 PM5:30 PM - 10:00 PM,Mon11:...</td>\n      <td>nil</td>\n      <td>...</td>\n      <td>0</td>\n      <td>0</td>\n      <td>0</td>\n      <td>0</td>\n      <td>0</td>\n      <td>0</td>\n      <td>0</td>\n      <td>0</td>\n      <td>0</td>\n      <td>0</td>\n    </tr>\n    <tr>\n      <th>36</th>\n      <td>Katachi Style Sushi</td>\n      <td>15 Stamford Road The Capitol Kempinski Hotel S...</td>\n      <td>150 Orchard Rd, #01-49 Orchard Plaza, Singapor...</td>\n      <td>https://maps.gstatic.com/mapfiles/place_api/ic...</td>\n      <td>ChIJ4-3cN98Z2jERxoxkt_0xrwI</td>\n      <td>nil</td>\n      <td>1.300939</td>\n      <td>103.841071</td>\n      <td>Sun12:00 PM - 2:30 PM6:00 PM - 10:00 PM,Mon12:...</td>\n      <td>NaN</td>\n      <td>...</td>\n      <td>0</td>\n      <td>0</td>\n      <td>0</td>\n      <td>0</td>\n      <td>0</td>\n      <td>0</td>\n      <td>1</td>\n      <td>0</td>\n      <td>0</td>\n      <td>1</td>\n    </tr>\n    <tr>\n      <th>37</th>\n      <td>Ginett Restaurant &amp;amp; Wine Bar</td>\n      <td>200 Middle Road Hotel G Singapore, Singapore 1...</td>\n      <td>200 Middle Rd, Singapore 188980</td>\n      <td>https://maps.gstatic.com/mapfiles/place_api/ic...</td>\n      <td>ChIJo8sHeLsZ2jER1W6pSc4QhF8</td>\n      <td>2</td>\n      <td>1.300848</td>\n      <td>103.851367</td>\n      <td>Sun11:30 AM - 10:30 PM,Mon11:30 AM - 10:30 PM,...</td>\n      <td>nil</td>\n      <td>...</td>\n      <td>0</td>\n      <td>0</td>\n      <td>0</td>\n      <td>0</td>\n      <td>0</td>\n      <td>0</td>\n      <td>0</td>\n      <td>0</td>\n      <td>0</td>\n      <td>0</td>\n    </tr>\n    <tr>\n      <th>38</th>\n      <td>Melt Café</td>\n      <td>5 Raffles Avenue, Marina Square, Singapore 039...</td>\n      <td>5 Raffles Ave, Singapore 039797</td>\n      <td>https://maps.gstatic.com/mapfiles/place_api/ic...</td>\n      <td>ChIJg1yrXKgZ2jERbtsHxqxZ2NU</td>\n      <td>nil</td>\n      <td>1.290736</td>\n      <td>103.858309</td>\n      <td>Sun07:30 AM - 10:30 AM12:00 PM - 2:30 PM6:30 P...</td>\n      <td>nil</td>\n      <td>...</td>\n      <td>0</td>\n      <td>0</td>\n      <td>0</td>\n      <td>0</td>\n      <td>0</td>\n      <td>0</td>\n      <td>0</td>\n      <td>0</td>\n      <td>0</td>\n      <td>0</td>\n    </tr>\n    <tr>\n      <th>39</th>\n      <td>Akira Back</td>\n      <td>30 Beach Road, Access via Nicoll Highway JW Ma...</td>\n      <td>30 Beach Road, Level B1M, Singapore 189763</td>\n      <td>https://maps.gstatic.com/mapfiles/place_api/ic...</td>\n      <td>ChIJgblG8aUZ2jERmfcAyI29IEc</td>\n      <td>2</td>\n      <td>1.294462</td>\n      <td>103.855912</td>\n      <td>Sun12:00 PM - 2:30 PM6:00 PM - 10:00 PM,Mon12:...</td>\n      <td>NaN</td>\n      <td>...</td>\n      <td>0</td>\n      <td>0</td>\n      <td>0</td>\n      <td>0</td>\n      <td>0</td>\n      <td>0</td>\n      <td>0</td>\n      <td>0</td>\n      <td>0</td>\n      <td>0</td>\n    </tr>\n    <tr>\n      <th>40</th>\n      <td>Cut by Wolfgang Puck</td>\n      <td>2 Bayfront Avenue Marina Bay Sands The Shoppes...</td>\n      <td>2 Bayfront Ave, B1 - 71, Singapore 018972</td>\n      <td>https://maps.gstatic.com/mapfiles/place_api/ic...</td>\n      <td>ChIJnWdQKQQZ2jERxH3g-HsHchE</td>\n      <td>4</td>\n      <td>1.285284</td>\n      <td>103.85957</td>\n      <td>Sun5:00 PM - 10:00 PM,Mon5:00 PM - 10:00 PM,Tu...</td>\n      <td>nil</td>\n      <td>...</td>\n      <td>0</td>\n      <td>0</td>\n      <td>0</td>\n      <td>0</td>\n      <td>0</td>\n      <td>0</td>\n      <td>0</td>\n      <td>0</td>\n      <td>0</td>\n      <td>0</td>\n    </tr>\n    <tr>\n      <th>41</th>\n      <td>Fu Lin Men (NSRCC)</td>\n      <td>10 Changi Coast Walk Level 1 National Service ...</td>\n      <td>10 Changi Coast Walk, Level 1 National Service...</td>\n      <td>https://maps.gstatic.com/mapfiles/place_api/ic...</td>\n      <td>ChIJ7e7PY_0j2jERTI4n-bRv4O0</td>\n      <td>nil</td>\n      <td>1.318575</td>\n      <td>103.973973</td>\n      <td>Sun10:00 AM - 3:00 PM5:30 PM - 10:30 PM,Mon11:...</td>\n      <td>NaN</td>\n      <td>...</td>\n      <td>0</td>\n      <td>0</td>\n      <td>0</td>\n      <td>0</td>\n      <td>0</td>\n      <td>0</td>\n      <td>1</td>\n      <td>0</td>\n      <td>0</td>\n      <td>0</td>\n    </tr>\n    <tr>\n      <th>42</th>\n      <td>MTR Singapore</td>\n      <td>438 Serangoon Road Opposite Sri Srinivasa Peru...</td>\n      <td>440 Serangoon Rd, Singapore 218134</td>\n      <td>https://maps.gstatic.com/mapfiles/place_api/ic...</td>\n      <td>ChIJRR8bWM8Z2jER8ml0qU8UFeE</td>\n      <td>nil</td>\n      <td>1.313017</td>\n      <td>103.856523</td>\n      <td>Sun08:30 AM - 3:30 PM5:30 PM - 10:00 PM,Tue08:...</td>\n      <td>NaN</td>\n      <td>...</td>\n      <td>0</td>\n      <td>0</td>\n      <td>0</td>\n      <td>0</td>\n      <td>0</td>\n      <td>0</td>\n      <td>0</td>\n      <td>0</td>\n      <td>0</td>\n      <td>0</td>\n    </tr>\n    <tr>\n      <th>43</th>\n      <td>Merci Marcel Orchard</td>\n      <td>390 Orchard Road Palais Renaissance 01-03 to 0...</td>\n      <td>390 Orchard Road, 01-03 Palais Renaissance, Si...</td>\n      <td>https://maps.gstatic.com/mapfiles/place_api/ic...</td>\n      <td>ChIJuTpnZVQZ2jEReDI4VP2u_w0</td>\n      <td>nil</td>\n      <td>1.306578</td>\n      <td>103.829612</td>\n      <td>Sun08:30 AM - 11:00 PM,Mon08:00 AM - 12:00 AM,...</td>\n      <td>nil</td>\n      <td>...</td>\n      <td>0</td>\n      <td>0</td>\n      <td>0</td>\n      <td>0</td>\n      <td>0</td>\n      <td>0</td>\n      <td>0</td>\n      <td>0</td>\n      <td>0</td>\n      <td>0</td>\n    </tr>\n    <tr>\n      <th>44</th>\n      <td>Madame Fan</td>\n      <td>32 Beach Road The South Beach Level 2, The NCO...</td>\n      <td>32 Beach Rd, The NCO Club, Singapore 189764</td>\n      <td>https://maps.gstatic.com/mapfiles/place_api/ic...</td>\n      <td>ChIJP8or5qUZ2jERZ3_i5oUkfb0</td>\n      <td>nil</td>\n      <td>1.294157</td>\n      <td>103.855118</td>\n      <td>Sun11:00 AM - 3:30 PM6:00 PM - 10:00 PM,Mon12:...</td>\n      <td>nil</td>\n      <td>...</td>\n      <td>0</td>\n      <td>0</td>\n      <td>0</td>\n      <td>0</td>\n      <td>0</td>\n      <td>0</td>\n      <td>0</td>\n      <td>0</td>\n      <td>0</td>\n      <td>0</td>\n    </tr>\n    <tr>\n      <th>45</th>\n      <td>Publico Ristorante</td>\n      <td>1 Nanson Road Intercontinental Singapore Rober...</td>\n      <td>1 Nanson Rd, Singapore 238909</td>\n      <td>https://maps.gstatic.com/mapfiles/place_api/ic...</td>\n      <td>ChIJlc7j350Z2jEReV1IVnbJCxc</td>\n      <td>2</td>\n      <td>1.289817</td>\n      <td>103.838565</td>\n      <td>Sun08:30 AM - 10:30 PM,Mon12:00 PM - 11:00 PM,...</td>\n      <td>NaN</td>\n      <td>...</td>\n      <td>0</td>\n      <td>0</td>\n      <td>0</td>\n      <td>0</td>\n      <td>1</td>\n      <td>0</td>\n      <td>0</td>\n      <td>0</td>\n      <td>0</td>\n      <td>0</td>\n    </tr>\n    <tr>\n      <th>46</th>\n      <td>Bar Square</td>\n      <td>5 Fraser Street Andaz Singapore, Singapore 189...</td>\n      <td>5 Fraser St, Singapore 189352</td>\n      <td>https://maps.gstatic.com/mapfiles/place_api/ic...</td>\n      <td>ChIJT3NEg-YZ2jERw0YGsLwpfgI</td>\n      <td>nil</td>\n      <td>1.299211</td>\n      <td>103.857725</td>\n      <td>Sun12:00 PM - 10:30 PM,Mon12:00 PM - 10:30 PM,...</td>\n      <td>NaN</td>\n      <td>...</td>\n      <td>0</td>\n      <td>0</td>\n      <td>0</td>\n      <td>0</td>\n      <td>0</td>\n      <td>1</td>\n      <td>0</td>\n      <td>0</td>\n      <td>0</td>\n      <td>0</td>\n    </tr>\n    <tr>\n      <th>47</th>\n      <td>25 Degrees</td>\n      <td>200 Middle Road Hotel G Singapore Ground Floor...</td>\n      <td>200 Middle Rd, Hotel G, Singapore 188980</td>\n      <td>https://maps.gstatic.com/mapfiles/place_api/ic...</td>\n      <td>ChIJo8sHeLsZ2jERKlcjoHg3VnY</td>\n      <td>2</td>\n      <td>1.300737</td>\n      <td>103.851613</td>\n      <td>Sun08:30 AM - 10:30 PM,Mon08:30 AM - 10:30 PM,...</td>\n      <td>NaN</td>\n      <td>...</td>\n      <td>0</td>\n      <td>0</td>\n      <td>0</td>\n      <td>0</td>\n      <td>0</td>\n      <td>0</td>\n      <td>0</td>\n      <td>0</td>\n      <td>0</td>\n      <td>0</td>\n    </tr>\n    <tr>\n      <th>48</th>\n      <td>Meta Restaurant</td>\n      <td>1 Keong Saik Road, Singapore 089109 Singapore</td>\n      <td>1 Keong Saik Rd., Singapore 089109</td>\n      <td>https://maps.gstatic.com/mapfiles/place_api/ic...</td>\n      <td>ChIJ6WJrhG0Z2jERFtVbDrD08jM</td>\n      <td>nil</td>\n      <td>1.279072</td>\n      <td>103.841431</td>\n      <td>Mon6:00 PM - 11:00 PM,Tue6:00 PM - 11:00 PM,We...</td>\n      <td>nil</td>\n      <td>...</td>\n      <td>0</td>\n      <td>1</td>\n      <td>0</td>\n      <td>0</td>\n      <td>0</td>\n      <td>0</td>\n      <td>0</td>\n      <td>0</td>\n      <td>0</td>\n      <td>0</td>\n    </tr>\n    <tr>\n      <th>49</th>\n      <td>Spago Dining Room by Wolfgang Puck</td>\n      <td>10 Bay Front Avenue Marina Bay Resort, Sands S...</td>\n      <td>10 Bayfront Avenue L57, Sands SkyPark, Hotel, ...</td>\n      <td>https://maps.gstatic.com/mapfiles/place_api/ic...</td>\n      <td>ChIJ8dGY8gYZ2jERVd0Lk3OwpIs</td>\n      <td>4</td>\n      <td>1.283203</td>\n      <td>103.860505</td>\n      <td>Sun12:00 PM - 2:30 PM6:00 PM - 11:00 PM,Mon12:...</td>\n      <td>nil</td>\n      <td>...</td>\n      <td>0</td>\n      <td>0</td>\n      <td>0</td>\n      <td>0</td>\n      <td>0</td>\n      <td>0</td>\n      <td>0</td>\n      <td>0</td>\n      <td>0</td>\n      <td>0</td>\n    </tr>\n  </tbody>\n</table>\n<p>50 rows × 52 columns</p>\n</div>"
     },
     "execution_count": 43,
     "metadata": {},
     "output_type": "execute_result"
    }
   ],
   "source": [
    "df.head(50)"
   ]
  },
  {
   "cell_type": "code",
   "execution_count": 45,
   "metadata": {
    "collapsed": false,
    "jupyter": {
     "outputs_hidden": false
    },
    "pycharm": {
     "name": "#%%\n"
    }
   },
   "outputs": [],
   "source": [
    "nils = df[df[\"has\"] == \"False\"]"
   ]
  },
  {
   "cell_type": "code",
   "execution_count": 46,
   "outputs": [
    {
     "data": {
      "text/plain": "0"
     },
     "execution_count": 46,
     "metadata": {},
     "output_type": "execute_result"
    }
   ],
   "source": [
    "len(nils)"
   ],
   "metadata": {
    "collapsed": false,
    "pycharm": {
     "name": "#%%\n"
    }
   }
  },
  {
   "cell_type": "code",
   "execution_count": 44,
   "metadata": {
    "collapsed": false,
    "jupyter": {
     "outputs_hidden": false
    },
    "pycharm": {
     "name": "#%%\n"
    }
   },
   "outputs": [],
   "source": [
    "df.to_csv(\"RestaurantData.csv\")"
   ]
  },
  {
   "cell_type": "code",
   "execution_count": 1,
   "metadata": {
    "pycharm": {
     "name": "#%%\n"
    }
   },
   "outputs": [],
   "source": [
    "from IPython.core.interactiveshell import InteractiveShell\n",
    "InteractiveShell.ast_node_interactivity = \"all\""
   ]
  },
  {
   "cell_type": "code",
   "execution_count": 50,
   "metadata": {
    "pycharm": {
     "name": "#%%\n"
    }
   },
   "outputs": [
    {
     "name": "stderr",
     "output_type": "stream",
     "text": [
      "IOPub data rate exceeded.\n",
      "The notebook server will temporarily stop sending output\n",
      "to the client in order to avoid crashing it.\n",
      "To change this limit, set the config variable\n",
      "`--NotebookApp.iopub_data_rate_limit`.\n",
      "\n",
      "Current values:\n",
      "NotebookApp.iopub_data_rate_limit=1000000.0 (bytes/sec)\n",
      "NotebookApp.rate_limit_window=3.0 (secs)\n",
      "\n"
     ]
    }
   ],
   "source": [
    "no_tags = []\n",
    "for idx, row in df.iterrows():\n",
    "    val = sum([row[t] for t in food_merge.keys()])\n",
    "    if val == 0:\n",
    "        no_tags.append(row)\n",
    "print(no_tags)"
   ]
  },
  {
   "cell_type": "code",
   "execution_count": 51,
   "outputs": [],
   "source": [
    "no_tags_df = pd.DataFrame(no_tags)"
   ],
   "metadata": {
    "collapsed": false,
    "pycharm": {
     "name": "#%%\n"
    }
   }
  },
  {
   "cell_type": "code",
   "execution_count": 53,
   "outputs": [
    {
     "data": {
      "text/plain": "5915"
     },
     "execution_count": 53,
     "metadata": {},
     "output_type": "execute_result"
    }
   ],
   "source": [
    "len(no_tags_df)"
   ],
   "metadata": {
    "collapsed": false,
    "pycharm": {
     "name": "#%%\n"
    }
   }
  },
  {
   "cell_type": "code",
   "execution_count": 52,
   "outputs": [
    {
     "data": {
      "text/plain": "                                      name  \\\n265                      The Auld Alliance   \n694  COCA Singapore - Leisure Park Kallang   \n732                                 Elemen   \n827    Lobby Lounge at Pan Pacific Orchard   \n890                                 Spruce   \n\n                                              location  \\\n265  09 Bras Basah Road Rendezvous Hotel Singapore ...   \n694  5 Stadium Walk Leisure Park Kallang #02-01 Lei...   \n732  10 Paya Lebar Road #03-13 Paya Lebar Quarter, ...   \n827  10 Claymore Road Pan Pacific Orchard, Singapor...   \n890  260 Upper Bukit Timah Road #01-01, Singapore 5...   \n\n                                     formatted_address  \\\n265  9 Bras Basah Rd, #02-02A Rendezvous Hotel, Sin...   \n694  5 Stadium Walk, #02-01 Leisure Park Kallang, S...   \n732  10 Paya Lebar Rd, #03-13 PLQ Mall, Singapore 4...   \n827                   96 Somerset Rd, Singapore 238163   \n890         260 Upper Bukit Timah Rd, Singapore 588190   \n\n                                                  icon  \\\n265  https://maps.gstatic.com/mapfiles/place_api/ic...   \n694  https://maps.gstatic.com/mapfiles/place_api/ic...   \n732  https://maps.gstatic.com/mapfiles/place_api/ic...   \n827  https://maps.gstatic.com/mapfiles/place_api/ic...   \n890  https://maps.gstatic.com/mapfiles/place_api/ic...   \n\n                        place_id price_level       lat         lon  \\\n265  ChIJN_vyYKQZ2jERPKNnUDZbOFc           3  1.298614  103.849054   \n694  ChIJ8RHf2U4Y2jERswaJsHDFvis           2  1.302357  103.876445   \n732  ChIJiXAiEoIZ2jERKdEua8eDjQU         nil  1.317535  103.892514   \n827  ChIJ3w_cJpEZ2jERA6SulPiZREo         nil  1.300919  103.837769   \n890  ChIJjat2ll4Q2jEREiujxi1A1G4         nil  1.349118  103.770702   \n\n                                         working_hours price_range  ...  \\\n265  Sun5:00 PM - 12:00 AM,Mon5:00 PM - 01:00 AM,Tu...         NaN  ...   \n694  Sun11:15 AM - 10:30 PM,Mon11:15 AM - 10:30 PM,...         NaN  ...   \n732                                               None         nil  ...   \n827                                               None         NaN  ...   \n890  Sun09:00 AM - 12:00 AM,Mon5:30 PM - 12:00 AM,T...         NaN  ...   \n\n    Fast food Fusion Halal Kosher Pizza Quick Bites  Seafood  Soups  \\\n265         0      0     0      0     0           0        0      0   \n694         0      0     0      0     0           0        0      0   \n732         0      0     0      0     0           0        0      0   \n827         0      0     0      0     0           0        0      0   \n890         0      0     0      0     0           0        0      0   \n\n     Street Food  Sushi  \n265            0      0  \n694            0      0  \n732            0      0  \n827            0      0  \n890            0      0  \n\n[5 rows x 52 columns]",
      "text/html": "<div>\n<style scoped>\n    .dataframe tbody tr th:only-of-type {\n        vertical-align: middle;\n    }\n\n    .dataframe tbody tr th {\n        vertical-align: top;\n    }\n\n    .dataframe thead th {\n        text-align: right;\n    }\n</style>\n<table border=\"1\" class=\"dataframe\">\n  <thead>\n    <tr style=\"text-align: right;\">\n      <th></th>\n      <th>name</th>\n      <th>location</th>\n      <th>formatted_address</th>\n      <th>icon</th>\n      <th>place_id</th>\n      <th>price_level</th>\n      <th>lat</th>\n      <th>lon</th>\n      <th>working_hours</th>\n      <th>price_range</th>\n      <th>...</th>\n      <th>Fast food</th>\n      <th>Fusion</th>\n      <th>Halal</th>\n      <th>Kosher</th>\n      <th>Pizza</th>\n      <th>Quick Bites</th>\n      <th>Seafood</th>\n      <th>Soups</th>\n      <th>Street Food</th>\n      <th>Sushi</th>\n    </tr>\n  </thead>\n  <tbody>\n    <tr>\n      <th>265</th>\n      <td>The Auld Alliance</td>\n      <td>09 Bras Basah Road Rendezvous Hotel Singapore ...</td>\n      <td>9 Bras Basah Rd, #02-02A Rendezvous Hotel, Sin...</td>\n      <td>https://maps.gstatic.com/mapfiles/place_api/ic...</td>\n      <td>ChIJN_vyYKQZ2jERPKNnUDZbOFc</td>\n      <td>3</td>\n      <td>1.298614</td>\n      <td>103.849054</td>\n      <td>Sun5:00 PM - 12:00 AM,Mon5:00 PM - 01:00 AM,Tu...</td>\n      <td>NaN</td>\n      <td>...</td>\n      <td>0</td>\n      <td>0</td>\n      <td>0</td>\n      <td>0</td>\n      <td>0</td>\n      <td>0</td>\n      <td>0</td>\n      <td>0</td>\n      <td>0</td>\n      <td>0</td>\n    </tr>\n    <tr>\n      <th>694</th>\n      <td>COCA Singapore - Leisure Park Kallang</td>\n      <td>5 Stadium Walk Leisure Park Kallang #02-01 Lei...</td>\n      <td>5 Stadium Walk, #02-01 Leisure Park Kallang, S...</td>\n      <td>https://maps.gstatic.com/mapfiles/place_api/ic...</td>\n      <td>ChIJ8RHf2U4Y2jERswaJsHDFvis</td>\n      <td>2</td>\n      <td>1.302357</td>\n      <td>103.876445</td>\n      <td>Sun11:15 AM - 10:30 PM,Mon11:15 AM - 10:30 PM,...</td>\n      <td>NaN</td>\n      <td>...</td>\n      <td>0</td>\n      <td>0</td>\n      <td>0</td>\n      <td>0</td>\n      <td>0</td>\n      <td>0</td>\n      <td>0</td>\n      <td>0</td>\n      <td>0</td>\n      <td>0</td>\n    </tr>\n    <tr>\n      <th>732</th>\n      <td>Elemen</td>\n      <td>10 Paya Lebar Road #03-13 Paya Lebar Quarter, ...</td>\n      <td>10 Paya Lebar Rd, #03-13 PLQ Mall, Singapore 4...</td>\n      <td>https://maps.gstatic.com/mapfiles/place_api/ic...</td>\n      <td>ChIJiXAiEoIZ2jERKdEua8eDjQU</td>\n      <td>nil</td>\n      <td>1.317535</td>\n      <td>103.892514</td>\n      <td>None</td>\n      <td>nil</td>\n      <td>...</td>\n      <td>0</td>\n      <td>0</td>\n      <td>0</td>\n      <td>0</td>\n      <td>0</td>\n      <td>0</td>\n      <td>0</td>\n      <td>0</td>\n      <td>0</td>\n      <td>0</td>\n    </tr>\n    <tr>\n      <th>827</th>\n      <td>Lobby Lounge at Pan Pacific Orchard</td>\n      <td>10 Claymore Road Pan Pacific Orchard, Singapor...</td>\n      <td>96 Somerset Rd, Singapore 238163</td>\n      <td>https://maps.gstatic.com/mapfiles/place_api/ic...</td>\n      <td>ChIJ3w_cJpEZ2jERA6SulPiZREo</td>\n      <td>nil</td>\n      <td>1.300919</td>\n      <td>103.837769</td>\n      <td>None</td>\n      <td>NaN</td>\n      <td>...</td>\n      <td>0</td>\n      <td>0</td>\n      <td>0</td>\n      <td>0</td>\n      <td>0</td>\n      <td>0</td>\n      <td>0</td>\n      <td>0</td>\n      <td>0</td>\n      <td>0</td>\n    </tr>\n    <tr>\n      <th>890</th>\n      <td>Spruce</td>\n      <td>260 Upper Bukit Timah Road #01-01, Singapore 5...</td>\n      <td>260 Upper Bukit Timah Rd, Singapore 588190</td>\n      <td>https://maps.gstatic.com/mapfiles/place_api/ic...</td>\n      <td>ChIJjat2ll4Q2jEREiujxi1A1G4</td>\n      <td>nil</td>\n      <td>1.349118</td>\n      <td>103.770702</td>\n      <td>Sun09:00 AM - 12:00 AM,Mon5:30 PM - 12:00 AM,T...</td>\n      <td>NaN</td>\n      <td>...</td>\n      <td>0</td>\n      <td>0</td>\n      <td>0</td>\n      <td>0</td>\n      <td>0</td>\n      <td>0</td>\n      <td>0</td>\n      <td>0</td>\n      <td>0</td>\n      <td>0</td>\n    </tr>\n  </tbody>\n</table>\n<p>5 rows × 52 columns</p>\n</div>"
     },
     "execution_count": 52,
     "metadata": {},
     "output_type": "execute_result"
    }
   ],
   "source": [
    "no_tags_df.head()"
   ],
   "metadata": {
    "collapsed": false,
    "pycharm": {
     "name": "#%%\n"
    }
   }
  },
  {
   "cell_type": "code",
   "execution_count": 54,
   "outputs": [],
   "source": [
    "no_tags_df.to_csv(\"RestaurantsWithoutTags.csv\")"
   ],
   "metadata": {
    "collapsed": false,
    "pycharm": {
     "name": "#%%\n"
    }
   }
  },
  {
   "cell_type": "code",
   "execution_count": 55,
   "outputs": [
    {
     "data": {
      "text/plain": "7863"
     },
     "execution_count": 55,
     "metadata": {},
     "output_type": "execute_result"
    }
   ],
   "source": [
    "13778 - 5915"
   ],
   "metadata": {
    "collapsed": false,
    "pycharm": {
     "name": "#%%\n"
    }
   }
  },
  {
   "cell_type": "code",
   "execution_count": 42,
   "outputs": [
    {
     "data": {
      "text/plain": "13778"
     },
     "execution_count": 42,
     "metadata": {},
     "output_type": "execute_result"
    }
   ],
   "source": [
    "len(df)"
   ],
   "metadata": {
    "collapsed": false,
    "pycharm": {
     "name": "#%%\n"
    }
   }
  },
  {
   "cell_type": "code",
   "execution_count": null,
   "outputs": [],
   "source": [],
   "metadata": {
    "collapsed": false,
    "pycharm": {
     "name": "#%%\n"
    }
   }
  }
 ],
 "metadata": {
  "kernelspec": {
   "display_name": "Python 3 (ipykernel)",
   "language": "python",
   "name": "python3"
  },
  "language_info": {
   "codemirror_mode": {
    "name": "ipython",
    "version": 3
   },
   "file_extension": ".py",
   "mimetype": "text/x-python",
   "name": "python",
   "nbconvert_exporter": "python",
   "pygments_lexer": "ipython3",
   "version": "3.9.13"
  }
 },
 "nbformat": 4,
 "nbformat_minor": 4
}