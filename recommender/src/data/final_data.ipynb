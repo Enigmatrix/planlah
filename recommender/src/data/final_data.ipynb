{
 "cells": [
  {
   "cell_type": "code",
   "execution_count": 1,
   "metadata": {},
   "outputs": [],
   "source": [
    "import pandas as pd"
   ]
  },
  {
   "cell_type": "markdown",
   "metadata": {},
   "source": [
    "### Remove data without tags for restaurants and attractions"
   ]
  },
  {
   "cell_type": "code",
   "execution_count": 2,
   "metadata": {},
   "outputs": [],
   "source": [
    "attractions = pd.read_csv(\"AttractionsData.csv\")"
   ]
  },
  {
   "cell_type": "code",
   "execution_count": 4,
   "metadata": {},
   "outputs": [
    {
     "data": {
      "text/plain": [
       "1916"
      ]
     },
     "execution_count": 4,
     "metadata": {},
     "output_type": "execute_result"
    }
   ],
   "source": [
    "len(attractions)"
   ]
  },
  {
   "cell_type": "code",
   "execution_count": 9,
   "metadata": {},
   "outputs": [
    {
     "name": "stdout",
     "output_type": "stream",
     "text": [
      "['Airport', 'Sports & Exercise', 'Art & History', 'Movies', 'Nature & Wildlife', 'Water Activities', 'Alcohol & Night life', 'Spas', 'Religion', 'Food', 'Shopping', 'Education', 'Transport', 'Fun & Games', 'Tourism']\n"
     ]
    }
   ],
   "source": [
    "attraction_tags = list(attractions.columns[9:])\n",
    "print(attraction_tags)"
   ]
  },
  {
   "cell_type": "code",
   "execution_count": 12,
   "metadata": {},
   "outputs": [],
   "source": [
    "final_attractions = []\n",
    "missing_attractions = []\n",
    "for idx, row in attractions.iterrows():\n",
    "    no_tags = sum([row[t] for t in attraction_tags])\n",
    "    if no_tags != 0:\n",
    "        final_attractions.append(row)\n",
    "    else:\n",
    "        missing_attractions.append(row)"
   ]
  },
  {
   "cell_type": "code",
   "execution_count": 11,
   "metadata": {},
   "outputs": [
    {
     "data": {
      "text/plain": [
       "1912"
      ]
     },
     "execution_count": 11,
     "metadata": {},
     "output_type": "execute_result"
    }
   ],
   "source": [
    "len(final_attractions)"
   ]
  },
  {
   "cell_type": "code",
   "execution_count": 23,
   "metadata": {},
   "outputs": [],
   "source": [
    "missing_attractions = pd.DataFrame(missing_attractions)"
   ]
  },
  {
   "cell_type": "code",
   "execution_count": 22,
   "metadata": {},
   "outputs": [
    {
     "data": {
      "text/html": [
       "<div>\n",
       "<style scoped>\n",
       "    .dataframe tbody tr th:only-of-type {\n",
       "        vertical-align: middle;\n",
       "    }\n",
       "\n",
       "    .dataframe tbody tr th {\n",
       "        vertical-align: top;\n",
       "    }\n",
       "\n",
       "    .dataframe thead th {\n",
       "        text-align: right;\n",
       "    }\n",
       "</style>\n",
       "<table border=\"1\" class=\"dataframe\">\n",
       "  <thead>\n",
       "    <tr style=\"text-align: right;\">\n",
       "      <th></th>\n",
       "      <th>Unnamed: 0</th>\n",
       "      <th>name</th>\n",
       "      <th>location</th>\n",
       "      <th>lat</th>\n",
       "      <th>lon</th>\n",
       "      <th>formatted_address</th>\n",
       "      <th>about</th>\n",
       "      <th>overallRating</th>\n",
       "      <th>overallRatingCnt</th>\n",
       "      <th>Airport</th>\n",
       "      <th>...</th>\n",
       "      <th>Water Activities</th>\n",
       "      <th>Alcohol &amp; Night life</th>\n",
       "      <th>Spas</th>\n",
       "      <th>Religion</th>\n",
       "      <th>Food</th>\n",
       "      <th>Shopping</th>\n",
       "      <th>Education</th>\n",
       "      <th>Transport</th>\n",
       "      <th>Fun &amp; Games</th>\n",
       "      <th>Tourism</th>\n",
       "    </tr>\n",
       "  </thead>\n",
       "  <tbody>\n",
       "    <tr>\n",
       "      <th>69</th>\n",
       "      <td>69</td>\n",
       "      <td>Takashimaya Singapore</td>\n",
       "      <td>391 Orchard Road Ngee Ann City Tower a Takashi...</td>\n",
       "      <td>1.3025572</td>\n",
       "      <td>103.834568</td>\n",
       "      <td>391A Orchard Rd, Singapore 238873</td>\n",
       "      <td>Takashimaya is another Japanese retail giant w...</td>\n",
       "      <td>4.0</td>\n",
       "      <td>715</td>\n",
       "      <td>0</td>\n",
       "      <td>...</td>\n",
       "      <td>0</td>\n",
       "      <td>0</td>\n",
       "      <td>0</td>\n",
       "      <td>0</td>\n",
       "      <td>0</td>\n",
       "      <td>0</td>\n",
       "      <td>0</td>\n",
       "      <td>0</td>\n",
       "      <td>0</td>\n",
       "      <td>0</td>\n",
       "    </tr>\n",
       "    <tr>\n",
       "      <th>749</th>\n",
       "      <td>749</td>\n",
       "      <td>Jeric Salon</td>\n",
       "      <td>2 Orchard Turn Ion Orchard, Singapore 238801 S...</td>\n",
       "      <td>1.3039288</td>\n",
       "      <td>103.8319512</td>\n",
       "      <td>2 Orchard Turn, Singapore 238801</td>\n",
       "      <td>A favourite of celebrities, designers and musi...</td>\n",
       "      <td>4.0</td>\n",
       "      <td>1</td>\n",
       "      <td>0</td>\n",
       "      <td>...</td>\n",
       "      <td>0</td>\n",
       "      <td>0</td>\n",
       "      <td>0</td>\n",
       "      <td>0</td>\n",
       "      <td>0</td>\n",
       "      <td>0</td>\n",
       "      <td>0</td>\n",
       "      <td>0</td>\n",
       "      <td>0</td>\n",
       "      <td>0</td>\n",
       "    </tr>\n",
       "    <tr>\n",
       "      <th>1347</th>\n",
       "      <td>1347</td>\n",
       "      <td>Hello Transfers</td>\n",
       "      <td>33 Lim Liak Street, Singapore 160033 Singapore</td>\n",
       "      <td>1.2851263</td>\n",
       "      <td>103.8315808</td>\n",
       "      <td>33 Lim Liak St, Block 33, Singapore 160033</td>\n",
       "      <td>We specialise in airport transfers to and from...</td>\n",
       "      <td>5.0</td>\n",
       "      <td>2</td>\n",
       "      <td>0</td>\n",
       "      <td>...</td>\n",
       "      <td>0</td>\n",
       "      <td>0</td>\n",
       "      <td>0</td>\n",
       "      <td>0</td>\n",
       "      <td>0</td>\n",
       "      <td>0</td>\n",
       "      <td>0</td>\n",
       "      <td>0</td>\n",
       "      <td>0</td>\n",
       "      <td>0</td>\n",
       "    </tr>\n",
       "    <tr>\n",
       "      <th>1879</th>\n",
       "      <td>1879</td>\n",
       "      <td>Zenith Wholesale Enterprise</td>\n",
       "      <td>50 Chin Swee Road Thong Chai Building, Singapo...</td>\n",
       "      <td>1.2877163</td>\n",
       "      <td>103.8402478</td>\n",
       "      <td>50 Chin Swee Rd, Singapore 169874</td>\n",
       "      <td>Our company has a fleet of vehicles to perform...</td>\n",
       "      <td>2.5</td>\n",
       "      <td>3</td>\n",
       "      <td>0</td>\n",
       "      <td>...</td>\n",
       "      <td>0</td>\n",
       "      <td>0</td>\n",
       "      <td>0</td>\n",
       "      <td>0</td>\n",
       "      <td>0</td>\n",
       "      <td>0</td>\n",
       "      <td>0</td>\n",
       "      <td>0</td>\n",
       "      <td>0</td>\n",
       "      <td>0</td>\n",
       "    </tr>\n",
       "  </tbody>\n",
       "</table>\n",
       "<p>4 rows × 24 columns</p>\n",
       "</div>"
      ],
      "text/plain": [
       "      Unnamed: 0                         name  \\\n",
       "69            69        Takashimaya Singapore   \n",
       "749          749                  Jeric Salon   \n",
       "1347        1347              Hello Transfers   \n",
       "1879        1879  Zenith Wholesale Enterprise   \n",
       "\n",
       "                                               location        lat  \\\n",
       "69    391 Orchard Road Ngee Ann City Tower a Takashi...  1.3025572   \n",
       "749   2 Orchard Turn Ion Orchard, Singapore 238801 S...  1.3039288   \n",
       "1347     33 Lim Liak Street, Singapore 160033 Singapore  1.2851263   \n",
       "1879  50 Chin Swee Road Thong Chai Building, Singapo...  1.2877163   \n",
       "\n",
       "              lon                           formatted_address  \\\n",
       "69     103.834568           391A Orchard Rd, Singapore 238873   \n",
       "749   103.8319512            2 Orchard Turn, Singapore 238801   \n",
       "1347  103.8315808  33 Lim Liak St, Block 33, Singapore 160033   \n",
       "1879  103.8402478           50 Chin Swee Rd, Singapore 169874   \n",
       "\n",
       "                                                  about  overallRating  \\\n",
       "69    Takashimaya is another Japanese retail giant w...            4.0   \n",
       "749   A favourite of celebrities, designers and musi...            4.0   \n",
       "1347  We specialise in airport transfers to and from...            5.0   \n",
       "1879  Our company has a fleet of vehicles to perform...            2.5   \n",
       "\n",
       "     overallRatingCnt  Airport  ...  Water Activities  Alcohol & Night life  \\\n",
       "69                715        0  ...                 0                     0   \n",
       "749                 1        0  ...                 0                     0   \n",
       "1347                2        0  ...                 0                     0   \n",
       "1879                3        0  ...                 0                     0   \n",
       "\n",
       "      Spas  Religion  Food  Shopping  Education  Transport  Fun & Games  \\\n",
       "69       0         0     0         0          0          0            0   \n",
       "749      0         0     0         0          0          0            0   \n",
       "1347     0         0     0         0          0          0            0   \n",
       "1879     0         0     0         0          0          0            0   \n",
       "\n",
       "      Tourism  \n",
       "69          0  \n",
       "749         0  \n",
       "1347        0  \n",
       "1879        0  \n",
       "\n",
       "[4 rows x 24 columns]"
      ]
     },
     "execution_count": 22,
     "metadata": {},
     "output_type": "execute_result"
    }
   ],
   "source": [
    "missing_attractions"
   ]
  },
  {
   "cell_type": "markdown",
   "metadata": {},
   "source": [
    "Only 4 data points, easy enough to label manually"
   ]
  },
  {
   "cell_type": "code",
   "execution_count": 26,
   "metadata": {},
   "outputs": [],
   "source": [
    "# Takashimaya should be Shopping \n",
    "missing_attractions.at[0, \"Shopping\"] = 1"
   ]
  },
  {
   "cell_type": "code",
   "execution_count": 27,
   "metadata": {},
   "outputs": [],
   "source": [
    "# Jeric Salon is also Shopping\n",
    "missing_attractions.at[1, \"Shopping\"] = 1"
   ]
  },
  {
   "cell_type": "code",
   "execution_count": null,
   "metadata": {},
   "outputs": [],
   "source": []
  },
  {
   "cell_type": "code",
   "execution_count": null,
   "metadata": {},
   "outputs": [],
   "source": [
    "# Hello Transfers is "
   ]
  }
 ],
 "metadata": {
  "interpreter": {
   "hash": "b0fa6594d8f4cbf19f97940f81e996739fb7646882a419484c72d19e05852a7e"
  },
  "kernelspec": {
   "display_name": "Python 3.9.13 64-bit",
   "language": "python",
   "name": "python3"
  },
  "language_info": {
   "codemirror_mode": {
    "name": "ipython",
    "version": 3
   },
   "file_extension": ".py",
   "mimetype": "text/x-python",
   "name": "python",
   "nbconvert_exporter": "python",
   "pygments_lexer": "ipython3",
   "version": "3.9.13"
  },
  "orig_nbformat": 4
 },
 "nbformat": 4,
 "nbformat_minor": 2
}
