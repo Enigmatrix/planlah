{
 "cells": [
  {
   "cell_type": "code",
   "execution_count": 2,
   "metadata": {
    "collapsed": true,
    "jupyter": {
     "outputs_hidden": true
    },
    "pycharm": {
     "name": "#%%\n"
    }
   },
   "outputs": [],
   "source": [
    "import numpy as np\n",
    "import pandas as pd\n",
    "import seaborn as sns\n",
    "import matplotlib.pyplot as plt"
   ]
  },
  {
   "cell_type": "code",
   "execution_count": 3,
   "metadata": {
    "collapsed": false,
    "jupyter": {
     "outputs_hidden": false
    },
    "pycharm": {
     "name": "#%%\n"
    }
   },
   "outputs": [],
   "source": [
    "df = pd.read_csv(\"RestaurantRawData.csv\", index_col=0)\n",
    "df = df.drop_duplicates()"
   ]
  },
  {
   "cell_type": "code",
   "execution_count": 4,
   "metadata": {
    "collapsed": false,
    "jupyter": {
     "outputs_hidden": false
    },
    "pycharm": {
     "name": "#%%\n"
    }
   },
   "outputs": [
    {
     "data": {
      "text/plain": [
       "13778"
      ]
     },
     "execution_count": 4,
     "metadata": {},
     "output_type": "execute_result"
    }
   ],
   "source": [
    "len(df)"
   ]
  },
  {
   "cell_type": "code",
   "execution_count": 5,
   "metadata": {
    "collapsed": false,
    "jupyter": {
     "outputs_hidden": false
    },
    "pycharm": {
     "name": "#%%\n"
    }
   },
   "outputs": [
    {
     "data": {
      "text/html": [
       "<div>\n",
       "<style scoped>\n",
       "    .dataframe tbody tr th:only-of-type {\n",
       "        vertical-align: middle;\n",
       "    }\n",
       "\n",
       "    .dataframe tbody tr th {\n",
       "        vertical-align: top;\n",
       "    }\n",
       "\n",
       "    .dataframe thead th {\n",
       "        text-align: right;\n",
       "    }\n",
       "</style>\n",
       "<table border=\"1\" class=\"dataframe\">\n",
       "  <thead>\n",
       "    <tr style=\"text-align: right;\">\n",
       "      <th></th>\n",
       "      <th>name</th>\n",
       "      <th>location</th>\n",
       "      <th>working_hours</th>\n",
       "      <th>price_range</th>\n",
       "      <th>tags</th>\n",
       "      <th>foodRating</th>\n",
       "      <th>serviceRating</th>\n",
       "      <th>valueRating</th>\n",
       "      <th>atmosphereRating</th>\n",
       "      <th>overallRating</th>\n",
       "      <th>overallRatingCnt</th>\n",
       "    </tr>\n",
       "  </thead>\n",
       "  <tbody>\n",
       "    <tr>\n",
       "      <th>0</th>\n",
       "      <td>BAM! Restaurant</td>\n",
       "      <td>38 Tras Street #38-40, Singapore 078977 Singapore</td>\n",
       "      <td>&lt;div class=\"fUbTx\"&gt;Tue&lt;/div&gt;&lt;div class=\"cFfqI\"...</td>\n",
       "      <td>NaN</td>\n",
       "      <td>Spanish,Fusion,Japanese Fusion</td>\n",
       "      <td>45</td>\n",
       "      <td>45</td>\n",
       "      <td>40</td>\n",
       "      <td>45</td>\n",
       "      <td>4.5</td>\n",
       "      <td>226</td>\n",
       "    </tr>\n",
       "    <tr>\n",
       "      <th>1</th>\n",
       "      <td>Entre-Nous creperie</td>\n",
       "      <td>27 Seah Street # 01-01, Singapore 188383 Singa...</td>\n",
       "      <td>&lt;div class=\"fUbTx\"&gt;Sun&lt;/div&gt;&lt;div class=\"cFfqI\"...</td>\n",
       "      <td>NaN</td>\n",
       "      <td>French,European,Healthy</td>\n",
       "      <td>50</td>\n",
       "      <td>50</td>\n",
       "      <td>45</td>\n",
       "      <td>40</td>\n",
       "      <td>5.0</td>\n",
       "      <td>1,555</td>\n",
       "    </tr>\n",
       "    <tr>\n",
       "      <th>2</th>\n",
       "      <td>The Courtyard</td>\n",
       "      <td>1 Fullerton Square Fullerton Hotel The Fullert...</td>\n",
       "      <td>&lt;div class=\"fUbTx\"&gt;Sun&lt;/div&gt;&lt;div class=\"cFfqI\"...</td>\n",
       "      <td>NaN</td>\n",
       "      <td>Japanese,Indian,International</td>\n",
       "      <td>40</td>\n",
       "      <td>45</td>\n",
       "      <td>40</td>\n",
       "      <td>45</td>\n",
       "      <td>4.5</td>\n",
       "      <td>1,450</td>\n",
       "    </tr>\n",
       "    <tr>\n",
       "      <th>3</th>\n",
       "      <td>Portman's Bar</td>\n",
       "      <td>6 Raffles Boulevard Marina Square Level 4 At P...</td>\n",
       "      <td>&lt;div class=\"fUbTx\"&gt;Sun&lt;/div&gt;&lt;div class=\"cFfqI\"...</td>\n",
       "      <td>NaN</td>\n",
       "      <td>Bar,Cafe,International</td>\n",
       "      <td>45</td>\n",
       "      <td>45</td>\n",
       "      <td>45</td>\n",
       "      <td>nil</td>\n",
       "      <td>5.0</td>\n",
       "      <td>270</td>\n",
       "    </tr>\n",
       "    <tr>\n",
       "      <th>4</th>\n",
       "      <td>Grand Shanghai Restaurant</td>\n",
       "      <td>390 Havelock Road King's Centre, Singapore 169...</td>\n",
       "      <td>&lt;div class=\"fUbTx\"&gt;Sun&lt;/div&gt;&lt;div class=\"cFfqI\"...</td>\n",
       "      <td>NaN</td>\n",
       "      <td>Chinese,Asian,Shanghai</td>\n",
       "      <td>40</td>\n",
       "      <td>40</td>\n",
       "      <td>35</td>\n",
       "      <td>40</td>\n",
       "      <td>5.0</td>\n",
       "      <td>641</td>\n",
       "    </tr>\n",
       "  </tbody>\n",
       "</table>\n",
       "</div>"
      ],
      "text/plain": [
       "                        name  \\\n",
       "0            BAM! Restaurant   \n",
       "1        Entre-Nous creperie   \n",
       "2              The Courtyard   \n",
       "3              Portman's Bar   \n",
       "4  Grand Shanghai Restaurant   \n",
       "\n",
       "                                            location  \\\n",
       "0  38 Tras Street #38-40, Singapore 078977 Singapore   \n",
       "1  27 Seah Street # 01-01, Singapore 188383 Singa...   \n",
       "2  1 Fullerton Square Fullerton Hotel The Fullert...   \n",
       "3  6 Raffles Boulevard Marina Square Level 4 At P...   \n",
       "4  390 Havelock Road King's Centre, Singapore 169...   \n",
       "\n",
       "                                       working_hours price_range  \\\n",
       "0  <div class=\"fUbTx\">Tue</div><div class=\"cFfqI\"...         NaN   \n",
       "1  <div class=\"fUbTx\">Sun</div><div class=\"cFfqI\"...         NaN   \n",
       "2  <div class=\"fUbTx\">Sun</div><div class=\"cFfqI\"...         NaN   \n",
       "3  <div class=\"fUbTx\">Sun</div><div class=\"cFfqI\"...         NaN   \n",
       "4  <div class=\"fUbTx\">Sun</div><div class=\"cFfqI\"...         NaN   \n",
       "\n",
       "                             tags foodRating serviceRating valueRating  \\\n",
       "0  Spanish,Fusion,Japanese Fusion         45            45          40   \n",
       "1         French,European,Healthy         50            50          45   \n",
       "2   Japanese,Indian,International         40            45          40   \n",
       "3          Bar,Cafe,International         45            45          45   \n",
       "4          Chinese,Asian,Shanghai         40            40          35   \n",
       "\n",
       "  atmosphereRating overallRating overallRatingCnt  \n",
       "0               45           4.5              226  \n",
       "1               40           5.0            1,555  \n",
       "2               45           4.5            1,450  \n",
       "3              nil           5.0              270  \n",
       "4               40           5.0              641  "
      ]
     },
     "execution_count": 5,
     "metadata": {},
     "output_type": "execute_result"
    }
   ],
   "source": [
    "df.head()"
   ]
  },
  {
   "cell_type": "code",
   "execution_count": 6,
   "metadata": {
    "collapsed": false,
    "jupyter": {
     "outputs_hidden": false
    },
    "pycharm": {
     "name": "#%%\n"
    }
   },
   "outputs": [],
   "source": [
    "from bs4 import BeautifulSoup"
   ]
  },
  {
   "cell_type": "code",
   "execution_count": 7,
   "metadata": {
    "collapsed": false,
    "jupyter": {
     "outputs_hidden": false
    },
    "pycharm": {
     "name": "#%%\n"
    }
   },
   "outputs": [],
   "source": [
    "df[\"working_hours\"] = df[\"working_hours\"].apply(lambda html: BeautifulSoup(html).get_text() if type(html) == str else \"None\")"
   ]
  },
  {
   "cell_type": "code",
   "execution_count": 8,
   "metadata": {
    "collapsed": false,
    "jupyter": {
     "outputs_hidden": false
    },
    "pycharm": {
     "name": "#%%\n"
    }
   },
   "outputs": [
    {
     "data": {
      "text/plain": [
       "3204"
      ]
     },
     "execution_count": 8,
     "metadata": {},
     "output_type": "execute_result"
    }
   ],
   "source": [
    "df[\"price_range\"].count()"
   ]
  },
  {
   "cell_type": "code",
   "execution_count": 9,
   "metadata": {
    "collapsed": false,
    "jupyter": {
     "outputs_hidden": false
    },
    "pycharm": {
     "name": "#%%\n"
    }
   },
   "outputs": [
    {
     "data": {
      "text/html": [
       "<div>\n",
       "<style scoped>\n",
       "    .dataframe tbody tr th:only-of-type {\n",
       "        vertical-align: middle;\n",
       "    }\n",
       "\n",
       "    .dataframe tbody tr th {\n",
       "        vertical-align: top;\n",
       "    }\n",
       "\n",
       "    .dataframe thead th {\n",
       "        text-align: right;\n",
       "    }\n",
       "</style>\n",
       "<table border=\"1\" class=\"dataframe\">\n",
       "  <thead>\n",
       "    <tr style=\"text-align: right;\">\n",
       "      <th></th>\n",
       "      <th>name</th>\n",
       "      <th>location</th>\n",
       "      <th>working_hours</th>\n",
       "      <th>price_range</th>\n",
       "      <th>tags</th>\n",
       "      <th>foodRating</th>\n",
       "      <th>serviceRating</th>\n",
       "      <th>valueRating</th>\n",
       "      <th>atmosphereRating</th>\n",
       "      <th>overallRating</th>\n",
       "      <th>overallRatingCnt</th>\n",
       "    </tr>\n",
       "  </thead>\n",
       "  <tbody>\n",
       "    <tr>\n",
       "      <th>0</th>\n",
       "      <td>BAM! Restaurant</td>\n",
       "      <td>38 Tras Street #38-40, Singapore 078977 Singapore</td>\n",
       "      <td>Tue12:00 PM - 2:00 PM6:00 PM - 10:30 PM,Wed12:...</td>\n",
       "      <td>NaN</td>\n",
       "      <td>Spanish,Fusion,Japanese Fusion</td>\n",
       "      <td>45</td>\n",
       "      <td>45</td>\n",
       "      <td>40</td>\n",
       "      <td>45</td>\n",
       "      <td>4.5</td>\n",
       "      <td>226</td>\n",
       "    </tr>\n",
       "    <tr>\n",
       "      <th>1</th>\n",
       "      <td>Entre-Nous creperie</td>\n",
       "      <td>27 Seah Street # 01-01, Singapore 188383 Singa...</td>\n",
       "      <td>Sun11:00 AM - 4:30 PM,Tue12:00 PM - 2:30 PM6:0...</td>\n",
       "      <td>NaN</td>\n",
       "      <td>French,European,Healthy</td>\n",
       "      <td>50</td>\n",
       "      <td>50</td>\n",
       "      <td>45</td>\n",
       "      <td>40</td>\n",
       "      <td>5.0</td>\n",
       "      <td>1,555</td>\n",
       "    </tr>\n",
       "    <tr>\n",
       "      <th>2</th>\n",
       "      <td>The Courtyard</td>\n",
       "      <td>1 Fullerton Square Fullerton Hotel The Fullert...</td>\n",
       "      <td>Sun10:30 AM - 6:00 PM,Mon10:30 AM - 6:00 PM,Tu...</td>\n",
       "      <td>NaN</td>\n",
       "      <td>Japanese,Indian,International</td>\n",
       "      <td>40</td>\n",
       "      <td>45</td>\n",
       "      <td>40</td>\n",
       "      <td>45</td>\n",
       "      <td>4.5</td>\n",
       "      <td>1,450</td>\n",
       "    </tr>\n",
       "    <tr>\n",
       "      <th>3</th>\n",
       "      <td>Portman's Bar</td>\n",
       "      <td>6 Raffles Boulevard Marina Square Level 4 At P...</td>\n",
       "      <td>Sun10:30 AM - 12:00 AM,Mon10:30 AM - 12:00 AM,...</td>\n",
       "      <td>NaN</td>\n",
       "      <td>Bar,Cafe,International</td>\n",
       "      <td>45</td>\n",
       "      <td>45</td>\n",
       "      <td>45</td>\n",
       "      <td>nil</td>\n",
       "      <td>5.0</td>\n",
       "      <td>270</td>\n",
       "    </tr>\n",
       "    <tr>\n",
       "      <th>4</th>\n",
       "      <td>Grand Shanghai Restaurant</td>\n",
       "      <td>390 Havelock Road King's Centre, Singapore 169...</td>\n",
       "      <td>Sun11:00 AM - 2:30 PM6:00 PM - 10:00 PM,Tue11:...</td>\n",
       "      <td>NaN</td>\n",
       "      <td>Chinese,Asian,Shanghai</td>\n",
       "      <td>40</td>\n",
       "      <td>40</td>\n",
       "      <td>35</td>\n",
       "      <td>40</td>\n",
       "      <td>5.0</td>\n",
       "      <td>641</td>\n",
       "    </tr>\n",
       "    <tr>\n",
       "      <th>...</th>\n",
       "      <td>...</td>\n",
       "      <td>...</td>\n",
       "      <td>...</td>\n",
       "      <td>...</td>\n",
       "      <td>...</td>\n",
       "      <td>...</td>\n",
       "      <td>...</td>\n",
       "      <td>...</td>\n",
       "      <td>...</td>\n",
       "      <td>...</td>\n",
       "      <td>...</td>\n",
       "    </tr>\n",
       "    <tr>\n",
       "      <th>103</th>\n",
       "      <td>Enjoy Eating House and Bar @ Stevens</td>\n",
       "      <td>30 Stevens Road #01-07, Singapore 257840 Singa...</td>\n",
       "      <td>Sun11:00 AM - 11:00 PM,Mon11:00 AM - 11:00 PM,...</td>\n",
       "      <td>NaN</td>\n",
       "      <td>Chinese,Asian,Singaporean</td>\n",
       "      <td>50</td>\n",
       "      <td>50</td>\n",
       "      <td>45</td>\n",
       "      <td>nil</td>\n",
       "      <td>5.0</td>\n",
       "      <td>81</td>\n",
       "    </tr>\n",
       "    <tr>\n",
       "      <th>105</th>\n",
       "      <td>Joie by Dozo</td>\n",
       "      <td>181 Orchard Road Orchard Central #12-01 Orchar...</td>\n",
       "      <td>Sun12:00 PM - 3:30 PM6:00 PM - 10:30 PM,Mon12:...</td>\n",
       "      <td>NaN</td>\n",
       "      <td>Asian,Vegetarian Friendly,Vegan Options</td>\n",
       "      <td>45</td>\n",
       "      <td>45</td>\n",
       "      <td>45</td>\n",
       "      <td>45</td>\n",
       "      <td>4.5</td>\n",
       "      <td>316</td>\n",
       "    </tr>\n",
       "    <tr>\n",
       "      <th>106</th>\n",
       "      <td>Yardbird Southern Table &amp;amp; Bar</td>\n",
       "      <td>2 Bayfront Avenue Marina Bay Sands B1-07, L1-8...</td>\n",
       "      <td>Sun10:00 AM - 10:00 PM,Mon12:00 PM - 10:00 PM,...</td>\n",
       "      <td>nil</td>\n",
       "      <td>American,Bar,Vegetarian Friendly</td>\n",
       "      <td>45</td>\n",
       "      <td>45</td>\n",
       "      <td>40</td>\n",
       "      <td>40</td>\n",
       "      <td>4.5</td>\n",
       "      <td>828</td>\n",
       "    </tr>\n",
       "    <tr>\n",
       "      <th>107</th>\n",
       "      <td>Yan Ting</td>\n",
       "      <td>29 Tanglin Road St. Regis Hotel Singapore The ...</td>\n",
       "      <td>Sun10:30 AM - 12:30 PM1:00 PM - 3:00 PM6:00 PM...</td>\n",
       "      <td>nil</td>\n",
       "      <td>Chinese,Asian,Cantonese</td>\n",
       "      <td>45</td>\n",
       "      <td>45</td>\n",
       "      <td>40</td>\n",
       "      <td>40</td>\n",
       "      <td>4.5</td>\n",
       "      <td>693</td>\n",
       "    </tr>\n",
       "    <tr>\n",
       "      <th>108</th>\n",
       "      <td>Peach Blossoms</td>\n",
       "      <td>6 Raffles Boulevard Level 5 Marina Square, Sin...</td>\n",
       "      <td>Sun11:00 AM - 3:00 PM6:30 PM - 11:00 PM,Mon12:...</td>\n",
       "      <td>nil</td>\n",
       "      <td>Chinese,Asian,Cantonese</td>\n",
       "      <td>45</td>\n",
       "      <td>45</td>\n",
       "      <td>40</td>\n",
       "      <td>40</td>\n",
       "      <td>4.5</td>\n",
       "      <td>623</td>\n",
       "    </tr>\n",
       "  </tbody>\n",
       "</table>\n",
       "<p>100 rows × 11 columns</p>\n",
       "</div>"
      ],
      "text/plain": [
       "                                     name  \\\n",
       "0                         BAM! Restaurant   \n",
       "1                     Entre-Nous creperie   \n",
       "2                           The Courtyard   \n",
       "3                           Portman's Bar   \n",
       "4               Grand Shanghai Restaurant   \n",
       "..                                    ...   \n",
       "103  Enjoy Eating House and Bar @ Stevens   \n",
       "105                          Joie by Dozo   \n",
       "106     Yardbird Southern Table &amp; Bar   \n",
       "107                              Yan Ting   \n",
       "108                        Peach Blossoms   \n",
       "\n",
       "                                              location  \\\n",
       "0    38 Tras Street #38-40, Singapore 078977 Singapore   \n",
       "1    27 Seah Street # 01-01, Singapore 188383 Singa...   \n",
       "2    1 Fullerton Square Fullerton Hotel The Fullert...   \n",
       "3    6 Raffles Boulevard Marina Square Level 4 At P...   \n",
       "4    390 Havelock Road King's Centre, Singapore 169...   \n",
       "..                                                 ...   \n",
       "103  30 Stevens Road #01-07, Singapore 257840 Singa...   \n",
       "105  181 Orchard Road Orchard Central #12-01 Orchar...   \n",
       "106  2 Bayfront Avenue Marina Bay Sands B1-07, L1-8...   \n",
       "107  29 Tanglin Road St. Regis Hotel Singapore The ...   \n",
       "108  6 Raffles Boulevard Level 5 Marina Square, Sin...   \n",
       "\n",
       "                                         working_hours price_range  \\\n",
       "0    Tue12:00 PM - 2:00 PM6:00 PM - 10:30 PM,Wed12:...         NaN   \n",
       "1    Sun11:00 AM - 4:30 PM,Tue12:00 PM - 2:30 PM6:0...         NaN   \n",
       "2    Sun10:30 AM - 6:00 PM,Mon10:30 AM - 6:00 PM,Tu...         NaN   \n",
       "3    Sun10:30 AM - 12:00 AM,Mon10:30 AM - 12:00 AM,...         NaN   \n",
       "4    Sun11:00 AM - 2:30 PM6:00 PM - 10:00 PM,Tue11:...         NaN   \n",
       "..                                                 ...         ...   \n",
       "103  Sun11:00 AM - 11:00 PM,Mon11:00 AM - 11:00 PM,...         NaN   \n",
       "105  Sun12:00 PM - 3:30 PM6:00 PM - 10:30 PM,Mon12:...         NaN   \n",
       "106  Sun10:00 AM - 10:00 PM,Mon12:00 PM - 10:00 PM,...         nil   \n",
       "107  Sun10:30 AM - 12:30 PM1:00 PM - 3:00 PM6:00 PM...         nil   \n",
       "108  Sun11:00 AM - 3:00 PM6:30 PM - 11:00 PM,Mon12:...         nil   \n",
       "\n",
       "                                        tags foodRating serviceRating  \\\n",
       "0             Spanish,Fusion,Japanese Fusion         45            45   \n",
       "1                    French,European,Healthy         50            50   \n",
       "2              Japanese,Indian,International         40            45   \n",
       "3                     Bar,Cafe,International         45            45   \n",
       "4                     Chinese,Asian,Shanghai         40            40   \n",
       "..                                       ...        ...           ...   \n",
       "103                Chinese,Asian,Singaporean         50            50   \n",
       "105  Asian,Vegetarian Friendly,Vegan Options         45            45   \n",
       "106         American,Bar,Vegetarian Friendly         45            45   \n",
       "107                  Chinese,Asian,Cantonese         45            45   \n",
       "108                  Chinese,Asian,Cantonese         45            45   \n",
       "\n",
       "    valueRating atmosphereRating overallRating overallRatingCnt  \n",
       "0            40               45           4.5              226  \n",
       "1            45               40           5.0            1,555  \n",
       "2            40               45           4.5            1,450  \n",
       "3            45              nil           5.0              270  \n",
       "4            35               40           5.0              641  \n",
       "..          ...              ...           ...              ...  \n",
       "103          45              nil           5.0               81  \n",
       "105          45               45           4.5              316  \n",
       "106          40               40           4.5              828  \n",
       "107          40               40           4.5              693  \n",
       "108          40               40           4.5              623  \n",
       "\n",
       "[100 rows x 11 columns]"
      ]
     },
     "execution_count": 9,
     "metadata": {},
     "output_type": "execute_result"
    }
   ],
   "source": [
    "df.head(n=100)"
   ]
  },
  {
   "cell_type": "markdown",
   "metadata": {
    "pycharm": {
     "name": "#%% md\n"
    }
   },
   "source": []
  },
  {
   "cell_type": "code",
   "execution_count": 10,
   "metadata": {
    "collapsed": false,
    "jupyter": {
     "outputs_hidden": false
    },
    "pycharm": {
     "name": "#%%\n"
    }
   },
   "outputs": [],
   "source": [
    "tags = df[\"tags\"].unique()"
   ]
  },
  {
   "cell_type": "code",
   "execution_count": 11,
   "metadata": {
    "collapsed": false,
    "jupyter": {
     "outputs_hidden": false
    },
    "pycharm": {
     "name": "#%%\n"
    }
   },
   "outputs": [
    {
     "name": "stdout",
     "output_type": "stream",
     "text": [
      "['Spanish,Fusion,Japanese Fusion' 'French,European,Healthy'\n",
      " 'Japanese,Indian,International' ... 'Japanese,Seafood,Barbecue'\n",
      " 'Asian,Fusion,Nonya/Malaysian' 'Cafe,Pub,Beer restaurants']\n"
     ]
    }
   ],
   "source": [
    "print(tags)"
   ]
  },
  {
   "cell_type": "code",
   "execution_count": 12,
   "metadata": {
    "collapsed": false,
    "jupyter": {
     "outputs_hidden": false
    },
    "pycharm": {
     "name": "#%%\n"
    }
   },
   "outputs": [],
   "source": [
    "final_tags = set()\n",
    "for tag in tags:\n",
    "    if type(tag) == str:\n",
    "        t_split = tag.split(\",\")\n",
    "        for t in t_split:\n",
    "            final_tags.add(t)"
   ]
  },
  {
   "cell_type": "code",
   "execution_count": 13,
   "metadata": {
    "collapsed": false,
    "jupyter": {
     "outputs_hidden": false
    },
    "pycharm": {
     "name": "#%%\n"
    }
   },
   "outputs": [
    {
     "name": "stdout",
     "output_type": "stream",
     "text": [
      "Fusion\n",
      "Bakeries\n",
      "Cantonese\n",
      "Sri Lankan\n",
      "Italian\n",
      "Spanish\n",
      "Northern-Italian\n",
      "Asian\n",
      "Seafood\n",
      "Gastropub\n",
      "Yunnan\n",
      "Central European\n",
      "Fruit parlours\n",
      "Danish\n",
      "Swiss\n",
      "Dining bars\n",
      "Sushi\n",
      "Thai\n",
      "Lebanese\n",
      "Egyptian\n",
      "South American\n",
      "Hokkaido cuisine\n",
      "Mongolian\n",
      "Turkish\n",
      "Persian\n",
      "Barbecue\n",
      "Fujian\n",
      "Israeli\n",
      "NorthEastern Chinese\n",
      "Pizza\n",
      "British\n",
      "Chinese\n",
      "Steakhouse\n",
      "European\n",
      "Singaporean\n",
      "Beer restaurants\n",
      "Ukrainian\n",
      "Belgian\n",
      "Middle Eastern\n",
      "Contemporary\n",
      "Peruvian\n",
      "Greek\n",
      "Soups\n",
      "Central American\n",
      "Kappo\n",
      "Wine Bar\n",
      "Eastern European\n",
      "Korean\n",
      "Halal\n",
      "NorthWestern Chinese\n",
      "Austrian\n",
      "Bar\n",
      "Afghan\n",
      "Latin\n",
      "Russian\n",
      "Mexican\n",
      "Cajun &amp; Creole\n",
      "Mediterranean\n",
      "Irish\n",
      "Basque\n",
      "Canadian\n",
      "African\n",
      "Kaiseki\n",
      "Malaysian\n",
      "Indian\n",
      "Fast food\n",
      "Diner\n",
      "Hong Kong\n",
      "Caribbean\n",
      "Cafe\n",
      "International\n",
      "Central Asian\n",
      "Beijing cuisine\n",
      "Brew Pub\n",
      "Nonya/Malaysian\n",
      "Scandinavian\n",
      "Japanese sweets parlour\n",
      "Hawaiian\n",
      "Indigenous\n",
      "Southern-Italian\n",
      "Portuguese\n",
      "New Zealand\n",
      "Deli\n",
      "Armenian\n",
      "Grill\n",
      "Medicinal foods\n",
      "Burmese\n",
      "German\n",
      "Caucasian\n",
      "French\n",
      "Moroccan\n",
      "Vegan Options\n",
      "American\n",
      "Gluten Free Options\n",
      "Vegetarian Friendly\n",
      "Australian\n",
      "Arabic\n",
      "Shanghai\n",
      "Hunan\n",
      "Tuscan\n",
      "Dessert\n",
      "Healthy\n",
      "Nepalese\n",
      "Indonesian\n",
      "Imperial Chinese\n",
      "Central-Italian\n",
      "Dutch\n",
      "Japanese\n",
      "Scottish\n",
      "Taiwanese\n",
      "Kosher\n",
      "Swedish\n",
      "Szechuan\n",
      "Japanese Fusion\n",
      "Pub\n",
      "Xinjiang\n",
      "Norwegian\n",
      "Brazilian\n",
      "Quick Bites\n",
      "Argentinian\n",
      "Philippine\n",
      "Street Food\n",
      "Cuban\n",
      "Speciality Food Market\n",
      "Vietnamese\n",
      "Pakistani\n",
      "Southwestern\n"
     ]
    }
   ],
   "source": [
    "for t in final_tags:\n",
    "    print(t)"
   ]
  },
  {
   "cell_type": "code",
   "execution_count": 14,
   "metadata": {
    "collapsed": false,
    "jupyter": {
     "outputs_hidden": false
    },
    "pycharm": {
     "name": "#%%\n"
    }
   },
   "outputs": [
    {
     "data": {
      "text/plain": [
       "127"
      ]
     },
     "execution_count": 14,
     "metadata": {},
     "output_type": "execute_result"
    }
   ],
   "source": [
    "len(final_tags)"
   ]
  },
  {
   "cell_type": "code",
   "execution_count": 15,
   "metadata": {
    "collapsed": false,
    "jupyter": {
     "outputs_hidden": false
    },
    "pycharm": {
     "name": "#%%\n"
    }
   },
   "outputs": [
    {
     "data": {
      "text/html": [
       "<div>\n",
       "<style scoped>\n",
       "    .dataframe tbody tr th:only-of-type {\n",
       "        vertical-align: middle;\n",
       "    }\n",
       "\n",
       "    .dataframe tbody tr th {\n",
       "        vertical-align: top;\n",
       "    }\n",
       "\n",
       "    .dataframe thead th {\n",
       "        text-align: right;\n",
       "    }\n",
       "</style>\n",
       "<table border=\"1\" class=\"dataframe\">\n",
       "  <thead>\n",
       "    <tr style=\"text-align: right;\">\n",
       "      <th></th>\n",
       "      <th>name</th>\n",
       "      <th>location</th>\n",
       "      <th>working_hours</th>\n",
       "      <th>price_range</th>\n",
       "      <th>tags</th>\n",
       "      <th>foodRating</th>\n",
       "      <th>serviceRating</th>\n",
       "      <th>valueRating</th>\n",
       "      <th>atmosphereRating</th>\n",
       "      <th>overallRating</th>\n",
       "      <th>overallRatingCnt</th>\n",
       "    </tr>\n",
       "  </thead>\n",
       "  <tbody>\n",
       "    <tr>\n",
       "      <th>0</th>\n",
       "      <td>BAM! Restaurant</td>\n",
       "      <td>38 Tras Street #38-40, Singapore 078977 Singapore</td>\n",
       "      <td>Tue12:00 PM - 2:00 PM6:00 PM - 10:30 PM,Wed12:...</td>\n",
       "      <td>NaN</td>\n",
       "      <td>Spanish,Fusion,Japanese Fusion</td>\n",
       "      <td>45</td>\n",
       "      <td>45</td>\n",
       "      <td>40</td>\n",
       "      <td>45</td>\n",
       "      <td>4.5</td>\n",
       "      <td>226</td>\n",
       "    </tr>\n",
       "    <tr>\n",
       "      <th>1</th>\n",
       "      <td>Entre-Nous creperie</td>\n",
       "      <td>27 Seah Street # 01-01, Singapore 188383 Singa...</td>\n",
       "      <td>Sun11:00 AM - 4:30 PM,Tue12:00 PM - 2:30 PM6:0...</td>\n",
       "      <td>NaN</td>\n",
       "      <td>French,European,Healthy</td>\n",
       "      <td>50</td>\n",
       "      <td>50</td>\n",
       "      <td>45</td>\n",
       "      <td>40</td>\n",
       "      <td>5.0</td>\n",
       "      <td>1,555</td>\n",
       "    </tr>\n",
       "    <tr>\n",
       "      <th>2</th>\n",
       "      <td>The Courtyard</td>\n",
       "      <td>1 Fullerton Square Fullerton Hotel The Fullert...</td>\n",
       "      <td>Sun10:30 AM - 6:00 PM,Mon10:30 AM - 6:00 PM,Tu...</td>\n",
       "      <td>NaN</td>\n",
       "      <td>Japanese,Indian,International</td>\n",
       "      <td>40</td>\n",
       "      <td>45</td>\n",
       "      <td>40</td>\n",
       "      <td>45</td>\n",
       "      <td>4.5</td>\n",
       "      <td>1,450</td>\n",
       "    </tr>\n",
       "    <tr>\n",
       "      <th>3</th>\n",
       "      <td>Portman's Bar</td>\n",
       "      <td>6 Raffles Boulevard Marina Square Level 4 At P...</td>\n",
       "      <td>Sun10:30 AM - 12:00 AM,Mon10:30 AM - 12:00 AM,...</td>\n",
       "      <td>NaN</td>\n",
       "      <td>Bar,Cafe,International</td>\n",
       "      <td>45</td>\n",
       "      <td>45</td>\n",
       "      <td>45</td>\n",
       "      <td>nil</td>\n",
       "      <td>5.0</td>\n",
       "      <td>270</td>\n",
       "    </tr>\n",
       "    <tr>\n",
       "      <th>4</th>\n",
       "      <td>Grand Shanghai Restaurant</td>\n",
       "      <td>390 Havelock Road King's Centre, Singapore 169...</td>\n",
       "      <td>Sun11:00 AM - 2:30 PM6:00 PM - 10:00 PM,Tue11:...</td>\n",
       "      <td>NaN</td>\n",
       "      <td>Chinese,Asian,Shanghai</td>\n",
       "      <td>40</td>\n",
       "      <td>40</td>\n",
       "      <td>35</td>\n",
       "      <td>40</td>\n",
       "      <td>5.0</td>\n",
       "      <td>641</td>\n",
       "    </tr>\n",
       "  </tbody>\n",
       "</table>\n",
       "</div>"
      ],
      "text/plain": [
       "                        name  \\\n",
       "0            BAM! Restaurant   \n",
       "1        Entre-Nous creperie   \n",
       "2              The Courtyard   \n",
       "3              Portman's Bar   \n",
       "4  Grand Shanghai Restaurant   \n",
       "\n",
       "                                            location  \\\n",
       "0  38 Tras Street #38-40, Singapore 078977 Singapore   \n",
       "1  27 Seah Street # 01-01, Singapore 188383 Singa...   \n",
       "2  1 Fullerton Square Fullerton Hotel The Fullert...   \n",
       "3  6 Raffles Boulevard Marina Square Level 4 At P...   \n",
       "4  390 Havelock Road King's Centre, Singapore 169...   \n",
       "\n",
       "                                       working_hours price_range  \\\n",
       "0  Tue12:00 PM - 2:00 PM6:00 PM - 10:30 PM,Wed12:...         NaN   \n",
       "1  Sun11:00 AM - 4:30 PM,Tue12:00 PM - 2:30 PM6:0...         NaN   \n",
       "2  Sun10:30 AM - 6:00 PM,Mon10:30 AM - 6:00 PM,Tu...         NaN   \n",
       "3  Sun10:30 AM - 12:00 AM,Mon10:30 AM - 12:00 AM,...         NaN   \n",
       "4  Sun11:00 AM - 2:30 PM6:00 PM - 10:00 PM,Tue11:...         NaN   \n",
       "\n",
       "                             tags foodRating serviceRating valueRating  \\\n",
       "0  Spanish,Fusion,Japanese Fusion         45            45          40   \n",
       "1         French,European,Healthy         50            50          45   \n",
       "2   Japanese,Indian,International         40            45          40   \n",
       "3          Bar,Cafe,International         45            45          45   \n",
       "4          Chinese,Asian,Shanghai         40            40          35   \n",
       "\n",
       "  atmosphereRating overallRating overallRatingCnt  \n",
       "0               45           4.5              226  \n",
       "1               40           5.0            1,555  \n",
       "2               45           4.5            1,450  \n",
       "3              nil           5.0              270  \n",
       "4               40           5.0              641  "
      ]
     },
     "execution_count": 15,
     "metadata": {},
     "output_type": "execute_result"
    }
   ],
   "source": [
    "df.head()"
   ]
  },
  {
   "cell_type": "code",
   "execution_count": 16,
   "metadata": {
    "collapsed": false,
    "jupyter": {
     "outputs_hidden": false
    },
    "pycharm": {
     "name": "#%%\n"
    }
   },
   "outputs": [],
   "source": [
    "final_tags = sorted(list(final_tags))"
   ]
  },
  {
   "cell_type": "code",
   "execution_count": 17,
   "metadata": {
    "collapsed": false,
    "jupyter": {
     "outputs_hidden": false
    },
    "pycharm": {
     "name": "#%%\n"
    }
   },
   "outputs": [],
   "source": [
    "import requests\n",
    "import config"
   ]
  },
  {
   "cell_type": "code",
   "execution_count": 18,
   "metadata": {
    "collapsed": false,
    "jupyter": {
     "outputs_hidden": false
    },
    "pycharm": {
     "name": "#%%\n"
    }
   },
   "outputs": [],
   "source": [
    "dataset = []\n",
    "\n",
    "GOOGLE_MAPS_API_URL = \"https://maps.googleapis.com/maps/api/geocode/json\"\n",
    "\n",
    "for idx, row in df.iterrows():\n",
    "    params = {\n",
    "        \"address\": row[\"location\"],\n",
    "        \"sensor\": \"false\",\n",
    "        \"region\": \"singapore\",\n",
    "        \"key\": config.API_KEY\n",
    "    }\n",
    "\n",
    "    try:\n",
    "        req = requests.get(GOOGLE_MAPS_API_URL, params=params)\n",
    "        res = req.json()\n",
    "        if len(res[\"results\"]) > 0:\n",
    "            lat = res['results'][0]['geometry']['location']['lat']\n",
    "            lon = res['results'][0]['geometry']['location']['lng']\n",
    "            formatted_address = res['results'][0]['formatted_address']\n",
    "        else:\n",
    "            lat = \"nil\"\n",
    "            lon = \"nil\"\n",
    "            formatted_address = \"nil\"\n",
    "    except ConnectionError:\n",
    "        lat = \"nil\"\n",
    "        lon = \"nil\"\n",
    "        formatted_address = \"nil\"\n",
    "\n",
    "    x = {\n",
    "        \"name\": row[\"name\"],\n",
    "        \"location\": row[\"location\"],\n",
    "        \"lat\": lat,\n",
    "        \"lon\": lon,\n",
    "        \"formatted_address\": formatted_address,\n",
    "        \"working_hours\": row[\"working_hours\"],\n",
    "        \"price_range\": row[\"price_range\"],\n",
    "        \"foodRating\": row[\"foodRating\"],\n",
    "        \"serviceRating\": row[\"serviceRating\"],\n",
    "        \"valueRating\": row[\"valueRating\"],\n",
    "        \"overallRating\": row[\"overallRating\"],\n",
    "        \"overallRatingCnt\": row[\"overallRatingCnt\"],\n",
    "    }\n",
    "    if type(row[\"tags\"]) == str:\n",
    "        x_tag_list = row[\"tags\"].split(\",\")\n",
    "        n = len(x_tag_list)\n",
    "        x_tag = {\n",
    "            t: 1 / n if t in x_tag_list else 0 for t in final_tags\n",
    "        }\n",
    "    else:\n",
    "        x_tag = {\n",
    "            t: 0 for t in final_tags\n",
    "        }\n",
    "    x.update(x_tag)\n",
    "    dataset.append(x)\n",
    "\n",
    "dataset = pd. DataFrame.from_dict(dataset)"
   ]
  },
  {
   "cell_type": "code",
   "execution_count": 19,
   "metadata": {
    "collapsed": false,
    "jupyter": {
     "outputs_hidden": false
    },
    "pycharm": {
     "name": "#%%\n"
    }
   },
   "outputs": [
    {
     "data": {
      "text/html": [
       "<div>\n",
       "<style scoped>\n",
       "    .dataframe tbody tr th:only-of-type {\n",
       "        vertical-align: middle;\n",
       "    }\n",
       "\n",
       "    .dataframe tbody tr th {\n",
       "        vertical-align: top;\n",
       "    }\n",
       "\n",
       "    .dataframe thead th {\n",
       "        text-align: right;\n",
       "    }\n",
       "</style>\n",
       "<table border=\"1\" class=\"dataframe\">\n",
       "  <thead>\n",
       "    <tr style=\"text-align: right;\">\n",
       "      <th></th>\n",
       "      <th>name</th>\n",
       "      <th>location</th>\n",
       "      <th>working_hours</th>\n",
       "      <th>price_range</th>\n",
       "      <th>tags</th>\n",
       "      <th>foodRating</th>\n",
       "      <th>serviceRating</th>\n",
       "      <th>valueRating</th>\n",
       "      <th>atmosphereRating</th>\n",
       "      <th>overallRating</th>\n",
       "      <th>overallRatingCnt</th>\n",
       "    </tr>\n",
       "  </thead>\n",
       "  <tbody>\n",
       "    <tr>\n",
       "      <th>314</th>\n",
       "      <td>The Auld Alliance</td>\n",
       "      <td>09 Bras Basah Road Rendezvous Hotel Singapore ...</td>\n",
       "      <td>Sun5:00 PM - 12:00 AM,Mon5:00 PM - 01:00 AM,Tu...</td>\n",
       "      <td>NaN</td>\n",
       "      <td>NaN</td>\n",
       "      <td>45</td>\n",
       "      <td>50</td>\n",
       "      <td>45</td>\n",
       "      <td>45</td>\n",
       "      <td>5.0</td>\n",
       "      <td>116</td>\n",
       "    </tr>\n",
       "    <tr>\n",
       "      <th>845</th>\n",
       "      <td>COCA Singapore - Leisure Park Kallang</td>\n",
       "      <td>5 Stadium Walk Leisure Park Kallang #02-01 Lei...</td>\n",
       "      <td>Sun11:15 AM - 10:30 PM,Mon11:15 AM - 10:30 PM,...</td>\n",
       "      <td>NaN</td>\n",
       "      <td>NaN</td>\n",
       "      <td>40</td>\n",
       "      <td>40</td>\n",
       "      <td>35</td>\n",
       "      <td>40</td>\n",
       "      <td>4.0</td>\n",
       "      <td>185</td>\n",
       "    </tr>\n",
       "    <tr>\n",
       "      <th>891</th>\n",
       "      <td>Elemen</td>\n",
       "      <td>10 Paya Lebar Road #03-13 Paya Lebar Quarter, ...</td>\n",
       "      <td>None</td>\n",
       "      <td>nil</td>\n",
       "      <td>NaN</td>\n",
       "      <td>45</td>\n",
       "      <td>40</td>\n",
       "      <td>40</td>\n",
       "      <td>40</td>\n",
       "      <td>4.0</td>\n",
       "      <td>99</td>\n",
       "    </tr>\n",
       "    <tr>\n",
       "      <th>1008</th>\n",
       "      <td>Lobby Lounge at Pan Pacific Orchard</td>\n",
       "      <td>10 Claymore Road Pan Pacific Orchard, Singapor...</td>\n",
       "      <td>None</td>\n",
       "      <td>NaN</td>\n",
       "      <td>NaN</td>\n",
       "      <td>40</td>\n",
       "      <td>45</td>\n",
       "      <td>40</td>\n",
       "      <td>40</td>\n",
       "      <td>4.5</td>\n",
       "      <td>89</td>\n",
       "    </tr>\n",
       "    <tr>\n",
       "      <th>1172</th>\n",
       "      <td>Operation Dagger</td>\n",
       "      <td>7 Ann Siang Road, Singapore 069689 Singapore</td>\n",
       "      <td>Tue6:00 PM - 12:00 AM,Wed6:00 PM - 12:00 AM,Th...</td>\n",
       "      <td>nil</td>\n",
       "      <td>NaN</td>\n",
       "      <td>45</td>\n",
       "      <td>45</td>\n",
       "      <td>40</td>\n",
       "      <td>nil</td>\n",
       "      <td>4.0</td>\n",
       "      <td>102</td>\n",
       "    </tr>\n",
       "    <tr>\n",
       "      <th>...</th>\n",
       "      <td>...</td>\n",
       "      <td>...</td>\n",
       "      <td>...</td>\n",
       "      <td>...</td>\n",
       "      <td>...</td>\n",
       "      <td>...</td>\n",
       "      <td>...</td>\n",
       "      <td>...</td>\n",
       "      <td>...</td>\n",
       "      <td>...</td>\n",
       "      <td>...</td>\n",
       "    </tr>\n",
       "    <tr>\n",
       "      <th>17136</th>\n",
       "      <td>The Coffee Bean &amp;amp; Tea Leaf</td>\n",
       "      <td>1 Woodlands Square Causeway Point 02-33 &amp;amp; ...</td>\n",
       "      <td>None</td>\n",
       "      <td>NaN</td>\n",
       "      <td>NaN</td>\n",
       "      <td>nil</td>\n",
       "      <td>nil</td>\n",
       "      <td>nil</td>\n",
       "      <td>nil</td>\n",
       "      <td>nil</td>\n",
       "      <td>nil</td>\n",
       "    </tr>\n",
       "    <tr>\n",
       "      <th>17139</th>\n",
       "      <td>Railway Seafood</td>\n",
       "      <td>1 Kaki Bukit View Techview Floor 01 Unit 1 01,...</td>\n",
       "      <td>None</td>\n",
       "      <td>nil</td>\n",
       "      <td>NaN</td>\n",
       "      <td>nil</td>\n",
       "      <td>nil</td>\n",
       "      <td>nil</td>\n",
       "      <td>nil</td>\n",
       "      <td>nil</td>\n",
       "      <td>nil</td>\n",
       "    </tr>\n",
       "    <tr>\n",
       "      <th>17141</th>\n",
       "      <td>Shabu Shabu Gyu Jin - 100AM</td>\n",
       "      <td>100AM Tras Street #03-10 100 am Shabu Shabu Gy...</td>\n",
       "      <td>None</td>\n",
       "      <td>nil</td>\n",
       "      <td>NaN</td>\n",
       "      <td>nil</td>\n",
       "      <td>nil</td>\n",
       "      <td>nil</td>\n",
       "      <td>nil</td>\n",
       "      <td>nil</td>\n",
       "      <td>nil</td>\n",
       "    </tr>\n",
       "    <tr>\n",
       "      <th>17145</th>\n",
       "      <td>Cafe 2000</td>\n",
       "      <td>81 Anson Road M Hotel, Singapore 079908 Singapore</td>\n",
       "      <td>None</td>\n",
       "      <td>nil</td>\n",
       "      <td>NaN</td>\n",
       "      <td>nil</td>\n",
       "      <td>nil</td>\n",
       "      <td>nil</td>\n",
       "      <td>nil</td>\n",
       "      <td>nil</td>\n",
       "      <td>nil</td>\n",
       "    </tr>\n",
       "    <tr>\n",
       "      <th>17147</th>\n",
       "      <td>Kalonn Craft Beer Bar</td>\n",
       "      <td>2 Tai Thong Crescent The Venue Shoppes Floor 0...</td>\n",
       "      <td>None</td>\n",
       "      <td>nil</td>\n",
       "      <td>NaN</td>\n",
       "      <td>nil</td>\n",
       "      <td>nil</td>\n",
       "      <td>nil</td>\n",
       "      <td>nil</td>\n",
       "      <td>nil</td>\n",
       "      <td>nil</td>\n",
       "    </tr>\n",
       "  </tbody>\n",
       "</table>\n",
       "<p>5876 rows × 11 columns</p>\n",
       "</div>"
      ],
      "text/plain": [
       "                                        name  \\\n",
       "314                        The Auld Alliance   \n",
       "845    COCA Singapore - Leisure Park Kallang   \n",
       "891                                   Elemen   \n",
       "1008     Lobby Lounge at Pan Pacific Orchard   \n",
       "1172                        Operation Dagger   \n",
       "...                                      ...   \n",
       "17136         The Coffee Bean &amp; Tea Leaf   \n",
       "17139                        Railway Seafood   \n",
       "17141            Shabu Shabu Gyu Jin - 100AM   \n",
       "17145                              Cafe 2000   \n",
       "17147                  Kalonn Craft Beer Bar   \n",
       "\n",
       "                                                location  \\\n",
       "314    09 Bras Basah Road Rendezvous Hotel Singapore ...   \n",
       "845    5 Stadium Walk Leisure Park Kallang #02-01 Lei...   \n",
       "891    10 Paya Lebar Road #03-13 Paya Lebar Quarter, ...   \n",
       "1008   10 Claymore Road Pan Pacific Orchard, Singapor...   \n",
       "1172        7 Ann Siang Road, Singapore 069689 Singapore   \n",
       "...                                                  ...   \n",
       "17136  1 Woodlands Square Causeway Point 02-33 &amp; ...   \n",
       "17139  1 Kaki Bukit View Techview Floor 01 Unit 1 01,...   \n",
       "17141  100AM Tras Street #03-10 100 am Shabu Shabu Gy...   \n",
       "17145  81 Anson Road M Hotel, Singapore 079908 Singapore   \n",
       "17147  2 Tai Thong Crescent The Venue Shoppes Floor 0...   \n",
       "\n",
       "                                           working_hours price_range tags  \\\n",
       "314    Sun5:00 PM - 12:00 AM,Mon5:00 PM - 01:00 AM,Tu...         NaN  NaN   \n",
       "845    Sun11:15 AM - 10:30 PM,Mon11:15 AM - 10:30 PM,...         NaN  NaN   \n",
       "891                                                 None         nil  NaN   \n",
       "1008                                                None         NaN  NaN   \n",
       "1172   Tue6:00 PM - 12:00 AM,Wed6:00 PM - 12:00 AM,Th...         nil  NaN   \n",
       "...                                                  ...         ...  ...   \n",
       "17136                                               None         NaN  NaN   \n",
       "17139                                               None         nil  NaN   \n",
       "17141                                               None         nil  NaN   \n",
       "17145                                               None         nil  NaN   \n",
       "17147                                               None         nil  NaN   \n",
       "\n",
       "      foodRating serviceRating valueRating atmosphereRating overallRating  \\\n",
       "314           45            50          45               45           5.0   \n",
       "845           40            40          35               40           4.0   \n",
       "891           45            40          40               40           4.0   \n",
       "1008          40            45          40               40           4.5   \n",
       "1172          45            45          40              nil           4.0   \n",
       "...          ...           ...         ...              ...           ...   \n",
       "17136        nil           nil         nil              nil           nil   \n",
       "17139        nil           nil         nil              nil           nil   \n",
       "17141        nil           nil         nil              nil           nil   \n",
       "17145        nil           nil         nil              nil           nil   \n",
       "17147        nil           nil         nil              nil           nil   \n",
       "\n",
       "      overallRatingCnt  \n",
       "314                116  \n",
       "845                185  \n",
       "891                 99  \n",
       "1008                89  \n",
       "1172               102  \n",
       "...                ...  \n",
       "17136              nil  \n",
       "17139              nil  \n",
       "17141              nil  \n",
       "17145              nil  \n",
       "17147              nil  \n",
       "\n",
       "[5876 rows x 11 columns]"
      ]
     },
     "execution_count": 19,
     "metadata": {},
     "output_type": "execute_result"
    }
   ],
   "source": [
    "df[df[\"tags\"].isnull()]"
   ]
  },
  {
   "cell_type": "code",
   "execution_count": 21,
   "metadata": {
    "collapsed": false,
    "jupyter": {
     "outputs_hidden": false
    },
    "pycharm": {
     "name": "#%%\n"
    }
   },
   "outputs": [
    {
     "data": {
      "text/plain": [
       "13778"
      ]
     },
     "execution_count": 21,
     "metadata": {},
     "output_type": "execute_result"
    }
   ],
   "source": [
    "len(df)"
   ]
  },
  {
   "cell_type": "code",
   "execution_count": 20,
   "metadata": {
    "collapsed": false,
    "jupyter": {
     "outputs_hidden": false
    },
    "pycharm": {
     "name": "#%%\n"
    }
   },
   "outputs": [],
   "source": [
    "df.to_csv(\"RestaurantProcessedData.csv\")"
   ]
  },
  {
   "cell_type": "code",
   "execution_count": 22,
   "metadata": {
    "collapsed": false,
    "jupyter": {
     "outputs_hidden": false
    },
    "pycharm": {
     "name": "#%%\n"
    }
   },
   "outputs": [],
   "source": [
    "empties = df[df[\"tags\"].isnull()]"
   ]
  },
  {
   "cell_type": "code",
   "execution_count": 24,
   "metadata": {
    "collapsed": false,
    "jupyter": {
     "outputs_hidden": false
    },
    "pycharm": {
     "name": "#%%\n"
    }
   },
   "outputs": [],
   "source": [
    "empties.to_csv(\"RestaurantsWithoutTags.csv\")"
   ]
  },
  {
   "cell_type": "code",
   "execution_count": 26,
   "outputs": [
    {
     "data": {
      "text/plain": "name                5876\nlocation            5876\nworking_hours       5876\nprice_range         2843\ntags                   0\nfoodRating          5876\nserviceRating       5876\nvalueRating         5876\natmosphereRating    5876\noverallRating       5876\noverallRatingCnt    5876\ndtype: int64"
     },
     "execution_count": 26,
     "metadata": {},
     "output_type": "execute_result"
    }
   ],
   "source": [
    "empties.count()"
   ],
   "metadata": {
    "collapsed": false,
    "pycharm": {
     "name": "#%%\n"
    }
   }
  },
  {
   "cell_type": "code",
   "execution_count": null,
   "outputs": [],
   "source": [],
   "metadata": {
    "collapsed": false,
    "pycharm": {
     "name": "#%%\n"
    }
   }
  }
 ],
 "metadata": {
  "kernelspec": {
   "display_name": "Python 3 (ipykernel)",
   "language": "python",
   "name": "python3"
  },
  "language_info": {
   "codemirror_mode": {
    "name": "ipython",
    "version": 3
   },
   "file_extension": ".py",
   "mimetype": "text/x-python",
   "name": "python",
   "nbconvert_exporter": "python",
   "pygments_lexer": "ipython3",
   "version": "3.9.12"
  }
 },
 "nbformat": 4,
 "nbformat_minor": 4
}