{
 "cells": [
  {
   "cell_type": "code",
   "execution_count": 2,
   "metadata": {
    "collapsed": true,
    "jupyter": {
     "outputs_hidden": true
    },
    "pycharm": {
     "name": "#%%\n"
    }
   },
   "outputs": [],
   "source": [
    "import numpy as np\n",
    "import pandas as pd\n",
    "import seaborn as sns\n",
    "import matplotlib.pyplot as plt"
   ]
  },
  {
   "cell_type": "code",
   "execution_count": 3,
   "metadata": {
    "collapsed": false,
    "jupyter": {
     "outputs_hidden": false
    },
    "pycharm": {
     "name": "#%%\n"
    }
   },
   "outputs": [],
   "source": [
    "df = pd.read_csv(\"RestaurantRawData.csv\", index_col=0)\n",
    "df = df.drop_duplicates()"
   ]
  },
  {
   "cell_type": "code",
   "execution_count": 4,
   "metadata": {
    "collapsed": false,
    "jupyter": {
     "outputs_hidden": false
    },
    "pycharm": {
     "name": "#%%\n"
    }
   },
   "outputs": [
    {
     "data": {
      "text/plain": [
       "13778"
      ]
     },
     "execution_count": 4,
     "metadata": {},
     "output_type": "execute_result"
    }
   ],
   "source": [
    "len(df)"
   ]
  },
  {
   "cell_type": "code",
   "execution_count": 5,
   "metadata": {
    "collapsed": false,
    "jupyter": {
     "outputs_hidden": false
    },
    "pycharm": {
     "name": "#%%\n"
    }
   },
   "outputs": [
    {
     "data": {
      "text/html": [
       "<div>\n",
       "<style scoped>\n",
       "    .dataframe tbody tr th:only-of-type {\n",
       "        vertical-align: middle;\n",
       "    }\n",
       "\n",
       "    .dataframe tbody tr th {\n",
       "        vertical-align: top;\n",
       "    }\n",
       "\n",
       "    .dataframe thead th {\n",
       "        text-align: right;\n",
       "    }\n",
       "</style>\n",
       "<table border=\"1\" class=\"dataframe\">\n",
       "  <thead>\n",
       "    <tr style=\"text-align: right;\">\n",
       "      <th></th>\n",
       "      <th>name</th>\n",
       "      <th>location</th>\n",
       "      <th>working_hours</th>\n",
       "      <th>price_range</th>\n",
       "      <th>tags</th>\n",
       "      <th>foodRating</th>\n",
       "      <th>serviceRating</th>\n",
       "      <th>valueRating</th>\n",
       "      <th>atmosphereRating</th>\n",
       "      <th>overallRating</th>\n",
       "      <th>overallRatingCnt</th>\n",
       "    </tr>\n",
       "  </thead>\n",
       "  <tbody>\n",
       "    <tr>\n",
       "      <th>0</th>\n",
       "      <td>BAM! Restaurant</td>\n",
       "      <td>38 Tras Street #38-40, Singapore 078977 Singapore</td>\n",
       "      <td>&lt;div class=\"fUbTx\"&gt;Tue&lt;/div&gt;&lt;div class=\"cFfqI\"...</td>\n",
       "      <td>NaN</td>\n",
       "      <td>Spanish,Fusion,Japanese Fusion</td>\n",
       "      <td>45</td>\n",
       "      <td>45</td>\n",
       "      <td>40</td>\n",
       "      <td>45</td>\n",
       "      <td>4.5</td>\n",
       "      <td>226</td>\n",
       "    </tr>\n",
       "    <tr>\n",
       "      <th>1</th>\n",
       "      <td>Entre-Nous creperie</td>\n",
       "      <td>27 Seah Street # 01-01, Singapore 188383 Singa...</td>\n",
       "      <td>&lt;div class=\"fUbTx\"&gt;Sun&lt;/div&gt;&lt;div class=\"cFfqI\"...</td>\n",
       "      <td>NaN</td>\n",
       "      <td>French,European,Healthy</td>\n",
       "      <td>50</td>\n",
       "      <td>50</td>\n",
       "      <td>45</td>\n",
       "      <td>40</td>\n",
       "      <td>5.0</td>\n",
       "      <td>1,555</td>\n",
       "    </tr>\n",
       "    <tr>\n",
       "      <th>2</th>\n",
       "      <td>The Courtyard</td>\n",
       "      <td>1 Fullerton Square Fullerton Hotel The Fullert...</td>\n",
       "      <td>&lt;div class=\"fUbTx\"&gt;Sun&lt;/div&gt;&lt;div class=\"cFfqI\"...</td>\n",
       "      <td>NaN</td>\n",
       "      <td>Japanese,Indian,International</td>\n",
       "      <td>40</td>\n",
       "      <td>45</td>\n",
       "      <td>40</td>\n",
       "      <td>45</td>\n",
       "      <td>4.5</td>\n",
       "      <td>1,450</td>\n",
       "    </tr>\n",
       "    <tr>\n",
       "      <th>3</th>\n",
       "      <td>Portman's Bar</td>\n",
       "      <td>6 Raffles Boulevard Marina Square Level 4 At P...</td>\n",
       "      <td>&lt;div class=\"fUbTx\"&gt;Sun&lt;/div&gt;&lt;div class=\"cFfqI\"...</td>\n",
       "      <td>NaN</td>\n",
       "      <td>Bar,Cafe,International</td>\n",
       "      <td>45</td>\n",
       "      <td>45</td>\n",
       "      <td>45</td>\n",
       "      <td>nil</td>\n",
       "      <td>5.0</td>\n",
       "      <td>270</td>\n",
       "    </tr>\n",
       "    <tr>\n",
       "      <th>4</th>\n",
       "      <td>Grand Shanghai Restaurant</td>\n",
       "      <td>390 Havelock Road King's Centre, Singapore 169...</td>\n",
       "      <td>&lt;div class=\"fUbTx\"&gt;Sun&lt;/div&gt;&lt;div class=\"cFfqI\"...</td>\n",
       "      <td>NaN</td>\n",
       "      <td>Chinese,Asian,Shanghai</td>\n",
       "      <td>40</td>\n",
       "      <td>40</td>\n",
       "      <td>35</td>\n",
       "      <td>40</td>\n",
       "      <td>5.0</td>\n",
       "      <td>641</td>\n",
       "    </tr>\n",
       "  </tbody>\n",
       "</table>\n",
       "</div>"
      ],
      "text/plain": [
       "                        name  \\\n",
       "0            BAM! Restaurant   \n",
       "1        Entre-Nous creperie   \n",
       "2              The Courtyard   \n",
       "3              Portman's Bar   \n",
       "4  Grand Shanghai Restaurant   \n",
       "\n",
       "                                            location  \\\n",
       "0  38 Tras Street #38-40, Singapore 078977 Singapore   \n",
       "1  27 Seah Street # 01-01, Singapore 188383 Singa...   \n",
       "2  1 Fullerton Square Fullerton Hotel The Fullert...   \n",
       "3  6 Raffles Boulevard Marina Square Level 4 At P...   \n",
       "4  390 Havelock Road King's Centre, Singapore 169...   \n",
       "\n",
       "                                       working_hours price_range  \\\n",
       "0  <div class=\"fUbTx\">Tue</div><div class=\"cFfqI\"...         NaN   \n",
       "1  <div class=\"fUbTx\">Sun</div><div class=\"cFfqI\"...         NaN   \n",
       "2  <div class=\"fUbTx\">Sun</div><div class=\"cFfqI\"...         NaN   \n",
       "3  <div class=\"fUbTx\">Sun</div><div class=\"cFfqI\"...         NaN   \n",
       "4  <div class=\"fUbTx\">Sun</div><div class=\"cFfqI\"...         NaN   \n",
       "\n",
       "                             tags foodRating serviceRating valueRating  \\\n",
       "0  Spanish,Fusion,Japanese Fusion         45            45          40   \n",
       "1         French,European,Healthy         50            50          45   \n",
       "2   Japanese,Indian,International         40            45          40   \n",
       "3          Bar,Cafe,International         45            45          45   \n",
       "4          Chinese,Asian,Shanghai         40            40          35   \n",
       "\n",
       "  atmosphereRating overallRating overallRatingCnt  \n",
       "0               45           4.5              226  \n",
       "1               40           5.0            1,555  \n",
       "2               45           4.5            1,450  \n",
       "3              nil           5.0              270  \n",
       "4               40           5.0              641  "
      ]
     },
     "execution_count": 5,
     "metadata": {},
     "output_type": "execute_result"
    }
   ],
   "source": [
    "df.head()"
   ]
  },
  {
   "cell_type": "code",
   "execution_count": 6,
   "metadata": {
    "collapsed": false,
    "jupyter": {
     "outputs_hidden": false
    },
    "pycharm": {
     "name": "#%%\n"
    }
   },
   "outputs": [],
   "source": [
    "from bs4 import BeautifulSoup"
   ]
  },
  {
   "cell_type": "code",
   "execution_count": 7,
   "metadata": {
    "collapsed": false,
    "jupyter": {
     "outputs_hidden": false
    },
    "pycharm": {
     "name": "#%%\n"
    }
   },
   "outputs": [],
   "source": [
    "df[\"working_hours\"] = df[\"working_hours\"].apply(lambda html: BeautifulSoup(html).get_text() if type(html) == str else \"None\")"
   ]
  },
  {
   "cell_type": "code",
   "execution_count": 8,
   "metadata": {
    "collapsed": false,
    "jupyter": {
     "outputs_hidden": false
    },
    "pycharm": {
     "name": "#%%\n"
    }
   },
   "outputs": [
    {
     "data": {
      "text/plain": [
       "3204"
      ]
     },
     "execution_count": 8,
     "metadata": {},
     "output_type": "execute_result"
    }
   ],
   "source": [
    "df[\"price_range\"].count()"
   ]
  },
  {
   "cell_type": "code",
   "execution_count": 9,
   "metadata": {
    "collapsed": false,
    "jupyter": {
     "outputs_hidden": false
    },
    "pycharm": {
     "name": "#%%\n"
    }
   },
   "outputs": [
    {
     "data": {
      "text/html": [
       "<div>\n",
       "<style scoped>\n",
       "    .dataframe tbody tr th:only-of-type {\n",
       "        vertical-align: middle;\n",
       "    }\n",
       "\n",
       "    .dataframe tbody tr th {\n",
       "        vertical-align: top;\n",
       "    }\n",
       "\n",
       "    .dataframe thead th {\n",
       "        text-align: right;\n",
       "    }\n",
       "</style>\n",
       "<table border=\"1\" class=\"dataframe\">\n",
       "  <thead>\n",
       "    <tr style=\"text-align: right;\">\n",
       "      <th></th>\n",
       "      <th>name</th>\n",
       "      <th>location</th>\n",
       "      <th>working_hours</th>\n",
       "      <th>price_range</th>\n",
       "      <th>tags</th>\n",
       "      <th>foodRating</th>\n",
       "      <th>serviceRating</th>\n",
       "      <th>valueRating</th>\n",
       "      <th>atmosphereRating</th>\n",
       "      <th>overallRating</th>\n",
       "      <th>overallRatingCnt</th>\n",
       "    </tr>\n",
       "  </thead>\n",
       "  <tbody>\n",
       "    <tr>\n",
       "      <th>0</th>\n",
       "      <td>BAM! Restaurant</td>\n",
       "      <td>38 Tras Street #38-40, Singapore 078977 Singapore</td>\n",
       "      <td>Tue12:00 PM - 2:00 PM6:00 PM - 10:30 PM,Wed12:...</td>\n",
       "      <td>NaN</td>\n",
       "      <td>Spanish,Fusion,Japanese Fusion</td>\n",
       "      <td>45</td>\n",
       "      <td>45</td>\n",
       "      <td>40</td>\n",
       "      <td>45</td>\n",
       "      <td>4.5</td>\n",
       "      <td>226</td>\n",
       "    </tr>\n",
       "    <tr>\n",
       "      <th>1</th>\n",
       "      <td>Entre-Nous creperie</td>\n",
       "      <td>27 Seah Street # 01-01, Singapore 188383 Singa...</td>\n",
       "      <td>Sun11:00 AM - 4:30 PM,Tue12:00 PM - 2:30 PM6:0...</td>\n",
       "      <td>NaN</td>\n",
       "      <td>French,European,Healthy</td>\n",
       "      <td>50</td>\n",
       "      <td>50</td>\n",
       "      <td>45</td>\n",
       "      <td>40</td>\n",
       "      <td>5.0</td>\n",
       "      <td>1,555</td>\n",
       "    </tr>\n",
       "    <tr>\n",
       "      <th>2</th>\n",
       "      <td>The Courtyard</td>\n",
       "      <td>1 Fullerton Square Fullerton Hotel The Fullert...</td>\n",
       "      <td>Sun10:30 AM - 6:00 PM,Mon10:30 AM - 6:00 PM,Tu...</td>\n",
       "      <td>NaN</td>\n",
       "      <td>Japanese,Indian,International</td>\n",
       "      <td>40</td>\n",
       "      <td>45</td>\n",
       "      <td>40</td>\n",
       "      <td>45</td>\n",
       "      <td>4.5</td>\n",
       "      <td>1,450</td>\n",
       "    </tr>\n",
       "    <tr>\n",
       "      <th>3</th>\n",
       "      <td>Portman's Bar</td>\n",
       "      <td>6 Raffles Boulevard Marina Square Level 4 At P...</td>\n",
       "      <td>Sun10:30 AM - 12:00 AM,Mon10:30 AM - 12:00 AM,...</td>\n",
       "      <td>NaN</td>\n",
       "      <td>Bar,Cafe,International</td>\n",
       "      <td>45</td>\n",
       "      <td>45</td>\n",
       "      <td>45</td>\n",
       "      <td>nil</td>\n",
       "      <td>5.0</td>\n",
       "      <td>270</td>\n",
       "    </tr>\n",
       "    <tr>\n",
       "      <th>4</th>\n",
       "      <td>Grand Shanghai Restaurant</td>\n",
       "      <td>390 Havelock Road King's Centre, Singapore 169...</td>\n",
       "      <td>Sun11:00 AM - 2:30 PM6:00 PM - 10:00 PM,Tue11:...</td>\n",
       "      <td>NaN</td>\n",
       "      <td>Chinese,Asian,Shanghai</td>\n",
       "      <td>40</td>\n",
       "      <td>40</td>\n",
       "      <td>35</td>\n",
       "      <td>40</td>\n",
       "      <td>5.0</td>\n",
       "      <td>641</td>\n",
       "    </tr>\n",
       "    <tr>\n",
       "      <th>...</th>\n",
       "      <td>...</td>\n",
       "      <td>...</td>\n",
       "      <td>...</td>\n",
       "      <td>...</td>\n",
       "      <td>...</td>\n",
       "      <td>...</td>\n",
       "      <td>...</td>\n",
       "      <td>...</td>\n",
       "      <td>...</td>\n",
       "      <td>...</td>\n",
       "      <td>...</td>\n",
       "    </tr>\n",
       "    <tr>\n",
       "      <th>103</th>\n",
       "      <td>Enjoy Eating House and Bar @ Stevens</td>\n",
       "      <td>30 Stevens Road #01-07, Singapore 257840 Singa...</td>\n",
       "      <td>Sun11:00 AM - 11:00 PM,Mon11:00 AM - 11:00 PM,...</td>\n",
       "      <td>NaN</td>\n",
       "      <td>Chinese,Asian,Singaporean</td>\n",
       "      <td>50</td>\n",
       "      <td>50</td>\n",
       "      <td>45</td>\n",
       "      <td>nil</td>\n",
       "      <td>5.0</td>\n",
       "      <td>81</td>\n",
       "    </tr>\n",
       "    <tr>\n",
       "      <th>105</th>\n",
       "      <td>Joie by Dozo</td>\n",
       "      <td>181 Orchard Road Orchard Central #12-01 Orchar...</td>\n",
       "      <td>Sun12:00 PM - 3:30 PM6:00 PM - 10:30 PM,Mon12:...</td>\n",
       "      <td>NaN</td>\n",
       "      <td>Asian,Vegetarian Friendly,Vegan Options</td>\n",
       "      <td>45</td>\n",
       "      <td>45</td>\n",
       "      <td>45</td>\n",
       "      <td>45</td>\n",
       "      <td>4.5</td>\n",
       "      <td>316</td>\n",
       "    </tr>\n",
       "    <tr>\n",
       "      <th>106</th>\n",
       "      <td>Yardbird Southern Table &amp;amp; Bar</td>\n",
       "      <td>2 Bayfront Avenue Marina Bay Sands B1-07, L1-8...</td>\n",
       "      <td>Sun10:00 AM - 10:00 PM,Mon12:00 PM - 10:00 PM,...</td>\n",
       "      <td>nil</td>\n",
       "      <td>American,Bar,Vegetarian Friendly</td>\n",
       "      <td>45</td>\n",
       "      <td>45</td>\n",
       "      <td>40</td>\n",
       "      <td>40</td>\n",
       "      <td>4.5</td>\n",
       "      <td>828</td>\n",
       "    </tr>\n",
       "    <tr>\n",
       "      <th>107</th>\n",
       "      <td>Yan Ting</td>\n",
       "      <td>29 Tanglin Road St. Regis Hotel Singapore The ...</td>\n",
       "      <td>Sun10:30 AM - 12:30 PM1:00 PM - 3:00 PM6:00 PM...</td>\n",
       "      <td>nil</td>\n",
       "      <td>Chinese,Asian,Cantonese</td>\n",
       "      <td>45</td>\n",
       "      <td>45</td>\n",
       "      <td>40</td>\n",
       "      <td>40</td>\n",
       "      <td>4.5</td>\n",
       "      <td>693</td>\n",
       "    </tr>\n",
       "    <tr>\n",
       "      <th>108</th>\n",
       "      <td>Peach Blossoms</td>\n",
       "      <td>6 Raffles Boulevard Level 5 Marina Square, Sin...</td>\n",
       "      <td>Sun11:00 AM - 3:00 PM6:30 PM - 11:00 PM,Mon12:...</td>\n",
       "      <td>nil</td>\n",
       "      <td>Chinese,Asian,Cantonese</td>\n",
       "      <td>45</td>\n",
       "      <td>45</td>\n",
       "      <td>40</td>\n",
       "      <td>40</td>\n",
       "      <td>4.5</td>\n",
       "      <td>623</td>\n",
       "    </tr>\n",
       "  </tbody>\n",
       "</table>\n",
       "<p>100 rows × 11 columns</p>\n",
       "</div>"
      ],
      "text/plain": [
       "                                     name  \\\n",
       "0                         BAM! Restaurant   \n",
       "1                     Entre-Nous creperie   \n",
       "2                           The Courtyard   \n",
       "3                           Portman's Bar   \n",
       "4               Grand Shanghai Restaurant   \n",
       "..                                    ...   \n",
       "103  Enjoy Eating House and Bar @ Stevens   \n",
       "105                          Joie by Dozo   \n",
       "106     Yardbird Southern Table &amp; Bar   \n",
       "107                              Yan Ting   \n",
       "108                        Peach Blossoms   \n",
       "\n",
       "                                              location  \\\n",
       "0    38 Tras Street #38-40, Singapore 078977 Singapore   \n",
       "1    27 Seah Street # 01-01, Singapore 188383 Singa...   \n",
       "2    1 Fullerton Square Fullerton Hotel The Fullert...   \n",
       "3    6 Raffles Boulevard Marina Square Level 4 At P...   \n",
       "4    390 Havelock Road King's Centre, Singapore 169...   \n",
       "..                                                 ...   \n",
       "103  30 Stevens Road #01-07, Singapore 257840 Singa...   \n",
       "105  181 Orchard Road Orchard Central #12-01 Orchar...   \n",
       "106  2 Bayfront Avenue Marina Bay Sands B1-07, L1-8...   \n",
       "107  29 Tanglin Road St. Regis Hotel Singapore The ...   \n",
       "108  6 Raffles Boulevard Level 5 Marina Square, Sin...   \n",
       "\n",
       "                                         working_hours price_range  \\\n",
       "0    Tue12:00 PM - 2:00 PM6:00 PM - 10:30 PM,Wed12:...         NaN   \n",
       "1    Sun11:00 AM - 4:30 PM,Tue12:00 PM - 2:30 PM6:0...         NaN   \n",
       "2    Sun10:30 AM - 6:00 PM,Mon10:30 AM - 6:00 PM,Tu...         NaN   \n",
       "3    Sun10:30 AM - 12:00 AM,Mon10:30 AM - 12:00 AM,...         NaN   \n",
       "4    Sun11:00 AM - 2:30 PM6:00 PM - 10:00 PM,Tue11:...         NaN   \n",
       "..                                                 ...         ...   \n",
       "103  Sun11:00 AM - 11:00 PM,Mon11:00 AM - 11:00 PM,...         NaN   \n",
       "105  Sun12:00 PM - 3:30 PM6:00 PM - 10:30 PM,Mon12:...         NaN   \n",
       "106  Sun10:00 AM - 10:00 PM,Mon12:00 PM - 10:00 PM,...         nil   \n",
       "107  Sun10:30 AM - 12:30 PM1:00 PM - 3:00 PM6:00 PM...         nil   \n",
       "108  Sun11:00 AM - 3:00 PM6:30 PM - 11:00 PM,Mon12:...         nil   \n",
       "\n",
       "                                        tags foodRating serviceRating  \\\n",
       "0             Spanish,Fusion,Japanese Fusion         45            45   \n",
       "1                    French,European,Healthy         50            50   \n",
       "2              Japanese,Indian,International         40            45   \n",
       "3                     Bar,Cafe,International         45            45   \n",
       "4                     Chinese,Asian,Shanghai         40            40   \n",
       "..                                       ...        ...           ...   \n",
       "103                Chinese,Asian,Singaporean         50            50   \n",
       "105  Asian,Vegetarian Friendly,Vegan Options         45            45   \n",
       "106         American,Bar,Vegetarian Friendly         45            45   \n",
       "107                  Chinese,Asian,Cantonese         45            45   \n",
       "108                  Chinese,Asian,Cantonese         45            45   \n",
       "\n",
       "    valueRating atmosphereRating overallRating overallRatingCnt  \n",
       "0            40               45           4.5              226  \n",
       "1            45               40           5.0            1,555  \n",
       "2            40               45           4.5            1,450  \n",
       "3            45              nil           5.0              270  \n",
       "4            35               40           5.0              641  \n",
       "..          ...              ...           ...              ...  \n",
       "103          45              nil           5.0               81  \n",
       "105          45               45           4.5              316  \n",
       "106          40               40           4.5              828  \n",
       "107          40               40           4.5              693  \n",
       "108          40               40           4.5              623  \n",
       "\n",
       "[100 rows x 11 columns]"
      ]
     },
     "execution_count": 9,
     "metadata": {},
     "output_type": "execute_result"
    }
   ],
   "source": [
    "df.head(n=100)"
   ]
  },
  {
   "cell_type": "markdown",
   "metadata": {
    "pycharm": {
     "name": "#%% md\n"
    }
   },
   "source": []
  },
  {
   "cell_type": "code",
   "execution_count": 10,
   "metadata": {
    "collapsed": false,
    "jupyter": {
     "outputs_hidden": false
    },
    "pycharm": {
     "name": "#%%\n"
    }
   },
   "outputs": [],
   "source": [
    "tags = df[\"tags\"].unique()"
   ]
  },
  {
   "cell_type": "code",
   "execution_count": 11,
   "metadata": {
    "collapsed": false,
    "jupyter": {
     "outputs_hidden": false
    },
    "pycharm": {
     "name": "#%%\n"
    }
   },
   "outputs": [
    {
     "name": "stdout",
     "output_type": "stream",
     "text": [
      "['Spanish,Fusion,Japanese Fusion' 'French,European,Healthy'\n",
      " 'Japanese,Indian,International' ... 'Japanese,Seafood,Barbecue'\n",
      " 'Asian,Fusion,Nonya/Malaysian' 'Cafe,Pub,Beer restaurants']\n"
     ]
    }
   ],
   "source": [
    "print(tags)"
   ]
  },
  {
   "cell_type": "code",
   "execution_count": 12,
   "metadata": {
    "collapsed": false,
    "jupyter": {
     "outputs_hidden": false
    },
    "pycharm": {
     "name": "#%%\n"
    }
   },
   "outputs": [],
   "source": [
    "final_tags = set()\n",
    "for tag in tags:\n",
    "    if type(tag) == str:\n",
    "        t_split = tag.split(\",\")\n",
    "        for t in t_split:\n",
    "            final_tags.add(t)"
   ]
  },
  {
   "cell_type": "code",
   "execution_count": 13,
   "metadata": {
    "collapsed": false,
    "jupyter": {
     "outputs_hidden": false
    },
    "pycharm": {
     "name": "#%%\n"
    }
   },
   "outputs": [
    {
     "name": "stdout",
     "output_type": "stream",
     "text": [
      "Fusion\n",
      "Bakeries\n",
      "Cantonese\n",
      "Sri Lankan\n",
      "Italian\n",
      "Spanish\n",
      "Northern-Italian\n",
      "Asian\n",
      "Seafood\n",
      "Gastropub\n",
      "Yunnan\n",
      "Central European\n",
      "Fruit parlours\n",
      "Danish\n",
      "Swiss\n",
      "Dining bars\n",
      "Sushi\n",
      "Thai\n",
      "Lebanese\n",
      "Egyptian\n",
      "South American\n",
      "Hokkaido cuisine\n",
      "Mongolian\n",
      "Turkish\n",
      "Persian\n",
      "Barbecue\n",
      "Fujian\n",
      "Israeli\n",
      "NorthEastern Chinese\n",
      "Pizza\n",
      "British\n",
      "Chinese\n",
      "Steakhouse\n",
      "European\n",
      "Singaporean\n",
      "Beer restaurants\n",
      "Ukrainian\n",
      "Belgian\n",
      "Middle Eastern\n",
      "Contemporary\n",
      "Peruvian\n",
      "Greek\n",
      "Soups\n",
      "Central American\n",
      "Kappo\n",
      "Wine Bar\n",
      "Eastern European\n",
      "Korean\n",
      "Halal\n",
      "NorthWestern Chinese\n",
      "Austrian\n",
      "Bar\n",
      "Afghan\n",
      "Latin\n",
      "Russian\n",
      "Mexican\n",
      "Cajun &amp; Creole\n",
      "Mediterranean\n",
      "Irish\n",
      "Basque\n",
      "Canadian\n",
      "African\n",
      "Kaiseki\n",
      "Malaysian\n",
      "Indian\n",
      "Fast food\n",
      "Diner\n",
      "Hong Kong\n",
      "Caribbean\n",
      "Cafe\n",
      "International\n",
      "Central Asian\n",
      "Beijing cuisine\n",
      "Brew Pub\n",
      "Nonya/Malaysian\n",
      "Scandinavian\n",
      "Japanese sweets parlour\n",
      "Hawaiian\n",
      "Indigenous\n",
      "Southern-Italian\n",
      "Portuguese\n",
      "New Zealand\n",
      "Deli\n",
      "Armenian\n",
      "Grill\n",
      "Medicinal foods\n",
      "Burmese\n",
      "German\n",
      "Caucasian\n",
      "French\n",
      "Moroccan\n",
      "Vegan Options\n",
      "American\n",
      "Gluten Free Options\n",
      "Vegetarian Friendly\n",
      "Australian\n",
      "Arabic\n",
      "Shanghai\n",
      "Hunan\n",
      "Tuscan\n",
      "Dessert\n",
      "Healthy\n",
      "Nepalese\n",
      "Indonesian\n",
      "Imperial Chinese\n",
      "Central-Italian\n",
      "Dutch\n",
      "Japanese\n",
      "Scottish\n",
      "Taiwanese\n",
      "Kosher\n",
      "Swedish\n",
      "Szechuan\n",
      "Japanese Fusion\n",
      "Pub\n",
      "Xinjiang\n",
      "Norwegian\n",
      "Brazilian\n",
      "Quick Bites\n",
      "Argentinian\n",
      "Philippine\n",
      "Street Food\n",
      "Cuban\n",
      "Speciality Food Market\n",
      "Vietnamese\n",
      "Pakistani\n",
      "Southwestern\n"
     ]
    }
   ],
   "source": [
    "for t in final_tags:\n",
    "    print(t)"
   ]
  },
  {
   "cell_type": "code",
   "execution_count": 14,
   "metadata": {
    "collapsed": false,
    "jupyter": {
     "outputs_hidden": false
    },
    "pycharm": {
     "name": "#%%\n"
    }
   },
   "outputs": [
    {
     "data": {
      "text/plain": [
       "127"
      ]
     },
     "execution_count": 14,
     "metadata": {},
     "output_type": "execute_result"
    }
   ],
   "source": [
    "len(final_tags)"
   ]
  },
  {
   "cell_type": "code",
   "execution_count": 15,
   "metadata": {
    "collapsed": false,
    "jupyter": {
     "outputs_hidden": false
    },
    "pycharm": {
     "name": "#%%\n"
    }
   },
   "outputs": [
    {
     "data": {
      "text/html": [
       "<div>\n",
       "<style scoped>\n",
       "    .dataframe tbody tr th:only-of-type {\n",
       "        vertical-align: middle;\n",
       "    }\n",
       "\n",
       "    .dataframe tbody tr th {\n",
       "        vertical-align: top;\n",
       "    }\n",
       "\n",
       "    .dataframe thead th {\n",
       "        text-align: right;\n",
       "    }\n",
       "</style>\n",
       "<table border=\"1\" class=\"dataframe\">\n",
       "  <thead>\n",
       "    <tr style=\"text-align: right;\">\n",
       "      <th></th>\n",
       "      <th>name</th>\n",
       "      <th>location</th>\n",
       "      <th>working_hours</th>\n",
       "      <th>price_range</th>\n",
       "      <th>tags</th>\n",
       "      <th>foodRating</th>\n",
       "      <th>serviceRating</th>\n",
       "      <th>valueRating</th>\n",
       "      <th>atmosphereRating</th>\n",
       "      <th>overallRating</th>\n",
       "      <th>overallRatingCnt</th>\n",
       "    </tr>\n",
       "  </thead>\n",
       "  <tbody>\n",
       "    <tr>\n",
       "      <th>0</th>\n",
       "      <td>BAM! Restaurant</td>\n",
       "      <td>38 Tras Street #38-40, Singapore 078977 Singapore</td>\n",
       "      <td>Tue12:00 PM - 2:00 PM6:00 PM - 10:30 PM,Wed12:...</td>\n",
       "      <td>NaN</td>\n",
       "      <td>Spanish,Fusion,Japanese Fusion</td>\n",
       "      <td>45</td>\n",
       "      <td>45</td>\n",
       "      <td>40</td>\n",
       "      <td>45</td>\n",
       "      <td>4.5</td>\n",
       "      <td>226</td>\n",
       "    </tr>\n",
       "    <tr>\n",
       "      <th>1</th>\n",
       "      <td>Entre-Nous creperie</td>\n",
       "      <td>27 Seah Street # 01-01, Singapore 188383 Singa...</td>\n",
       "      <td>Sun11:00 AM - 4:30 PM,Tue12:00 PM - 2:30 PM6:0...</td>\n",
       "      <td>NaN</td>\n",
       "      <td>French,European,Healthy</td>\n",
       "      <td>50</td>\n",
       "      <td>50</td>\n",
       "      <td>45</td>\n",
       "      <td>40</td>\n",
       "      <td>5.0</td>\n",
       "      <td>1,555</td>\n",
       "    </tr>\n",
       "    <tr>\n",
       "      <th>2</th>\n",
       "      <td>The Courtyard</td>\n",
       "      <td>1 Fullerton Square Fullerton Hotel The Fullert...</td>\n",
       "      <td>Sun10:30 AM - 6:00 PM,Mon10:30 AM - 6:00 PM,Tu...</td>\n",
       "      <td>NaN</td>\n",
       "      <td>Japanese,Indian,International</td>\n",
       "      <td>40</td>\n",
       "      <td>45</td>\n",
       "      <td>40</td>\n",
       "      <td>45</td>\n",
       "      <td>4.5</td>\n",
       "      <td>1,450</td>\n",
       "    </tr>\n",
       "    <tr>\n",
       "      <th>3</th>\n",
       "      <td>Portman's Bar</td>\n",
       "      <td>6 Raffles Boulevard Marina Square Level 4 At P...</td>\n",
       "      <td>Sun10:30 AM - 12:00 AM,Mon10:30 AM - 12:00 AM,...</td>\n",
       "      <td>NaN</td>\n",
       "      <td>Bar,Cafe,International</td>\n",
       "      <td>45</td>\n",
       "      <td>45</td>\n",
       "      <td>45</td>\n",
       "      <td>nil</td>\n",
       "      <td>5.0</td>\n",
       "      <td>270</td>\n",
       "    </tr>\n",
       "    <tr>\n",
       "      <th>4</th>\n",
       "      <td>Grand Shanghai Restaurant</td>\n",
       "      <td>390 Havelock Road King's Centre, Singapore 169...</td>\n",
       "      <td>Sun11:00 AM - 2:30 PM6:00 PM - 10:00 PM,Tue11:...</td>\n",
       "      <td>NaN</td>\n",
       "      <td>Chinese,Asian,Shanghai</td>\n",
       "      <td>40</td>\n",
       "      <td>40</td>\n",
       "      <td>35</td>\n",
       "      <td>40</td>\n",
       "      <td>5.0</td>\n",
       "      <td>641</td>\n",
       "    </tr>\n",
       "  </tbody>\n",
       "</table>\n",
       "</div>"
      ],
      "text/plain": [
       "                        name  \\\n",
       "0            BAM! Restaurant   \n",
       "1        Entre-Nous creperie   \n",
       "2              The Courtyard   \n",
       "3              Portman's Bar   \n",
       "4  Grand Shanghai Restaurant   \n",
       "\n",
       "                                            location  \\\n",
       "0  38 Tras Street #38-40, Singapore 078977 Singapore   \n",
       "1  27 Seah Street # 01-01, Singapore 188383 Singa...   \n",
       "2  1 Fullerton Square Fullerton Hotel The Fullert...   \n",
       "3  6 Raffles Boulevard Marina Square Level 4 At P...   \n",
       "4  390 Havelock Road King's Centre, Singapore 169...   \n",
       "\n",
       "                                       working_hours price_range  \\\n",
       "0  Tue12:00 PM - 2:00 PM6:00 PM - 10:30 PM,Wed12:...         NaN   \n",
       "1  Sun11:00 AM - 4:30 PM,Tue12:00 PM - 2:30 PM6:0...         NaN   \n",
       "2  Sun10:30 AM - 6:00 PM,Mon10:30 AM - 6:00 PM,Tu...         NaN   \n",
       "3  Sun10:30 AM - 12:00 AM,Mon10:30 AM - 12:00 AM,...         NaN   \n",
       "4  Sun11:00 AM - 2:30 PM6:00 PM - 10:00 PM,Tue11:...         NaN   \n",
       "\n",
       "                             tags foodRating serviceRating valueRating  \\\n",
       "0  Spanish,Fusion,Japanese Fusion         45            45          40   \n",
       "1         French,European,Healthy         50            50          45   \n",
       "2   Japanese,Indian,International         40            45          40   \n",
       "3          Bar,Cafe,International         45            45          45   \n",
       "4          Chinese,Asian,Shanghai         40            40          35   \n",
       "\n",
       "  atmosphereRating overallRating overallRatingCnt  \n",
       "0               45           4.5              226  \n",
       "1               40           5.0            1,555  \n",
       "2               45           4.5            1,450  \n",
       "3              nil           5.0              270  \n",
       "4               40           5.0              641  "
      ]
     },
     "execution_count": 15,
     "metadata": {},
     "output_type": "execute_result"
    }
   ],
   "source": [
    "df.head()"
   ]
  },
  {
   "cell_type": "code",
   "execution_count": 62,
   "metadata": {
    "collapsed": false,
    "jupyter": {
     "outputs_hidden": false
    },
    "pycharm": {
     "name": "#%%\n"
    }
   },
   "outputs": [],
   "source": [
    "final_tags = sorted(list(final_tags))"
   ]
  },
  {
   "cell_type": "code",
   "execution_count": 63,
   "outputs": [
    {
     "data": {
      "text/plain": "['Afghan',\n 'African',\n 'American',\n 'Arabic',\n 'Argentinian',\n 'Armenian',\n 'Asian',\n 'Australian',\n 'Austrian',\n 'Bakeries',\n 'Bar',\n 'Barbecue',\n 'Basque',\n 'Beer restaurants',\n 'Beijing cuisine',\n 'Belgian',\n 'Brazilian',\n 'Brew Pub',\n 'British',\n 'Burmese',\n 'Cafe',\n 'Cajun &amp; Creole',\n 'Canadian',\n 'Cantonese',\n 'Caribbean',\n 'Caucasian',\n 'Central American',\n 'Central Asian',\n 'Central European',\n 'Central-Italian',\n 'Chinese',\n 'Contemporary',\n 'Cuban',\n 'Danish',\n 'Deli',\n 'Dessert',\n 'Diner',\n 'Dining bars',\n 'Dutch',\n 'Eastern European',\n 'Egyptian',\n 'European',\n 'Fast food',\n 'French',\n 'Fruit parlours',\n 'Fujian',\n 'Fusion',\n 'Gastropub',\n 'German',\n 'Gluten Free Options',\n 'Greek',\n 'Grill',\n 'Halal',\n 'Hawaiian',\n 'Healthy',\n 'Hokkaido cuisine',\n 'Hong Kong',\n 'Hunan',\n 'Imperial Chinese',\n 'Indian',\n 'Indigenous',\n 'Indonesian',\n 'International',\n 'Irish',\n 'Israeli',\n 'Italian',\n 'Japanese',\n 'Japanese Fusion',\n 'Japanese sweets parlour',\n 'Kaiseki',\n 'Kappo',\n 'Korean',\n 'Kosher',\n 'Latin',\n 'Lebanese',\n 'Malaysian',\n 'Medicinal foods',\n 'Mediterranean',\n 'Mexican',\n 'Middle Eastern',\n 'Mongolian',\n 'Moroccan',\n 'Nepalese',\n 'New Zealand',\n 'Nonya/Malaysian',\n 'NorthEastern Chinese',\n 'NorthWestern Chinese',\n 'Northern-Italian',\n 'Norwegian',\n 'Pakistani',\n 'Persian',\n 'Peruvian',\n 'Philippine',\n 'Pizza',\n 'Portuguese',\n 'Pub',\n 'Quick Bites',\n 'Russian',\n 'Scandinavian',\n 'Scottish',\n 'Seafood',\n 'Shanghai',\n 'Singaporean',\n 'Soups',\n 'South American',\n 'Southern-Italian',\n 'Southwestern',\n 'Spanish',\n 'Speciality Food Market',\n 'Sri Lankan',\n 'Steakhouse',\n 'Street Food',\n 'Sushi',\n 'Swedish',\n 'Swiss',\n 'Szechuan',\n 'Taiwanese',\n 'Thai',\n 'Turkish',\n 'Tuscan',\n 'Ukrainian',\n 'Vegan Options',\n 'Vegetarian Friendly',\n 'Vietnamese',\n 'Wine Bar',\n 'Xinjiang',\n 'Yunnan']"
     },
     "execution_count": 63,
     "metadata": {},
     "output_type": "execute_result"
    }
   ],
   "source": [
    "final_tags"
   ],
   "metadata": {
    "collapsed": false,
    "pycharm": {
     "name": "#%%\n"
    }
   }
  },
  {
   "cell_type": "code",
   "execution_count": 64,
   "outputs": [],
   "source": [
    "with open(\"tags.csv\", \"w\") as f:\n",
    "    for tag in final_tags:\n",
    "        f.write(tag + \",\")"
   ],
   "metadata": {
    "collapsed": false,
    "pycharm": {
     "name": "#%%\n"
    }
   }
  },
  {
   "cell_type": "code",
   "execution_count": 17,
   "metadata": {
    "collapsed": false,
    "jupyter": {
     "outputs_hidden": false
    },
    "pycharm": {
     "name": "#%%\n"
    }
   },
   "outputs": [],
   "source": [
    "import requests\n",
    "import config"
   ]
  },
  {
   "cell_type": "code",
   "execution_count": 18,
   "metadata": {
    "collapsed": false,
    "jupyter": {
     "outputs_hidden": false
    },
    "pycharm": {
     "name": "#%%\n"
    }
   },
   "outputs": [],
   "source": [
    "dataset = []\n",
    "\n",
    "GOOGLE_MAPS_API_URL = \"https://maps.googleapis.com/maps/api/geocode/json\"\n",
    "\n",
    "for idx, row in df.iterrows():\n",
    "    params = {\n",
    "        \"address\": row[\"location\"],\n",
    "        \"sensor\": \"false\",\n",
    "        \"region\": \"singapore\",\n",
    "        \"key\": config.API_KEY\n",
    "    }\n",
    "\n",
    "    try:\n",
    "        req = requests.get(GOOGLE_MAPS_API_URL, params=params)\n",
    "        res = req.json()\n",
    "        if len(res[\"results\"]) > 0:\n",
    "            lat = res['results'][0]['geometry']['location']['lat']\n",
    "            lon = res['results'][0]['geometry']['location']['lng']\n",
    "            formatted_address = res['results'][0]['formatted_address']\n",
    "        else:\n",
    "            lat = \"nil\"\n",
    "            lon = \"nil\"\n",
    "            formatted_address = \"nil\"\n",
    "    except ConnectionError:\n",
    "        lat = \"nil\"\n",
    "        lon = \"nil\"\n",
    "        formatted_address = \"nil\"\n",
    "\n",
    "    x = {\n",
    "        \"name\": row[\"name\"],\n",
    "        \"location\": row[\"location\"],\n",
    "        \"lat\": lat,\n",
    "        \"lon\": lon,\n",
    "        \"formatted_address\": formatted_address,\n",
    "        \"working_hours\": row[\"working_hours\"],\n",
    "        \"price_range\": row[\"price_range\"],\n",
    "        \"foodRating\": row[\"foodRating\"],\n",
    "        \"serviceRating\": row[\"serviceRating\"],\n",
    "        \"valueRating\": row[\"valueRating\"],\n",
    "        \"overallRating\": row[\"overallRating\"],\n",
    "        \"overallRatingCnt\": row[\"overallRatingCnt\"],\n",
    "    }\n",
    "    if type(row[\"tags\"]) == str:\n",
    "        x_tag_list = row[\"tags\"].split(\",\")\n",
    "        n = len(x_tag_list)\n",
    "        x_tag = {\n",
    "            t: 1 / n if t in x_tag_list else 0 for t in final_tags\n",
    "        }\n",
    "    else:\n",
    "        x_tag = {\n",
    "            t: 0 for t in final_tags\n",
    "        }\n",
    "    x.update(x_tag)\n",
    "    dataset.append(x)\n",
    "\n",
    "dataset = pd. DataFrame.from_dict(dataset)"
   ]
  },
  {
   "cell_type": "code",
   "execution_count": 19,
   "metadata": {
    "collapsed": false,
    "jupyter": {
     "outputs_hidden": false
    },
    "pycharm": {
     "name": "#%%\n"
    }
   },
   "outputs": [
    {
     "data": {
      "text/html": [
       "<div>\n",
       "<style scoped>\n",
       "    .dataframe tbody tr th:only-of-type {\n",
       "        vertical-align: middle;\n",
       "    }\n",
       "\n",
       "    .dataframe tbody tr th {\n",
       "        vertical-align: top;\n",
       "    }\n",
       "\n",
       "    .dataframe thead th {\n",
       "        text-align: right;\n",
       "    }\n",
       "</style>\n",
       "<table border=\"1\" class=\"dataframe\">\n",
       "  <thead>\n",
       "    <tr style=\"text-align: right;\">\n",
       "      <th></th>\n",
       "      <th>name</th>\n",
       "      <th>location</th>\n",
       "      <th>working_hours</th>\n",
       "      <th>price_range</th>\n",
       "      <th>tags</th>\n",
       "      <th>foodRating</th>\n",
       "      <th>serviceRating</th>\n",
       "      <th>valueRating</th>\n",
       "      <th>atmosphereRating</th>\n",
       "      <th>overallRating</th>\n",
       "      <th>overallRatingCnt</th>\n",
       "    </tr>\n",
       "  </thead>\n",
       "  <tbody>\n",
       "    <tr>\n",
       "      <th>314</th>\n",
       "      <td>The Auld Alliance</td>\n",
       "      <td>09 Bras Basah Road Rendezvous Hotel Singapore ...</td>\n",
       "      <td>Sun5:00 PM - 12:00 AM,Mon5:00 PM - 01:00 AM,Tu...</td>\n",
       "      <td>NaN</td>\n",
       "      <td>NaN</td>\n",
       "      <td>45</td>\n",
       "      <td>50</td>\n",
       "      <td>45</td>\n",
       "      <td>45</td>\n",
       "      <td>5.0</td>\n",
       "      <td>116</td>\n",
       "    </tr>\n",
       "    <tr>\n",
       "      <th>845</th>\n",
       "      <td>COCA Singapore - Leisure Park Kallang</td>\n",
       "      <td>5 Stadium Walk Leisure Park Kallang #02-01 Lei...</td>\n",
       "      <td>Sun11:15 AM - 10:30 PM,Mon11:15 AM - 10:30 PM,...</td>\n",
       "      <td>NaN</td>\n",
       "      <td>NaN</td>\n",
       "      <td>40</td>\n",
       "      <td>40</td>\n",
       "      <td>35</td>\n",
       "      <td>40</td>\n",
       "      <td>4.0</td>\n",
       "      <td>185</td>\n",
       "    </tr>\n",
       "    <tr>\n",
       "      <th>891</th>\n",
       "      <td>Elemen</td>\n",
       "      <td>10 Paya Lebar Road #03-13 Paya Lebar Quarter, ...</td>\n",
       "      <td>None</td>\n",
       "      <td>nil</td>\n",
       "      <td>NaN</td>\n",
       "      <td>45</td>\n",
       "      <td>40</td>\n",
       "      <td>40</td>\n",
       "      <td>40</td>\n",
       "      <td>4.0</td>\n",
       "      <td>99</td>\n",
       "    </tr>\n",
       "    <tr>\n",
       "      <th>1008</th>\n",
       "      <td>Lobby Lounge at Pan Pacific Orchard</td>\n",
       "      <td>10 Claymore Road Pan Pacific Orchard, Singapor...</td>\n",
       "      <td>None</td>\n",
       "      <td>NaN</td>\n",
       "      <td>NaN</td>\n",
       "      <td>40</td>\n",
       "      <td>45</td>\n",
       "      <td>40</td>\n",
       "      <td>40</td>\n",
       "      <td>4.5</td>\n",
       "      <td>89</td>\n",
       "    </tr>\n",
       "    <tr>\n",
       "      <th>1172</th>\n",
       "      <td>Operation Dagger</td>\n",
       "      <td>7 Ann Siang Road, Singapore 069689 Singapore</td>\n",
       "      <td>Tue6:00 PM - 12:00 AM,Wed6:00 PM - 12:00 AM,Th...</td>\n",
       "      <td>nil</td>\n",
       "      <td>NaN</td>\n",
       "      <td>45</td>\n",
       "      <td>45</td>\n",
       "      <td>40</td>\n",
       "      <td>nil</td>\n",
       "      <td>4.0</td>\n",
       "      <td>102</td>\n",
       "    </tr>\n",
       "    <tr>\n",
       "      <th>...</th>\n",
       "      <td>...</td>\n",
       "      <td>...</td>\n",
       "      <td>...</td>\n",
       "      <td>...</td>\n",
       "      <td>...</td>\n",
       "      <td>...</td>\n",
       "      <td>...</td>\n",
       "      <td>...</td>\n",
       "      <td>...</td>\n",
       "      <td>...</td>\n",
       "      <td>...</td>\n",
       "    </tr>\n",
       "    <tr>\n",
       "      <th>17136</th>\n",
       "      <td>The Coffee Bean &amp;amp; Tea Leaf</td>\n",
       "      <td>1 Woodlands Square Causeway Point 02-33 &amp;amp; ...</td>\n",
       "      <td>None</td>\n",
       "      <td>NaN</td>\n",
       "      <td>NaN</td>\n",
       "      <td>nil</td>\n",
       "      <td>nil</td>\n",
       "      <td>nil</td>\n",
       "      <td>nil</td>\n",
       "      <td>nil</td>\n",
       "      <td>nil</td>\n",
       "    </tr>\n",
       "    <tr>\n",
       "      <th>17139</th>\n",
       "      <td>Railway Seafood</td>\n",
       "      <td>1 Kaki Bukit View Techview Floor 01 Unit 1 01,...</td>\n",
       "      <td>None</td>\n",
       "      <td>nil</td>\n",
       "      <td>NaN</td>\n",
       "      <td>nil</td>\n",
       "      <td>nil</td>\n",
       "      <td>nil</td>\n",
       "      <td>nil</td>\n",
       "      <td>nil</td>\n",
       "      <td>nil</td>\n",
       "    </tr>\n",
       "    <tr>\n",
       "      <th>17141</th>\n",
       "      <td>Shabu Shabu Gyu Jin - 100AM</td>\n",
       "      <td>100AM Tras Street #03-10 100 am Shabu Shabu Gy...</td>\n",
       "      <td>None</td>\n",
       "      <td>nil</td>\n",
       "      <td>NaN</td>\n",
       "      <td>nil</td>\n",
       "      <td>nil</td>\n",
       "      <td>nil</td>\n",
       "      <td>nil</td>\n",
       "      <td>nil</td>\n",
       "      <td>nil</td>\n",
       "    </tr>\n",
       "    <tr>\n",
       "      <th>17145</th>\n",
       "      <td>Cafe 2000</td>\n",
       "      <td>81 Anson Road M Hotel, Singapore 079908 Singapore</td>\n",
       "      <td>None</td>\n",
       "      <td>nil</td>\n",
       "      <td>NaN</td>\n",
       "      <td>nil</td>\n",
       "      <td>nil</td>\n",
       "      <td>nil</td>\n",
       "      <td>nil</td>\n",
       "      <td>nil</td>\n",
       "      <td>nil</td>\n",
       "    </tr>\n",
       "    <tr>\n",
       "      <th>17147</th>\n",
       "      <td>Kalonn Craft Beer Bar</td>\n",
       "      <td>2 Tai Thong Crescent The Venue Shoppes Floor 0...</td>\n",
       "      <td>None</td>\n",
       "      <td>nil</td>\n",
       "      <td>NaN</td>\n",
       "      <td>nil</td>\n",
       "      <td>nil</td>\n",
       "      <td>nil</td>\n",
       "      <td>nil</td>\n",
       "      <td>nil</td>\n",
       "      <td>nil</td>\n",
       "    </tr>\n",
       "  </tbody>\n",
       "</table>\n",
       "<p>5876 rows × 11 columns</p>\n",
       "</div>"
      ],
      "text/plain": [
       "                                        name  \\\n",
       "314                        The Auld Alliance   \n",
       "845    COCA Singapore - Leisure Park Kallang   \n",
       "891                                   Elemen   \n",
       "1008     Lobby Lounge at Pan Pacific Orchard   \n",
       "1172                        Operation Dagger   \n",
       "...                                      ...   \n",
       "17136         The Coffee Bean &amp; Tea Leaf   \n",
       "17139                        Railway Seafood   \n",
       "17141            Shabu Shabu Gyu Jin - 100AM   \n",
       "17145                              Cafe 2000   \n",
       "17147                  Kalonn Craft Beer Bar   \n",
       "\n",
       "                                                location  \\\n",
       "314    09 Bras Basah Road Rendezvous Hotel Singapore ...   \n",
       "845    5 Stadium Walk Leisure Park Kallang #02-01 Lei...   \n",
       "891    10 Paya Lebar Road #03-13 Paya Lebar Quarter, ...   \n",
       "1008   10 Claymore Road Pan Pacific Orchard, Singapor...   \n",
       "1172        7 Ann Siang Road, Singapore 069689 Singapore   \n",
       "...                                                  ...   \n",
       "17136  1 Woodlands Square Causeway Point 02-33 &amp; ...   \n",
       "17139  1 Kaki Bukit View Techview Floor 01 Unit 1 01,...   \n",
       "17141  100AM Tras Street #03-10 100 am Shabu Shabu Gy...   \n",
       "17145  81 Anson Road M Hotel, Singapore 079908 Singapore   \n",
       "17147  2 Tai Thong Crescent The Venue Shoppes Floor 0...   \n",
       "\n",
       "                                           working_hours price_range tags  \\\n",
       "314    Sun5:00 PM - 12:00 AM,Mon5:00 PM - 01:00 AM,Tu...         NaN  NaN   \n",
       "845    Sun11:15 AM - 10:30 PM,Mon11:15 AM - 10:30 PM,...         NaN  NaN   \n",
       "891                                                 None         nil  NaN   \n",
       "1008                                                None         NaN  NaN   \n",
       "1172   Tue6:00 PM - 12:00 AM,Wed6:00 PM - 12:00 AM,Th...         nil  NaN   \n",
       "...                                                  ...         ...  ...   \n",
       "17136                                               None         NaN  NaN   \n",
       "17139                                               None         nil  NaN   \n",
       "17141                                               None         nil  NaN   \n",
       "17145                                               None         nil  NaN   \n",
       "17147                                               None         nil  NaN   \n",
       "\n",
       "      foodRating serviceRating valueRating atmosphereRating overallRating  \\\n",
       "314           45            50          45               45           5.0   \n",
       "845           40            40          35               40           4.0   \n",
       "891           45            40          40               40           4.0   \n",
       "1008          40            45          40               40           4.5   \n",
       "1172          45            45          40              nil           4.0   \n",
       "...          ...           ...         ...              ...           ...   \n",
       "17136        nil           nil         nil              nil           nil   \n",
       "17139        nil           nil         nil              nil           nil   \n",
       "17141        nil           nil         nil              nil           nil   \n",
       "17145        nil           nil         nil              nil           nil   \n",
       "17147        nil           nil         nil              nil           nil   \n",
       "\n",
       "      overallRatingCnt  \n",
       "314                116  \n",
       "845                185  \n",
       "891                 99  \n",
       "1008                89  \n",
       "1172               102  \n",
       "...                ...  \n",
       "17136              nil  \n",
       "17139              nil  \n",
       "17141              nil  \n",
       "17145              nil  \n",
       "17147              nil  \n",
       "\n",
       "[5876 rows x 11 columns]"
      ]
     },
     "execution_count": 19,
     "metadata": {},
     "output_type": "execute_result"
    }
   ],
   "source": [
    "df[df[\"tags\"].isnull()]"
   ]
  },
  {
   "cell_type": "code",
   "execution_count": 34,
   "outputs": [
    {
     "data": {
      "text/plain": "name                13778\nlocation            13778\nworking_hours       13778\nprice_range          3204\ntags                 7902\nfoodRating          13778\nserviceRating       13778\nvalueRating         13778\natmosphereRating    13778\noverallRating       13778\noverallRatingCnt    13778\ndtype: int64"
     },
     "execution_count": 34,
     "metadata": {},
     "output_type": "execute_result"
    }
   ],
   "source": [
    "df.count()"
   ],
   "metadata": {
    "collapsed": false,
    "pycharm": {
     "name": "#%%\n"
    }
   }
  },
  {
   "cell_type": "code",
   "execution_count": 21,
   "metadata": {
    "collapsed": false,
    "jupyter": {
     "outputs_hidden": false
    },
    "pycharm": {
     "name": "#%%\n"
    }
   },
   "outputs": [
    {
     "data": {
      "text/plain": [
       "13778"
      ]
     },
     "execution_count": 21,
     "metadata": {},
     "output_type": "execute_result"
    }
   ],
   "source": [
    "len(df)"
   ]
  },
  {
   "cell_type": "code",
   "execution_count": 20,
   "metadata": {
    "collapsed": false,
    "jupyter": {
     "outputs_hidden": false
    },
    "pycharm": {
     "name": "#%%\n"
    }
   },
   "outputs": [],
   "source": [
    "df.to_csv(\"RestaurantProcessedData.csv\")"
   ]
  },
  {
   "cell_type": "code",
   "execution_count": 22,
   "metadata": {
    "collapsed": false,
    "jupyter": {
     "outputs_hidden": false
    },
    "pycharm": {
     "name": "#%%\n"
    }
   },
   "outputs": [],
   "source": [
    "empties = df[df[\"tags\"].isnull()]"
   ]
  },
  {
   "cell_type": "code",
   "execution_count": 24,
   "metadata": {
    "collapsed": false,
    "jupyter": {
     "outputs_hidden": false
    },
    "pycharm": {
     "name": "#%%\n"
    }
   },
   "outputs": [],
   "source": [
    "empties.to_csv(\"RestaurantsWithoutTags.csv\")"
   ]
  },
  {
   "cell_type": "code",
   "execution_count": 26,
   "outputs": [
    {
     "data": {
      "text/plain": "name                5876\nlocation            5876\nworking_hours       5876\nprice_range         2843\ntags                   0\nfoodRating          5876\nserviceRating       5876\nvalueRating         5876\natmosphereRating    5876\noverallRating       5876\noverallRatingCnt    5876\ndtype: int64"
     },
     "execution_count": 26,
     "metadata": {},
     "output_type": "execute_result"
    }
   ],
   "source": [
    "empties.count()"
   ],
   "metadata": {
    "collapsed": false,
    "pycharm": {
     "name": "#%%\n"
    }
   }
  },
  {
   "cell_type": "markdown",
   "source": [
    "# Count occurrences of tags"
   ],
   "metadata": {
    "collapsed": false,
    "pycharm": {
     "name": "#%% md\n"
    }
   }
  },
  {
   "cell_type": "code",
   "execution_count": 38,
   "outputs": [],
   "source": [
    "tag_count = {\n",
    "    t: 0 for t in final_tags\n",
    "}"
   ],
   "metadata": {
    "collapsed": false,
    "pycharm": {
     "name": "#%%\n"
    }
   }
  },
  {
   "cell_type": "code",
   "execution_count": 40,
   "outputs": [],
   "source": [
    "for idx, row in dataset.iterrows():\n",
    "    for t in final_tags:\n",
    "        if row[t] != 0:\n",
    "            tag_count[t] = tag_count[t] + 1"
   ],
   "metadata": {
    "collapsed": false,
    "pycharm": {
     "name": "#%%\n"
    }
   }
  },
  {
   "cell_type": "code",
   "execution_count": 45,
   "outputs": [],
   "source": [
    "tag_df = pd.DataFrame([tag_count])"
   ],
   "metadata": {
    "collapsed": false,
    "pycharm": {
     "name": "#%%\n"
    }
   }
  },
  {
   "cell_type": "code",
   "execution_count": 59,
   "outputs": [
    {
     "data": {
      "text/plain": "       Afghan  African  American  Arabic  Argentinian  Armenian   Asian  \\\ncount     1.0      1.0       1.0     1.0          1.0       1.0     1.0   \nmean      4.0      3.0     392.0     4.0          2.0       1.0  3426.0   \nstd       NaN      NaN       NaN     NaN          NaN       NaN     NaN   \nmin       4.0      3.0     392.0     4.0          2.0       1.0  3426.0   \n25%       4.0      3.0     392.0     4.0          2.0       1.0  3426.0   \n50%       4.0      3.0     392.0     4.0          2.0       1.0  3426.0   \n75%       4.0      3.0     392.0     4.0          2.0       1.0  3426.0   \nmax       4.0      3.0     392.0     4.0          2.0       1.0  3426.0   \n\n       Australian  Austrian  Bakeries  ...   Thai  Turkish  Tuscan  Ukrainian  \\\ncount         1.0       1.0       1.0  ...    1.0      1.0     1.0        1.0   \nmean         44.0       3.0      92.0  ...  291.0     29.0     3.0        2.0   \nstd           NaN       NaN       NaN  ...    NaN      NaN     NaN        NaN   \nmin          44.0       3.0      92.0  ...  291.0     29.0     3.0        2.0   \n25%          44.0       3.0      92.0  ...  291.0     29.0     3.0        2.0   \n50%          44.0       3.0      92.0  ...  291.0     29.0     3.0        2.0   \n75%          44.0       3.0      92.0  ...  291.0     29.0     3.0        2.0   \nmax          44.0       3.0      92.0  ...  291.0     29.0     3.0        2.0   \n\n       Vegan Options  Vegetarian Friendly  Vietnamese  Wine Bar  Xinjiang  \\\ncount            1.0                  1.0         1.0       1.0       1.0   \nmean           160.0                747.0        86.0      80.0       3.0   \nstd              NaN                  NaN         NaN       NaN       NaN   \nmin            160.0                747.0        86.0      80.0       3.0   \n25%            160.0                747.0        86.0      80.0       3.0   \n50%            160.0                747.0        86.0      80.0       3.0   \n75%            160.0                747.0        86.0      80.0       3.0   \nmax            160.0                747.0        86.0      80.0       3.0   \n\n       Yunnan  \ncount     1.0  \nmean      2.0  \nstd       NaN  \nmin       2.0  \n25%       2.0  \n50%       2.0  \n75%       2.0  \nmax       2.0  \n\n[8 rows x 127 columns]",
      "text/html": "<div>\n<style scoped>\n    .dataframe tbody tr th:only-of-type {\n        vertical-align: middle;\n    }\n\n    .dataframe tbody tr th {\n        vertical-align: top;\n    }\n\n    .dataframe thead th {\n        text-align: right;\n    }\n</style>\n<table border=\"1\" class=\"dataframe\">\n  <thead>\n    <tr style=\"text-align: right;\">\n      <th></th>\n      <th>Afghan</th>\n      <th>African</th>\n      <th>American</th>\n      <th>Arabic</th>\n      <th>Argentinian</th>\n      <th>Armenian</th>\n      <th>Asian</th>\n      <th>Australian</th>\n      <th>Austrian</th>\n      <th>Bakeries</th>\n      <th>...</th>\n      <th>Thai</th>\n      <th>Turkish</th>\n      <th>Tuscan</th>\n      <th>Ukrainian</th>\n      <th>Vegan Options</th>\n      <th>Vegetarian Friendly</th>\n      <th>Vietnamese</th>\n      <th>Wine Bar</th>\n      <th>Xinjiang</th>\n      <th>Yunnan</th>\n    </tr>\n  </thead>\n  <tbody>\n    <tr>\n      <th>count</th>\n      <td>1.0</td>\n      <td>1.0</td>\n      <td>1.0</td>\n      <td>1.0</td>\n      <td>1.0</td>\n      <td>1.0</td>\n      <td>1.0</td>\n      <td>1.0</td>\n      <td>1.0</td>\n      <td>1.0</td>\n      <td>...</td>\n      <td>1.0</td>\n      <td>1.0</td>\n      <td>1.0</td>\n      <td>1.0</td>\n      <td>1.0</td>\n      <td>1.0</td>\n      <td>1.0</td>\n      <td>1.0</td>\n      <td>1.0</td>\n      <td>1.0</td>\n    </tr>\n    <tr>\n      <th>mean</th>\n      <td>4.0</td>\n      <td>3.0</td>\n      <td>392.0</td>\n      <td>4.0</td>\n      <td>2.0</td>\n      <td>1.0</td>\n      <td>3426.0</td>\n      <td>44.0</td>\n      <td>3.0</td>\n      <td>92.0</td>\n      <td>...</td>\n      <td>291.0</td>\n      <td>29.0</td>\n      <td>3.0</td>\n      <td>2.0</td>\n      <td>160.0</td>\n      <td>747.0</td>\n      <td>86.0</td>\n      <td>80.0</td>\n      <td>3.0</td>\n      <td>2.0</td>\n    </tr>\n    <tr>\n      <th>std</th>\n      <td>NaN</td>\n      <td>NaN</td>\n      <td>NaN</td>\n      <td>NaN</td>\n      <td>NaN</td>\n      <td>NaN</td>\n      <td>NaN</td>\n      <td>NaN</td>\n      <td>NaN</td>\n      <td>NaN</td>\n      <td>...</td>\n      <td>NaN</td>\n      <td>NaN</td>\n      <td>NaN</td>\n      <td>NaN</td>\n      <td>NaN</td>\n      <td>NaN</td>\n      <td>NaN</td>\n      <td>NaN</td>\n      <td>NaN</td>\n      <td>NaN</td>\n    </tr>\n    <tr>\n      <th>min</th>\n      <td>4.0</td>\n      <td>3.0</td>\n      <td>392.0</td>\n      <td>4.0</td>\n      <td>2.0</td>\n      <td>1.0</td>\n      <td>3426.0</td>\n      <td>44.0</td>\n      <td>3.0</td>\n      <td>92.0</td>\n      <td>...</td>\n      <td>291.0</td>\n      <td>29.0</td>\n      <td>3.0</td>\n      <td>2.0</td>\n      <td>160.0</td>\n      <td>747.0</td>\n      <td>86.0</td>\n      <td>80.0</td>\n      <td>3.0</td>\n      <td>2.0</td>\n    </tr>\n    <tr>\n      <th>25%</th>\n      <td>4.0</td>\n      <td>3.0</td>\n      <td>392.0</td>\n      <td>4.0</td>\n      <td>2.0</td>\n      <td>1.0</td>\n      <td>3426.0</td>\n      <td>44.0</td>\n      <td>3.0</td>\n      <td>92.0</td>\n      <td>...</td>\n      <td>291.0</td>\n      <td>29.0</td>\n      <td>3.0</td>\n      <td>2.0</td>\n      <td>160.0</td>\n      <td>747.0</td>\n      <td>86.0</td>\n      <td>80.0</td>\n      <td>3.0</td>\n      <td>2.0</td>\n    </tr>\n    <tr>\n      <th>50%</th>\n      <td>4.0</td>\n      <td>3.0</td>\n      <td>392.0</td>\n      <td>4.0</td>\n      <td>2.0</td>\n      <td>1.0</td>\n      <td>3426.0</td>\n      <td>44.0</td>\n      <td>3.0</td>\n      <td>92.0</td>\n      <td>...</td>\n      <td>291.0</td>\n      <td>29.0</td>\n      <td>3.0</td>\n      <td>2.0</td>\n      <td>160.0</td>\n      <td>747.0</td>\n      <td>86.0</td>\n      <td>80.0</td>\n      <td>3.0</td>\n      <td>2.0</td>\n    </tr>\n    <tr>\n      <th>75%</th>\n      <td>4.0</td>\n      <td>3.0</td>\n      <td>392.0</td>\n      <td>4.0</td>\n      <td>2.0</td>\n      <td>1.0</td>\n      <td>3426.0</td>\n      <td>44.0</td>\n      <td>3.0</td>\n      <td>92.0</td>\n      <td>...</td>\n      <td>291.0</td>\n      <td>29.0</td>\n      <td>3.0</td>\n      <td>2.0</td>\n      <td>160.0</td>\n      <td>747.0</td>\n      <td>86.0</td>\n      <td>80.0</td>\n      <td>3.0</td>\n      <td>2.0</td>\n    </tr>\n    <tr>\n      <th>max</th>\n      <td>4.0</td>\n      <td>3.0</td>\n      <td>392.0</td>\n      <td>4.0</td>\n      <td>2.0</td>\n      <td>1.0</td>\n      <td>3426.0</td>\n      <td>44.0</td>\n      <td>3.0</td>\n      <td>92.0</td>\n      <td>...</td>\n      <td>291.0</td>\n      <td>29.0</td>\n      <td>3.0</td>\n      <td>2.0</td>\n      <td>160.0</td>\n      <td>747.0</td>\n      <td>86.0</td>\n      <td>80.0</td>\n      <td>3.0</td>\n      <td>2.0</td>\n    </tr>\n  </tbody>\n</table>\n<p>8 rows × 127 columns</p>\n</div>"
     },
     "execution_count": 59,
     "metadata": {},
     "output_type": "execute_result"
    }
   ],
   "source": [
    "tag_df.describe()"
   ],
   "metadata": {
    "collapsed": false,
    "pycharm": {
     "name": "#%%\n"
    }
   }
  },
  {
   "cell_type": "markdown",
   "source": [
    "# Using Google Places API"
   ],
   "metadata": {
    "collapsed": false,
    "pycharm": {
     "name": "#%% md\n"
    }
   }
  },
  {
   "cell_type": "code",
   "execution_count": 65,
   "outputs": [
    {
     "ename": "ModuleNotFoundError",
     "evalue": "No module named 'googlemaps'",
     "output_type": "error",
     "traceback": [
      "\u001B[0;31m---------------------------------------------------------------------------\u001B[0m",
      "\u001B[0;31mModuleNotFoundError\u001B[0m                       Traceback (most recent call last)",
      "Input \u001B[0;32mIn [65]\u001B[0m, in \u001B[0;36m<cell line: 1>\u001B[0;34m()\u001B[0m\n\u001B[0;32m----> 1\u001B[0m \u001B[38;5;28;01mimport\u001B[39;00m \u001B[38;5;21;01mgooglemaps\u001B[39;00m\n",
      "\u001B[0;31mModuleNotFoundError\u001B[0m: No module named 'googlemaps'"
     ]
    }
   ],
   "source": [
    "import googlemaps"
   ],
   "metadata": {
    "collapsed": false,
    "pycharm": {
     "name": "#%%\n"
    }
   }
  },
  {
   "cell_type": "markdown",
   "source": [
    "# Merge tags into their super tags"
   ],
   "metadata": {
    "collapsed": false,
    "pycharm": {
     "name": "#%% md\n"
    }
   }
  },
  {
   "cell_type": "code",
   "execution_count": 73,
   "outputs": [],
   "source": [
    "attraction_merge = {\n",
    "    \"airport\": {\n",
    "        \"old_values\": (\"Airport Lounge\", \"Airport Shops\"),\n",
    "        \"new_value\": \"Airport\"\n",
    "    },\n",
    "    \"exercise\": {\n",
    "        \"old_values\": (\n",
    "            \"Jogging Paths and Tracks\",\n",
    "            \"Biking Trails\",\n",
    "            \"Dance Clubs and Discos\",\n",
    "            \"Yoga and Pilates\",\n",
    "            \"Sports Complexes\",\n",
    "            \"Sporting Events\",\n",
    "            \"Sports Camps and Clinics\",\n",
    "            \"Arenas and Stadiums\",\n",
    "            \"Health Clubs\",\n",
    "            \"Hiking Trails\",\n",
    "            \"Auto Racing Tracks\"),\n",
    "        \"new_value\": \"Sports & Exercise\"\n",
    "    },\n",
    "    \"art\": {\n",
    "        \"old_values\": (\n",
    "            \"Military Bases and Facilities\",\n",
    "            \"Children's Museums\",\n",
    "            \"Antique Shops\",\n",
    "            \"Art Galleries\",\n",
    "            \"Art Museums\",\n",
    "            \"Architectural Buildings\",\n",
    "            \"Historic Sites\",\n",
    "            \"Historic Walking Areas\",\n",
    "            \"History Museums\",\n",
    "            \"Monuments and Statues\",\n",
    "            \"Military Museums\",\n",
    "            \"Battlefields\",\n",
    "            \"Mysterious Sites\",\n",
    "            \"National Parks\",\n",
    "            \"Natural History Museums\",\n",
    "            \"Bridges\",\n",
    "            \"Cemeteries\",\n",
    "            \"Theatre and Performances\",\n",
    "            \"Government Buildings\",\n",
    "            \"Visitor Centers\",\n",
    "            \"Educational sites\",\n",
    "            \"Lighthouses\",\n",
    "            \"Operas\",\n",
    "            \"Paint and Pottery Studios\",\n",
    "            \"Speciality Museums\",\n",
    "            \"Symphonies\"\n",
    "        ),\n",
    "        \"new_value\": \"Art & History\"\n",
    "    },\n",
    "    \"movies\": {\n",
    "        \"old_values\": (\n",
    "            \"Movie Theaters\",\n",
    "            \"Theaters\"\n",
    "        ),\n",
    "        \"new_value\": \"Movies\"\n",
    "    },\n",
    "    \"nature\": {\n",
    "        \"old_values\": (\n",
    "            \"Zoos\",\n",
    "            \"Nature and Wildlife Areas\",\n",
    "            \"Gardens\",\n",
    "            \"Forests\",\n",
    "            \"Fountains\",\n",
    "            \"Parks\",\n",
    "            \"Scenic Drives\",\n",
    "        ),\n",
    "        \"new_value\": \"Nature & Wildlife\"\n",
    "    },\n",
    "    \"water\": {\n",
    "        \"old_values\": (\n",
    "            \"Other Outdoor Activities\",\n",
    "            \"Water Parks\",\n",
    "            \"Waterfalls\",\n",
    "            \"Ferries\",\n",
    "            \"Bodies of Water\",\n",
    "            \"Beaches\",\n",
    "            \"Dams\"\n",
    "        ),\n",
    "        \"new_value\": \"Water Activities\"\n",
    "    },\n",
    "    \"alcohol\": {\n",
    "        \"old_values\": (\n",
    "            \"Bars and Clubs\",\n",
    "            \"Breweries\",\n",
    "            \"Distilleries\",\n",
    "            \"Wine Bars\",\n",
    "            \"Wineries and Vineyards\",\n",
    "            \"Cigar Bars\",\n",
    "            \"Gay Bars\",\n",
    "            \"Jazz Bars\",\n",
    "            \"Karaoke Bars\"\n",
    "        ),\n",
    "        \"new_value\": \"Alcohol & Night life\"\n",
    "    },\n",
    "    \"spas\": {\n",
    "        \"old_values\": (\n",
    "            \"Hot Springs and Geysers\",\n",
    "            \"Onsen Resorts\",\n",
    "            \"Spas\",\n",
    "            \"Thermal Spas\"\n",
    "        ),\n",
    "        \"new_value\": \"Spas\"\n",
    "    },\n",
    "    \"religion\": {\n",
    "        \"old_values\": (\n",
    "            \"Churches and Cathedrals\",\n",
    "            \"Missions\",\n",
    "            \"Religious Sites\"\n",
    "        ),\n",
    "        \"new_value\": \"Religion\"\n",
    "    },\n",
    "    \"food\": {\n",
    "        \"old_values\": (\n",
    "            \"Flea and Street Markets\",\n",
    "            \"Food and Drink Festivals\",\n",
    "            \"Cooking Classes\",\n",
    "            \"Farmers Markets\",\n",
    "            \"Farms\"\n",
    "        ),\n",
    "        \"new_value\": \"Food\"\n",
    "    },\n",
    "    \"shopping\": {\n",
    "        \"old_values\": (\n",
    "            \"Marinas\",\n",
    "            \"Department Stores\",\n",
    "            \"Factory Outlets\",\n",
    "            \"Speciality and Gift Shops\",\n",
    "            \"Shopping Malls\",\n",
    "            \"Ski and Snowboard Areas\"\n",
    "        ),\n",
    "        \"new_value\": \"Shopping\"\n",
    "    },\n",
    "    \"education\": {\n",
    "        \"old_values\": (\n",
    "            \"Universities and Schools\",\n",
    "            \"Lessons and Workshops\",\n",
    "            \"Libraries\",\n",
    "            \"Science Museums\"\n",
    "        ),\n",
    "        \"new_value\": \"Education\"\n",
    "    },\n",
    "    \"transport\": {\n",
    "        \"old_values\": (\n",
    "            \"Gear Rentals\",\n",
    "            \"Taxis and Shuttles\",\n",
    "            \"Trams\"\n",
    "        ),\n",
    "        \"new_value\": \"Transport\"\n",
    "    },\n",
    "    \"fun\": {\n",
    "        \"old_values\": (\n",
    "            \"Escape Games\",\n",
    "            \"Game and Entertainment Centers\",\n",
    "            \"Bowling Alleys\",\n",
    "            \"Casinos\",\n",
    "            \"Comedy Clubs\",\n",
    "            \"Golf Courses\",\n",
    "            \"Miniature Golf\",\n",
    "            \"Amusement and Theme Parks\",\n",
    "            \"Aquariums\",\n",
    "            \"Other Fun and Games\",\n",
    "            \"Playgrounds\",\n",
    "            \"Shooting Ranges\"\n",
    "        ),\n",
    "        \"new_value\": \"Fun & Games\"\n",
    "    },\n",
    "    \"tourism\": {\n",
    "        \"old_values\": (\n",
    "            \"Civic Centres\",\n",
    "            \"Bus Services\",\n",
    "            \"Convention Centers\",\n",
    "            \"Cultural Events\",\n",
    "            \"Points of Interest and Landmarks\",\n",
    "            \"Lookouts\",\n",
    "            \"Islands\",\n",
    "            \"Neighborhoods\",\n",
    "            \"Observation Decks and Towers\",\n",
    "            \"Observatories and Planetariums\",\n",
    "            \"Public Transportation Systems\",\n",
    "            \"Scenic Walking Areas\",\n",
    "            \"Seasonal Fireworks\"\n",
    "        ),\n",
    "        \"new_value\": \"Tourism\"\n",
    "    }\n",
    "}"
   ],
   "metadata": {
    "collapsed": false,
    "pycharm": {
     "name": "#%%\n"
    }
   }
  },
  {
   "cell_type": "code",
   "execution_count": null,
   "outputs": [],
   "source": [],
   "metadata": {
    "collapsed": false,
    "pycharm": {
     "name": "#%%\n"
    }
   }
  }
 ],
 "metadata": {
  "kernelspec": {
   "display_name": "Python 3 (ipykernel)",
   "language": "python",
   "name": "python3"
  },
  "language_info": {
   "codemirror_mode": {
    "name": "ipython",
    "version": 3
   },
   "file_extension": ".py",
   "mimetype": "text/x-python",
   "name": "python",
   "nbconvert_exporter": "python",
   "pygments_lexer": "ipython3",
   "version": "3.9.12"
  }
 },
 "nbformat": 4,
 "nbformat_minor": 4
}