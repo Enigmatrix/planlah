{
 "cells": [
  {
   "cell_type": "code",
   "execution_count": 2,
   "metadata": {
    "collapsed": true,
    "pycharm": {
     "name": "#%%\n"
    }
   },
   "outputs": [],
   "source": [
    "import numpy as np\n",
    "import pandas as pd\n",
    "import seaborn as sns\n",
    "import matplotlib.pyplot as plt"
   ]
  },
  {
   "cell_type": "markdown",
   "source": [
    "# Simple exploration\n",
    "### Not really needed though because most of our variables are categorical"
   ],
   "metadata": {
    "collapsed": false,
    "pycharm": {
     "name": "#%% md\n"
    }
   }
  },
  {
   "cell_type": "code",
   "execution_count": 7,
   "outputs": [],
   "source": [
    "df = pd.read_csv(\"AttractionRawData.csv\", index_col=0)\n",
    "df = df.drop_duplicates()"
   ],
   "metadata": {
    "collapsed": false,
    "pycharm": {
     "name": "#%%\n"
    }
   }
  },
  {
   "cell_type": "code",
   "execution_count": 9,
   "outputs": [
    {
     "data": {
      "text/plain": "                        name  \\\n0         Gardens by the Bay   \n1  Singapore Botanic Gardens   \n2              Singapore Zoo   \n3     National Orchid Garden   \n4               Cloud Forest   \n\n                                            location  \\\n0  18 Marina Gardens Drive Bayfront Plaza, Singap...   \n1          1 Cluny Road, Singapore 259 569 Singapore   \n2    80 Mandai Lake Road, Singapore 729826 Singapore   \n3  1 Cluny Rd Within the Singapore Botanic Garden...   \n4  18 Marina Gardens Drive, Singapore 018953 Sing...   \n\n                                               about  \\\n0  An integral part of Singapore's \"City in a Gar...   \n1  This national park is open daily and features ...   \n2  Set in a rainforest environment, Singapore Zoo...   \n3                                                NaN   \n4                                                NaN   \n\n                                                tags  overallRating  \\\n0       Points of Interest &amp; Landmarks • Gardens            4.5   \n1                                    Parks • Gardens            4.5   \n2                                               Zoos            4.5   \n3                                            Gardens            4.5   \n4  Points of Interest &amp; Landmarks • Parks • G...            4.5   \n\n  overallRatingCnt  \n0           59,556  \n1           19,829  \n2           22,376  \n3           13,830  \n4           14,935  ",
      "text/html": "<div>\n<style scoped>\n    .dataframe tbody tr th:only-of-type {\n        vertical-align: middle;\n    }\n\n    .dataframe tbody tr th {\n        vertical-align: top;\n    }\n\n    .dataframe thead th {\n        text-align: right;\n    }\n</style>\n<table border=\"1\" class=\"dataframe\">\n  <thead>\n    <tr style=\"text-align: right;\">\n      <th></th>\n      <th>name</th>\n      <th>location</th>\n      <th>about</th>\n      <th>tags</th>\n      <th>overallRating</th>\n      <th>overallRatingCnt</th>\n    </tr>\n  </thead>\n  <tbody>\n    <tr>\n      <th>0</th>\n      <td>Gardens by the Bay</td>\n      <td>18 Marina Gardens Drive Bayfront Plaza, Singap...</td>\n      <td>An integral part of Singapore's \"City in a Gar...</td>\n      <td>Points of Interest &amp;amp; Landmarks • Gardens</td>\n      <td>4.5</td>\n      <td>59,556</td>\n    </tr>\n    <tr>\n      <th>1</th>\n      <td>Singapore Botanic Gardens</td>\n      <td>1 Cluny Road, Singapore 259 569 Singapore</td>\n      <td>This national park is open daily and features ...</td>\n      <td>Parks • Gardens</td>\n      <td>4.5</td>\n      <td>19,829</td>\n    </tr>\n    <tr>\n      <th>2</th>\n      <td>Singapore Zoo</td>\n      <td>80 Mandai Lake Road, Singapore 729826 Singapore</td>\n      <td>Set in a rainforest environment, Singapore Zoo...</td>\n      <td>Zoos</td>\n      <td>4.5</td>\n      <td>22,376</td>\n    </tr>\n    <tr>\n      <th>3</th>\n      <td>National Orchid Garden</td>\n      <td>1 Cluny Rd Within the Singapore Botanic Garden...</td>\n      <td>NaN</td>\n      <td>Gardens</td>\n      <td>4.5</td>\n      <td>13,830</td>\n    </tr>\n    <tr>\n      <th>4</th>\n      <td>Cloud Forest</td>\n      <td>18 Marina Gardens Drive, Singapore 018953 Sing...</td>\n      <td>NaN</td>\n      <td>Points of Interest &amp;amp; Landmarks • Parks • G...</td>\n      <td>4.5</td>\n      <td>14,935</td>\n    </tr>\n  </tbody>\n</table>\n</div>"
     },
     "execution_count": 9,
     "metadata": {},
     "output_type": "execute_result"
    }
   ],
   "source": [
    "df.head()"
   ],
   "metadata": {
    "collapsed": false,
    "pycharm": {
     "name": "#%%\n"
    }
   }
  },
  {
   "cell_type": "code",
   "execution_count": 14,
   "outputs": [
    {
     "data": {
      "text/plain": "name                1916\nlocation            1569\nabout                876\ntags                1916\noverallRating       1916\noverallRatingCnt    1916\ndtype: int64"
     },
     "execution_count": 14,
     "metadata": {},
     "output_type": "execute_result"
    }
   ],
   "source": [
    "df.count()"
   ],
   "metadata": {
    "collapsed": false,
    "pycharm": {
     "name": "#%%\n"
    }
   }
  },
  {
   "cell_type": "code",
   "execution_count": 15,
   "outputs": [
    {
     "data": {
      "text/plain": "                              name  \\\ncount                         1916   \nunique                        1852   \ntop     Amore Fitness &amp; Define   \nfreq                             7   \nmean                           NaN   \nstd                            NaN   \nmin                            NaN   \n25%                            NaN   \n50%                            NaN   \n75%                            NaN   \nmax                            NaN   \n\n                                                 location  \\\ncount                                                1569   \nunique                                               1488   \ntop     18 Marina Gardens Drive Gardens By the Bay Gar...   \nfreq                                                    6   \nmean                                                  NaN   \nstd                                                   NaN   \nmin                                                   NaN   \n25%                                                   NaN   \n50%                                                   NaN   \n75%                                                   NaN   \nmax                                                   NaN   \n\n                                                    about  tags  \\\ncount                                                 876  1916   \nunique                                                855   249   \ntop     Kenko has over 26 years’ experience in Spa ind...  Spas   \nfreq                                                    6   291   \nmean                                                  NaN   NaN   \nstd                                                   NaN   NaN   \nmin                                                   NaN   NaN   \n25%                                                   NaN   NaN   \n50%                                                   NaN   NaN   \n75%                                                   NaN   NaN   \nmax                                                   NaN   NaN   \n\n        overallRating overallRatingCnt  \ncount     1916.000000             1916  \nunique            NaN              298  \ntop               NaN                1  \nfreq              NaN              346  \nmean         4.046451              NaN  \nstd          0.841907              NaN  \nmin         -1.000000              NaN  \n25%          3.500000              NaN  \n50%          4.000000              NaN  \n75%          4.500000              NaN  \nmax          5.000000              NaN  ",
      "text/html": "<div>\n<style scoped>\n    .dataframe tbody tr th:only-of-type {\n        vertical-align: middle;\n    }\n\n    .dataframe tbody tr th {\n        vertical-align: top;\n    }\n\n    .dataframe thead th {\n        text-align: right;\n    }\n</style>\n<table border=\"1\" class=\"dataframe\">\n  <thead>\n    <tr style=\"text-align: right;\">\n      <th></th>\n      <th>name</th>\n      <th>location</th>\n      <th>about</th>\n      <th>tags</th>\n      <th>overallRating</th>\n      <th>overallRatingCnt</th>\n    </tr>\n  </thead>\n  <tbody>\n    <tr>\n      <th>count</th>\n      <td>1916</td>\n      <td>1569</td>\n      <td>876</td>\n      <td>1916</td>\n      <td>1916.000000</td>\n      <td>1916</td>\n    </tr>\n    <tr>\n      <th>unique</th>\n      <td>1852</td>\n      <td>1488</td>\n      <td>855</td>\n      <td>249</td>\n      <td>NaN</td>\n      <td>298</td>\n    </tr>\n    <tr>\n      <th>top</th>\n      <td>Amore Fitness &amp;amp; Define</td>\n      <td>18 Marina Gardens Drive Gardens By the Bay Gar...</td>\n      <td>Kenko has over 26 years’ experience in Spa ind...</td>\n      <td>Spas</td>\n      <td>NaN</td>\n      <td>1</td>\n    </tr>\n    <tr>\n      <th>freq</th>\n      <td>7</td>\n      <td>6</td>\n      <td>6</td>\n      <td>291</td>\n      <td>NaN</td>\n      <td>346</td>\n    </tr>\n    <tr>\n      <th>mean</th>\n      <td>NaN</td>\n      <td>NaN</td>\n      <td>NaN</td>\n      <td>NaN</td>\n      <td>4.046451</td>\n      <td>NaN</td>\n    </tr>\n    <tr>\n      <th>std</th>\n      <td>NaN</td>\n      <td>NaN</td>\n      <td>NaN</td>\n      <td>NaN</td>\n      <td>0.841907</td>\n      <td>NaN</td>\n    </tr>\n    <tr>\n      <th>min</th>\n      <td>NaN</td>\n      <td>NaN</td>\n      <td>NaN</td>\n      <td>NaN</td>\n      <td>-1.000000</td>\n      <td>NaN</td>\n    </tr>\n    <tr>\n      <th>25%</th>\n      <td>NaN</td>\n      <td>NaN</td>\n      <td>NaN</td>\n      <td>NaN</td>\n      <td>3.500000</td>\n      <td>NaN</td>\n    </tr>\n    <tr>\n      <th>50%</th>\n      <td>NaN</td>\n      <td>NaN</td>\n      <td>NaN</td>\n      <td>NaN</td>\n      <td>4.000000</td>\n      <td>NaN</td>\n    </tr>\n    <tr>\n      <th>75%</th>\n      <td>NaN</td>\n      <td>NaN</td>\n      <td>NaN</td>\n      <td>NaN</td>\n      <td>4.500000</td>\n      <td>NaN</td>\n    </tr>\n    <tr>\n      <th>max</th>\n      <td>NaN</td>\n      <td>NaN</td>\n      <td>NaN</td>\n      <td>NaN</td>\n      <td>5.000000</td>\n      <td>NaN</td>\n    </tr>\n  </tbody>\n</table>\n</div>"
     },
     "execution_count": 15,
     "metadata": {},
     "output_type": "execute_result"
    }
   ],
   "source": [
    "df.describe(include=\"all\")"
   ],
   "metadata": {
    "collapsed": false,
    "pycharm": {
     "name": "#%%\n"
    }
   }
  },
  {
   "cell_type": "code",
   "execution_count": 16,
   "outputs": [
    {
     "name": "stdout",
     "output_type": "stream",
     "text": [
      "<class 'pandas.core.frame.DataFrame'>\n",
      "Int64Index: 1916 entries, 0 to 1916\n",
      "Data columns (total 6 columns):\n",
      " #   Column            Non-Null Count  Dtype  \n",
      "---  ------            --------------  -----  \n",
      " 0   name              1916 non-null   object \n",
      " 1   location          1569 non-null   object \n",
      " 2   about             876 non-null    object \n",
      " 3   tags              1916 non-null   object \n",
      " 4   overallRating     1916 non-null   float64\n",
      " 5   overallRatingCnt  1916 non-null   object \n",
      "dtypes: float64(1), object(5)\n",
      "memory usage: 104.8+ KB\n"
     ]
    }
   ],
   "source": [
    "df.info()"
   ],
   "metadata": {
    "collapsed": false,
    "pycharm": {
     "name": "#%%\n"
    }
   }
  },
  {
   "cell_type": "code",
   "execution_count": 17,
   "outputs": [
    {
     "data": {
      "text/plain": "                              name  \\\n0               Gardens by the Bay   \n1        Singapore Botanic Gardens   \n2                    Singapore Zoo   \n3           National Orchid Garden   \n4                     Cloud Forest   \n...                            ...   \n1912             Star Mart Express   \n1913  Guardian Health &amp; Beauty   \n1914           Golden Mile Complex   \n1915               Bollywood Beats   \n1916       Mr Lim Foot Reflexology   \n\n                                               location  \\\n0     18 Marina Gardens Drive Bayfront Plaza, Singap...   \n1             1 Cluny Road, Singapore 259 569 Singapore   \n2       80 Mandai Lake Road, Singapore 729826 Singapore   \n3     1 Cluny Rd Within the Singapore Botanic Garden...   \n4     18 Marina Gardens Drive, Singapore 018953 Sing...   \n...                                                 ...   \n1912                                                NaN   \n1913  Changi Airport T2, Transit, Singapore 918146 S...   \n1914  5001 Beach Road Golden Mile Complex, Singapore...   \n1915  79 Circular Road Level 2, Singapore 049433 Sin...   \n1916                                                NaN   \n\n                                                  about  \\\n0     An integral part of Singapore's \"City in a Gar...   \n1     This national park is open daily and features ...   \n2     Set in a rainforest environment, Singapore Zoo...   \n3                                                   NaN   \n4                                                   NaN   \n...                                                 ...   \n1912                                                NaN   \n1913  Never worry if you've forgotten to pack all th...   \n1914  Golden Mile Complex is Singapore’s Little Thai...   \n1915  Located on the second floor of an iconic build...   \n1916                                                NaN   \n\n                                                   tags  overallRating  \\\n0          Points of Interest &amp; Landmarks • Gardens            4.5   \n1                                       Parks • Gardens            4.5   \n2                                                  Zoos            4.5   \n3                                               Gardens            4.5   \n4     Points of Interest &amp; Landmarks • Parks • G...            4.5   \n...                                                 ...            ...   \n1912                                       Bus Services            1.5   \n1913                        Speciality &amp; Gift Shops            2.0   \n1914                        Speciality &amp; Gift Shops            2.0   \n1915        Bars &amp; Clubs • Dance Clubs &amp; Discos           -1.0   \n1916                                               Spas            1.0   \n\n     overallRatingCnt  \n0              59,556  \n1              19,829  \n2              22,376  \n3              13,830  \n4              14,935  \n...               ...  \n1912                9  \n1913               20  \n1914              315  \n1915              799  \n1916                1  \n\n[1916 rows x 6 columns]",
      "text/html": "<div>\n<style scoped>\n    .dataframe tbody tr th:only-of-type {\n        vertical-align: middle;\n    }\n\n    .dataframe tbody tr th {\n        vertical-align: top;\n    }\n\n    .dataframe thead th {\n        text-align: right;\n    }\n</style>\n<table border=\"1\" class=\"dataframe\">\n  <thead>\n    <tr style=\"text-align: right;\">\n      <th></th>\n      <th>name</th>\n      <th>location</th>\n      <th>about</th>\n      <th>tags</th>\n      <th>overallRating</th>\n      <th>overallRatingCnt</th>\n    </tr>\n  </thead>\n  <tbody>\n    <tr>\n      <th>0</th>\n      <td>Gardens by the Bay</td>\n      <td>18 Marina Gardens Drive Bayfront Plaza, Singap...</td>\n      <td>An integral part of Singapore's \"City in a Gar...</td>\n      <td>Points of Interest &amp;amp; Landmarks • Gardens</td>\n      <td>4.5</td>\n      <td>59,556</td>\n    </tr>\n    <tr>\n      <th>1</th>\n      <td>Singapore Botanic Gardens</td>\n      <td>1 Cluny Road, Singapore 259 569 Singapore</td>\n      <td>This national park is open daily and features ...</td>\n      <td>Parks • Gardens</td>\n      <td>4.5</td>\n      <td>19,829</td>\n    </tr>\n    <tr>\n      <th>2</th>\n      <td>Singapore Zoo</td>\n      <td>80 Mandai Lake Road, Singapore 729826 Singapore</td>\n      <td>Set in a rainforest environment, Singapore Zoo...</td>\n      <td>Zoos</td>\n      <td>4.5</td>\n      <td>22,376</td>\n    </tr>\n    <tr>\n      <th>3</th>\n      <td>National Orchid Garden</td>\n      <td>1 Cluny Rd Within the Singapore Botanic Garden...</td>\n      <td>NaN</td>\n      <td>Gardens</td>\n      <td>4.5</td>\n      <td>13,830</td>\n    </tr>\n    <tr>\n      <th>4</th>\n      <td>Cloud Forest</td>\n      <td>18 Marina Gardens Drive, Singapore 018953 Sing...</td>\n      <td>NaN</td>\n      <td>Points of Interest &amp;amp; Landmarks • Parks • G...</td>\n      <td>4.5</td>\n      <td>14,935</td>\n    </tr>\n    <tr>\n      <th>...</th>\n      <td>...</td>\n      <td>...</td>\n      <td>...</td>\n      <td>...</td>\n      <td>...</td>\n      <td>...</td>\n    </tr>\n    <tr>\n      <th>1912</th>\n      <td>Star Mart Express</td>\n      <td>NaN</td>\n      <td>NaN</td>\n      <td>Bus Services</td>\n      <td>1.5</td>\n      <td>9</td>\n    </tr>\n    <tr>\n      <th>1913</th>\n      <td>Guardian Health &amp;amp; Beauty</td>\n      <td>Changi Airport T2, Transit, Singapore 918146 S...</td>\n      <td>Never worry if you've forgotten to pack all th...</td>\n      <td>Speciality &amp;amp; Gift Shops</td>\n      <td>2.0</td>\n      <td>20</td>\n    </tr>\n    <tr>\n      <th>1914</th>\n      <td>Golden Mile Complex</td>\n      <td>5001 Beach Road Golden Mile Complex, Singapore...</td>\n      <td>Golden Mile Complex is Singapore’s Little Thai...</td>\n      <td>Speciality &amp;amp; Gift Shops</td>\n      <td>2.0</td>\n      <td>315</td>\n    </tr>\n    <tr>\n      <th>1915</th>\n      <td>Bollywood Beats</td>\n      <td>79 Circular Road Level 2, Singapore 049433 Sin...</td>\n      <td>Located on the second floor of an iconic build...</td>\n      <td>Bars &amp;amp; Clubs • Dance Clubs &amp;amp; Discos</td>\n      <td>-1.0</td>\n      <td>799</td>\n    </tr>\n    <tr>\n      <th>1916</th>\n      <td>Mr Lim Foot Reflexology</td>\n      <td>NaN</td>\n      <td>NaN</td>\n      <td>Spas</td>\n      <td>1.0</td>\n      <td>1</td>\n    </tr>\n  </tbody>\n</table>\n<p>1916 rows × 6 columns</p>\n</div>"
     },
     "execution_count": 17,
     "metadata": {},
     "output_type": "execute_result"
    }
   ],
   "source": [
    "df.drop_duplicates()"
   ],
   "metadata": {
    "collapsed": false,
    "pycharm": {
     "name": "#%%\n"
    }
   }
  },
  {
   "cell_type": "code",
   "execution_count": 18,
   "outputs": [],
   "source": [
    "tags = df[\"tags\"].unique()"
   ],
   "metadata": {
    "collapsed": false,
    "pycharm": {
     "name": "#%%\n"
    }
   }
  },
  {
   "cell_type": "code",
   "execution_count": 19,
   "outputs": [
    {
     "name": "stdout",
     "output_type": "stream",
     "text": [
      "['Points of Interest &amp; Landmarks • Gardens' 'Parks • Gardens' 'Zoos'\n",
      " 'Gardens' 'Points of Interest &amp; Landmarks • Parks • Gardens'\n",
      " 'Points of Interest &amp; Landmarks • Observation Decks &amp; Towers'\n",
      " 'Public Transportation Systems' 'Nature &amp; Wildlife Areas'\n",
      " 'Points of Interest &amp; Landmarks • Observatories &amp; Planetariums'\n",
      " 'Shopping Malls' 'Trams • Lookouts • Scenic Walking Areas'\n",
      " 'Speciality Museums' 'Neighborhoods'\n",
      " 'Speciality Museums • Religious Sites' 'Marinas • Bodies of Water'\n",
      " 'Monuments &amp; Statues' 'Points of Interest &amp; Landmarks'\n",
      " 'Military Museums • Historic Sites' 'Flea &amp; Street Markets'\n",
      " 'Scenic Walking Areas' 'Architectural Buildings • Art Museums'\n",
      " 'History Museums' 'Hiking Trails • Scenic Walking Areas'\n",
      " 'Beaches • Parks' 'Historic Walking Areas • Bridges' 'Bodies of Water'\n",
      " 'Parks' 'Sporting Events' 'Historic Sites'\n",
      " 'Historic Sites • Amusement &amp; Theme Parks • Gardens' 'Bridges'\n",
      " 'Water Parks' 'Science Museums'\n",
      " 'Points of Interest &amp; Landmarks • Theaters'\n",
      " 'Points of Interest &amp; Landmarks • Piers &amp; Boardwalks'\n",
      " 'Marinas • Points of Interest &amp; Landmarks' 'Hiking Trails'\n",
      " 'Historic Sites • Flea &amp; Street Markets'\n",
      " 'Nature &amp; Wildlife Areas • Zoos'\n",
      " 'Points of Interest &amp; Landmarks • Religious Sites'\n",
      " 'Observatories &amp; Planetariums • Shopping Malls' 'Libraries'\n",
      " '<div class=\"WlYyy diXIH dDKKM\">Takashimaya is another Japanese retail giant which has an upmarket department store catering to the more affluent consumer. It has restaurants, a spa, slimming services, boutiques, a gym, drycleaners, and even an art gallery.</div>'\n",
      " 'Architectural Buildings' 'Arenas &amp; Stadiums' 'Religious Sites'\n",
      " 'Cemeteries' 'Historic Sites • Neighborhoods' 'Airport Shops'\n",
      " 'Natural History Museums' 'Visitor Centers' 'Islands'\n",
      " 'Historic Sites • Beaches' 'Casinos' 'Breweries'\n",
      " 'Points of Interest &amp; Landmarks • Shopping Malls' 'Airport Lounges'\n",
      " \"Speciality Museums • Art Museums • Children's Museums • History Museums\"\n",
      " 'Religious Sites • Churches &amp; Cathedrals' 'Department Stores'\n",
      " 'Points of Interest &amp; Landmarks • Fountains' 'Cultural Events'\n",
      " 'Points of Interest &amp; Landmarks • Flea &amp; Street Markets'\n",
      " 'Churches &amp; Cathedrals'\n",
      " 'Biking Trails • Nature &amp; Wildlife Areas • Parks' 'Playgrounds'\n",
      " 'Beaches' 'Military Museums • History Museums' 'Ferries'\n",
      " 'Historic Sites • Architectural Buildings' 'Sports Complexes'\n",
      " 'Military Museums' 'Convention Centers' 'Waterfalls'\n",
      " 'Speciality Museums • Points of Interest &amp; Landmarks'\n",
      " 'Architectural Buildings • Government Buildings' 'Piers &amp; Boardwalks'\n",
      " 'Lookouts' 'Seasonal Fireworks'\n",
      " 'Architectural Buildings • Convention Centers'\n",
      " 'Points of Interest &amp; Landmarks • Architectural Buildings'\n",
      " 'Art Museums' 'Farms' 'Nature &amp; Wildlife Areas • Parks'\n",
      " 'Points of Interest &amp; Landmarks • Historic Walking Areas'\n",
      " 'Bodies of Water • Nature &amp; Wildlife Areas • Dams'\n",
      " 'Hot Springs &amp; Geysers'\n",
      " 'Biking Trails • Parks • Jogging Paths &amp; Tracks'\n",
      " 'Neighborhoods • Architectural Buildings'\n",
      " 'Department Stores • Factory Outlets • Shopping Malls' 'Civic Centres'\n",
      " 'Universities &amp; Schools' 'Speciality Museums • History Museums'\n",
      " 'Historic Walking Areas' 'Government Buildings'\n",
      " 'Beaches • Parks • Forests'\n",
      " 'Art Galleries • Historic Sites • Government Buildings'\n",
      " 'Amusement &amp; Theme Parks • Sports Complexes'\n",
      " 'Ski &amp; Snowboard Areas' 'Art Galleries • Theaters' 'Antique Shops'\n",
      " 'National Parks'\n",
      " 'Art Galleries • Points of Interest &amp; Landmarks • Observation Decks &amp; Towers'\n",
      " 'Historic Sites • Points of Interest &amp; Landmarks • Architectural Buildings'\n",
      " 'Amusement &amp; Theme Parks'\n",
      " 'Amusement &amp; Theme Parks • Shopping Malls'\n",
      " 'Educational sites • History Museums • Government Buildings' 'Theaters'\n",
      " 'Sports Complexes • Arenas &amp; Stadiums' 'Art Galleries'\n",
      " 'Farmers Markets' 'Nature &amp; Wildlife Areas • Hiking Trails • Forests'\n",
      " 'Science Museums • Theaters • Observatories &amp; Planetariums'\n",
      " 'Bridges • Scenic Walking Areas' 'Wineries &amp; Vineyards'\n",
      " 'Food &amp; Drink Festivals' 'Points of Interest &amp; Landmarks • Dams'\n",
      " 'Historic Sites • Points of Interest &amp; Landmarks • Government Buildings'\n",
      " 'Historic Walking Areas • Jogging Paths &amp; Tracks' 'Marinas'\n",
      " 'Operas • Theaters' 'Forests • Gardens' 'Distilleries' 'Biking Trails'\n",
      " 'Speciality &amp; Gift Shops' 'Art Galleries • Art Museums'\n",
      " 'Sports Camps &amp; Clinics'\n",
      " 'Missions • Religious Sites • Churches &amp; Cathedrals'\n",
      " 'Religious Sites • Monuments &amp; Statues'\n",
      " 'Neighborhoods • Historic Walking Areas • Scenic Walking Areas'\n",
      " 'Architectural Buildings • Religious Sites'\n",
      " 'Historic Sites • Points of Interest &amp; Landmarks • Cemeteries'\n",
      " 'Lighthouses' 'Observation Decks &amp; Towers'\n",
      " 'Points of Interest &amp; Landmarks • Scenic Walking Areas' 'Aquariums'\n",
      " 'Farms • Gardens'\n",
      " 'Historic Sites • Architectural Buildings • Educational sites'\n",
      " 'Historic Sites • Points of Interest &amp; Landmarks'\n",
      " 'Points of Interest &amp; Landmarks • Monuments &amp; Statues'\n",
      " 'Points of Interest &amp; Landmarks • Monuments &amp; Statues • Fountains'\n",
      " 'Points of Interest &amp; Landmarks • Architectural Buildings • Lookouts'\n",
      " 'Historic Walking Areas • Architectural Buildings • Religious Sites'\n",
      " 'Auto Racing Tracks' 'Nature &amp; Wildlife Areas • Gardens'\n",
      " 'Points of Interest &amp; Landmarks • Bridges • Scenic Walking Areas'\n",
      " 'Architectural Buildings • Educational sites'\n",
      " 'Points of Interest &amp; Landmarks • Religious Sites • Monuments &amp; Statues'\n",
      " 'Points of Interest &amp; Landmarks • Historic Walking Areas • Monuments &amp; Statues'\n",
      " 'Points of Interest &amp; Landmarks • Historic Walking Areas • Architectural Buildings'\n",
      " 'Architectural Buildings • Religious Sites • Churches &amp; Cathedrals'\n",
      " 'Historic Sites • Military Bases &amp; Facilities'\n",
      " 'Sports Camps &amp; Clinics • Sports Complexes • Arenas &amp; Stadiums'\n",
      " 'Points of Interest &amp; Landmarks • Monuments &amp; Statues • Scenic Walking Areas'\n",
      " 'Points of Interest &amp; Landmarks • Architectural Buildings • Religious Sites'\n",
      " 'Architectural Buildings • Shopping Malls'\n",
      " 'Points of Interest &amp; Landmarks • Piers &amp; Boardwalks • Monuments &amp; Statues'\n",
      " 'Architectural Buildings • Churches &amp; Cathedrals' 'Volcanos'\n",
      " 'Parks • Scenic Walking Areas'\n",
      " 'Historic Sites • Architectural Buildings • Religious Sites'\n",
      " 'Lessons &amp; Workshops • Cooking Classes' 'Cooking Classes' 'Spas'\n",
      " 'Escape Games • Game &amp; Entertainment Centers' 'Escape Games'\n",
      " 'Game &amp; Entertainment Centers'\n",
      " 'Speciality &amp; Gift Shops • Antique Shops'\n",
      " 'Art Galleries • Mysterious Sites • Lessons &amp; Workshops'\n",
      " 'Bars &amp; Clubs' 'Comedy Clubs' 'Taxis &amp; Shuttles'\n",
      " 'Theaters • Theatre &amp; Performances'\n",
      " 'Speciality &amp; Gift Shops • Lessons &amp; Workshops'\n",
      " 'Health Clubs • Spas' 'Theatre &amp; Performances'\n",
      " 'Speciality &amp; Gift Shops • Department Stores'\n",
      " 'Playgrounds • Game &amp; Entertainment Centers'\n",
      " 'Bus Services • Taxis &amp; Shuttles' 'Paint &amp; Pottery Studios'\n",
      " 'Wine Bars' 'Paint &amp; Pottery Studios • Cooking Classes'\n",
      " 'Bars &amp; Clubs • Golf Courses • Game &amp; Entertainment Centers'\n",
      " 'Bars &amp; Clubs • Wine Bars'\n",
      " 'Paint &amp; Pottery Studios • Lessons &amp; Workshops'\n",
      " 'Other Fun &amp; Games' 'Paint &amp; Pottery Studios • Art Galleries'\n",
      " 'Bars &amp; Clubs • Karaoke Bars • Dance Clubs &amp; Discos'\n",
      " 'Movie Theaters' 'Bars &amp; Clubs • Jazz Bars'\n",
      " 'Neighborhoods • Onsen Resorts • Spas'\n",
      " 'Bars &amp; Clubs • Dance Clubs &amp; Discos' 'Golf Courses'\n",
      " 'Bars &amp; Clubs • Comedy Clubs' 'Bus Services'\n",
      " 'Lessons &amp; Workshops' 'Speciality &amp; Gift Shops • Art Galleries'\n",
      " 'Other Outdoor Activities'\n",
      " 'Sports Complexes • Game &amp; Entertainment Centers' 'Gear Rentals'\n",
      " 'Health Clubs • Yoga &amp; Pilates' 'Onsen Resorts • Spas'\n",
      " 'Speciality &amp; Gift Shops • Shopping Malls'\n",
      " \"Science Museums • Lessons &amp; Workshops • Children's Museums\"\n",
      " 'Health Clubs • Yoga &amp; Pilates • Spas'\n",
      " 'Health Clubs • Yoga &amp; Pilates • Lessons &amp; Workshops'\n",
      " 'Yoga &amp; Pilates' 'Health Clubs'\n",
      " 'Paint &amp; Pottery Studios • Art Galleries • Universities &amp; Schools'\n",
      " 'Cigar Bars'\n",
      " 'Speciality &amp; Gift Shops • Points of Interest &amp; Landmarks'\n",
      " 'Symphonies • Theatre &amp; Performances'\n",
      " 'Bodies of Water • Parks • Game &amp; Entertainment Centers'\n",
      " 'Karaoke Bars' 'Bowling Alleys'\n",
      " 'Game &amp; Entertainment Centers • Miniature Golf'\n",
      " 'Nature &amp; Wildlife Areas • Hiking Trails • Gardens'\n",
      " 'Bars &amp; Clubs • Karaoke Bars' 'Parks • Hiking Trails • Gardens'\n",
      " 'Historic Sites • Historic Walking Areas • Military Bases &amp; Facilities'\n",
      " 'Bars &amp; Clubs • Karaoke Bars • Wine Bars'\n",
      " 'Bars &amp; Clubs • Dance Clubs &amp; Discos • Theatre &amp; Performances'\n",
      " 'Biking Trails • Hiking Trails • Jogging Paths &amp; Tracks'\n",
      " '<div class=\"WlYyy diXIH dDKKM\">We specialise in airport transfers to and from Singapore\\'s Changi airport. We offer transfers in luxury cars, combi vans and coaches.</div>'\n",
      " 'Yoga &amp; Pilates • Lessons &amp; Workshops'\n",
      " 'Historic Walking Areas • Architectural Buildings'\n",
      " 'Bars &amp; Clubs • Gay Bars' 'Spas • Thermal Spas'\n",
      " 'Jogging Paths &amp; Tracks'\n",
      " 'Historic Walking Areas • Architectural Buildings • Scenic Walking Areas'\n",
      " 'Neighborhoods • Historic Walking Areas • Architectural Buildings'\n",
      " 'Speciality &amp; Gift Shops • Art Galleries • Lessons &amp; Workshops'\n",
      " 'Neighborhoods • Architectural Buildings • Scenic Walking Areas'\n",
      " 'Historic Sites • Points of Interest &amp; Landmarks • Historic Walking Areas'\n",
      " 'Hiking Trails • Jogging Paths &amp; Tracks'\n",
      " 'Shooting Ranges • Game &amp; Entertainment Centers'\n",
      " 'Sports Camps &amp; Clinics • Game &amp; Entertainment Centers'\n",
      " 'Dance Clubs &amp; Discos' 'Scenic Drives'\n",
      " 'Architectural Buildings • Scenic Walking Areas'\n",
      " 'Points of Interest &amp; Landmarks • Historic Walking Areas • Lookouts'\n",
      " 'Biking Trails • Parks • Playgrounds'\n",
      " 'Biking Trails • Parks • Hiking Trails'\n",
      " 'Points of Interest &amp; Landmarks • Historic Walking Areas • Bridges'\n",
      " 'Bodies of Water • National Parks • Biking Trails'\n",
      " 'Historic Sites • Battlefields'\n",
      " 'Bus Services • Public Transportation Systems'\n",
      " 'Biking Trails • Jogging Paths &amp; Tracks'\n",
      " '<div class=\"WlYyy diXIH dDKKM\">Our company has a fleet of vehicles to perform the below services : Airport transfer Charter service Point to point transfer Singapore - Malaysia Johor Bahru transfer and vice verse Legoland Hello Kitty Town Hotels/shopping complex around Johor Bahru</div>']\n"
     ]
    }
   ],
   "source": [
    "print(tags)"
   ],
   "metadata": {
    "collapsed": false,
    "pycharm": {
     "name": "#%%\n"
    }
   }
  },
  {
   "cell_type": "code",
   "execution_count": 22,
   "outputs": [],
   "source": [
    "# Obtain tags\n",
    "final_tags = set()\n",
    "for tag in tags:\n",
    "    # Erroneous tag\n",
    "    if \"div\" in tag:\n",
    "        continue\n",
    "    t_split = tag.split(\" • \")\n",
    "    for t in t_split:\n",
    "        # Replace \"&amp;\" with \"and\"\n",
    "        t = t.replace(\"&amp;\", \"and\")\n",
    "        final_tags.add(t)"
   ],
   "metadata": {
    "collapsed": false,
    "pycharm": {
     "name": "#%%\n"
    }
   }
  },
  {
   "cell_type": "code",
   "execution_count": 23,
   "outputs": [
    {
     "name": "stdout",
     "output_type": "stream",
     "text": [
      "Cigar Bars\n",
      "Golf Courses\n",
      "Department Stores\n",
      "Speciality Museums\n",
      "Bus Services\n",
      "Military Museums\n",
      "Neighborhoods\n",
      "Jazz Bars\n",
      "Battlefields\n",
      "Observatories and Planetariums\n",
      "Volcanos\n",
      "Zoos\n",
      "Karaoke Bars\n",
      "Waterfalls\n",
      "Natural History Museums\n",
      "Onsen Resorts\n",
      "Distilleries\n",
      "Churches and Cathedrals\n",
      "Ferries\n",
      "Thermal Spas\n",
      "Airport Shops\n",
      "Marinas\n",
      "Operas\n",
      "Antique Shops\n",
      "Cooking Classes\n",
      "Public Transportation Systems\n",
      "Escape Games\n",
      "Wine Bars\n",
      "Architectural Buildings\n",
      "Children's Museums\n",
      "Sports Camps and Clinics\n",
      "Farmers Markets\n",
      "Cultural Events\n",
      "Bridges\n",
      "Parks\n",
      "Theatre and Performances\n",
      "Flea and Street Markets\n",
      "Scenic Drives\n",
      "Science Museums\n",
      "Lighthouses\n",
      "History Museums\n",
      "National Parks\n",
      "Movie Theaters\n",
      "Bowling Alleys\n",
      "Ski and Snowboard Areas\n",
      "Gay Bars\n",
      "Wineries and Vineyards\n",
      "Farms\n",
      "Miniature Golf\n",
      "Shooting Ranges\n",
      "Factory Outlets\n",
      "Visitor Centers\n",
      "Historic Walking Areas\n",
      "Libraries\n",
      "Forests\n",
      "Dance Clubs and Discos\n",
      "Seasonal Fireworks\n",
      "Playgrounds\n",
      "Aquariums\n",
      "Yoga and Pilates\n",
      "Cemeteries\n",
      "Points of Interest and Landmarks\n",
      "Gear Rentals\n",
      "Health Clubs\n",
      "Jogging Paths and Tracks\n",
      "Breweries\n",
      "Monuments and Statues\n",
      "Shopping Malls\n",
      "Hiking Trails\n",
      "Arenas and Stadiums\n",
      "Educational sites\n",
      "Sporting Events\n",
      "Military Bases and Facilities\n",
      "Speciality and Gift Shops\n",
      "Government Buildings\n",
      "Bodies of Water\n",
      "Piers and Boardwalks\n",
      "Art Galleries\n",
      "Convention Centers\n",
      "Food and Drink Festivals\n",
      "Paint and Pottery Studios\n",
      "Religious Sites\n",
      "Water Parks\n",
      "Sports Complexes\n",
      "Biking Trails\n",
      "Lessons and Workshops\n",
      "Comedy Clubs\n",
      "Game and Entertainment Centers\n",
      "Dams\n",
      "Lookouts\n",
      "Other Fun and Games\n",
      "Mysterious Sites\n",
      "Auto Racing Tracks\n",
      "Airport Lounges\n",
      "Theaters\n",
      "Fountains\n",
      "Scenic Walking Areas\n",
      "Art Museums\n",
      "Hot Springs and Geysers\n",
      "Nature and Wildlife Areas\n",
      "Casinos\n",
      "Bars and Clubs\n",
      "Symphonies\n",
      "Taxis and Shuttles\n",
      "Other Outdoor Activities\n",
      "Spas\n",
      "Observation Decks and Towers\n",
      "Gardens\n",
      "Amusement and Theme Parks\n",
      "Universities and Schools\n",
      "Islands\n",
      "Missions\n",
      "Beaches\n",
      "Civic Centres\n",
      "Trams\n",
      "Historic Sites\n"
     ]
    }
   ],
   "source": [
    "for t in final_tags:\n",
    "    print(t)"
   ],
   "metadata": {
    "collapsed": false,
    "pycharm": {
     "name": "#%%\n"
    }
   }
  },
  {
   "cell_type": "code",
   "execution_count": 24,
   "outputs": [
    {
     "data": {
      "text/plain": "116"
     },
     "execution_count": 24,
     "metadata": {},
     "output_type": "execute_result"
    }
   ],
   "source": [
    "len(final_tags)"
   ],
   "metadata": {
    "collapsed": false,
    "pycharm": {
     "name": "#%%\n"
    }
   }
  },
  {
   "cell_type": "code",
   "execution_count": 28,
   "outputs": [],
   "source": [
    "final_tags = sorted(list(final_tags))"
   ],
   "metadata": {
    "collapsed": false,
    "pycharm": {
     "name": "#%%\n"
    }
   }
  },
  {
   "cell_type": "code",
   "execution_count": 30,
   "outputs": [
    {
     "data": {
      "text/plain": "                        name  \\\n0         Gardens by the Bay   \n1  Singapore Botanic Gardens   \n2              Singapore Zoo   \n3     National Orchid Garden   \n4               Cloud Forest   \n\n                                            location  \\\n0  18 Marina Gardens Drive Bayfront Plaza, Singap...   \n1          1 Cluny Road, Singapore 259 569 Singapore   \n2    80 Mandai Lake Road, Singapore 729826 Singapore   \n3  1 Cluny Rd Within the Singapore Botanic Garden...   \n4  18 Marina Gardens Drive, Singapore 018953 Sing...   \n\n                                               about  \\\n0  An integral part of Singapore's \"City in a Gar...   \n1  This national park is open daily and features ...   \n2  Set in a rainforest environment, Singapore Zoo...   \n3                                                NaN   \n4                                                NaN   \n\n                                                tags  overallRating  \\\n0       Points of Interest &amp; Landmarks • Gardens            4.5   \n1                                    Parks • Gardens            4.5   \n2                                               Zoos            4.5   \n3                                            Gardens            4.5   \n4  Points of Interest &amp; Landmarks • Parks • G...            4.5   \n\n  overallRatingCnt  \n0           59,556  \n1           19,829  \n2           22,376  \n3           13,830  \n4           14,935  ",
      "text/html": "<div>\n<style scoped>\n    .dataframe tbody tr th:only-of-type {\n        vertical-align: middle;\n    }\n\n    .dataframe tbody tr th {\n        vertical-align: top;\n    }\n\n    .dataframe thead th {\n        text-align: right;\n    }\n</style>\n<table border=\"1\" class=\"dataframe\">\n  <thead>\n    <tr style=\"text-align: right;\">\n      <th></th>\n      <th>name</th>\n      <th>location</th>\n      <th>about</th>\n      <th>tags</th>\n      <th>overallRating</th>\n      <th>overallRatingCnt</th>\n    </tr>\n  </thead>\n  <tbody>\n    <tr>\n      <th>0</th>\n      <td>Gardens by the Bay</td>\n      <td>18 Marina Gardens Drive Bayfront Plaza, Singap...</td>\n      <td>An integral part of Singapore's \"City in a Gar...</td>\n      <td>Points of Interest &amp;amp; Landmarks • Gardens</td>\n      <td>4.5</td>\n      <td>59,556</td>\n    </tr>\n    <tr>\n      <th>1</th>\n      <td>Singapore Botanic Gardens</td>\n      <td>1 Cluny Road, Singapore 259 569 Singapore</td>\n      <td>This national park is open daily and features ...</td>\n      <td>Parks • Gardens</td>\n      <td>4.5</td>\n      <td>19,829</td>\n    </tr>\n    <tr>\n      <th>2</th>\n      <td>Singapore Zoo</td>\n      <td>80 Mandai Lake Road, Singapore 729826 Singapore</td>\n      <td>Set in a rainforest environment, Singapore Zoo...</td>\n      <td>Zoos</td>\n      <td>4.5</td>\n      <td>22,376</td>\n    </tr>\n    <tr>\n      <th>3</th>\n      <td>National Orchid Garden</td>\n      <td>1 Cluny Rd Within the Singapore Botanic Garden...</td>\n      <td>NaN</td>\n      <td>Gardens</td>\n      <td>4.5</td>\n      <td>13,830</td>\n    </tr>\n    <tr>\n      <th>4</th>\n      <td>Cloud Forest</td>\n      <td>18 Marina Gardens Drive, Singapore 018953 Sing...</td>\n      <td>NaN</td>\n      <td>Points of Interest &amp;amp; Landmarks • Parks • G...</td>\n      <td>4.5</td>\n      <td>14,935</td>\n    </tr>\n  </tbody>\n</table>\n</div>"
     },
     "execution_count": 30,
     "metadata": {},
     "output_type": "execute_result"
    }
   ],
   "source": [
    "df.head()"
   ],
   "metadata": {
    "collapsed": false,
    "pycharm": {
     "name": "#%%\n"
    }
   }
  },
  {
   "cell_type": "markdown",
   "source": [
    "# Construct the processed dataset\n",
    "Just encode the attraction into their feature vector alongside their basic details and identify any bad data points"
   ],
   "metadata": {
    "collapsed": false,
    "pycharm": {
     "name": "#%% md\n"
    }
   }
  },
  {
   "cell_type": "code",
   "execution_count": 39,
   "outputs": [],
   "source": [
    "import requests\n",
    "import config"
   ],
   "metadata": {
    "collapsed": false,
    "pycharm": {
     "name": "#%%\n"
    }
   }
  },
  {
   "cell_type": "code",
   "execution_count": 44,
   "outputs": [],
   "source": [
    "dataset = []\n",
    "\n",
    "GOOGLE_MAPS_API_URL = 'https://maps.googleapis.com/maps/api/geocode/json'\n",
    "\n",
    "for idx, row in df.iterrows():\n",
    "\n",
    "    params = {\n",
    "        'address': row[\"location\"],\n",
    "        'sensor': 'false',\n",
    "        \"region\": 'singapore',\n",
    "        'key': config.API_KEY\n",
    "    }\n",
    "\n",
    "    req = requests.get(GOOGLE_MAPS_API_URL, params=params)\n",
    "    res = req.json()\n",
    "    if len(res[\"results\"]) > 0:\n",
    "        lat = res['results'][0]['geometry']['location']['lat']\n",
    "        lon = res['results'][0]['geometry']['location']['lng']\n",
    "        formatted_address = res['results'][0]['formatted_address']\n",
    "    else:\n",
    "        lat = \"nil\"\n",
    "        lon = \"nil\"\n",
    "        formatted_address = \"nil\"\n",
    "    x = {\n",
    "        \"name\": row[\"name\"],\n",
    "        \"location\": row[\"location\"],\n",
    "        \"lat\": lat,\n",
    "        \"lon\": lon,\n",
    "        \"formatted_address\": formatted_address,\n",
    "        \"about\": row[\"about\"],\n",
    "        \"overallRating\": row[\"overallRating\"],\n",
    "        \"overallRatingCnt\": row[\"overallRatingCnt\"],\n",
    "    }\n",
    "    x_tag_list = row[\"tags\"].replace(\"&amp;\", \"and\").split(\" • \")\n",
    "    n = len(x_tag_list)\n",
    "    x_tag = {\n",
    "        t: 1 / n if t in x_tag_list else 0 for t in final_tags\n",
    "    }\n",
    "    x.update(x_tag)\n",
    "    dataset.append(x)\n",
    "\n",
    "dataset = pd.DataFrame.from_dict(dataset)"
   ],
   "metadata": {
    "collapsed": false,
    "pycharm": {
     "name": "#%%\n"
    }
   }
  },
  {
   "cell_type": "code",
   "execution_count": 45,
   "outputs": [
    {
     "data": {
      "text/plain": "                        name  \\\n0         Gardens by the Bay   \n1  Singapore Botanic Gardens   \n2              Singapore Zoo   \n3     National Orchid Garden   \n4               Cloud Forest   \n\n                                            location       lat         lon  \\\n0  18 Marina Gardens Drive Bayfront Plaza, Singap...  1.282591  103.865355   \n1          1 Cluny Road, Singapore 259 569 Singapore  1.307886  103.818418   \n2    80 Mandai Lake Road, Singapore 729826 Singapore  1.404607  103.790633   \n3  1 Cluny Rd Within the Singapore Botanic Garden...   1.31384  103.815914   \n4  18 Marina Gardens Drive, Singapore 018953 Sing...  1.282591  103.865355   \n\n                                   formatted_address  \\\n0             18 Marina Gardens Dr, Singapore 018953   \n1                       1 Cluny Rd, Singapore 259569   \n2                80 Mandai Lake Rd, Singapore 729826   \n3  1 Cluny Rd, Singapore Botanic Gardens, Singapo...   \n4             18 Marina Gardens Dr, Singapore 018953   \n\n                                               about  overallRating  \\\n0  An integral part of Singapore's \"City in a Gar...            4.5   \n1  This national park is open daily and features ...            4.5   \n2  Set in a rainforest environment, Singapore Zoo...            4.5   \n3                                                NaN            4.5   \n4                                                NaN            4.5   \n\n  overallRatingCnt  Airport Lounges  Airport Shops  ...  Trams  \\\n0           59,556              0.0            0.0  ...    0.0   \n1           19,829              0.0            0.0  ...    0.0   \n2           22,376              0.0            0.0  ...    0.0   \n3           13,830              0.0            0.0  ...    0.0   \n4           14,935              0.0            0.0  ...    0.0   \n\n   Universities and Schools  Visitor Centers  Volcanos  Water Parks  \\\n0                       0.0              0.0       0.0          0.0   \n1                       0.0              0.0       0.0          0.0   \n2                       0.0              0.0       0.0          0.0   \n3                       0.0              0.0       0.0          0.0   \n4                       0.0              0.0       0.0          0.0   \n\n   Waterfalls  Wine Bars  Wineries and Vineyards  Yoga and Pilates  Zoos  \n0         0.0        0.0                     0.0               0.0   0.0  \n1         0.0        0.0                     0.0               0.0   0.0  \n2         0.0        0.0                     0.0               0.0   1.0  \n3         0.0        0.0                     0.0               0.0   0.0  \n4         0.0        0.0                     0.0               0.0   0.0  \n\n[5 rows x 124 columns]",
      "text/html": "<div>\n<style scoped>\n    .dataframe tbody tr th:only-of-type {\n        vertical-align: middle;\n    }\n\n    .dataframe tbody tr th {\n        vertical-align: top;\n    }\n\n    .dataframe thead th {\n        text-align: right;\n    }\n</style>\n<table border=\"1\" class=\"dataframe\">\n  <thead>\n    <tr style=\"text-align: right;\">\n      <th></th>\n      <th>name</th>\n      <th>location</th>\n      <th>lat</th>\n      <th>lon</th>\n      <th>formatted_address</th>\n      <th>about</th>\n      <th>overallRating</th>\n      <th>overallRatingCnt</th>\n      <th>Airport Lounges</th>\n      <th>Airport Shops</th>\n      <th>...</th>\n      <th>Trams</th>\n      <th>Universities and Schools</th>\n      <th>Visitor Centers</th>\n      <th>Volcanos</th>\n      <th>Water Parks</th>\n      <th>Waterfalls</th>\n      <th>Wine Bars</th>\n      <th>Wineries and Vineyards</th>\n      <th>Yoga and Pilates</th>\n      <th>Zoos</th>\n    </tr>\n  </thead>\n  <tbody>\n    <tr>\n      <th>0</th>\n      <td>Gardens by the Bay</td>\n      <td>18 Marina Gardens Drive Bayfront Plaza, Singap...</td>\n      <td>1.282591</td>\n      <td>103.865355</td>\n      <td>18 Marina Gardens Dr, Singapore 018953</td>\n      <td>An integral part of Singapore's \"City in a Gar...</td>\n      <td>4.5</td>\n      <td>59,556</td>\n      <td>0.0</td>\n      <td>0.0</td>\n      <td>...</td>\n      <td>0.0</td>\n      <td>0.0</td>\n      <td>0.0</td>\n      <td>0.0</td>\n      <td>0.0</td>\n      <td>0.0</td>\n      <td>0.0</td>\n      <td>0.0</td>\n      <td>0.0</td>\n      <td>0.0</td>\n    </tr>\n    <tr>\n      <th>1</th>\n      <td>Singapore Botanic Gardens</td>\n      <td>1 Cluny Road, Singapore 259 569 Singapore</td>\n      <td>1.307886</td>\n      <td>103.818418</td>\n      <td>1 Cluny Rd, Singapore 259569</td>\n      <td>This national park is open daily and features ...</td>\n      <td>4.5</td>\n      <td>19,829</td>\n      <td>0.0</td>\n      <td>0.0</td>\n      <td>...</td>\n      <td>0.0</td>\n      <td>0.0</td>\n      <td>0.0</td>\n      <td>0.0</td>\n      <td>0.0</td>\n      <td>0.0</td>\n      <td>0.0</td>\n      <td>0.0</td>\n      <td>0.0</td>\n      <td>0.0</td>\n    </tr>\n    <tr>\n      <th>2</th>\n      <td>Singapore Zoo</td>\n      <td>80 Mandai Lake Road, Singapore 729826 Singapore</td>\n      <td>1.404607</td>\n      <td>103.790633</td>\n      <td>80 Mandai Lake Rd, Singapore 729826</td>\n      <td>Set in a rainforest environment, Singapore Zoo...</td>\n      <td>4.5</td>\n      <td>22,376</td>\n      <td>0.0</td>\n      <td>0.0</td>\n      <td>...</td>\n      <td>0.0</td>\n      <td>0.0</td>\n      <td>0.0</td>\n      <td>0.0</td>\n      <td>0.0</td>\n      <td>0.0</td>\n      <td>0.0</td>\n      <td>0.0</td>\n      <td>0.0</td>\n      <td>1.0</td>\n    </tr>\n    <tr>\n      <th>3</th>\n      <td>National Orchid Garden</td>\n      <td>1 Cluny Rd Within the Singapore Botanic Garden...</td>\n      <td>1.31384</td>\n      <td>103.815914</td>\n      <td>1 Cluny Rd, Singapore Botanic Gardens, Singapo...</td>\n      <td>NaN</td>\n      <td>4.5</td>\n      <td>13,830</td>\n      <td>0.0</td>\n      <td>0.0</td>\n      <td>...</td>\n      <td>0.0</td>\n      <td>0.0</td>\n      <td>0.0</td>\n      <td>0.0</td>\n      <td>0.0</td>\n      <td>0.0</td>\n      <td>0.0</td>\n      <td>0.0</td>\n      <td>0.0</td>\n      <td>0.0</td>\n    </tr>\n    <tr>\n      <th>4</th>\n      <td>Cloud Forest</td>\n      <td>18 Marina Gardens Drive, Singapore 018953 Sing...</td>\n      <td>1.282591</td>\n      <td>103.865355</td>\n      <td>18 Marina Gardens Dr, Singapore 018953</td>\n      <td>NaN</td>\n      <td>4.5</td>\n      <td>14,935</td>\n      <td>0.0</td>\n      <td>0.0</td>\n      <td>...</td>\n      <td>0.0</td>\n      <td>0.0</td>\n      <td>0.0</td>\n      <td>0.0</td>\n      <td>0.0</td>\n      <td>0.0</td>\n      <td>0.0</td>\n      <td>0.0</td>\n      <td>0.0</td>\n      <td>0.0</td>\n    </tr>\n  </tbody>\n</table>\n<p>5 rows × 124 columns</p>\n</div>"
     },
     "execution_count": 45,
     "metadata": {},
     "output_type": "execute_result"
    }
   ],
   "source": [
    "dataset.head()"
   ],
   "metadata": {
    "collapsed": false,
    "pycharm": {
     "name": "#%%\n"
    }
   }
  },
  {
   "cell_type": "code",
   "execution_count": 47,
   "outputs": [],
   "source": [
    "dataset.to_csv(\"AttractionProcessedData.csv\")"
   ],
   "metadata": {
    "collapsed": false,
    "pycharm": {
     "name": "#%%\n"
    }
   }
  }
 ],
 "metadata": {
  "kernelspec": {
   "display_name": "Python 3",
   "language": "python",
   "name": "python3"
  },
  "language_info": {
   "codemirror_mode": {
    "name": "ipython",
    "version": 2
   },
   "file_extension": ".py",
   "mimetype": "text/x-python",
   "name": "python",
   "nbconvert_exporter": "python",
   "pygments_lexer": "ipython2",
   "version": "2.7.6"
  }
 },
 "nbformat": 4,
 "nbformat_minor": 0
}