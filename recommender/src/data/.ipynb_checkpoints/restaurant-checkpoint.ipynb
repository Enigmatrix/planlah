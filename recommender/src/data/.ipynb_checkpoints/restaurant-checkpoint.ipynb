{
 "cells": [
  {
   "cell_type": "code",
   "execution_count": 2,
   "metadata": {
    "collapsed": true,
    "pycharm": {
     "name": "#%%\n"
    }
   },
   "outputs": [],
   "source": [
    "import numpy as np\n",
    "import pandas as pd\n",
    "import seaborn as sns\n",
    "import matplotlib.pyplot as plt"
   ]
  },
  {
   "cell_type": "code",
   "execution_count": 3,
   "outputs": [],
   "source": [
    "df = pd.read_csv(\"RestaurantRawData.csv\", index_col=0)\n",
    "df = df.drop_duplicates()"
   ],
   "metadata": {
    "collapsed": false,
    "pycharm": {
     "name": "#%%\n"
    }
   }
  },
  {
   "cell_type": "code",
   "execution_count": 4,
   "outputs": [
    {
     "data": {
      "text/plain": "13778"
     },
     "execution_count": 4,
     "metadata": {},
     "output_type": "execute_result"
    }
   ],
   "source": [
    "len(df)"
   ],
   "metadata": {
    "collapsed": false,
    "pycharm": {
     "name": "#%%\n"
    }
   }
  },
  {
   "cell_type": "code",
   "execution_count": 5,
   "outputs": [
    {
     "data": {
      "text/plain": "                        name  \\\n0            BAM! Restaurant   \n1        Entre-Nous creperie   \n2              The Courtyard   \n3              Portman's Bar   \n4  Grand Shanghai Restaurant   \n\n                                            location  \\\n0  38 Tras Street #38-40, Singapore 078977 Singapore   \n1  27 Seah Street # 01-01, Singapore 188383 Singa...   \n2  1 Fullerton Square Fullerton Hotel The Fullert...   \n3  6 Raffles Boulevard Marina Square Level 4 At P...   \n4  390 Havelock Road King's Centre, Singapore 169...   \n\n                                       working_hours price_range  \\\n0  <div class=\"fUbTx\">Tue</div><div class=\"cFfqI\"...         NaN   \n1  <div class=\"fUbTx\">Sun</div><div class=\"cFfqI\"...         NaN   \n2  <div class=\"fUbTx\">Sun</div><div class=\"cFfqI\"...         NaN   \n3  <div class=\"fUbTx\">Sun</div><div class=\"cFfqI\"...         NaN   \n4  <div class=\"fUbTx\">Sun</div><div class=\"cFfqI\"...         NaN   \n\n                             tags foodRating serviceRating valueRating  \\\n0  Spanish,Fusion,Japanese Fusion         45            45          40   \n1         French,European,Healthy         50            50          45   \n2   Japanese,Indian,International         40            45          40   \n3          Bar,Cafe,International         45            45          45   \n4          Chinese,Asian,Shanghai         40            40          35   \n\n  atmosphereRating overallRating overallRatingCnt  \n0               45           4.5              226  \n1               40           5.0            1,555  \n2               45           4.5            1,450  \n3              nil           5.0              270  \n4               40           5.0              641  ",
      "text/html": "<div>\n<style scoped>\n    .dataframe tbody tr th:only-of-type {\n        vertical-align: middle;\n    }\n\n    .dataframe tbody tr th {\n        vertical-align: top;\n    }\n\n    .dataframe thead th {\n        text-align: right;\n    }\n</style>\n<table border=\"1\" class=\"dataframe\">\n  <thead>\n    <tr style=\"text-align: right;\">\n      <th></th>\n      <th>name</th>\n      <th>location</th>\n      <th>working_hours</th>\n      <th>price_range</th>\n      <th>tags</th>\n      <th>foodRating</th>\n      <th>serviceRating</th>\n      <th>valueRating</th>\n      <th>atmosphereRating</th>\n      <th>overallRating</th>\n      <th>overallRatingCnt</th>\n    </tr>\n  </thead>\n  <tbody>\n    <tr>\n      <th>0</th>\n      <td>BAM! Restaurant</td>\n      <td>38 Tras Street #38-40, Singapore 078977 Singapore</td>\n      <td>&lt;div class=\"fUbTx\"&gt;Tue&lt;/div&gt;&lt;div class=\"cFfqI\"...</td>\n      <td>NaN</td>\n      <td>Spanish,Fusion,Japanese Fusion</td>\n      <td>45</td>\n      <td>45</td>\n      <td>40</td>\n      <td>45</td>\n      <td>4.5</td>\n      <td>226</td>\n    </tr>\n    <tr>\n      <th>1</th>\n      <td>Entre-Nous creperie</td>\n      <td>27 Seah Street # 01-01, Singapore 188383 Singa...</td>\n      <td>&lt;div class=\"fUbTx\"&gt;Sun&lt;/div&gt;&lt;div class=\"cFfqI\"...</td>\n      <td>NaN</td>\n      <td>French,European,Healthy</td>\n      <td>50</td>\n      <td>50</td>\n      <td>45</td>\n      <td>40</td>\n      <td>5.0</td>\n      <td>1,555</td>\n    </tr>\n    <tr>\n      <th>2</th>\n      <td>The Courtyard</td>\n      <td>1 Fullerton Square Fullerton Hotel The Fullert...</td>\n      <td>&lt;div class=\"fUbTx\"&gt;Sun&lt;/div&gt;&lt;div class=\"cFfqI\"...</td>\n      <td>NaN</td>\n      <td>Japanese,Indian,International</td>\n      <td>40</td>\n      <td>45</td>\n      <td>40</td>\n      <td>45</td>\n      <td>4.5</td>\n      <td>1,450</td>\n    </tr>\n    <tr>\n      <th>3</th>\n      <td>Portman's Bar</td>\n      <td>6 Raffles Boulevard Marina Square Level 4 At P...</td>\n      <td>&lt;div class=\"fUbTx\"&gt;Sun&lt;/div&gt;&lt;div class=\"cFfqI\"...</td>\n      <td>NaN</td>\n      <td>Bar,Cafe,International</td>\n      <td>45</td>\n      <td>45</td>\n      <td>45</td>\n      <td>nil</td>\n      <td>5.0</td>\n      <td>270</td>\n    </tr>\n    <tr>\n      <th>4</th>\n      <td>Grand Shanghai Restaurant</td>\n      <td>390 Havelock Road King's Centre, Singapore 169...</td>\n      <td>&lt;div class=\"fUbTx\"&gt;Sun&lt;/div&gt;&lt;div class=\"cFfqI\"...</td>\n      <td>NaN</td>\n      <td>Chinese,Asian,Shanghai</td>\n      <td>40</td>\n      <td>40</td>\n      <td>35</td>\n      <td>40</td>\n      <td>5.0</td>\n      <td>641</td>\n    </tr>\n  </tbody>\n</table>\n</div>"
     },
     "execution_count": 5,
     "metadata": {},
     "output_type": "execute_result"
    }
   ],
   "source": [
    "df.head()"
   ],
   "metadata": {
    "collapsed": false,
    "pycharm": {
     "name": "#%%\n"
    }
   }
  },
  {
   "cell_type": "code",
   "execution_count": 6,
   "outputs": [],
   "source": [
    "from bs4 import BeautifulSoup"
   ],
   "metadata": {
    "collapsed": false,
    "pycharm": {
     "name": "#%%\n"
    }
   }
  },
  {
   "cell_type": "code",
   "execution_count": 7,
   "outputs": [],
   "source": [
    "df[\"working_hours\"] = df[\"working_hours\"].apply(lambda html: BeautifulSoup(html).get_text() if type(html) == str else \"None\")"
   ],
   "metadata": {
    "collapsed": false,
    "pycharm": {
     "name": "#%%\n"
    }
   }
  },
  {
   "cell_type": "code",
   "execution_count": 8,
   "outputs": [
    {
     "data": {
      "text/plain": "3204"
     },
     "execution_count": 8,
     "metadata": {},
     "output_type": "execute_result"
    }
   ],
   "source": [
    "df[\"price_range\"].count()"
   ],
   "metadata": {
    "collapsed": false,
    "pycharm": {
     "name": "#%%\n"
    }
   }
  },
  {
   "cell_type": "code",
   "execution_count": 9,
   "outputs": [
    {
     "data": {
      "text/plain": "                                     name  \\\n0                         BAM! Restaurant   \n1                     Entre-Nous creperie   \n2                           The Courtyard   \n3                           Portman's Bar   \n4               Grand Shanghai Restaurant   \n..                                    ...   \n103  Enjoy Eating House and Bar @ Stevens   \n105                          Joie by Dozo   \n106     Yardbird Southern Table &amp; Bar   \n107                              Yan Ting   \n108                        Peach Blossoms   \n\n                                              location  \\\n0    38 Tras Street #38-40, Singapore 078977 Singapore   \n1    27 Seah Street # 01-01, Singapore 188383 Singa...   \n2    1 Fullerton Square Fullerton Hotel The Fullert...   \n3    6 Raffles Boulevard Marina Square Level 4 At P...   \n4    390 Havelock Road King's Centre, Singapore 169...   \n..                                                 ...   \n103  30 Stevens Road #01-07, Singapore 257840 Singa...   \n105  181 Orchard Road Orchard Central #12-01 Orchar...   \n106  2 Bayfront Avenue Marina Bay Sands B1-07, L1-8...   \n107  29 Tanglin Road St. Regis Hotel Singapore The ...   \n108  6 Raffles Boulevard Level 5 Marina Square, Sin...   \n\n                                         working_hours price_range  \\\n0    Tue12:00 PM - 2:00 PM6:00 PM - 10:30 PM,Wed12:...         NaN   \n1    Sun11:00 AM - 4:30 PM,Tue12:00 PM - 2:30 PM6:0...         NaN   \n2    Sun10:30 AM - 6:00 PM,Mon10:30 AM - 6:00 PM,Tu...         NaN   \n3    Sun10:30 AM - 12:00 AM,Mon10:30 AM - 12:00 AM,...         NaN   \n4    Sun11:00 AM - 2:30 PM6:00 PM - 10:00 PM,Tue11:...         NaN   \n..                                                 ...         ...   \n103  Sun11:00 AM - 11:00 PM,Mon11:00 AM - 11:00 PM,...         NaN   \n105  Sun12:00 PM - 3:30 PM6:00 PM - 10:30 PM,Mon12:...         NaN   \n106  Sun10:00 AM - 10:00 PM,Mon12:00 PM - 10:00 PM,...         nil   \n107  Sun10:30 AM - 12:30 PM1:00 PM - 3:00 PM6:00 PM...         nil   \n108  Sun11:00 AM - 3:00 PM6:30 PM - 11:00 PM,Mon12:...         nil   \n\n                                        tags foodRating serviceRating  \\\n0             Spanish,Fusion,Japanese Fusion         45            45   \n1                    French,European,Healthy         50            50   \n2              Japanese,Indian,International         40            45   \n3                     Bar,Cafe,International         45            45   \n4                     Chinese,Asian,Shanghai         40            40   \n..                                       ...        ...           ...   \n103                Chinese,Asian,Singaporean         50            50   \n105  Asian,Vegetarian Friendly,Vegan Options         45            45   \n106         American,Bar,Vegetarian Friendly         45            45   \n107                  Chinese,Asian,Cantonese         45            45   \n108                  Chinese,Asian,Cantonese         45            45   \n\n    valueRating atmosphereRating overallRating overallRatingCnt  \n0            40               45           4.5              226  \n1            45               40           5.0            1,555  \n2            40               45           4.5            1,450  \n3            45              nil           5.0              270  \n4            35               40           5.0              641  \n..          ...              ...           ...              ...  \n103          45              nil           5.0               81  \n105          45               45           4.5              316  \n106          40               40           4.5              828  \n107          40               40           4.5              693  \n108          40               40           4.5              623  \n\n[100 rows x 11 columns]",
      "text/html": "<div>\n<style scoped>\n    .dataframe tbody tr th:only-of-type {\n        vertical-align: middle;\n    }\n\n    .dataframe tbody tr th {\n        vertical-align: top;\n    }\n\n    .dataframe thead th {\n        text-align: right;\n    }\n</style>\n<table border=\"1\" class=\"dataframe\">\n  <thead>\n    <tr style=\"text-align: right;\">\n      <th></th>\n      <th>name</th>\n      <th>location</th>\n      <th>working_hours</th>\n      <th>price_range</th>\n      <th>tags</th>\n      <th>foodRating</th>\n      <th>serviceRating</th>\n      <th>valueRating</th>\n      <th>atmosphereRating</th>\n      <th>overallRating</th>\n      <th>overallRatingCnt</th>\n    </tr>\n  </thead>\n  <tbody>\n    <tr>\n      <th>0</th>\n      <td>BAM! Restaurant</td>\n      <td>38 Tras Street #38-40, Singapore 078977 Singapore</td>\n      <td>Tue12:00 PM - 2:00 PM6:00 PM - 10:30 PM,Wed12:...</td>\n      <td>NaN</td>\n      <td>Spanish,Fusion,Japanese Fusion</td>\n      <td>45</td>\n      <td>45</td>\n      <td>40</td>\n      <td>45</td>\n      <td>4.5</td>\n      <td>226</td>\n    </tr>\n    <tr>\n      <th>1</th>\n      <td>Entre-Nous creperie</td>\n      <td>27 Seah Street # 01-01, Singapore 188383 Singa...</td>\n      <td>Sun11:00 AM - 4:30 PM,Tue12:00 PM - 2:30 PM6:0...</td>\n      <td>NaN</td>\n      <td>French,European,Healthy</td>\n      <td>50</td>\n      <td>50</td>\n      <td>45</td>\n      <td>40</td>\n      <td>5.0</td>\n      <td>1,555</td>\n    </tr>\n    <tr>\n      <th>2</th>\n      <td>The Courtyard</td>\n      <td>1 Fullerton Square Fullerton Hotel The Fullert...</td>\n      <td>Sun10:30 AM - 6:00 PM,Mon10:30 AM - 6:00 PM,Tu...</td>\n      <td>NaN</td>\n      <td>Japanese,Indian,International</td>\n      <td>40</td>\n      <td>45</td>\n      <td>40</td>\n      <td>45</td>\n      <td>4.5</td>\n      <td>1,450</td>\n    </tr>\n    <tr>\n      <th>3</th>\n      <td>Portman's Bar</td>\n      <td>6 Raffles Boulevard Marina Square Level 4 At P...</td>\n      <td>Sun10:30 AM - 12:00 AM,Mon10:30 AM - 12:00 AM,...</td>\n      <td>NaN</td>\n      <td>Bar,Cafe,International</td>\n      <td>45</td>\n      <td>45</td>\n      <td>45</td>\n      <td>nil</td>\n      <td>5.0</td>\n      <td>270</td>\n    </tr>\n    <tr>\n      <th>4</th>\n      <td>Grand Shanghai Restaurant</td>\n      <td>390 Havelock Road King's Centre, Singapore 169...</td>\n      <td>Sun11:00 AM - 2:30 PM6:00 PM - 10:00 PM,Tue11:...</td>\n      <td>NaN</td>\n      <td>Chinese,Asian,Shanghai</td>\n      <td>40</td>\n      <td>40</td>\n      <td>35</td>\n      <td>40</td>\n      <td>5.0</td>\n      <td>641</td>\n    </tr>\n    <tr>\n      <th>...</th>\n      <td>...</td>\n      <td>...</td>\n      <td>...</td>\n      <td>...</td>\n      <td>...</td>\n      <td>...</td>\n      <td>...</td>\n      <td>...</td>\n      <td>...</td>\n      <td>...</td>\n      <td>...</td>\n    </tr>\n    <tr>\n      <th>103</th>\n      <td>Enjoy Eating House and Bar @ Stevens</td>\n      <td>30 Stevens Road #01-07, Singapore 257840 Singa...</td>\n      <td>Sun11:00 AM - 11:00 PM,Mon11:00 AM - 11:00 PM,...</td>\n      <td>NaN</td>\n      <td>Chinese,Asian,Singaporean</td>\n      <td>50</td>\n      <td>50</td>\n      <td>45</td>\n      <td>nil</td>\n      <td>5.0</td>\n      <td>81</td>\n    </tr>\n    <tr>\n      <th>105</th>\n      <td>Joie by Dozo</td>\n      <td>181 Orchard Road Orchard Central #12-01 Orchar...</td>\n      <td>Sun12:00 PM - 3:30 PM6:00 PM - 10:30 PM,Mon12:...</td>\n      <td>NaN</td>\n      <td>Asian,Vegetarian Friendly,Vegan Options</td>\n      <td>45</td>\n      <td>45</td>\n      <td>45</td>\n      <td>45</td>\n      <td>4.5</td>\n      <td>316</td>\n    </tr>\n    <tr>\n      <th>106</th>\n      <td>Yardbird Southern Table &amp;amp; Bar</td>\n      <td>2 Bayfront Avenue Marina Bay Sands B1-07, L1-8...</td>\n      <td>Sun10:00 AM - 10:00 PM,Mon12:00 PM - 10:00 PM,...</td>\n      <td>nil</td>\n      <td>American,Bar,Vegetarian Friendly</td>\n      <td>45</td>\n      <td>45</td>\n      <td>40</td>\n      <td>40</td>\n      <td>4.5</td>\n      <td>828</td>\n    </tr>\n    <tr>\n      <th>107</th>\n      <td>Yan Ting</td>\n      <td>29 Tanglin Road St. Regis Hotel Singapore The ...</td>\n      <td>Sun10:30 AM - 12:30 PM1:00 PM - 3:00 PM6:00 PM...</td>\n      <td>nil</td>\n      <td>Chinese,Asian,Cantonese</td>\n      <td>45</td>\n      <td>45</td>\n      <td>40</td>\n      <td>40</td>\n      <td>4.5</td>\n      <td>693</td>\n    </tr>\n    <tr>\n      <th>108</th>\n      <td>Peach Blossoms</td>\n      <td>6 Raffles Boulevard Level 5 Marina Square, Sin...</td>\n      <td>Sun11:00 AM - 3:00 PM6:30 PM - 11:00 PM,Mon12:...</td>\n      <td>nil</td>\n      <td>Chinese,Asian,Cantonese</td>\n      <td>45</td>\n      <td>45</td>\n      <td>40</td>\n      <td>40</td>\n      <td>4.5</td>\n      <td>623</td>\n    </tr>\n  </tbody>\n</table>\n<p>100 rows × 11 columns</p>\n</div>"
     },
     "execution_count": 9,
     "metadata": {},
     "output_type": "execute_result"
    }
   ],
   "source": [
    "df.head(n=100)"
   ],
   "metadata": {
    "collapsed": false,
    "pycharm": {
     "name": "#%%\n"
    }
   }
  },
  {
   "cell_type": "markdown",
   "source": [],
   "metadata": {
    "collapsed": false,
    "pycharm": {
     "name": "#%% md\n"
    }
   }
  },
  {
   "cell_type": "code",
   "execution_count": 10,
   "outputs": [],
   "source": [
    "tags = df[\"tags\"].unique()"
   ],
   "metadata": {
    "collapsed": false,
    "pycharm": {
     "name": "#%%\n"
    }
   }
  },
  {
   "cell_type": "code",
   "execution_count": 11,
   "outputs": [
    {
     "name": "stdout",
     "output_type": "stream",
     "text": [
      "['Spanish,Fusion,Japanese Fusion' 'French,European,Healthy'\n",
      " 'Japanese,Indian,International' ... 'Japanese,Seafood,Barbecue'\n",
      " 'Asian,Fusion,Nonya/Malaysian' 'Cafe,Pub,Beer restaurants']\n"
     ]
    }
   ],
   "source": [
    "print(tags)"
   ],
   "metadata": {
    "collapsed": false,
    "pycharm": {
     "name": "#%%\n"
    }
   }
  },
  {
   "cell_type": "code",
   "execution_count": 12,
   "outputs": [],
   "source": [
    "final_tags = set()\n",
    "for tag in tags:\n",
    "    if type(tag) == str:\n",
    "        t_split = tag.split(\",\")\n",
    "        for t in t_split:\n",
    "            final_tags.add(t)"
   ],
   "metadata": {
    "collapsed": false,
    "pycharm": {
     "name": "#%%\n"
    }
   }
  },
  {
   "cell_type": "code",
   "execution_count": 13,
   "outputs": [
    {
     "name": "stdout",
     "output_type": "stream",
     "text": [
      "Fusion\n",
      "Bakeries\n",
      "Cantonese\n",
      "Sri Lankan\n",
      "Italian\n",
      "Spanish\n",
      "Northern-Italian\n",
      "Asian\n",
      "Seafood\n",
      "Gastropub\n",
      "Yunnan\n",
      "Central European\n",
      "Fruit parlours\n",
      "Danish\n",
      "Swiss\n",
      "Dining bars\n",
      "Sushi\n",
      "Thai\n",
      "Lebanese\n",
      "Egyptian\n",
      "South American\n",
      "Hokkaido cuisine\n",
      "Mongolian\n",
      "Turkish\n",
      "Persian\n",
      "Barbecue\n",
      "Fujian\n",
      "Israeli\n",
      "NorthEastern Chinese\n",
      "Pizza\n",
      "British\n",
      "Chinese\n",
      "Steakhouse\n",
      "European\n",
      "Singaporean\n",
      "Beer restaurants\n",
      "Ukrainian\n",
      "Belgian\n",
      "Middle Eastern\n",
      "Contemporary\n",
      "Peruvian\n",
      "Greek\n",
      "Soups\n",
      "Central American\n",
      "Kappo\n",
      "Wine Bar\n",
      "Eastern European\n",
      "Korean\n",
      "Halal\n",
      "NorthWestern Chinese\n",
      "Austrian\n",
      "Bar\n",
      "Afghan\n",
      "Latin\n",
      "Russian\n",
      "Mexican\n",
      "Cajun &amp; Creole\n",
      "Mediterranean\n",
      "Irish\n",
      "Basque\n",
      "Canadian\n",
      "African\n",
      "Kaiseki\n",
      "Malaysian\n",
      "Indian\n",
      "Fast food\n",
      "Diner\n",
      "Hong Kong\n",
      "Caribbean\n",
      "Cafe\n",
      "International\n",
      "Central Asian\n",
      "Beijing cuisine\n",
      "Brew Pub\n",
      "Nonya/Malaysian\n",
      "Scandinavian\n",
      "Japanese sweets parlour\n",
      "Hawaiian\n",
      "Indigenous\n",
      "Southern-Italian\n",
      "Portuguese\n",
      "New Zealand\n",
      "Deli\n",
      "Armenian\n",
      "Grill\n",
      "Medicinal foods\n",
      "Burmese\n",
      "German\n",
      "Caucasian\n",
      "French\n",
      "Moroccan\n",
      "Vegan Options\n",
      "American\n",
      "Gluten Free Options\n",
      "Vegetarian Friendly\n",
      "Australian\n",
      "Arabic\n",
      "Shanghai\n",
      "Hunan\n",
      "Tuscan\n",
      "Dessert\n",
      "Healthy\n",
      "Nepalese\n",
      "Indonesian\n",
      "Imperial Chinese\n",
      "Central-Italian\n",
      "Dutch\n",
      "Japanese\n",
      "Scottish\n",
      "Taiwanese\n",
      "Kosher\n",
      "Swedish\n",
      "Szechuan\n",
      "Japanese Fusion\n",
      "Pub\n",
      "Xinjiang\n",
      "Norwegian\n",
      "Brazilian\n",
      "Quick Bites\n",
      "Argentinian\n",
      "Philippine\n",
      "Street Food\n",
      "Cuban\n",
      "Speciality Food Market\n",
      "Vietnamese\n",
      "Pakistani\n",
      "Southwestern\n"
     ]
    }
   ],
   "source": [
    "for t in final_tags:\n",
    "    print(t)"
   ],
   "metadata": {
    "collapsed": false,
    "pycharm": {
     "name": "#%%\n"
    }
   }
  },
  {
   "cell_type": "code",
   "execution_count": 14,
   "outputs": [
    {
     "data": {
      "text/plain": "127"
     },
     "execution_count": 14,
     "metadata": {},
     "output_type": "execute_result"
    }
   ],
   "source": [
    "len(final_tags)"
   ],
   "metadata": {
    "collapsed": false,
    "pycharm": {
     "name": "#%%\n"
    }
   }
  },
  {
   "cell_type": "code",
   "execution_count": 15,
   "outputs": [
    {
     "data": {
      "text/plain": "                        name  \\\n0            BAM! Restaurant   \n1        Entre-Nous creperie   \n2              The Courtyard   \n3              Portman's Bar   \n4  Grand Shanghai Restaurant   \n\n                                            location  \\\n0  38 Tras Street #38-40, Singapore 078977 Singapore   \n1  27 Seah Street # 01-01, Singapore 188383 Singa...   \n2  1 Fullerton Square Fullerton Hotel The Fullert...   \n3  6 Raffles Boulevard Marina Square Level 4 At P...   \n4  390 Havelock Road King's Centre, Singapore 169...   \n\n                                       working_hours price_range  \\\n0  Tue12:00 PM - 2:00 PM6:00 PM - 10:30 PM,Wed12:...         NaN   \n1  Sun11:00 AM - 4:30 PM,Tue12:00 PM - 2:30 PM6:0...         NaN   \n2  Sun10:30 AM - 6:00 PM,Mon10:30 AM - 6:00 PM,Tu...         NaN   \n3  Sun10:30 AM - 12:00 AM,Mon10:30 AM - 12:00 AM,...         NaN   \n4  Sun11:00 AM - 2:30 PM6:00 PM - 10:00 PM,Tue11:...         NaN   \n\n                             tags foodRating serviceRating valueRating  \\\n0  Spanish,Fusion,Japanese Fusion         45            45          40   \n1         French,European,Healthy         50            50          45   \n2   Japanese,Indian,International         40            45          40   \n3          Bar,Cafe,International         45            45          45   \n4          Chinese,Asian,Shanghai         40            40          35   \n\n  atmosphereRating overallRating overallRatingCnt  \n0               45           4.5              226  \n1               40           5.0            1,555  \n2               45           4.5            1,450  \n3              nil           5.0              270  \n4               40           5.0              641  ",
      "text/html": "<div>\n<style scoped>\n    .dataframe tbody tr th:only-of-type {\n        vertical-align: middle;\n    }\n\n    .dataframe tbody tr th {\n        vertical-align: top;\n    }\n\n    .dataframe thead th {\n        text-align: right;\n    }\n</style>\n<table border=\"1\" class=\"dataframe\">\n  <thead>\n    <tr style=\"text-align: right;\">\n      <th></th>\n      <th>name</th>\n      <th>location</th>\n      <th>working_hours</th>\n      <th>price_range</th>\n      <th>tags</th>\n      <th>foodRating</th>\n      <th>serviceRating</th>\n      <th>valueRating</th>\n      <th>atmosphereRating</th>\n      <th>overallRating</th>\n      <th>overallRatingCnt</th>\n    </tr>\n  </thead>\n  <tbody>\n    <tr>\n      <th>0</th>\n      <td>BAM! Restaurant</td>\n      <td>38 Tras Street #38-40, Singapore 078977 Singapore</td>\n      <td>Tue12:00 PM - 2:00 PM6:00 PM - 10:30 PM,Wed12:...</td>\n      <td>NaN</td>\n      <td>Spanish,Fusion,Japanese Fusion</td>\n      <td>45</td>\n      <td>45</td>\n      <td>40</td>\n      <td>45</td>\n      <td>4.5</td>\n      <td>226</td>\n    </tr>\n    <tr>\n      <th>1</th>\n      <td>Entre-Nous creperie</td>\n      <td>27 Seah Street # 01-01, Singapore 188383 Singa...</td>\n      <td>Sun11:00 AM - 4:30 PM,Tue12:00 PM - 2:30 PM6:0...</td>\n      <td>NaN</td>\n      <td>French,European,Healthy</td>\n      <td>50</td>\n      <td>50</td>\n      <td>45</td>\n      <td>40</td>\n      <td>5.0</td>\n      <td>1,555</td>\n    </tr>\n    <tr>\n      <th>2</th>\n      <td>The Courtyard</td>\n      <td>1 Fullerton Square Fullerton Hotel The Fullert...</td>\n      <td>Sun10:30 AM - 6:00 PM,Mon10:30 AM - 6:00 PM,Tu...</td>\n      <td>NaN</td>\n      <td>Japanese,Indian,International</td>\n      <td>40</td>\n      <td>45</td>\n      <td>40</td>\n      <td>45</td>\n      <td>4.5</td>\n      <td>1,450</td>\n    </tr>\n    <tr>\n      <th>3</th>\n      <td>Portman's Bar</td>\n      <td>6 Raffles Boulevard Marina Square Level 4 At P...</td>\n      <td>Sun10:30 AM - 12:00 AM,Mon10:30 AM - 12:00 AM,...</td>\n      <td>NaN</td>\n      <td>Bar,Cafe,International</td>\n      <td>45</td>\n      <td>45</td>\n      <td>45</td>\n      <td>nil</td>\n      <td>5.0</td>\n      <td>270</td>\n    </tr>\n    <tr>\n      <th>4</th>\n      <td>Grand Shanghai Restaurant</td>\n      <td>390 Havelock Road King's Centre, Singapore 169...</td>\n      <td>Sun11:00 AM - 2:30 PM6:00 PM - 10:00 PM,Tue11:...</td>\n      <td>NaN</td>\n      <td>Chinese,Asian,Shanghai</td>\n      <td>40</td>\n      <td>40</td>\n      <td>35</td>\n      <td>40</td>\n      <td>5.0</td>\n      <td>641</td>\n    </tr>\n  </tbody>\n</table>\n</div>"
     },
     "execution_count": 15,
     "metadata": {},
     "output_type": "execute_result"
    }
   ],
   "source": [
    "df.head()"
   ],
   "metadata": {
    "collapsed": false,
    "pycharm": {
     "name": "#%%\n"
    }
   }
  },
  {
   "cell_type": "code",
   "execution_count": 16,
   "outputs": [],
   "source": [
    "final_tags = sorted(list(final_tags))"
   ],
   "metadata": {
    "collapsed": false,
    "pycharm": {
     "name": "#%%\n"
    }
   }
  },
  {
   "cell_type": "code",
   "execution_count": 17,
   "outputs": [],
   "source": [
    "import requests\n",
    "import config"
   ],
   "metadata": {
    "collapsed": false,
    "pycharm": {
     "name": "#%%\n"
    }
   }
  },
  {
   "cell_type": "code",
   "execution_count": 18,
   "outputs": [],
   "source": [
    "dataset = []\n",
    "\n",
    "GOOGLE_MAPS_API_URL = \"https://maps.googleapis.com/maps/api/geocode/json\"\n",
    "\n",
    "for idx, row in df.iterrows():\n",
    "    params = {\n",
    "        \"address\": row[\"location\"],\n",
    "        \"sensor\": \"false\",\n",
    "        \"region\": \"singapore\",\n",
    "        \"key\": config.API_KEY\n",
    "    }\n",
    "\n",
    "    try:\n",
    "        req = requests.get(GOOGLE_MAPS_API_URL, params=params)\n",
    "        res = req.json()\n",
    "        if len(res[\"results\"]) > 0:\n",
    "            lat = res['results'][0]['geometry']['location']['lat']\n",
    "            lon = res['results'][0]['geometry']['location']['lng']\n",
    "            formatted_address = res['results'][0]['formatted_address']\n",
    "        else:\n",
    "            lat = \"nil\"\n",
    "            lon = \"nil\"\n",
    "            formatted_address = \"nil\"\n",
    "    except ConnectionError:\n",
    "        lat = \"nil\"\n",
    "        lon = \"nil\"\n",
    "        formatted_address = \"nil\"\n",
    "\n",
    "    x = {\n",
    "        \"name\": row[\"name\"],\n",
    "        \"location\": row[\"location\"],\n",
    "        \"lat\": lat,\n",
    "        \"lon\": lon,\n",
    "        \"formatted_address\": formatted_address,\n",
    "        \"working_hours\": row[\"working_hours\"],\n",
    "        \"price_range\": row[\"price_range\"],\n",
    "        \"foodRating\": row[\"foodRating\"],\n",
    "        \"serviceRating\": row[\"serviceRating\"],\n",
    "        \"valueRating\": row[\"valueRating\"],\n",
    "        \"overallRating\": row[\"overallRating\"],\n",
    "        \"overallRatingCnt\": row[\"overallRatingCnt\"],\n",
    "    }\n",
    "    if type(row[\"tags\"]) == str:\n",
    "        x_tag_list = row[\"tags\"].split(\",\")\n",
    "        n = len(x_tag_list)\n",
    "        x_tag = {\n",
    "            t: 1 / n if t in x_tag_list else 0 for t in final_tags\n",
    "        }\n",
    "    else:\n",
    "        x_tag = {\n",
    "            t: 0 for t in final_tags\n",
    "        }\n",
    "    x.update(x_tag)\n",
    "    dataset.append(x)\n",
    "\n",
    "dataset = pd. DataFrame.from_dict(dataset)"
   ],
   "metadata": {
    "collapsed": false,
    "pycharm": {
     "name": "#%%\n"
    }
   }
  },
  {
   "cell_type": "code",
   "execution_count": 19,
   "outputs": [
    {
     "data": {
      "text/plain": "                                        name  \\\n314                        The Auld Alliance   \n845    COCA Singapore - Leisure Park Kallang   \n891                                   Elemen   \n1008     Lobby Lounge at Pan Pacific Orchard   \n1172                        Operation Dagger   \n...                                      ...   \n17136         The Coffee Bean &amp; Tea Leaf   \n17139                        Railway Seafood   \n17141            Shabu Shabu Gyu Jin - 100AM   \n17145                              Cafe 2000   \n17147                  Kalonn Craft Beer Bar   \n\n                                                location  \\\n314    09 Bras Basah Road Rendezvous Hotel Singapore ...   \n845    5 Stadium Walk Leisure Park Kallang #02-01 Lei...   \n891    10 Paya Lebar Road #03-13 Paya Lebar Quarter, ...   \n1008   10 Claymore Road Pan Pacific Orchard, Singapor...   \n1172        7 Ann Siang Road, Singapore 069689 Singapore   \n...                                                  ...   \n17136  1 Woodlands Square Causeway Point 02-33 &amp; ...   \n17139  1 Kaki Bukit View Techview Floor 01 Unit 1 01,...   \n17141  100AM Tras Street #03-10 100 am Shabu Shabu Gy...   \n17145  81 Anson Road M Hotel, Singapore 079908 Singapore   \n17147  2 Tai Thong Crescent The Venue Shoppes Floor 0...   \n\n                                           working_hours price_range tags  \\\n314    Sun5:00 PM - 12:00 AM,Mon5:00 PM - 01:00 AM,Tu...         NaN  NaN   \n845    Sun11:15 AM - 10:30 PM,Mon11:15 AM - 10:30 PM,...         NaN  NaN   \n891                                                 None         nil  NaN   \n1008                                                None         NaN  NaN   \n1172   Tue6:00 PM - 12:00 AM,Wed6:00 PM - 12:00 AM,Th...         nil  NaN   \n...                                                  ...         ...  ...   \n17136                                               None         NaN  NaN   \n17139                                               None         nil  NaN   \n17141                                               None         nil  NaN   \n17145                                               None         nil  NaN   \n17147                                               None         nil  NaN   \n\n      foodRating serviceRating valueRating atmosphereRating overallRating  \\\n314           45            50          45               45           5.0   \n845           40            40          35               40           4.0   \n891           45            40          40               40           4.0   \n1008          40            45          40               40           4.5   \n1172          45            45          40              nil           4.0   \n...          ...           ...         ...              ...           ...   \n17136        nil           nil         nil              nil           nil   \n17139        nil           nil         nil              nil           nil   \n17141        nil           nil         nil              nil           nil   \n17145        nil           nil         nil              nil           nil   \n17147        nil           nil         nil              nil           nil   \n\n      overallRatingCnt  \n314                116  \n845                185  \n891                 99  \n1008                89  \n1172               102  \n...                ...  \n17136              nil  \n17139              nil  \n17141              nil  \n17145              nil  \n17147              nil  \n\n[5876 rows x 11 columns]",
      "text/html": "<div>\n<style scoped>\n    .dataframe tbody tr th:only-of-type {\n        vertical-align: middle;\n    }\n\n    .dataframe tbody tr th {\n        vertical-align: top;\n    }\n\n    .dataframe thead th {\n        text-align: right;\n    }\n</style>\n<table border=\"1\" class=\"dataframe\">\n  <thead>\n    <tr style=\"text-align: right;\">\n      <th></th>\n      <th>name</th>\n      <th>location</th>\n      <th>working_hours</th>\n      <th>price_range</th>\n      <th>tags</th>\n      <th>foodRating</th>\n      <th>serviceRating</th>\n      <th>valueRating</th>\n      <th>atmosphereRating</th>\n      <th>overallRating</th>\n      <th>overallRatingCnt</th>\n    </tr>\n  </thead>\n  <tbody>\n    <tr>\n      <th>314</th>\n      <td>The Auld Alliance</td>\n      <td>09 Bras Basah Road Rendezvous Hotel Singapore ...</td>\n      <td>Sun5:00 PM - 12:00 AM,Mon5:00 PM - 01:00 AM,Tu...</td>\n      <td>NaN</td>\n      <td>NaN</td>\n      <td>45</td>\n      <td>50</td>\n      <td>45</td>\n      <td>45</td>\n      <td>5.0</td>\n      <td>116</td>\n    </tr>\n    <tr>\n      <th>845</th>\n      <td>COCA Singapore - Leisure Park Kallang</td>\n      <td>5 Stadium Walk Leisure Park Kallang #02-01 Lei...</td>\n      <td>Sun11:15 AM - 10:30 PM,Mon11:15 AM - 10:30 PM,...</td>\n      <td>NaN</td>\n      <td>NaN</td>\n      <td>40</td>\n      <td>40</td>\n      <td>35</td>\n      <td>40</td>\n      <td>4.0</td>\n      <td>185</td>\n    </tr>\n    <tr>\n      <th>891</th>\n      <td>Elemen</td>\n      <td>10 Paya Lebar Road #03-13 Paya Lebar Quarter, ...</td>\n      <td>None</td>\n      <td>nil</td>\n      <td>NaN</td>\n      <td>45</td>\n      <td>40</td>\n      <td>40</td>\n      <td>40</td>\n      <td>4.0</td>\n      <td>99</td>\n    </tr>\n    <tr>\n      <th>1008</th>\n      <td>Lobby Lounge at Pan Pacific Orchard</td>\n      <td>10 Claymore Road Pan Pacific Orchard, Singapor...</td>\n      <td>None</td>\n      <td>NaN</td>\n      <td>NaN</td>\n      <td>40</td>\n      <td>45</td>\n      <td>40</td>\n      <td>40</td>\n      <td>4.5</td>\n      <td>89</td>\n    </tr>\n    <tr>\n      <th>1172</th>\n      <td>Operation Dagger</td>\n      <td>7 Ann Siang Road, Singapore 069689 Singapore</td>\n      <td>Tue6:00 PM - 12:00 AM,Wed6:00 PM - 12:00 AM,Th...</td>\n      <td>nil</td>\n      <td>NaN</td>\n      <td>45</td>\n      <td>45</td>\n      <td>40</td>\n      <td>nil</td>\n      <td>4.0</td>\n      <td>102</td>\n    </tr>\n    <tr>\n      <th>...</th>\n      <td>...</td>\n      <td>...</td>\n      <td>...</td>\n      <td>...</td>\n      <td>...</td>\n      <td>...</td>\n      <td>...</td>\n      <td>...</td>\n      <td>...</td>\n      <td>...</td>\n      <td>...</td>\n    </tr>\n    <tr>\n      <th>17136</th>\n      <td>The Coffee Bean &amp;amp; Tea Leaf</td>\n      <td>1 Woodlands Square Causeway Point 02-33 &amp;amp; ...</td>\n      <td>None</td>\n      <td>NaN</td>\n      <td>NaN</td>\n      <td>nil</td>\n      <td>nil</td>\n      <td>nil</td>\n      <td>nil</td>\n      <td>nil</td>\n      <td>nil</td>\n    </tr>\n    <tr>\n      <th>17139</th>\n      <td>Railway Seafood</td>\n      <td>1 Kaki Bukit View Techview Floor 01 Unit 1 01,...</td>\n      <td>None</td>\n      <td>nil</td>\n      <td>NaN</td>\n      <td>nil</td>\n      <td>nil</td>\n      <td>nil</td>\n      <td>nil</td>\n      <td>nil</td>\n      <td>nil</td>\n    </tr>\n    <tr>\n      <th>17141</th>\n      <td>Shabu Shabu Gyu Jin - 100AM</td>\n      <td>100AM Tras Street #03-10 100 am Shabu Shabu Gy...</td>\n      <td>None</td>\n      <td>nil</td>\n      <td>NaN</td>\n      <td>nil</td>\n      <td>nil</td>\n      <td>nil</td>\n      <td>nil</td>\n      <td>nil</td>\n      <td>nil</td>\n    </tr>\n    <tr>\n      <th>17145</th>\n      <td>Cafe 2000</td>\n      <td>81 Anson Road M Hotel, Singapore 079908 Singapore</td>\n      <td>None</td>\n      <td>nil</td>\n      <td>NaN</td>\n      <td>nil</td>\n      <td>nil</td>\n      <td>nil</td>\n      <td>nil</td>\n      <td>nil</td>\n      <td>nil</td>\n    </tr>\n    <tr>\n      <th>17147</th>\n      <td>Kalonn Craft Beer Bar</td>\n      <td>2 Tai Thong Crescent The Venue Shoppes Floor 0...</td>\n      <td>None</td>\n      <td>nil</td>\n      <td>NaN</td>\n      <td>nil</td>\n      <td>nil</td>\n      <td>nil</td>\n      <td>nil</td>\n      <td>nil</td>\n      <td>nil</td>\n    </tr>\n  </tbody>\n</table>\n<p>5876 rows × 11 columns</p>\n</div>"
     },
     "execution_count": 19,
     "metadata": {},
     "output_type": "execute_result"
    }
   ],
   "source": [
    "df[df[\"tags\"].isnull()]"
   ],
   "metadata": {
    "collapsed": false,
    "pycharm": {
     "name": "#%%\n"
    }
   }
  },
  {
   "cell_type": "code",
   "execution_count": 21,
   "outputs": [
    {
     "data": {
      "text/plain": "13778"
     },
     "execution_count": 21,
     "metadata": {},
     "output_type": "execute_result"
    }
   ],
   "source": [
    "len(df)"
   ],
   "metadata": {
    "collapsed": false,
    "pycharm": {
     "name": "#%%\n"
    }
   }
  },
  {
   "cell_type": "code",
   "execution_count": 20,
   "outputs": [],
   "source": [
    "df.to_csv(\"RestaurantProcessedData.csv\")"
   ],
   "metadata": {
    "collapsed": false,
    "pycharm": {
     "name": "#%%\n"
    }
   }
  },
  {
   "cell_type": "code",
   "execution_count": 22,
   "outputs": [],
   "source": [
    "empties = df[df[\"tags\"].isnull()]"
   ],
   "metadata": {
    "collapsed": false,
    "pycharm": {
     "name": "#%%\n"
    }
   }
  },
  {
   "cell_type": "code",
   "execution_count": 24,
   "outputs": [],
   "source": [
    "empties.to_csv(\"RestaurantsWithoutTags.csv\")"
   ],
   "metadata": {
    "collapsed": false,
    "pycharm": {
     "name": "#%%\n"
    }
   }
  },
  {
   "cell_type": "markdown",
   "source": [],
   "metadata": {
    "collapsed": false,
    "pycharm": {
     "name": "#%% md\n"
    }
   }
  }
 ],
 "metadata": {
  "kernelspec": {
   "display_name": "Python 3",
   "language": "python",
   "name": "python3"
  },
  "language_info": {
   "codemirror_mode": {
    "name": "ipython",
    "version": 2
   },
   "file_extension": ".py",
   "mimetype": "text/x-python",
   "name": "python",
   "nbconvert_exporter": "python",
   "pygments_lexer": "ipython2",
   "version": "2.7.6"
  }
 },
 "nbformat": 4,
 "nbformat_minor": 0
}