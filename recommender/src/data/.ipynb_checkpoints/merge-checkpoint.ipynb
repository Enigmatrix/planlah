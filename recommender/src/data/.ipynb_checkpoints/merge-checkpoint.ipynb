{
 "cells": [
  {
   "cell_type": "markdown",
   "source": [
    "# Attraction Merge"
   ],
   "metadata": {
    "collapsed": false,
    "pycharm": {
     "name": "#%% md\n"
    }
   }
  },
  {
   "cell_type": "code",
   "execution_count": 38,
   "metadata": {
    "collapsed": true,
    "pycharm": {
     "name": "#%%\n"
    }
   },
   "outputs": [],
   "source": [
    "attraction_merge = {\n",
    "    \"Airport\": {\n",
    "        \"old_values\": (\n",
    "            \"Airport Lounges\",\n",
    "            \"Airport Shops\"\n",
    "        ),\n",
    "        \"new_value\": \"Airport\"\n",
    "    },\n",
    "    \"Sports & Exercise\": {\n",
    "        \"old_values\": (\n",
    "            \"Jogging Paths and Tracks\",\n",
    "            \"Biking Trails\",\n",
    "            \"Dance Clubs and Discos\",\n",
    "            \"Yoga and Pilates\",\n",
    "            \"Sports Complexes\",\n",
    "            \"Sporting Events\",\n",
    "            \"Sports Camps and Clinics\",\n",
    "            \"Arenas and Stadiums\",\n",
    "            \"Health Clubs\",\n",
    "            \"Hiking Trails\",\n",
    "            \"Auto Racing Tracks\"),\n",
    "        \"new_value\": \"Sports & Exercise\"\n",
    "    },\n",
    "    \"Art & History\": {\n",
    "        \"old_values\": (\n",
    "            \"Military Bases and Facilities\",\n",
    "            \"Children's Museums\",\n",
    "            \"Antique Shops\",\n",
    "            \"Art Galleries\",\n",
    "            \"Art Museums\",\n",
    "            \"Architectural Buildings\",\n",
    "            \"Historic Sites\",\n",
    "            \"Historic Walking Areas\",\n",
    "            \"History Museums\",\n",
    "            \"Monuments and Statues\",\n",
    "            \"Military Museums\",\n",
    "            \"Battlefields\",\n",
    "            \"Mysterious Sites\",\n",
    "            \"National Parks\",\n",
    "            \"Natural History Museums\",\n",
    "            \"Bridges\",\n",
    "            \"Cemeteries\",\n",
    "            \"Theatre and Performances\",\n",
    "            \"Government Buildings\",\n",
    "            \"Visitor Centers\",\n",
    "            \"Educational sites\",\n",
    "            \"Lighthouses\",\n",
    "            \"Operas\",\n",
    "            \"Paint and Pottery Studios\",\n",
    "            \"Speciality Museums\",\n",
    "            \"Symphonies\"\n",
    "        ),\n",
    "        \"new_value\": \"Art & History\"\n",
    "    },\n",
    "    \"Movies\": {\n",
    "        \"old_values\": (\n",
    "            \"Movie Theaters\",\n",
    "            \"Theaters\"\n",
    "        ),\n",
    "        \"new_value\": \"Movies\"\n",
    "    },\n",
    "    \"Nature & Wildlife\": {\n",
    "        \"old_values\": (\n",
    "            \"Zoos\",\n",
    "            \"Nature and Wildlife Areas\",\n",
    "            \"Gardens\",\n",
    "            \"Forests\",\n",
    "            \"Fountains\",\n",
    "            \"Parks\",\n",
    "            \"Scenic Drives\",\n",
    "        ),\n",
    "        \"new_value\": \"Nature & Wildlife\"\n",
    "    },\n",
    "    \"Water Activities\": {\n",
    "        \"old_values\": (\n",
    "            \"Other Outdoor Activities\",\n",
    "            \"Water Parks\",\n",
    "            \"Waterfalls\",\n",
    "            \"Ferries\",\n",
    "            \"Bodies of Water\",\n",
    "            \"Beaches\",\n",
    "            \"Dams\",\n",
    "            \"Piers and Boardwalks\"\n",
    "        ),\n",
    "        \"new_value\": \"Water Activities\"\n",
    "    },\n",
    "    \"Alcohol & Night life\": {\n",
    "        \"old_values\": (\n",
    "            \"Bars and Clubs\",\n",
    "            \"Breweries\",\n",
    "            \"Distilleries\",\n",
    "            \"Wine Bars\",\n",
    "            \"Wineries and Vineyards\",\n",
    "            \"Cigar Bars\",\n",
    "            \"Gay Bars\",\n",
    "            \"Jazz Bars\",\n",
    "            \"Karaoke Bars\"\n",
    "        ),\n",
    "        \"new_value\": \"Alcohol & Night life\"\n",
    "    },\n",
    "    \"Spas\": {\n",
    "        \"old_values\": (\n",
    "            \"Hot Springs and Geysers\",\n",
    "            \"Onsen Resorts\",\n",
    "            \"Spas\",\n",
    "            \"Thermal Spas\"\n",
    "        ),\n",
    "        \"new_value\": \"Spas\"\n",
    "    },\n",
    "    \"Religion\": {\n",
    "        \"old_values\": (\n",
    "            \"Churches and Cathedrals\",\n",
    "            \"Missions\",\n",
    "            \"Religious Sites\"\n",
    "        ),\n",
    "        \"new_value\": \"Religion\"\n",
    "    },\n",
    "    \"Food\": {\n",
    "        \"old_values\": (\n",
    "            \"Flea and Street Markets\",\n",
    "            \"Food and Drink Festivals\",\n",
    "            \"Cooking Classes\",\n",
    "            \"Farmers Markets\",\n",
    "            \"Farms\"\n",
    "        ),\n",
    "        \"new_value\": \"Food\"\n",
    "    },\n",
    "    \"Shopping\": {\n",
    "        \"old_values\": (\n",
    "            \"Marinas\",\n",
    "            \"Department Stores\",\n",
    "            \"Factory Outlets\",\n",
    "            \"Speciality and Gift Shops\",\n",
    "            \"Shopping Malls\",\n",
    "            \"Ski and Snowboard Areas\"\n",
    "        ),\n",
    "        \"new_value\": \"Shopping\"\n",
    "    },\n",
    "    \"Education\": {\n",
    "        \"old_values\": (\n",
    "            \"Universities and Schools\",\n",
    "            \"Lessons and Workshops\",\n",
    "            \"Libraries\",\n",
    "            \"Science Museums\"\n",
    "        ),\n",
    "        \"new_value\": \"Education\"\n",
    "    },\n",
    "    \"Transport\": {\n",
    "        \"old_values\": (\n",
    "            \"Gear Rentals\",\n",
    "            \"Taxis and Shuttles\",\n",
    "            \"Trams\"\n",
    "        ),\n",
    "        \"new_value\": \"Transport\"\n",
    "    },\n",
    "    \"Fun & Games\": {\n",
    "        \"old_values\": (\n",
    "            \"Escape Games\",\n",
    "            \"Game and Entertainment Centers\",\n",
    "            \"Bowling Alleys\",\n",
    "            \"Casinos\",\n",
    "            \"Comedy Clubs\",\n",
    "            \"Golf Courses\",\n",
    "            \"Miniature Golf\",\n",
    "            \"Amusement and Theme Parks\",\n",
    "            \"Aquariums\",\n",
    "            \"Other Fun and Games\",\n",
    "            \"Playgrounds\",\n",
    "            \"Shooting Ranges\"\n",
    "        ),\n",
    "        \"new_value\": \"Fun & Games\"\n",
    "    },\n",
    "    \"Tourism\": {\n",
    "        \"old_values\": (\n",
    "            \"Civic Centres\",\n",
    "            \"Bus Services\",\n",
    "            \"Convention Centers\",\n",
    "            \"Cultural Events\",\n",
    "            \"Points of Interest and Landmarks\",\n",
    "            \"Lookouts\",\n",
    "            \"Islands\",\n",
    "            \"Neighborhoods\",\n",
    "            \"Observation Decks and Towers\",\n",
    "            \"Observatories and Planetariums\",\n",
    "            \"Public Transportation Systems\",\n",
    "            \"Scenic Walking Areas\",\n",
    "            \"Seasonal Fireworks\"\n",
    "        ),\n",
    "        \"new_value\": \"Tourism\"\n",
    "    }\n",
    "}"
   ]
  },
  {
   "cell_type": "code",
   "execution_count": 31,
   "outputs": [
    {
     "name": "stdout",
     "output_type": "stream",
     "text": [
      "115\n",
      "15\n"
     ]
    }
   ],
   "source": [
    "# Quick verification\n",
    "num_old_keys = 0\n",
    "num_new_keys = 0\n",
    "for k in attraction_merge.keys():\n",
    "    dic = attraction_merge[k]\n",
    "    num_old_keys += len(dic[\"old_values\"])\n",
    "    num_new_keys += 1\n",
    "print(num_old_keys)\n",
    "print(num_new_keys)"
   ],
   "metadata": {
    "collapsed": false,
    "pycharm": {
     "name": "#%%\n"
    }
   }
  },
  {
   "cell_type": "code",
   "execution_count": 10,
   "outputs": [],
   "source": [
    "import pandas as pd"
   ],
   "metadata": {
    "collapsed": false,
    "pycharm": {
     "name": "#%%\n"
    }
   }
  },
  {
   "cell_type": "code",
   "execution_count": 32,
   "outputs": [],
   "source": [
    "attraction_data = pd.read_csv(\"AttractionProcessedData.csv\")"
   ],
   "metadata": {
    "collapsed": false,
    "pycharm": {
     "name": "#%%\n"
    }
   }
  },
  {
   "cell_type": "code",
   "execution_count": 33,
   "outputs": [],
   "source": [
    "attraction_tags = []\n",
    "with open(\"attraction_tags.txt\", \"r\") as f:\n",
    "    for line in f.readlines():\n",
    "        line = line.strip()\n",
    "        attraction_tags.append(line)"
   ],
   "metadata": {
    "collapsed": false,
    "pycharm": {
     "name": "#%%\n"
    }
   }
  },
  {
   "cell_type": "code",
   "execution_count": 36,
   "outputs": [],
   "source": [
    "new_tags = []\n",
    "current_attraction_tags = []\n",
    "for k in attraction_merge.keys():\n",
    "    dic = attraction_merge[k]\n",
    "    for o_k in dic[\"old_values\"]:\n",
    "        current_attraction_tags.append(o_k)\n",
    "    new_tags.append(dic[\"new_value\"])"
   ],
   "metadata": {
    "collapsed": false,
    "pycharm": {
     "name": "#%%\n"
    }
   }
  },
  {
   "cell_type": "code",
   "execution_count": 37,
   "outputs": [
    {
     "data": {
      "text/plain": "['Volcanos']"
     },
     "execution_count": 37,
     "metadata": {},
     "output_type": "execute_result"
    }
   ],
   "source": [
    "list(set(attraction_tags) - set(current_attraction_tags))"
   ],
   "metadata": {
    "collapsed": false,
    "pycharm": {
     "name": "#%%\n"
    }
   }
  },
  {
   "cell_type": "code",
   "execution_count": 39,
   "outputs": [],
   "source": [
    "def new_row(row):\n",
    "    res = {\n",
    "        \"name\": row[\"name\"],\n",
    "        \"location\": row[\"location\"],\n",
    "        \"lat\": row[\"lat\"],\n",
    "        \"lon\": row[\"lon\"],\n",
    "        \"formatted_address\": row[\"formatted_address\"],\n",
    "        \"about\": row[\"about\"],\n",
    "        \"overallRating\": row[\"overallRating\"],\n",
    "        \"overallRatingCnt\": row[\"overallRatingCnt\"],\n",
    "    }\n",
    "    tags = {}\n",
    "    for new_tag in new_tags:\n",
    "        has = False\n",
    "        for old_tag in attraction_merge[new_tag][\"old_values\"]:\n",
    "            if row[old_tag] != 0:\n",
    "                has = True\n",
    "                break\n",
    "        tags[new_tag] = 1 if has else 0\n",
    "    res.update(tags)\n",
    "    return res"
   ],
   "metadata": {
    "collapsed": false,
    "pycharm": {
     "name": "#%%\n"
    }
   }
  },
  {
   "cell_type": "code",
   "execution_count": 40,
   "outputs": [],
   "source": [
    "new_data = []\n",
    "for idx, row in attraction_data.iterrows():\n",
    "    new_data.append(new_row(row))"
   ],
   "metadata": {
    "collapsed": false,
    "pycharm": {
     "name": "#%%\n"
    }
   }
  },
  {
   "cell_type": "code",
   "execution_count": 41,
   "outputs": [],
   "source": [
    "pd.DataFrame(new_data).to_csv(\"AttractionsData.csv\")"
   ],
   "metadata": {
    "collapsed": false,
    "pycharm": {
     "name": "#%%\n"
    }
   }
  },
  {
   "cell_type": "markdown",
   "source": [
    "# Restaurant Merge"
   ],
   "metadata": {
    "collapsed": false,
    "pycharm": {
     "name": "#%% md\n"
    }
   }
  },
  {
   "cell_type": "code",
   "execution_count": 50,
   "outputs": [],
   "source": [
    "food_merge = {\n",
    "    \"American\": (\n",
    "        \"American\",\n",
    "        \"Cajun &amp; Creole\",\n",
    "        \"Canadian\",\n",
    "        \"Central American\",\n",
    "        \"Cuban\",\n",
    "        \"South American\",\n",
    "        \"Southwestern\",\n",
    "        \"Brazilian\",\n",
    "        \"Hawaiian\"\n",
    "    ),\n",
    "    \"Chinese\": (\n",
    "        \"Asian\",\n",
    "        \"Beijing cuisine\",\n",
    "        \"Cantonese\",\n",
    "        \"Central Asian\",\n",
    "        \"Chinese\",\n",
    "        \"Fujian\",\n",
    "        \"Hong Kong\",\n",
    "        \"Hunan\",\n",
    "        \"Imperial Chinese\",\n",
    "        \"Nepalese\",\n",
    "        \"NorthEastern Chinese\",\n",
    "        \"NorthWestern Chinese\",\n",
    "        \"Shanghai\",\n",
    "        \"Szechuan\",\n",
    "        \"Taiwanese\",\n",
    "        \"Xinjiang\",\n",
    "        \"Yunnan\"\n",
    "    ),\n",
    "    \"European\": (\n",
    "        \"Austrian\",\n",
    "        \"Basque\",\n",
    "        \"Belgian\",\n",
    "        \"British\",\n",
    "        \"Caucasian\",\n",
    "        \"Central European\",\n",
    "        \"Danish\",\n",
    "        \"Dutch\",\n",
    "        \"Eastern European\",\n",
    "        \"Irish\",\n",
    "        \"European\",\n",
    "        \"German\",\n",
    "        \"Portuguese\",\n",
    "        \"Greek\",\n",
    "        \"Scandinavian\",\n",
    "        \"Spanish\",\n",
    "        \"Australian\",\n",
    "        \"Argentinian\",\n",
    "        \"Armenian\",\n",
    "        \"Ukrainian\",\n",
    "        \"Russian\",\n",
    "        \"Norwegian\",\n",
    "        \"Swiss\",\n",
    "        \"Scottish\",\n",
    "        \"Peruvian\",\n",
    "        \"Swedish\",\n",
    "        \"Turkish\",\n",
    "        \"Mongolian\"\n",
    "    ),\n",
    "    \"Pubs\": (\n",
    "        \"Bar\",\n",
    "        \"Brew Pub\",\n",
    "        \"Gastropub\",\n",
    "        \"Pub\",\n",
    "        \"Wine Bar\",\n",
    "        \"Dining Bars\",\n",
    "        \"Beer restaurants\"\n",
    "    ),\n",
    "    \"Italian\": (\n",
    "        \"Central-Italian\",\n",
    "        \"Italian\",\n",
    "        \"Northern-Italian\",\n",
    "        \"Southern-Italian\",\n",
    "        \"Tuscan\"\n",
    "    ),\n",
    "    \"Diner\": (\n",
    "        \"Deli\",\n",
    "        \"Diner\"\n",
    "    ),\n",
    "    \"Healthy\": (\n",
    "        \"Fruit parlours\",\n",
    "        \"Gluten Free Options\",\n",
    "        \"Healthy\",\n",
    "        \"Medicinal foods\",\n",
    "        \"Vegan Options\",\n",
    "        \"Vegetarian Friendly\"\n",
    "    ),\n",
    "    \"Japanese\": (\n",
    "        \"Hokkaido cuisine\",\n",
    "        \"Japanese\",\n",
    "        \"Japanese Fusion\",\n",
    "        \"Japanese sweets parlour\",\n",
    "        \"Kaiseki\",\n",
    "        \"Kappo\"\n",
    "    ),\n",
    "    \"Malaysian\": (\n",
    "        \"Malaysian\",\n",
    "        \"Nonya/Malaysian\"\n",
    "    ),\n",
    "    \"Middle Eastern\": (\n",
    "        \"Moroccan\",\n",
    "        \"Pakistani\",\n",
    "        \"Middle Eastern\",\n",
    "        \"Persian\",\n",
    "        \"Mediterranean\"\n",
    "    ),\n",
    "    \"Vietnamese\": (\n",
    "        \"Vietnamese\"\n",
    "    ),\n",
    "    \"Barbecue\": (\n",
    "        \"Barbecue\",\n",
    "        \"Grill\",\n",
    "        \"Steakhouse\"\n",
    "    ),\n",
    "    \"French\": (\n",
    "        \"French\"\n",
    "    ),\n",
    "    \"Indian\": (\n",
    "        \"Indian\"\n",
    "    ),\n",
    "    \"Indonesian\": (\n",
    "        \"Indonesian\"\n",
    "    ),\n",
    "    \"Korean\": (\n",
    "        \"Korean\"\n",
    "    ),\n",
    "    \"Lebanese\": (\n",
    "        \"Lebanese\"\n",
    "    ),\n",
    "    \"Philippine\": (\n",
    "        \"Philippine\"\n",
    "    ),\n",
    "    \"Singaporean\": (\n",
    "        \"Singaporean\"\n",
    "    ),\n",
    "    \"Sri Lankan\": (\n",
    "        \"Sri Lankan\"\n",
    "    ),\n",
    "    \"Thai\": (\n",
    "        \"Thai\"\n",
    "    ),\n",
    "    \"Bakeries\": (\n",
    "        \"Bakeries\"\n",
    "    ),\n",
    "    \"Cafe\": (\n",
    "        \"Cafe\"\n",
    "    ),\n",
    "    \"Contemporary\": (\n",
    "        \"Contemporary\"\n",
    "    ),\n",
    "    \"Dessert\": (\n",
    "        \"Dessert\"\n",
    "    ),\n",
    "    \"Fast food\": (\n",
    "        \"Fast food\"\n",
    "    ),\n",
    "    \"Fusion\": (\n",
    "        \"Fusion\"\n",
    "    ),\n",
    "    \"Halal\": (\n",
    "        \"Halal\"\n",
    "    ),\n",
    "    \"Kosher\": (\n",
    "        \"Kosher\"\n",
    "    ),\n",
    "    \"Pizza\": (\n",
    "        \"Pizza\"\n",
    "    ),\n",
    "    \"Quick Bites\": (\n",
    "        \"Quick Bites\"\n",
    "    ),\n",
    "    \"Seafood\": (\n",
    "        \"Seafood\"\n",
    "    ),\n",
    "    \"Soups\": (\n",
    "        \"Soups\"\n",
    "    ),\n",
    "    \"Street Food\": (\n",
    "        \"Street Food\"\n",
    "    ),\n",
    "    \"Sushi\": (\n",
    "        \"Sushi\"\n",
    "    )\n",
    "}"
   ],
   "metadata": {
    "collapsed": false,
    "pycharm": {
     "name": "#%%\n"
    }
   }
  },
  {
   "cell_type": "code",
   "execution_count": 56,
   "outputs": [
    {
     "name": "stdout",
     "output_type": "stream",
     "text": [
      "35\n"
     ]
    }
   ],
   "source": [
    "print(len(food_merge.keys()))"
   ],
   "metadata": {
    "collapsed": false,
    "pycharm": {
     "name": "#%%\n"
    }
   }
  },
  {
   "cell_type": "code",
   "execution_count": 51,
   "outputs": [],
   "source": [
    "to_delete = [\n",
    "    \"Indigenous\",\n",
    "    \"International\",\n",
    "    \"Latin\",\n",
    "    \"New Zealand\",\n",
    "    \"Israeli\",\n",
    "    \"Afghan\",\n",
    "    \"African\",\n",
    "    \"Arabic\",\n",
    "    \"Burmese\",\n",
    "    \"Speciality Food Market\",\n",
    "    \"Egyptian\"\n",
    "]"
   ],
   "metadata": {
    "collapsed": false,
    "pycharm": {
     "name": "#%%\n"
    }
   }
  },
  {
   "cell_type": "code",
   "execution_count": 52,
   "outputs": [],
   "source": [
    "food_data = pd.read_csv(\"RestaurantProcessedData.csv\")"
   ],
   "metadata": {
    "collapsed": false,
    "pycharm": {
     "name": "#%%\n"
    }
   }
  },
  {
   "cell_type": "code",
   "execution_count": 53,
   "outputs": [
    {
     "data": {
      "text/plain": "   Unnamed: 0                         name  \\\n0           0              BAM! Restaurant   \n1           1          Entre-Nous creperie   \n2           2                The Courtyard   \n3           3                Portman's Bar   \n4           4    Grand Shanghai Restaurant   \n5           5              Bar-Roque Grill   \n6           6                        HENRI   \n7           7                   Rosso Vino   \n8           8                The Mind Cafe   \n9           9  Paulaner Bräuhaus Singapore   \n\n                                            location  \\\n0  38 Tras Street #38-40, Singapore 078977 Singapore   \n1  27 Seah Street # 01-01, Singapore 188383 Singa...   \n2  1 Fullerton Square Fullerton Hotel The Fullert...   \n3  6 Raffles Boulevard Marina Square Level 4 At P...   \n4  390 Havelock Road King's Centre, Singapore 169...   \n5  165 Tanjong Pagar Road #01-00 Amara Singapore,...   \n6        48 Pekin Street, Singapore 048778 Singapore   \n7  15 Merbau Road Next Robertson Quay Hotel, Sing...   \n8     60A Prinsep Street, Singapore 188664 Singapore   \n9  9 Raffles Boulevard Millenia Walk #01-01 Mille...   \n\n                                       working_hours price_range  \\\n0  Tue12:00 PM - 2:00 PM6:00 PM - 10:30 PM,Wed12:...         NaN   \n1  Sun11:00 AM - 4:30 PM,Tue12:00 PM - 2:30 PM6:0...         NaN   \n2  Sun10:30 AM - 6:00 PM,Mon10:30 AM - 6:00 PM,Tu...         NaN   \n3  Sun10:30 AM - 12:00 AM,Mon10:30 AM - 12:00 AM,...         NaN   \n4  Sun11:00 AM - 2:30 PM6:00 PM - 10:00 PM,Tue11:...         NaN   \n5  Sun11:00 AM - 3:00 PM5:30 PM - 9:00 PM,Mon12:0...         nil   \n6  Sun08:00 AM - 5:00 PM,Mon08:00 AM - 10:00 PM,T...         NaN   \n7  Sun11:30 AM - 12:00 AM,Mon3:00 PM - 12:00 AM,T...         NaN   \n8  Sun11:00 AM - 02:00 AM,Mon11:00 AM - 02:00 AM,...         NaN   \n9  Sun11:00 AM - 12:00 AM,Mon11:00 AM - 12:00 AM,...         NaN   \n\n                                     tags foodRating serviceRating  \\\n0          Spanish,Fusion,Japanese Fusion         45            45   \n1                 French,European,Healthy         50            50   \n2           Japanese,Indian,International         40            45   \n3                  Bar,Cafe,International         45            45   \n4                  Chinese,Asian,Shanghai         40            40   \n5                   French,Steakhouse,Bar         45            45   \n6                         French,European        nil           nil   \n7                  Italian,Pizza,Wine Bar         45            45   \n8  Cafe,Vegetarian Friendly,Vegan Options         35            40   \n9                     German,Brew Pub,Bar         40            40   \n\n  valueRating atmosphereRating overallRating overallRatingCnt  \n0          40               45           4.5              226  \n1          45               40           5.0            1,555  \n2          40               45           4.5            1,450  \n3          45              nil           5.0              270  \n4          35               40           5.0              641  \n5          45               45           4.5              733  \n6         nil              nil           4.5                4  \n7          40               45           4.5            1,946  \n8          40              nil           5.0              409  \n9          35               40           4.5            1,027  ",
      "text/html": "<div>\n<style scoped>\n    .dataframe tbody tr th:only-of-type {\n        vertical-align: middle;\n    }\n\n    .dataframe tbody tr th {\n        vertical-align: top;\n    }\n\n    .dataframe thead th {\n        text-align: right;\n    }\n</style>\n<table border=\"1\" class=\"dataframe\">\n  <thead>\n    <tr style=\"text-align: right;\">\n      <th></th>\n      <th>Unnamed: 0</th>\n      <th>name</th>\n      <th>location</th>\n      <th>working_hours</th>\n      <th>price_range</th>\n      <th>tags</th>\n      <th>foodRating</th>\n      <th>serviceRating</th>\n      <th>valueRating</th>\n      <th>atmosphereRating</th>\n      <th>overallRating</th>\n      <th>overallRatingCnt</th>\n    </tr>\n  </thead>\n  <tbody>\n    <tr>\n      <th>0</th>\n      <td>0</td>\n      <td>BAM! Restaurant</td>\n      <td>38 Tras Street #38-40, Singapore 078977 Singapore</td>\n      <td>Tue12:00 PM - 2:00 PM6:00 PM - 10:30 PM,Wed12:...</td>\n      <td>NaN</td>\n      <td>Spanish,Fusion,Japanese Fusion</td>\n      <td>45</td>\n      <td>45</td>\n      <td>40</td>\n      <td>45</td>\n      <td>4.5</td>\n      <td>226</td>\n    </tr>\n    <tr>\n      <th>1</th>\n      <td>1</td>\n      <td>Entre-Nous creperie</td>\n      <td>27 Seah Street # 01-01, Singapore 188383 Singa...</td>\n      <td>Sun11:00 AM - 4:30 PM,Tue12:00 PM - 2:30 PM6:0...</td>\n      <td>NaN</td>\n      <td>French,European,Healthy</td>\n      <td>50</td>\n      <td>50</td>\n      <td>45</td>\n      <td>40</td>\n      <td>5.0</td>\n      <td>1,555</td>\n    </tr>\n    <tr>\n      <th>2</th>\n      <td>2</td>\n      <td>The Courtyard</td>\n      <td>1 Fullerton Square Fullerton Hotel The Fullert...</td>\n      <td>Sun10:30 AM - 6:00 PM,Mon10:30 AM - 6:00 PM,Tu...</td>\n      <td>NaN</td>\n      <td>Japanese,Indian,International</td>\n      <td>40</td>\n      <td>45</td>\n      <td>40</td>\n      <td>45</td>\n      <td>4.5</td>\n      <td>1,450</td>\n    </tr>\n    <tr>\n      <th>3</th>\n      <td>3</td>\n      <td>Portman's Bar</td>\n      <td>6 Raffles Boulevard Marina Square Level 4 At P...</td>\n      <td>Sun10:30 AM - 12:00 AM,Mon10:30 AM - 12:00 AM,...</td>\n      <td>NaN</td>\n      <td>Bar,Cafe,International</td>\n      <td>45</td>\n      <td>45</td>\n      <td>45</td>\n      <td>nil</td>\n      <td>5.0</td>\n      <td>270</td>\n    </tr>\n    <tr>\n      <th>4</th>\n      <td>4</td>\n      <td>Grand Shanghai Restaurant</td>\n      <td>390 Havelock Road King's Centre, Singapore 169...</td>\n      <td>Sun11:00 AM - 2:30 PM6:00 PM - 10:00 PM,Tue11:...</td>\n      <td>NaN</td>\n      <td>Chinese,Asian,Shanghai</td>\n      <td>40</td>\n      <td>40</td>\n      <td>35</td>\n      <td>40</td>\n      <td>5.0</td>\n      <td>641</td>\n    </tr>\n    <tr>\n      <th>5</th>\n      <td>5</td>\n      <td>Bar-Roque Grill</td>\n      <td>165 Tanjong Pagar Road #01-00 Amara Singapore,...</td>\n      <td>Sun11:00 AM - 3:00 PM5:30 PM - 9:00 PM,Mon12:0...</td>\n      <td>nil</td>\n      <td>French,Steakhouse,Bar</td>\n      <td>45</td>\n      <td>45</td>\n      <td>45</td>\n      <td>45</td>\n      <td>4.5</td>\n      <td>733</td>\n    </tr>\n    <tr>\n      <th>6</th>\n      <td>6</td>\n      <td>HENRI</td>\n      <td>48 Pekin Street, Singapore 048778 Singapore</td>\n      <td>Sun08:00 AM - 5:00 PM,Mon08:00 AM - 10:00 PM,T...</td>\n      <td>NaN</td>\n      <td>French,European</td>\n      <td>nil</td>\n      <td>nil</td>\n      <td>nil</td>\n      <td>nil</td>\n      <td>4.5</td>\n      <td>4</td>\n    </tr>\n    <tr>\n      <th>7</th>\n      <td>7</td>\n      <td>Rosso Vino</td>\n      <td>15 Merbau Road Next Robertson Quay Hotel, Sing...</td>\n      <td>Sun11:30 AM - 12:00 AM,Mon3:00 PM - 12:00 AM,T...</td>\n      <td>NaN</td>\n      <td>Italian,Pizza,Wine Bar</td>\n      <td>45</td>\n      <td>45</td>\n      <td>40</td>\n      <td>45</td>\n      <td>4.5</td>\n      <td>1,946</td>\n    </tr>\n    <tr>\n      <th>8</th>\n      <td>8</td>\n      <td>The Mind Cafe</td>\n      <td>60A Prinsep Street, Singapore 188664 Singapore</td>\n      <td>Sun11:00 AM - 02:00 AM,Mon11:00 AM - 02:00 AM,...</td>\n      <td>NaN</td>\n      <td>Cafe,Vegetarian Friendly,Vegan Options</td>\n      <td>35</td>\n      <td>40</td>\n      <td>40</td>\n      <td>nil</td>\n      <td>5.0</td>\n      <td>409</td>\n    </tr>\n    <tr>\n      <th>9</th>\n      <td>9</td>\n      <td>Paulaner Bräuhaus Singapore</td>\n      <td>9 Raffles Boulevard Millenia Walk #01-01 Mille...</td>\n      <td>Sun11:00 AM - 12:00 AM,Mon11:00 AM - 12:00 AM,...</td>\n      <td>NaN</td>\n      <td>German,Brew Pub,Bar</td>\n      <td>40</td>\n      <td>40</td>\n      <td>35</td>\n      <td>40</td>\n      <td>4.5</td>\n      <td>1,027</td>\n    </tr>\n  </tbody>\n</table>\n</div>"
     },
     "execution_count": 53,
     "metadata": {},
     "output_type": "execute_result"
    }
   ],
   "source": [
    "food_data.head(10)"
   ],
   "metadata": {
    "collapsed": false,
    "pycharm": {
     "name": "#%%\n"
    }
   }
  },
  {
   "cell_type": "code",
   "execution_count": 55,
   "outputs": [],
   "source": [
    "# For lat, lng and formatted address\n",
    "import config\n",
    "import requests\n",
    "\n",
    "GOOGLE_MAPS_API_URL = 'https://maps.googleapi.com/maps/api/geocode/json'"
   ],
   "metadata": {
    "collapsed": false,
    "pycharm": {
     "name": "#%%\n"
    }
   }
  },
  {
   "cell_type": "code",
   "execution_count": 87,
   "outputs": [],
   "source": [
    "def food_row(row):\n",
    "\n",
    "    # params = {\n",
    "    #     'address': row[\"location\"],\n",
    "    #     'sensor': 'false',\n",
    "    #     \"region\": 'singapore',\n",
    "    #     'key': config.API_KEY\n",
    "    # }\n",
    "    #\n",
    "    # req = requests.get(GOOGLE_MAPS_API_URL, params=params)\n",
    "    # res = req.json()\n",
    "    # if len(res[\"results\"]) > 0:\n",
    "    #     lat = res['results'][0]['geometry']['location']['lat']\n",
    "    #     lon = res['results'][0]['geometry']['location']['lng']\n",
    "    #     formatted_address = res['results'][0]['formatted_address']\n",
    "    # else:\n",
    "    #     lat = \"nil\"\n",
    "    #     lon = \"nil\"\n",
    "    #     formatted_address = \"nil\"\n",
    "\n",
    "    lat = \"nil\"\n",
    "    lon = \"nil\"\n",
    "    formatted_address = \"nil\"\n",
    "\n",
    "    result = {\n",
    "        \"name\": row[\"name\"],\n",
    "        \"location\": row[\"location\"],\n",
    "        \"lat\": lat,\n",
    "        \"lon\": lon,\n",
    "        \"formatted_address\": formatted_address,\n",
    "        \"working_hours\": row[\"working_hours\"],\n",
    "        \"price_range\": row[\"price_range\"],\n",
    "        \"foodRating\": row[\"foodRating\"],\n",
    "        \"serviceRating\": row[\"serviceRating\"],\n",
    "        \"valueRating\": row[\"valueRating\"],\n",
    "        \"atmosphereRating\": row[\"atmosphereRating\"],\n",
    "        \"overallRating\": row[\"overallRating\"],\n",
    "        \"overallRatingCnt\": row[\"overallRatingCnt\"],\n",
    "    }\n",
    "\n",
    "    tags = {}\n",
    "\n",
    "    if type(row[\"tags\"]) == str:\n",
    "        for new_tag in food_merge.keys():\n",
    "            has = False\n",
    "            for old_tag in row[\"tags\"].split(\",\"):\n",
    "                if old_tag in food_merge[new_tag]:\n",
    "                    has = True\n",
    "            tags[new_tag] = 1 if has else 0\n",
    "        result[\"has\"] = True\n",
    "    else:\n",
    "        for new_tag in food_merge.keys():\n",
    "            tags[new_tag] = 0\n",
    "        result[\"has\"] = False\n",
    "\n",
    "    result.update(tags)\n",
    "    return result"
   ],
   "metadata": {
    "collapsed": false,
    "pycharm": {
     "name": "#%%\n"
    }
   }
  },
  {
   "cell_type": "code",
   "execution_count": 88,
   "outputs": [],
   "source": [
    "data = []\n",
    "\n",
    "for idx, row in food_data.iterrows():\n",
    "    data.append(food_row(row))"
   ],
   "metadata": {
    "collapsed": false,
    "pycharm": {
     "name": "#%%\n"
    }
   }
  },
  {
   "cell_type": "code",
   "execution_count": 89,
   "outputs": [],
   "source": [
    "df = pd.DataFrame(data)"
   ],
   "metadata": {
    "collapsed": false,
    "pycharm": {
     "name": "#%%\n"
    }
   }
  },
  {
   "cell_type": "code",
   "execution_count": 94,
   "outputs": [
    {
     "data": {
      "text/plain": "13778"
     },
     "execution_count": 94,
     "metadata": {},
     "output_type": "execute_result"
    }
   ],
   "source": [
    "len(df)"
   ],
   "metadata": {
    "collapsed": false,
    "pycharm": {
     "name": "#%%\n"
    }
   }
  },
  {
   "cell_type": "code",
   "execution_count": 90,
   "outputs": [
    {
     "data": {
      "text/plain": "                                           name  \\\n0                               BAM! Restaurant   \n1                           Entre-Nous creperie   \n2                                 The Courtyard   \n3                                 Portman's Bar   \n4                     Grand Shanghai Restaurant   \n5                               Bar-Roque Grill   \n6                                         HENRI   \n7                                    Rosso Vino   \n8                                 The Mind Cafe   \n9                   Paulaner Bräuhaus Singapore   \n10                Waterfall Ristorante Italiano   \n11                                         Jade   \n12                          L'eclair Patisserie   \n13    Josephine - French Cuisine &amp; Wine Bar   \n14                               Positano Risto   \n15                       NOX - Dine In The Dark   \n16                          Hua Ting Restaurant   \n17                                   Whitegrass   \n18           Chef's Table by Chef Stephan Zoisl   \n19                  Fat Belly Social Steakhouse   \n20                                       Colony   \n21                     Merci Marcel Club Street   \n22                            Shivam Restaurant   \n23                                 Origin Grill   \n24                             The Rose Veranda   \n25                              Summer Pavilion   \n26                                   Dolce Vita   \n27                                  Song Garden   \n28                                Cherry Garden   \n29                      Beast &amp; Butterflies   \n30                                       Rakuya   \n31                                      Oscar's   \n32          Fu Lin Men Chinese Restaurant (SRC)   \n33  Lobby Lounge at Conrad Centennial Singapore   \n34                                    Fat Belly   \n35                  Fu Lin Men Cantonese Dining   \n36                          Katachi Style Sushi   \n37             Ginett Restaurant &amp; Wine Bar   \n38                                    Melt Café   \n39                                   Akira Back   \n40                         Cut by Wolfgang Puck   \n41                           Fu Lin Men (NSRCC)   \n42                                MTR Singapore   \n43                         Merci Marcel Orchard   \n44                                   Madame Fan   \n45                           Publico Ristorante   \n46                                   Bar Square   \n47                                   25 Degrees   \n48                              Meta Restaurant   \n49           Spago Dining Room by Wolfgang Puck   \n\n                                             location  lat  lon  \\\n0   38 Tras Street #38-40, Singapore 078977 Singapore  nil  nil   \n1   27 Seah Street # 01-01, Singapore 188383 Singa...  nil  nil   \n2   1 Fullerton Square Fullerton Hotel The Fullert...  nil  nil   \n3   6 Raffles Boulevard Marina Square Level 4 At P...  nil  nil   \n4   390 Havelock Road King's Centre, Singapore 169...  nil  nil   \n5   165 Tanjong Pagar Road #01-00 Amara Singapore,...  nil  nil   \n6         48 Pekin Street, Singapore 048778 Singapore  nil  nil   \n7   15 Merbau Road Next Robertson Quay Hotel, Sing...  nil  nil   \n8      60A Prinsep Street, Singapore 188664 Singapore  nil  nil   \n9   9 Raffles Boulevard Millenia Walk #01-01 Mille...  nil  nil   \n10  22 Orange Grove Road Shangri-La Hotel Garden W...  nil  nil   \n11  1 Fullerton Square Fullerton Hotel The Fullert...  nil  nil   \n12  78 Airport Boulevard 01-235 Jewel Changi Airpo...  nil  nil   \n13         97 Amoy Street, Singapore 069917 Singapore  nil  nil   \n14     66 Bussorah Street, Singapore 199479 Singapore  nil  nil   \n15         83 Club Street, Singapore 199546 Singapore  nil  nil   \n16  442 Orchard Road Orchard Hotel Singapore Level...  nil  nil   \n17  30 Victoria Street #01-26 Chijmes, Singapore 1...  nil  nil   \n18         61 Tras Street, Singapore 079000 Singapore  nil  nil   \n19  10 Jalan Serene #01-04 Serene Centre, Singapor...  nil  nil   \n20  7 Raffles Avenue Ritz Carlton Millenia Singapo...  nil  nil   \n21          9 Club Street, Singapore 069404 Singapore  nil  nil   \n22      87 Syed Alwi Road, Singapore 207666 Singapore  nil  nil   \n23  22 Orange Grove Road Shangri-La Hotel Tower Wi...  nil  nil   \n24  22 Orange Grove Road, Shangri-La Hotel Tower W...  nil  nil   \n25  7 Raffles Avenue Ritz Carlton Millenia Singapo...  nil  nil   \n26  5 Raffles Avenue, Marina Square, Singapore 039...  nil  nil   \n27  122 Middle Road Mercure Singapore Bugis Level ...  nil  nil   \n28  5 Raffles Avenue, Marina Square, Singapore 039...  nil  nil   \n29      90 Robertson Quay, Singapore 238259 Singapore  nil  nil   \n30     89 East Coast Road, Singapore 428790 Singapore  nil  nil   \n31  2 Temasek Boulevard Conrad Centennial, Lobby L...  nil  nil   \n32  B Connaught Drive, S179682 Level 2, Singapore ...  nil  nil   \n33  2 Temasek Boulevard Conrad Centennial Singapor...  nil  nil   \n34  10 Jalan Serene Serene Centre Serence Centre #...  nil  nil   \n35  21 Amber Road Chinese Swimming Club, Singapore...  nil  nil   \n36  15 Stamford Road The Capitol Kempinski Hotel S...  nil  nil   \n37  200 Middle Road Hotel G Singapore, Singapore 1...  nil  nil   \n38  5 Raffles Avenue, Marina Square, Singapore 039...  nil  nil   \n39  30 Beach Road, Access via Nicoll Highway JW Ma...  nil  nil   \n40  2 Bayfront Avenue Marina Bay Sands The Shoppes...  nil  nil   \n41  10 Changi Coast Walk Level 1 National Service ...  nil  nil   \n42  438 Serangoon Road Opposite Sri Srinivasa Peru...  nil  nil   \n43  390 Orchard Road Palais Renaissance 01-03 to 0...  nil  nil   \n44  32 Beach Road The South Beach Level 2, The NCO...  nil  nil   \n45  1 Nanson Road Intercontinental Singapore Rober...  nil  nil   \n46  5 Fraser Street Andaz Singapore, Singapore 189...  nil  nil   \n47  200 Middle Road Hotel G Singapore Ground Floor...  nil  nil   \n48      1 Keong Saik Road, Singapore 089109 Singapore  nil  nil   \n49  10 Bay Front Avenue Marina Bay Resort, Sands S...  nil  nil   \n\n   formatted_address                                      working_hours  \\\n0                nil  Tue12:00 PM - 2:00 PM6:00 PM - 10:30 PM,Wed12:...   \n1                nil  Sun11:00 AM - 4:30 PM,Tue12:00 PM - 2:30 PM6:0...   \n2                nil  Sun10:30 AM - 6:00 PM,Mon10:30 AM - 6:00 PM,Tu...   \n3                nil  Sun10:30 AM - 12:00 AM,Mon10:30 AM - 12:00 AM,...   \n4                nil  Sun11:00 AM - 2:30 PM6:00 PM - 10:00 PM,Tue11:...   \n5                nil  Sun11:00 AM - 3:00 PM5:30 PM - 9:00 PM,Mon12:0...   \n6                nil  Sun08:00 AM - 5:00 PM,Mon08:00 AM - 10:00 PM,T...   \n7                nil  Sun11:30 AM - 12:00 AM,Mon3:00 PM - 12:00 AM,T...   \n8                nil  Sun11:00 AM - 02:00 AM,Mon11:00 AM - 02:00 AM,...   \n9                nil  Sun11:00 AM - 12:00 AM,Mon11:00 AM - 12:00 AM,...   \n10               nil  Sun12:00 PM - 2:30 PM6:00 PM - 10:00 PM,Mon12:...   \n11               nil  Sun11:30 AM - 1:00 PM1:30 PM - 3:00 PM6:30 PM ...   \n12               nil  Sun09:00 AM - 11:00 PM,Mon09:00 AM - 11:00 PM,...   \n13               nil  Mon11:45 AM - 2:00 PM6:00 PM - 10:30 PM,Tue11:...   \n14               nil  Sun11:30 AM - 9:30 PM,Mon11:30 AM - 9:30 PM,Tu...   \n15               nil  Sun6:00 PM - 12:00 AM,Tue6:00 PM - 12:00 AM,We...   \n16               nil  Sun11:00 AM - 2:30 PM6:00 PM - 10:00 PM,Mon11:...   \n17               nil  Tue12:00 PM - 2:30 PM6:00 PM - 10:30 PM,Wed12:...   \n18               nil  Tue6:00 PM - 12:00 AM,Wed6:00 PM - 12:00 AM,Th...   \n19               nil  Mon11:30 AM - 3:30 PM5:30 PM - 10:30 PM,Tue11:...   \n20               nil  Sun12:00 PM - 3:30 PM6:30 PM - 10:30 PM,Mon12:...   \n21               nil  Sun08:00 AM - 11:00 PM,Mon08:00 AM - 12:00 AM,...   \n22               nil  Sun11:30 AM - 11:30 PM,Mon11:30 AM - 11:30 PM,...   \n23               nil  Sun12:00 PM - 2:30 PM6:00 PM - 10:00 PM,Tue12:...   \n24               nil  Sun1:00 PM - 5:00 PM,Mon1:00 PM - 5:00 PM,Tue1...   \n25               nil  Sun11:30 AM - 2:30 PM6:30 PM - 10:30 PM,Mon11:...   \n26               nil  Sun12:00 PM - 2:30 PM6:30 PM - 10:30 PM,Thu12:...   \n27               nil  Sun10:00 AM - 10:00 PM,Mon11:30 AM - 10:00 PM,...   \n28               nil  Sun11:00 AM - 3:30 PM6:30 PM - 10:00 PM,Wed12:...   \n29               nil  Sun06:30 AM - 11:00 PM,Mon06:30 AM - 11:00 PM,...   \n30               nil  Sun12:00 PM - 3:00 PM6:00 PM - 9:30 PM,Tue12:0...   \n31               nil  Sun07:00 AM - 10:30 PM,Mon07:00 AM - 10:30 PM,...   \n32               nil  Sun11:30 AM - 3:00 PM5:30 PM - 10:00 PM,Mon11:...   \n33               nil  Sun11:00 AM - 10:30 PM,Mon08:00 AM - 10:30 PM,...   \n34               nil  Sun6:00 PM - 10:00 PM,Mon6:00 PM - 10:00 PM,Tu...   \n35               nil  Sun10:30 AM - 3:00 PM5:30 PM - 10:00 PM,Mon11:...   \n36               nil  Sun12:00 PM - 2:30 PM6:00 PM - 10:00 PM,Mon12:...   \n37               nil  Sun11:30 AM - 10:30 PM,Mon11:30 AM - 10:30 PM,...   \n38               nil  Sun07:30 AM - 10:30 AM12:00 PM - 2:30 PM6:30 P...   \n39               nil  Sun12:00 PM - 2:30 PM6:00 PM - 10:00 PM,Mon12:...   \n40               nil  Sun5:00 PM - 10:00 PM,Mon5:00 PM - 10:00 PM,Tu...   \n41               nil  Sun10:00 AM - 3:00 PM5:30 PM - 10:30 PM,Mon11:...   \n42               nil  Sun08:30 AM - 3:30 PM5:30 PM - 10:00 PM,Tue08:...   \n43               nil  Sun08:30 AM - 11:00 PM,Mon08:00 AM - 12:00 AM,...   \n44               nil  Sun11:00 AM - 3:30 PM6:00 PM - 10:00 PM,Mon12:...   \n45               nil  Sun08:30 AM - 10:30 PM,Mon12:00 PM - 11:00 PM,...   \n46               nil  Sun12:00 PM - 10:30 PM,Mon12:00 PM - 10:30 PM,...   \n47               nil  Sun08:30 AM - 10:30 PM,Mon08:30 AM - 10:30 PM,...   \n48               nil  Mon6:00 PM - 11:00 PM,Tue6:00 PM - 11:00 PM,We...   \n49               nil  Sun12:00 PM - 2:30 PM6:00 PM - 11:00 PM,Mon12:...   \n\n   price_range foodRating serviceRating valueRating  ... Fast food Fusion  \\\n0          NaN         45            45          40  ...         0      1   \n1          NaN         50            50          45  ...         0      0   \n2          NaN         40            45          40  ...         0      0   \n3          NaN         45            45          45  ...         0      0   \n4          NaN         40            40          35  ...         0      0   \n5          nil         45            45          45  ...         0      0   \n6          NaN        nil           nil         nil  ...         0      0   \n7          NaN         45            45          40  ...         0      0   \n8          NaN         35            40          40  ...         0      0   \n9          NaN         40            40          35  ...         0      0   \n10         NaN         45            40          40  ...         0      0   \n11         nil         40            40          40  ...         0      0   \n12         NaN        nil           nil         nil  ...         0      0   \n13         nil         50            50          50  ...         0      0   \n14         nil         45            45          45  ...         0      0   \n15         NaN         45            45          40  ...         0      1   \n16         nil         45            40          35  ...         0      0   \n17         nil         45            45          45  ...         0      1   \n18         NaN         50            50          45  ...         0      0   \n19         NaN         50            50          45  ...         0      0   \n20         nil         45            45          45  ...         0      0   \n21         nil         45            45          45  ...         0      0   \n22         NaN         45            45          45  ...         0      0   \n23         nil         45            45          45  ...         0      1   \n24         NaN         40            45          40  ...         0      0   \n25         nil         45            50          40  ...         0      0   \n26         nil         45            45          40  ...         0      0   \n27         nil         45            45          40  ...         0      0   \n28         NaN         45            45          40  ...         0      0   \n29         NaN         40            40          40  ...         0      1   \n30         NaN         35            35          35  ...         0      0   \n31         nil         40            45          35  ...         0      0   \n32         NaN         45            50          45  ...         0      0   \n33         NaN         40            45          40  ...         0      0   \n34         NaN         50            45          45  ...         0      0   \n35         nil         50            50          45  ...         0      0   \n36         NaN         35            25          35  ...         0      0   \n37         nil         45            40          45  ...         0      0   \n38         nil         40            45          40  ...         0      0   \n39         NaN         45            45          40  ...         0      0   \n40         nil         45            45          35  ...         0      0   \n41         NaN         50            50          50  ...         0      0   \n42         NaN         45            45          45  ...         0      0   \n43         nil         45            45          40  ...         0      0   \n44         nil         45            45          40  ...         0      0   \n45         NaN         45            45          40  ...         0      0   \n46         NaN        nil           nil         nil  ...         0      0   \n47         NaN         45            45          40  ...         0      0   \n48         nil         45            45          40  ...         0      1   \n49         nil         45            45          40  ...         0      0   \n\n   Halal  Kosher  Pizza  Quick Bites  Seafood  Soups  Street Food  Sushi  \n0      0       0      0            0        0      0            0      0  \n1      0       0      0            0        0      0            0      0  \n2      0       0      0            0        0      0            0      0  \n3      0       0      0            0        0      0            0      0  \n4      0       0      0            0        0      0            0      0  \n5      0       0      0            0        0      0            0      0  \n6      0       0      0            0        0      0            0      0  \n7      0       0      1            0        0      0            0      0  \n8      0       0      0            0        0      0            0      0  \n9      0       0      0            0        0      0            0      0  \n10     0       0      0            0        0      0            0      0  \n11     0       0      0            0        0      0            0      0  \n12     0       0      0            0        0      0            0      0  \n13     0       0      0            0        0      0            0      0  \n14     0       0      1            0        0      0            0      0  \n15     0       0      0            0        0      0            0      0  \n16     0       0      0            0        0      0            0      0  \n17     0       0      0            0        0      0            0      0  \n18     0       0      0            0        0      0            0      0  \n19     0       0      0            0        0      0            0      0  \n20     0       0      0            0        0      0            0      0  \n21     0       0      0            0        0      0            0      0  \n22     0       0      0            0        0      0            0      0  \n23     0       0      0            0        0      0            0      0  \n24     0       0      0            0        0      0            0      0  \n25     0       0      0            0        0      0            0      0  \n26     0       0      0            0        0      0            0      0  \n27     0       0      0            0        0      0            0      0  \n28     0       0      0            0        0      0            0      0  \n29     0       0      0            0        0      0            0      0  \n30     0       0      0            0        0      0            0      1  \n31     0       0      0            0        0      0            0      0  \n32     0       0      0            0        0      0            0      0  \n33     0       0      0            0        0      0            0      0  \n34     0       0      0            0        0      0            0      0  \n35     0       0      0            0        0      0            0      0  \n36     0       0      0            0        1      0            0      1  \n37     0       0      0            0        0      0            0      0  \n38     0       0      0            0        0      0            0      0  \n39     0       0      0            0        0      0            0      0  \n40     0       0      0            0        0      0            0      0  \n41     0       0      0            0        1      0            0      0  \n42     0       0      0            0        0      0            0      0  \n43     0       0      0            0        0      0            0      0  \n44     0       0      0            0        0      0            0      0  \n45     0       0      1            0        0      0            0      0  \n46     0       0      0            1        0      0            0      0  \n47     0       0      0            0        0      0            0      0  \n48     0       0      0            0        0      0            0      0  \n49     0       0      0            0        0      0            0      0  \n\n[50 rows x 49 columns]",
      "text/html": "<div>\n<style scoped>\n    .dataframe tbody tr th:only-of-type {\n        vertical-align: middle;\n    }\n\n    .dataframe tbody tr th {\n        vertical-align: top;\n    }\n\n    .dataframe thead th {\n        text-align: right;\n    }\n</style>\n<table border=\"1\" class=\"dataframe\">\n  <thead>\n    <tr style=\"text-align: right;\">\n      <th></th>\n      <th>name</th>\n      <th>location</th>\n      <th>lat</th>\n      <th>lon</th>\n      <th>formatted_address</th>\n      <th>working_hours</th>\n      <th>price_range</th>\n      <th>foodRating</th>\n      <th>serviceRating</th>\n      <th>valueRating</th>\n      <th>...</th>\n      <th>Fast food</th>\n      <th>Fusion</th>\n      <th>Halal</th>\n      <th>Kosher</th>\n      <th>Pizza</th>\n      <th>Quick Bites</th>\n      <th>Seafood</th>\n      <th>Soups</th>\n      <th>Street Food</th>\n      <th>Sushi</th>\n    </tr>\n  </thead>\n  <tbody>\n    <tr>\n      <th>0</th>\n      <td>BAM! Restaurant</td>\n      <td>38 Tras Street #38-40, Singapore 078977 Singapore</td>\n      <td>nil</td>\n      <td>nil</td>\n      <td>nil</td>\n      <td>Tue12:00 PM - 2:00 PM6:00 PM - 10:30 PM,Wed12:...</td>\n      <td>NaN</td>\n      <td>45</td>\n      <td>45</td>\n      <td>40</td>\n      <td>...</td>\n      <td>0</td>\n      <td>1</td>\n      <td>0</td>\n      <td>0</td>\n      <td>0</td>\n      <td>0</td>\n      <td>0</td>\n      <td>0</td>\n      <td>0</td>\n      <td>0</td>\n    </tr>\n    <tr>\n      <th>1</th>\n      <td>Entre-Nous creperie</td>\n      <td>27 Seah Street # 01-01, Singapore 188383 Singa...</td>\n      <td>nil</td>\n      <td>nil</td>\n      <td>nil</td>\n      <td>Sun11:00 AM - 4:30 PM,Tue12:00 PM - 2:30 PM6:0...</td>\n      <td>NaN</td>\n      <td>50</td>\n      <td>50</td>\n      <td>45</td>\n      <td>...</td>\n      <td>0</td>\n      <td>0</td>\n      <td>0</td>\n      <td>0</td>\n      <td>0</td>\n      <td>0</td>\n      <td>0</td>\n      <td>0</td>\n      <td>0</td>\n      <td>0</td>\n    </tr>\n    <tr>\n      <th>2</th>\n      <td>The Courtyard</td>\n      <td>1 Fullerton Square Fullerton Hotel The Fullert...</td>\n      <td>nil</td>\n      <td>nil</td>\n      <td>nil</td>\n      <td>Sun10:30 AM - 6:00 PM,Mon10:30 AM - 6:00 PM,Tu...</td>\n      <td>NaN</td>\n      <td>40</td>\n      <td>45</td>\n      <td>40</td>\n      <td>...</td>\n      <td>0</td>\n      <td>0</td>\n      <td>0</td>\n      <td>0</td>\n      <td>0</td>\n      <td>0</td>\n      <td>0</td>\n      <td>0</td>\n      <td>0</td>\n      <td>0</td>\n    </tr>\n    <tr>\n      <th>3</th>\n      <td>Portman's Bar</td>\n      <td>6 Raffles Boulevard Marina Square Level 4 At P...</td>\n      <td>nil</td>\n      <td>nil</td>\n      <td>nil</td>\n      <td>Sun10:30 AM - 12:00 AM,Mon10:30 AM - 12:00 AM,...</td>\n      <td>NaN</td>\n      <td>45</td>\n      <td>45</td>\n      <td>45</td>\n      <td>...</td>\n      <td>0</td>\n      <td>0</td>\n      <td>0</td>\n      <td>0</td>\n      <td>0</td>\n      <td>0</td>\n      <td>0</td>\n      <td>0</td>\n      <td>0</td>\n      <td>0</td>\n    </tr>\n    <tr>\n      <th>4</th>\n      <td>Grand Shanghai Restaurant</td>\n      <td>390 Havelock Road King's Centre, Singapore 169...</td>\n      <td>nil</td>\n      <td>nil</td>\n      <td>nil</td>\n      <td>Sun11:00 AM - 2:30 PM6:00 PM - 10:00 PM,Tue11:...</td>\n      <td>NaN</td>\n      <td>40</td>\n      <td>40</td>\n      <td>35</td>\n      <td>...</td>\n      <td>0</td>\n      <td>0</td>\n      <td>0</td>\n      <td>0</td>\n      <td>0</td>\n      <td>0</td>\n      <td>0</td>\n      <td>0</td>\n      <td>0</td>\n      <td>0</td>\n    </tr>\n    <tr>\n      <th>5</th>\n      <td>Bar-Roque Grill</td>\n      <td>165 Tanjong Pagar Road #01-00 Amara Singapore,...</td>\n      <td>nil</td>\n      <td>nil</td>\n      <td>nil</td>\n      <td>Sun11:00 AM - 3:00 PM5:30 PM - 9:00 PM,Mon12:0...</td>\n      <td>nil</td>\n      <td>45</td>\n      <td>45</td>\n      <td>45</td>\n      <td>...</td>\n      <td>0</td>\n      <td>0</td>\n      <td>0</td>\n      <td>0</td>\n      <td>0</td>\n      <td>0</td>\n      <td>0</td>\n      <td>0</td>\n      <td>0</td>\n      <td>0</td>\n    </tr>\n    <tr>\n      <th>6</th>\n      <td>HENRI</td>\n      <td>48 Pekin Street, Singapore 048778 Singapore</td>\n      <td>nil</td>\n      <td>nil</td>\n      <td>nil</td>\n      <td>Sun08:00 AM - 5:00 PM,Mon08:00 AM - 10:00 PM,T...</td>\n      <td>NaN</td>\n      <td>nil</td>\n      <td>nil</td>\n      <td>nil</td>\n      <td>...</td>\n      <td>0</td>\n      <td>0</td>\n      <td>0</td>\n      <td>0</td>\n      <td>0</td>\n      <td>0</td>\n      <td>0</td>\n      <td>0</td>\n      <td>0</td>\n      <td>0</td>\n    </tr>\n    <tr>\n      <th>7</th>\n      <td>Rosso Vino</td>\n      <td>15 Merbau Road Next Robertson Quay Hotel, Sing...</td>\n      <td>nil</td>\n      <td>nil</td>\n      <td>nil</td>\n      <td>Sun11:30 AM - 12:00 AM,Mon3:00 PM - 12:00 AM,T...</td>\n      <td>NaN</td>\n      <td>45</td>\n      <td>45</td>\n      <td>40</td>\n      <td>...</td>\n      <td>0</td>\n      <td>0</td>\n      <td>0</td>\n      <td>0</td>\n      <td>1</td>\n      <td>0</td>\n      <td>0</td>\n      <td>0</td>\n      <td>0</td>\n      <td>0</td>\n    </tr>\n    <tr>\n      <th>8</th>\n      <td>The Mind Cafe</td>\n      <td>60A Prinsep Street, Singapore 188664 Singapore</td>\n      <td>nil</td>\n      <td>nil</td>\n      <td>nil</td>\n      <td>Sun11:00 AM - 02:00 AM,Mon11:00 AM - 02:00 AM,...</td>\n      <td>NaN</td>\n      <td>35</td>\n      <td>40</td>\n      <td>40</td>\n      <td>...</td>\n      <td>0</td>\n      <td>0</td>\n      <td>0</td>\n      <td>0</td>\n      <td>0</td>\n      <td>0</td>\n      <td>0</td>\n      <td>0</td>\n      <td>0</td>\n      <td>0</td>\n    </tr>\n    <tr>\n      <th>9</th>\n      <td>Paulaner Bräuhaus Singapore</td>\n      <td>9 Raffles Boulevard Millenia Walk #01-01 Mille...</td>\n      <td>nil</td>\n      <td>nil</td>\n      <td>nil</td>\n      <td>Sun11:00 AM - 12:00 AM,Mon11:00 AM - 12:00 AM,...</td>\n      <td>NaN</td>\n      <td>40</td>\n      <td>40</td>\n      <td>35</td>\n      <td>...</td>\n      <td>0</td>\n      <td>0</td>\n      <td>0</td>\n      <td>0</td>\n      <td>0</td>\n      <td>0</td>\n      <td>0</td>\n      <td>0</td>\n      <td>0</td>\n      <td>0</td>\n    </tr>\n    <tr>\n      <th>10</th>\n      <td>Waterfall Ristorante Italiano</td>\n      <td>22 Orange Grove Road Shangri-La Hotel Garden W...</td>\n      <td>nil</td>\n      <td>nil</td>\n      <td>nil</td>\n      <td>Sun12:00 PM - 2:30 PM6:00 PM - 10:00 PM,Mon12:...</td>\n      <td>NaN</td>\n      <td>45</td>\n      <td>40</td>\n      <td>40</td>\n      <td>...</td>\n      <td>0</td>\n      <td>0</td>\n      <td>0</td>\n      <td>0</td>\n      <td>0</td>\n      <td>0</td>\n      <td>0</td>\n      <td>0</td>\n      <td>0</td>\n      <td>0</td>\n    </tr>\n    <tr>\n      <th>11</th>\n      <td>Jade</td>\n      <td>1 Fullerton Square Fullerton Hotel The Fullert...</td>\n      <td>nil</td>\n      <td>nil</td>\n      <td>nil</td>\n      <td>Sun11:30 AM - 1:00 PM1:30 PM - 3:00 PM6:30 PM ...</td>\n      <td>nil</td>\n      <td>40</td>\n      <td>40</td>\n      <td>40</td>\n      <td>...</td>\n      <td>0</td>\n      <td>0</td>\n      <td>0</td>\n      <td>0</td>\n      <td>0</td>\n      <td>0</td>\n      <td>0</td>\n      <td>0</td>\n      <td>0</td>\n      <td>0</td>\n    </tr>\n    <tr>\n      <th>12</th>\n      <td>L'eclair Patisserie</td>\n      <td>78 Airport Boulevard 01-235 Jewel Changi Airpo...</td>\n      <td>nil</td>\n      <td>nil</td>\n      <td>nil</td>\n      <td>Sun09:00 AM - 11:00 PM,Mon09:00 AM - 11:00 PM,...</td>\n      <td>NaN</td>\n      <td>nil</td>\n      <td>nil</td>\n      <td>nil</td>\n      <td>...</td>\n      <td>0</td>\n      <td>0</td>\n      <td>0</td>\n      <td>0</td>\n      <td>0</td>\n      <td>0</td>\n      <td>0</td>\n      <td>0</td>\n      <td>0</td>\n      <td>0</td>\n    </tr>\n    <tr>\n      <th>13</th>\n      <td>Josephine - French Cuisine &amp;amp; Wine Bar</td>\n      <td>97 Amoy Street, Singapore 069917 Singapore</td>\n      <td>nil</td>\n      <td>nil</td>\n      <td>nil</td>\n      <td>Mon11:45 AM - 2:00 PM6:00 PM - 10:30 PM,Tue11:...</td>\n      <td>nil</td>\n      <td>50</td>\n      <td>50</td>\n      <td>50</td>\n      <td>...</td>\n      <td>0</td>\n      <td>0</td>\n      <td>0</td>\n      <td>0</td>\n      <td>0</td>\n      <td>0</td>\n      <td>0</td>\n      <td>0</td>\n      <td>0</td>\n      <td>0</td>\n    </tr>\n    <tr>\n      <th>14</th>\n      <td>Positano Risto</td>\n      <td>66 Bussorah Street, Singapore 199479 Singapore</td>\n      <td>nil</td>\n      <td>nil</td>\n      <td>nil</td>\n      <td>Sun11:30 AM - 9:30 PM,Mon11:30 AM - 9:30 PM,Tu...</td>\n      <td>nil</td>\n      <td>45</td>\n      <td>45</td>\n      <td>45</td>\n      <td>...</td>\n      <td>0</td>\n      <td>0</td>\n      <td>0</td>\n      <td>0</td>\n      <td>1</td>\n      <td>0</td>\n      <td>0</td>\n      <td>0</td>\n      <td>0</td>\n      <td>0</td>\n    </tr>\n    <tr>\n      <th>15</th>\n      <td>NOX - Dine In The Dark</td>\n      <td>83 Club Street, Singapore 199546 Singapore</td>\n      <td>nil</td>\n      <td>nil</td>\n      <td>nil</td>\n      <td>Sun6:00 PM - 12:00 AM,Tue6:00 PM - 12:00 AM,We...</td>\n      <td>NaN</td>\n      <td>45</td>\n      <td>45</td>\n      <td>40</td>\n      <td>...</td>\n      <td>0</td>\n      <td>1</td>\n      <td>0</td>\n      <td>0</td>\n      <td>0</td>\n      <td>0</td>\n      <td>0</td>\n      <td>0</td>\n      <td>0</td>\n      <td>0</td>\n    </tr>\n    <tr>\n      <th>16</th>\n      <td>Hua Ting Restaurant</td>\n      <td>442 Orchard Road Orchard Hotel Singapore Level...</td>\n      <td>nil</td>\n      <td>nil</td>\n      <td>nil</td>\n      <td>Sun11:00 AM - 2:30 PM6:00 PM - 10:00 PM,Mon11:...</td>\n      <td>nil</td>\n      <td>45</td>\n      <td>40</td>\n      <td>35</td>\n      <td>...</td>\n      <td>0</td>\n      <td>0</td>\n      <td>0</td>\n      <td>0</td>\n      <td>0</td>\n      <td>0</td>\n      <td>0</td>\n      <td>0</td>\n      <td>0</td>\n      <td>0</td>\n    </tr>\n    <tr>\n      <th>17</th>\n      <td>Whitegrass</td>\n      <td>30 Victoria Street #01-26 Chijmes, Singapore 1...</td>\n      <td>nil</td>\n      <td>nil</td>\n      <td>nil</td>\n      <td>Tue12:00 PM - 2:30 PM6:00 PM - 10:30 PM,Wed12:...</td>\n      <td>nil</td>\n      <td>45</td>\n      <td>45</td>\n      <td>45</td>\n      <td>...</td>\n      <td>0</td>\n      <td>1</td>\n      <td>0</td>\n      <td>0</td>\n      <td>0</td>\n      <td>0</td>\n      <td>0</td>\n      <td>0</td>\n      <td>0</td>\n      <td>0</td>\n    </tr>\n    <tr>\n      <th>18</th>\n      <td>Chef's Table by Chef Stephan Zoisl</td>\n      <td>61 Tras Street, Singapore 079000 Singapore</td>\n      <td>nil</td>\n      <td>nil</td>\n      <td>nil</td>\n      <td>Tue6:00 PM - 12:00 AM,Wed6:00 PM - 12:00 AM,Th...</td>\n      <td>NaN</td>\n      <td>50</td>\n      <td>50</td>\n      <td>45</td>\n      <td>...</td>\n      <td>0</td>\n      <td>0</td>\n      <td>0</td>\n      <td>0</td>\n      <td>0</td>\n      <td>0</td>\n      <td>0</td>\n      <td>0</td>\n      <td>0</td>\n      <td>0</td>\n    </tr>\n    <tr>\n      <th>19</th>\n      <td>Fat Belly Social Steakhouse</td>\n      <td>10 Jalan Serene #01-04 Serene Centre, Singapor...</td>\n      <td>nil</td>\n      <td>nil</td>\n      <td>nil</td>\n      <td>Mon11:30 AM - 3:30 PM5:30 PM - 10:30 PM,Tue11:...</td>\n      <td>NaN</td>\n      <td>50</td>\n      <td>50</td>\n      <td>45</td>\n      <td>...</td>\n      <td>0</td>\n      <td>0</td>\n      <td>0</td>\n      <td>0</td>\n      <td>0</td>\n      <td>0</td>\n      <td>0</td>\n      <td>0</td>\n      <td>0</td>\n      <td>0</td>\n    </tr>\n    <tr>\n      <th>20</th>\n      <td>Colony</td>\n      <td>7 Raffles Avenue Ritz Carlton Millenia Singapo...</td>\n      <td>nil</td>\n      <td>nil</td>\n      <td>nil</td>\n      <td>Sun12:00 PM - 3:30 PM6:30 PM - 10:30 PM,Mon12:...</td>\n      <td>nil</td>\n      <td>45</td>\n      <td>45</td>\n      <td>45</td>\n      <td>...</td>\n      <td>0</td>\n      <td>0</td>\n      <td>0</td>\n      <td>0</td>\n      <td>0</td>\n      <td>0</td>\n      <td>0</td>\n      <td>0</td>\n      <td>0</td>\n      <td>0</td>\n    </tr>\n    <tr>\n      <th>21</th>\n      <td>Merci Marcel Club Street</td>\n      <td>9 Club Street, Singapore 069404 Singapore</td>\n      <td>nil</td>\n      <td>nil</td>\n      <td>nil</td>\n      <td>Sun08:00 AM - 11:00 PM,Mon08:00 AM - 12:00 AM,...</td>\n      <td>nil</td>\n      <td>45</td>\n      <td>45</td>\n      <td>45</td>\n      <td>...</td>\n      <td>0</td>\n      <td>0</td>\n      <td>0</td>\n      <td>0</td>\n      <td>0</td>\n      <td>0</td>\n      <td>0</td>\n      <td>0</td>\n      <td>0</td>\n      <td>0</td>\n    </tr>\n    <tr>\n      <th>22</th>\n      <td>Shivam Restaurant</td>\n      <td>87 Syed Alwi Road, Singapore 207666 Singapore</td>\n      <td>nil</td>\n      <td>nil</td>\n      <td>nil</td>\n      <td>Sun11:30 AM - 11:30 PM,Mon11:30 AM - 11:30 PM,...</td>\n      <td>NaN</td>\n      <td>45</td>\n      <td>45</td>\n      <td>45</td>\n      <td>...</td>\n      <td>0</td>\n      <td>0</td>\n      <td>0</td>\n      <td>0</td>\n      <td>0</td>\n      <td>0</td>\n      <td>0</td>\n      <td>0</td>\n      <td>0</td>\n      <td>0</td>\n    </tr>\n    <tr>\n      <th>23</th>\n      <td>Origin Grill</td>\n      <td>22 Orange Grove Road Shangri-La Hotel Tower Wi...</td>\n      <td>nil</td>\n      <td>nil</td>\n      <td>nil</td>\n      <td>Sun12:00 PM - 2:30 PM6:00 PM - 10:00 PM,Tue12:...</td>\n      <td>nil</td>\n      <td>45</td>\n      <td>45</td>\n      <td>45</td>\n      <td>...</td>\n      <td>0</td>\n      <td>1</td>\n      <td>0</td>\n      <td>0</td>\n      <td>0</td>\n      <td>0</td>\n      <td>0</td>\n      <td>0</td>\n      <td>0</td>\n      <td>0</td>\n    </tr>\n    <tr>\n      <th>24</th>\n      <td>The Rose Veranda</td>\n      <td>22 Orange Grove Road, Shangri-La Hotel Tower W...</td>\n      <td>nil</td>\n      <td>nil</td>\n      <td>nil</td>\n      <td>Sun1:00 PM - 5:00 PM,Mon1:00 PM - 5:00 PM,Tue1...</td>\n      <td>NaN</td>\n      <td>40</td>\n      <td>45</td>\n      <td>40</td>\n      <td>...</td>\n      <td>0</td>\n      <td>0</td>\n      <td>0</td>\n      <td>0</td>\n      <td>0</td>\n      <td>0</td>\n      <td>0</td>\n      <td>0</td>\n      <td>0</td>\n      <td>0</td>\n    </tr>\n    <tr>\n      <th>25</th>\n      <td>Summer Pavilion</td>\n      <td>7 Raffles Avenue Ritz Carlton Millenia Singapo...</td>\n      <td>nil</td>\n      <td>nil</td>\n      <td>nil</td>\n      <td>Sun11:30 AM - 2:30 PM6:30 PM - 10:30 PM,Mon11:...</td>\n      <td>nil</td>\n      <td>45</td>\n      <td>50</td>\n      <td>40</td>\n      <td>...</td>\n      <td>0</td>\n      <td>0</td>\n      <td>0</td>\n      <td>0</td>\n      <td>0</td>\n      <td>0</td>\n      <td>0</td>\n      <td>0</td>\n      <td>0</td>\n      <td>0</td>\n    </tr>\n    <tr>\n      <th>26</th>\n      <td>Dolce Vita</td>\n      <td>5 Raffles Avenue, Marina Square, Singapore 039...</td>\n      <td>nil</td>\n      <td>nil</td>\n      <td>nil</td>\n      <td>Sun12:00 PM - 2:30 PM6:30 PM - 10:30 PM,Thu12:...</td>\n      <td>nil</td>\n      <td>45</td>\n      <td>45</td>\n      <td>40</td>\n      <td>...</td>\n      <td>0</td>\n      <td>0</td>\n      <td>0</td>\n      <td>0</td>\n      <td>0</td>\n      <td>0</td>\n      <td>0</td>\n      <td>0</td>\n      <td>0</td>\n      <td>0</td>\n    </tr>\n    <tr>\n      <th>27</th>\n      <td>Song Garden</td>\n      <td>122 Middle Road Mercure Singapore Bugis Level ...</td>\n      <td>nil</td>\n      <td>nil</td>\n      <td>nil</td>\n      <td>Sun10:00 AM - 10:00 PM,Mon11:30 AM - 10:00 PM,...</td>\n      <td>nil</td>\n      <td>45</td>\n      <td>45</td>\n      <td>40</td>\n      <td>...</td>\n      <td>0</td>\n      <td>0</td>\n      <td>0</td>\n      <td>0</td>\n      <td>0</td>\n      <td>0</td>\n      <td>0</td>\n      <td>0</td>\n      <td>0</td>\n      <td>0</td>\n    </tr>\n    <tr>\n      <th>28</th>\n      <td>Cherry Garden</td>\n      <td>5 Raffles Avenue, Marina Square, Singapore 039...</td>\n      <td>nil</td>\n      <td>nil</td>\n      <td>nil</td>\n      <td>Sun11:00 AM - 3:30 PM6:30 PM - 10:00 PM,Wed12:...</td>\n      <td>NaN</td>\n      <td>45</td>\n      <td>45</td>\n      <td>40</td>\n      <td>...</td>\n      <td>0</td>\n      <td>0</td>\n      <td>0</td>\n      <td>0</td>\n      <td>0</td>\n      <td>0</td>\n      <td>0</td>\n      <td>0</td>\n      <td>0</td>\n      <td>0</td>\n    </tr>\n    <tr>\n      <th>29</th>\n      <td>Beast &amp;amp; Butterflies</td>\n      <td>90 Robertson Quay, Singapore 238259 Singapore</td>\n      <td>nil</td>\n      <td>nil</td>\n      <td>nil</td>\n      <td>Sun06:30 AM - 11:00 PM,Mon06:30 AM - 11:00 PM,...</td>\n      <td>NaN</td>\n      <td>40</td>\n      <td>40</td>\n      <td>40</td>\n      <td>...</td>\n      <td>0</td>\n      <td>1</td>\n      <td>0</td>\n      <td>0</td>\n      <td>0</td>\n      <td>0</td>\n      <td>0</td>\n      <td>0</td>\n      <td>0</td>\n      <td>0</td>\n    </tr>\n    <tr>\n      <th>30</th>\n      <td>Rakuya</td>\n      <td>89 East Coast Road, Singapore 428790 Singapore</td>\n      <td>nil</td>\n      <td>nil</td>\n      <td>nil</td>\n      <td>Sun12:00 PM - 3:00 PM6:00 PM - 9:30 PM,Tue12:0...</td>\n      <td>NaN</td>\n      <td>35</td>\n      <td>35</td>\n      <td>35</td>\n      <td>...</td>\n      <td>0</td>\n      <td>0</td>\n      <td>0</td>\n      <td>0</td>\n      <td>0</td>\n      <td>0</td>\n      <td>0</td>\n      <td>0</td>\n      <td>0</td>\n      <td>1</td>\n    </tr>\n    <tr>\n      <th>31</th>\n      <td>Oscar's</td>\n      <td>2 Temasek Boulevard Conrad Centennial, Lobby L...</td>\n      <td>nil</td>\n      <td>nil</td>\n      <td>nil</td>\n      <td>Sun07:00 AM - 10:30 PM,Mon07:00 AM - 10:30 PM,...</td>\n      <td>nil</td>\n      <td>40</td>\n      <td>45</td>\n      <td>35</td>\n      <td>...</td>\n      <td>0</td>\n      <td>0</td>\n      <td>0</td>\n      <td>0</td>\n      <td>0</td>\n      <td>0</td>\n      <td>0</td>\n      <td>0</td>\n      <td>0</td>\n      <td>0</td>\n    </tr>\n    <tr>\n      <th>32</th>\n      <td>Fu Lin Men Chinese Restaurant (SRC)</td>\n      <td>B Connaught Drive, S179682 Level 2, Singapore ...</td>\n      <td>nil</td>\n      <td>nil</td>\n      <td>nil</td>\n      <td>Sun11:30 AM - 3:00 PM5:30 PM - 10:00 PM,Mon11:...</td>\n      <td>NaN</td>\n      <td>45</td>\n      <td>50</td>\n      <td>45</td>\n      <td>...</td>\n      <td>0</td>\n      <td>0</td>\n      <td>0</td>\n      <td>0</td>\n      <td>0</td>\n      <td>0</td>\n      <td>0</td>\n      <td>0</td>\n      <td>0</td>\n      <td>0</td>\n    </tr>\n    <tr>\n      <th>33</th>\n      <td>Lobby Lounge at Conrad Centennial Singapore</td>\n      <td>2 Temasek Boulevard Conrad Centennial Singapor...</td>\n      <td>nil</td>\n      <td>nil</td>\n      <td>nil</td>\n      <td>Sun11:00 AM - 10:30 PM,Mon08:00 AM - 10:30 PM,...</td>\n      <td>NaN</td>\n      <td>40</td>\n      <td>45</td>\n      <td>40</td>\n      <td>...</td>\n      <td>0</td>\n      <td>0</td>\n      <td>0</td>\n      <td>0</td>\n      <td>0</td>\n      <td>0</td>\n      <td>0</td>\n      <td>0</td>\n      <td>0</td>\n      <td>0</td>\n    </tr>\n    <tr>\n      <th>34</th>\n      <td>Fat Belly</td>\n      <td>10 Jalan Serene Serene Centre Serence Centre #...</td>\n      <td>nil</td>\n      <td>nil</td>\n      <td>nil</td>\n      <td>Sun6:00 PM - 10:00 PM,Mon6:00 PM - 10:00 PM,Tu...</td>\n      <td>NaN</td>\n      <td>50</td>\n      <td>45</td>\n      <td>45</td>\n      <td>...</td>\n      <td>0</td>\n      <td>0</td>\n      <td>0</td>\n      <td>0</td>\n      <td>0</td>\n      <td>0</td>\n      <td>0</td>\n      <td>0</td>\n      <td>0</td>\n      <td>0</td>\n    </tr>\n    <tr>\n      <th>35</th>\n      <td>Fu Lin Men Cantonese Dining</td>\n      <td>21 Amber Road Chinese Swimming Club, Singapore...</td>\n      <td>nil</td>\n      <td>nil</td>\n      <td>nil</td>\n      <td>Sun10:30 AM - 3:00 PM5:30 PM - 10:00 PM,Mon11:...</td>\n      <td>nil</td>\n      <td>50</td>\n      <td>50</td>\n      <td>45</td>\n      <td>...</td>\n      <td>0</td>\n      <td>0</td>\n      <td>0</td>\n      <td>0</td>\n      <td>0</td>\n      <td>0</td>\n      <td>0</td>\n      <td>0</td>\n      <td>0</td>\n      <td>0</td>\n    </tr>\n    <tr>\n      <th>36</th>\n      <td>Katachi Style Sushi</td>\n      <td>15 Stamford Road The Capitol Kempinski Hotel S...</td>\n      <td>nil</td>\n      <td>nil</td>\n      <td>nil</td>\n      <td>Sun12:00 PM - 2:30 PM6:00 PM - 10:00 PM,Mon12:...</td>\n      <td>NaN</td>\n      <td>35</td>\n      <td>25</td>\n      <td>35</td>\n      <td>...</td>\n      <td>0</td>\n      <td>0</td>\n      <td>0</td>\n      <td>0</td>\n      <td>0</td>\n      <td>0</td>\n      <td>1</td>\n      <td>0</td>\n      <td>0</td>\n      <td>1</td>\n    </tr>\n    <tr>\n      <th>37</th>\n      <td>Ginett Restaurant &amp;amp; Wine Bar</td>\n      <td>200 Middle Road Hotel G Singapore, Singapore 1...</td>\n      <td>nil</td>\n      <td>nil</td>\n      <td>nil</td>\n      <td>Sun11:30 AM - 10:30 PM,Mon11:30 AM - 10:30 PM,...</td>\n      <td>nil</td>\n      <td>45</td>\n      <td>40</td>\n      <td>45</td>\n      <td>...</td>\n      <td>0</td>\n      <td>0</td>\n      <td>0</td>\n      <td>0</td>\n      <td>0</td>\n      <td>0</td>\n      <td>0</td>\n      <td>0</td>\n      <td>0</td>\n      <td>0</td>\n    </tr>\n    <tr>\n      <th>38</th>\n      <td>Melt Café</td>\n      <td>5 Raffles Avenue, Marina Square, Singapore 039...</td>\n      <td>nil</td>\n      <td>nil</td>\n      <td>nil</td>\n      <td>Sun07:30 AM - 10:30 AM12:00 PM - 2:30 PM6:30 P...</td>\n      <td>nil</td>\n      <td>40</td>\n      <td>45</td>\n      <td>40</td>\n      <td>...</td>\n      <td>0</td>\n      <td>0</td>\n      <td>0</td>\n      <td>0</td>\n      <td>0</td>\n      <td>0</td>\n      <td>0</td>\n      <td>0</td>\n      <td>0</td>\n      <td>0</td>\n    </tr>\n    <tr>\n      <th>39</th>\n      <td>Akira Back</td>\n      <td>30 Beach Road, Access via Nicoll Highway JW Ma...</td>\n      <td>nil</td>\n      <td>nil</td>\n      <td>nil</td>\n      <td>Sun12:00 PM - 2:30 PM6:00 PM - 10:00 PM,Mon12:...</td>\n      <td>NaN</td>\n      <td>45</td>\n      <td>45</td>\n      <td>40</td>\n      <td>...</td>\n      <td>0</td>\n      <td>0</td>\n      <td>0</td>\n      <td>0</td>\n      <td>0</td>\n      <td>0</td>\n      <td>0</td>\n      <td>0</td>\n      <td>0</td>\n      <td>0</td>\n    </tr>\n    <tr>\n      <th>40</th>\n      <td>Cut by Wolfgang Puck</td>\n      <td>2 Bayfront Avenue Marina Bay Sands The Shoppes...</td>\n      <td>nil</td>\n      <td>nil</td>\n      <td>nil</td>\n      <td>Sun5:00 PM - 10:00 PM,Mon5:00 PM - 10:00 PM,Tu...</td>\n      <td>nil</td>\n      <td>45</td>\n      <td>45</td>\n      <td>35</td>\n      <td>...</td>\n      <td>0</td>\n      <td>0</td>\n      <td>0</td>\n      <td>0</td>\n      <td>0</td>\n      <td>0</td>\n      <td>0</td>\n      <td>0</td>\n      <td>0</td>\n      <td>0</td>\n    </tr>\n    <tr>\n      <th>41</th>\n      <td>Fu Lin Men (NSRCC)</td>\n      <td>10 Changi Coast Walk Level 1 National Service ...</td>\n      <td>nil</td>\n      <td>nil</td>\n      <td>nil</td>\n      <td>Sun10:00 AM - 3:00 PM5:30 PM - 10:30 PM,Mon11:...</td>\n      <td>NaN</td>\n      <td>50</td>\n      <td>50</td>\n      <td>50</td>\n      <td>...</td>\n      <td>0</td>\n      <td>0</td>\n      <td>0</td>\n      <td>0</td>\n      <td>0</td>\n      <td>0</td>\n      <td>1</td>\n      <td>0</td>\n      <td>0</td>\n      <td>0</td>\n    </tr>\n    <tr>\n      <th>42</th>\n      <td>MTR Singapore</td>\n      <td>438 Serangoon Road Opposite Sri Srinivasa Peru...</td>\n      <td>nil</td>\n      <td>nil</td>\n      <td>nil</td>\n      <td>Sun08:30 AM - 3:30 PM5:30 PM - 10:00 PM,Tue08:...</td>\n      <td>NaN</td>\n      <td>45</td>\n      <td>45</td>\n      <td>45</td>\n      <td>...</td>\n      <td>0</td>\n      <td>0</td>\n      <td>0</td>\n      <td>0</td>\n      <td>0</td>\n      <td>0</td>\n      <td>0</td>\n      <td>0</td>\n      <td>0</td>\n      <td>0</td>\n    </tr>\n    <tr>\n      <th>43</th>\n      <td>Merci Marcel Orchard</td>\n      <td>390 Orchard Road Palais Renaissance 01-03 to 0...</td>\n      <td>nil</td>\n      <td>nil</td>\n      <td>nil</td>\n      <td>Sun08:30 AM - 11:00 PM,Mon08:00 AM - 12:00 AM,...</td>\n      <td>nil</td>\n      <td>45</td>\n      <td>45</td>\n      <td>40</td>\n      <td>...</td>\n      <td>0</td>\n      <td>0</td>\n      <td>0</td>\n      <td>0</td>\n      <td>0</td>\n      <td>0</td>\n      <td>0</td>\n      <td>0</td>\n      <td>0</td>\n      <td>0</td>\n    </tr>\n    <tr>\n      <th>44</th>\n      <td>Madame Fan</td>\n      <td>32 Beach Road The South Beach Level 2, The NCO...</td>\n      <td>nil</td>\n      <td>nil</td>\n      <td>nil</td>\n      <td>Sun11:00 AM - 3:30 PM6:00 PM - 10:00 PM,Mon12:...</td>\n      <td>nil</td>\n      <td>45</td>\n      <td>45</td>\n      <td>40</td>\n      <td>...</td>\n      <td>0</td>\n      <td>0</td>\n      <td>0</td>\n      <td>0</td>\n      <td>0</td>\n      <td>0</td>\n      <td>0</td>\n      <td>0</td>\n      <td>0</td>\n      <td>0</td>\n    </tr>\n    <tr>\n      <th>45</th>\n      <td>Publico Ristorante</td>\n      <td>1 Nanson Road Intercontinental Singapore Rober...</td>\n      <td>nil</td>\n      <td>nil</td>\n      <td>nil</td>\n      <td>Sun08:30 AM - 10:30 PM,Mon12:00 PM - 11:00 PM,...</td>\n      <td>NaN</td>\n      <td>45</td>\n      <td>45</td>\n      <td>40</td>\n      <td>...</td>\n      <td>0</td>\n      <td>0</td>\n      <td>0</td>\n      <td>0</td>\n      <td>1</td>\n      <td>0</td>\n      <td>0</td>\n      <td>0</td>\n      <td>0</td>\n      <td>0</td>\n    </tr>\n    <tr>\n      <th>46</th>\n      <td>Bar Square</td>\n      <td>5 Fraser Street Andaz Singapore, Singapore 189...</td>\n      <td>nil</td>\n      <td>nil</td>\n      <td>nil</td>\n      <td>Sun12:00 PM - 10:30 PM,Mon12:00 PM - 10:30 PM,...</td>\n      <td>NaN</td>\n      <td>nil</td>\n      <td>nil</td>\n      <td>nil</td>\n      <td>...</td>\n      <td>0</td>\n      <td>0</td>\n      <td>0</td>\n      <td>0</td>\n      <td>0</td>\n      <td>1</td>\n      <td>0</td>\n      <td>0</td>\n      <td>0</td>\n      <td>0</td>\n    </tr>\n    <tr>\n      <th>47</th>\n      <td>25 Degrees</td>\n      <td>200 Middle Road Hotel G Singapore Ground Floor...</td>\n      <td>nil</td>\n      <td>nil</td>\n      <td>nil</td>\n      <td>Sun08:30 AM - 10:30 PM,Mon08:30 AM - 10:30 PM,...</td>\n      <td>NaN</td>\n      <td>45</td>\n      <td>45</td>\n      <td>40</td>\n      <td>...</td>\n      <td>0</td>\n      <td>0</td>\n      <td>0</td>\n      <td>0</td>\n      <td>0</td>\n      <td>0</td>\n      <td>0</td>\n      <td>0</td>\n      <td>0</td>\n      <td>0</td>\n    </tr>\n    <tr>\n      <th>48</th>\n      <td>Meta Restaurant</td>\n      <td>1 Keong Saik Road, Singapore 089109 Singapore</td>\n      <td>nil</td>\n      <td>nil</td>\n      <td>nil</td>\n      <td>Mon6:00 PM - 11:00 PM,Tue6:00 PM - 11:00 PM,We...</td>\n      <td>nil</td>\n      <td>45</td>\n      <td>45</td>\n      <td>40</td>\n      <td>...</td>\n      <td>0</td>\n      <td>1</td>\n      <td>0</td>\n      <td>0</td>\n      <td>0</td>\n      <td>0</td>\n      <td>0</td>\n      <td>0</td>\n      <td>0</td>\n      <td>0</td>\n    </tr>\n    <tr>\n      <th>49</th>\n      <td>Spago Dining Room by Wolfgang Puck</td>\n      <td>10 Bay Front Avenue Marina Bay Resort, Sands S...</td>\n      <td>nil</td>\n      <td>nil</td>\n      <td>nil</td>\n      <td>Sun12:00 PM - 2:30 PM6:00 PM - 11:00 PM,Mon12:...</td>\n      <td>nil</td>\n      <td>45</td>\n      <td>45</td>\n      <td>40</td>\n      <td>...</td>\n      <td>0</td>\n      <td>0</td>\n      <td>0</td>\n      <td>0</td>\n      <td>0</td>\n      <td>0</td>\n      <td>0</td>\n      <td>0</td>\n      <td>0</td>\n      <td>0</td>\n    </tr>\n  </tbody>\n</table>\n<p>50 rows × 49 columns</p>\n</div>"
     },
     "execution_count": 90,
     "metadata": {},
     "output_type": "execute_result"
    }
   ],
   "source": [
    "df.head(50)"
   ],
   "metadata": {
    "collapsed": false,
    "pycharm": {
     "name": "#%%\n"
    }
   }
  },
  {
   "cell_type": "code",
   "execution_count": 92,
   "outputs": [],
   "source": [
    "nils = df[df[\"has\"] == \"False\"]"
   ],
   "metadata": {
    "collapsed": false,
    "pycharm": {
     "name": "#%%\n"
    }
   }
  },
  {
   "cell_type": "code",
   "execution_count": 95,
   "outputs": [],
   "source": [
    "df.to_csv(\"RestaurantData.csv\")"
   ],
   "metadata": {
    "collapsed": false,
    "pycharm": {
     "name": "#%%\n"
    }
   }
  }
 ],
 "metadata": {
  "kernelspec": {
   "display_name": "Python 3",
   "language": "python",
   "name": "python3"
  },
  "language_info": {
   "codemirror_mode": {
    "name": "ipython",
    "version": 2
   },
   "file_extension": ".py",
   "mimetype": "text/x-python",
   "name": "python",
   "nbconvert_exporter": "python",
   "pygments_lexer": "ipython2",
   "version": "2.7.6"
  }
 },
 "nbformat": 4,
 "nbformat_minor": 0
}