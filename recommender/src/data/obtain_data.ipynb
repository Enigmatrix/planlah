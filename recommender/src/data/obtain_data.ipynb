{
 "cells": [
  {
   "cell_type": "code",
   "execution_count": 9,
   "metadata": {
    "collapsed": true,
    "pycharm": {
     "name": "#%%\n"
    }
   },
   "outputs": [],
   "source": [
    "import json"
   ]
  },
  {
   "cell_type": "code",
   "execution_count": 4,
   "outputs": [],
   "source": [
    "places = [\"hotel\", \"park\", \"restaurant\", \"shop\"]"
   ],
   "metadata": {
    "collapsed": false,
    "pycharm": {
     "name": "#%%\n"
    }
   }
  },
  {
   "cell_type": "code",
   "execution_count": 30,
   "outputs": [
    {
     "ename": "NameError",
     "evalue": "name 'places' is not defined",
     "output_type": "error",
     "traceback": [
      "\u001B[1;31m---------------------------------------------------------------------------\u001B[0m",
      "\u001B[1;31mNameError\u001B[0m                                 Traceback (most recent call last)",
      "\u001B[1;32m~\\AppData\\Local\\Temp\\ipykernel_30816\\2942211964.py\u001B[0m in \u001B[0;36m<module>\u001B[1;34m\u001B[0m\n\u001B[0;32m      1\u001B[0m \u001B[0munique_types\u001B[0m \u001B[1;33m=\u001B[0m \u001B[1;33m[\u001B[0m\u001B[1;33m]\u001B[0m\u001B[1;33m\u001B[0m\u001B[1;33m\u001B[0m\u001B[0m\n\u001B[1;32m----> 2\u001B[1;33m \u001B[1;32mfor\u001B[0m \u001B[0mplace\u001B[0m \u001B[1;32min\u001B[0m \u001B[0mplaces\u001B[0m\u001B[1;33m:\u001B[0m\u001B[1;33m\u001B[0m\u001B[1;33m\u001B[0m\u001B[0m\n\u001B[0m\u001B[0;32m      3\u001B[0m     \u001B[1;32mwith\u001B[0m \u001B[0mopen\u001B[0m\u001B[1;33m(\u001B[0m\u001B[1;34mf\"{place}_data.json\"\u001B[0m\u001B[1;33m,\u001B[0m \u001B[1;34m\"r\"\u001B[0m\u001B[1;33m)\u001B[0m \u001B[1;32mas\u001B[0m \u001B[0mf\u001B[0m\u001B[1;33m:\u001B[0m\u001B[1;33m\u001B[0m\u001B[1;33m\u001B[0m\u001B[0m\n\u001B[0;32m      4\u001B[0m         \u001B[0mdata\u001B[0m \u001B[1;33m=\u001B[0m \u001B[0mjson\u001B[0m\u001B[1;33m.\u001B[0m\u001B[0mload\u001B[0m\u001B[1;33m(\u001B[0m\u001B[0mf\u001B[0m\u001B[1;33m)\u001B[0m\u001B[1;33m\u001B[0m\u001B[1;33m\u001B[0m\u001B[0m\n\u001B[0;32m      5\u001B[0m         \u001B[0mresults\u001B[0m \u001B[1;33m=\u001B[0m \u001B[0mdata\u001B[0m\u001B[1;33m[\u001B[0m\u001B[1;34m\"results\"\u001B[0m\u001B[1;33m]\u001B[0m\u001B[1;33m\u001B[0m\u001B[1;33m\u001B[0m\u001B[0m\n",
      "\u001B[1;31mNameError\u001B[0m: name 'places' is not defined"
     ]
    }
   ],
   "source": [
    "unique_types = []\n",
    "for place in places:\n",
    "    with open(f\"{place}_data.json\", \"r\") as f:\n",
    "        data = json.load(f)\n",
    "        results = data[\"results\"]\n",
    "        for result in results:\n",
    "            types = result[\"types\"]\n",
    "            for type in types:\n",
    "                if type not in unique_types:\n",
    "                    unique_types.append(type)"
   ],
   "metadata": {
    "collapsed": false,
    "pycharm": {
     "name": "#%%\n"
    }
   }
  },
  {
   "cell_type": "code",
   "execution_count": 10,
   "outputs": [],
   "source": [
    "with open(\"unique_types.txt\", \"w\") as f:\n",
    "    for type in unique_types:\n",
    "        f.write(type + \"\\n\")"
   ],
   "metadata": {
    "collapsed": false,
    "pycharm": {
     "name": "#%%\n"
    }
   }
  },
  {
   "cell_type": "code",
   "execution_count": 34,
   "outputs": [],
   "source": [
    "unique_types = []\n",
    "with open(\"unique_types.txt\", \"r\") as f:\n",
    "    for type in f.readlines():\n",
    "        unique_types.append(type.strip())"
   ],
   "metadata": {
    "collapsed": false,
    "pycharm": {
     "name": "#%%\n"
    }
   }
  },
  {
   "cell_type": "code",
   "execution_count": 7,
   "outputs": [],
   "source": [
    "import googlemaps\n",
    "import config\n",
    "\n",
    "google = googlemaps.Client(config.API_KEY)"
   ],
   "metadata": {
    "collapsed": false,
    "pycharm": {
     "name": "#%%\n"
    }
   }
  },
  {
   "cell_type": "code",
   "execution_count": 14,
   "outputs": [],
   "source": [
    "with open(\"unique_types.txt\", \"r\") as f:\n",
    "    for unique_type in f.readlines():\n",
    "        unique_type = unique_type.strip()\n",
    "        result = google.places(query=unique_type)\n",
    "        with open(f\"places/{unique_type}_data.json\", \"w\") as out:\n",
    "            json.dump(result, out, indent=4)"
   ],
   "metadata": {
    "collapsed": false,
    "pycharm": {
     "name": "#%%\n"
    }
   }
  },
  {
   "cell_type": "code",
   "execution_count": 56,
   "outputs": [],
   "source": [
    "import pandas as pd"
   ],
   "metadata": {
    "collapsed": false,
    "pycharm": {
     "name": "#%%\n"
    }
   }
  },
  {
   "cell_type": "code",
   "execution_count": null,
   "outputs": [],
   "source": [
    "mapping = {\n",
    "    \"lodging\": 0,\n",
    "    \"establishment\": 1,\n",
    "    \"park\": 2,\n",
    "    \"tourist_attraction\": 3,\n",
    "    \"restaurant\": 4,\n",
    "    \"food\": 5,\n",
    "    \"grocery_or_supermarket\": 6,\n",
    "    \"store\": 7,\n",
    "    \"meal_takeaway\": 8,\n",
    "    \"cafe\": 9,\n",
    "    \"department_store\": 10,\n",
    "    \"convenience_store\": 11,\n",
    "    \"clothing_store\": 12,\n",
    "    \"shoe_store\": 13,\n",
    "    \"shopping_mall\": 14,\n",
    "    \"book_store\": 15,\n",
    "    \"electronics_store\": 16,\n",
    "    \"health\": 17,\n",
    "    \"bakery\": 18,\n",
    "    \"home_goods_store\": 19\n",
    "}"
   ],
   "metadata": {
    "collapsed": false,
    "pycharm": {
     "name": "#%%\n"
    }
   }
  },
  {
   "cell_type": "code",
   "execution_count": 52,
   "outputs": [],
   "source": [
    "def vectorize(location: dict):\n",
    "    \"\"\"\n",
    "    Given a location from the Google Places API, return the location\n",
    "    as a feature vector.\n",
    "    \"\"\"\n",
    "    result = {\n",
    "        \"address\": location[\"formatted_address\"],\n",
    "        \"name\": location[\"name\"],\n",
    "        \"lat\": location[\"geometry\"][\"location\"][\"lat\"],\n",
    "        \"lng\": location[\"geometry\"][\"location\"][\"lng\"],\n",
    "        \"place_id\": location[\"place_id\"],\n",
    "        \"rating\": location[\"rating\"],\n",
    "        \"user_ratings_total\": location[\"user_ratings_total\"],\n",
    "    }\n",
    "    if \"photos\" in location.keys():\n",
    "        result[\"html_attributions\"] = location[\"photos\"][0][\"html_attributions\"][0]\n",
    "        result[\"photo_reference\"] = location[\"photos\"][0][\"photo_reference\"]\n",
    "    else:\n",
    "        result[\"html_attributions\"] = \"Nil\"\n",
    "        result[\"photo_reference\"] = \"Nil\"\n",
    "    result.update({t: 1 if t in location[\"types\"] else 0 for t in unique_types})\n",
    "    return result"
   ],
   "metadata": {
    "collapsed": false,
    "pycharm": {
     "name": "#%%\n"
    }
   }
  },
  {
   "cell_type": "code",
   "execution_count": 54,
   "outputs": [
    {
     "name": "stdout",
     "output_type": "stream",
     "text": [
      "lodging\n",
      "point_of_interest\n",
      "establishment\n",
      "park\n",
      "tourist_attraction\n",
      "restaurant\n",
      "food\n",
      "grocery_or_supermarket\n",
      "store\n",
      "meal_takeaway\n",
      "cafe\n",
      "department_store\n",
      "convenience_store\n",
      "clothing_store\n",
      "shoe_store\n",
      "shopping_mall\n",
      "book_store\n",
      "electronics_store\n",
      "health\n",
      "bakery\n",
      "home_goods_store\n",
      "244\n"
     ]
    }
   ],
   "source": [
    "df = []\n",
    "for t in unique_types:\n",
    "    print(t)\n",
    "    with open(f\"places/{t}_data.json\", \"r\") as f:\n",
    "        data = json.load(f)\n",
    "        data = data[\"results\"]\n",
    "        for location in data:\n",
    "            df.append(vectorize(location))\n",
    "print(len(df))"
   ],
   "metadata": {
    "collapsed": false,
    "pycharm": {
     "name": "#%%\n"
    }
   }
  },
  {
   "cell_type": "code",
   "execution_count": 57,
   "outputs": [],
   "source": [
    "df = pd.DataFrame(df)"
   ],
   "metadata": {
    "collapsed": false,
    "pycharm": {
     "name": "#%%\n"
    }
   }
  },
  {
   "cell_type": "code",
   "execution_count": 59,
   "outputs": [],
   "source": [
    "df.to_csv(\"data.csv\")"
   ],
   "metadata": {
    "collapsed": false,
    "pycharm": {
     "name": "#%%\n"
    }
   }
  }
 ],
 "metadata": {
  "kernelspec": {
   "name": "python3",
   "language": "python",
   "display_name": "Python 3 (ipykernel)"
  },
  "language_info": {
   "codemirror_mode": {
    "name": "ipython",
    "version": 2
   },
   "file_extension": ".py",
   "mimetype": "text/x-python",
   "name": "python",
   "nbconvert_exporter": "python",
   "pygments_lexer": "ipython2",
   "version": "2.7.6"
  }
 },
 "nbformat": 4,
 "nbformat_minor": 0
}